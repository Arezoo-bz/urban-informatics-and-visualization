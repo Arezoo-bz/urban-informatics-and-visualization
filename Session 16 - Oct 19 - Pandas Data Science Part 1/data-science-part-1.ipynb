{
 "cells": [
  {
   "cell_type": "markdown",
   "metadata": {},
   "source": [
    "# Data Science with Python, Part 1\n",
    "\n",
    "Data science is a broad term.  This is the definition on Wikipedia:\n",
    "\n",
    "\"Data science is an interdisciplinary field about processes and systems to extract knowledge or insights from data in various forms, either structured or unstructured, which is a continuation of some of the data analysis fields such as statistics, machine learning, data mining, and predictive analytics, similar to Knowledge Discovery in Databases (KDD).\"\n",
    "\n",
    "We do not go deeply into statistics and machine learning in this course, but focus more on the initial part of this definition -- extracting insights from structured and unstructured data.\n",
    "\n",
    "Chapter 9 in Python for Data Analysis demonstrates a variety of methods to analyze data via data aggregation and grouping operations. Those are the focus of this session.\n",
    "\n",
    "We start by experimenting with the datasets we used in the data visualization session. For convenience we include below the data dictionary for sf1."
   ]
  },
  {
   "cell_type": "raw",
   "metadata": {},
   "source": [
    "P1. POPULATION [1]\n",
    "Total: P0010001\n",
    "\n",
    "P3. RACE [8]\n",
    "Universe: Total population\n",
    "Total: P0030001\n",
    "White alone P0030002\n",
    "Black or African American alone P0030003\n",
    "American Indian and Alaska Native alone P0030004\n",
    "Asian alone P0030005\n",
    "Native Hawaiian and Other Pacific Islander alone P0030006\n",
    "Some Other Race alone P0030007\n",
    "Two or More Races P0030008\n",
    "\n",
    "P4. HISPANIC OR LATINO ORIGIN [3]\n",
    "Universe: Total population\n",
    "Total: P0040001\n",
    "Not Hispanic or Latino P0040002\n",
    "Hispanic or Latino P0040003\n",
    "\n",
    "H1. HOUSING UNITS [1]\n",
    "Universe: Housing units\n",
    "Total H00010001\n",
    "\n",
    "H3. OCCUPANCY STATUS [3]\n",
    "Universe: Housing units\n",
    "Total: H0030001\n",
    "Occupied H0030002\n",
    "Vacant H0030003\n",
    "\n",
    "H4. TENURE [4]\n",
    "Universe: Occupied housing units\n",
    "Total: H0040001\n",
    "Owned with a mortgage or a loan H0040002\n",
    "Owned free and clear H0040003\n",
    "Renter-occupied H0040004\n",
    "\n",
    "H5. VACANCY STATUS [8]\n",
    "Universe: Vacant housing units\n",
    "Total: H0050001\n",
    "For rent H0050002\n",
    "Rented, not occupied H0050003\n",
    "For sale only H0050004\n",
    "Sold, not occupied H0050005\n",
    "For seasonal, recreational, or occasional use H0050006\n",
    "For migrant workers H0050007\n",
    "Other vacant H0050008\n"
   ]
  },
  {
   "cell_type": "code",
   "execution_count": null,
   "metadata": {
    "collapsed": false
   },
   "outputs": [],
   "source": [
    "import pandas as pd\n",
    "\n",
    "sf1store = pd.HDFStore('bay_sf1_small.h5')\n",
    "sf1 = sf1store['sf1_extract']\n",
    "sf1['pct_rent'] = sf1['H0040004'] / sf1['H0040001'] * 100\n",
    "sf1['pct_black'] = sf1['P0030003'] / sf1['P0030001'] * 100\n",
    "sf1['pct_asian'] = sf1['P0030005'] / sf1['P0030001'] * 100\n",
    "sf1['pct_white'] = sf1['P0030002'] / sf1['P0030001'] * 100\n",
    "sf1['pct_hisp'] = sf1['P0040003'] / sf1['P0040001'] * 100\n",
    "sf1['pct_vacant'] = sf1['H0050001'] / sf1['H00010001'] * 100\n",
    "sf1['pop_sqmi'] = (sf1['P0010001'] / (sf1['arealand'] / 2589988))\n",
    "sf1 = sf1[sf1['P0030001']>0]\n",
    "sf1[:5]"
   ]
  },
  {
   "cell_type": "markdown",
   "metadata": {},
   "source": [
    "## Groupby operations\n",
    "\n",
    "Groupby is a powerful method in pandas that follows the split-apply-combine approach to data.  As shown in Figure 9-1 in the context of a sum operation, the data is first split into groups that share the same key values.  Then an operation, in this case a sum, is applied to each group.  Then the results are combined.\n",
    "\n",
    "![Groupby Operations](groupby.png \"Groupby\")"
   ]
  },
  {
   "cell_type": "markdown",
   "metadata": {},
   "source": [
    "Let's apply this approach to computing total population in each county in our dataset.  We can do this in two steps to help explain what is happening.  First we create a groupby object, using county codes to group all the census blocks in sf1 into groups that share the same county code."
   ]
  },
  {
   "cell_type": "code",
   "execution_count": null,
   "metadata": {
    "collapsed": false
   },
   "outputs": [],
   "source": [
    "grouped = sf1['P0010001'].groupby(sf1['county'])\n",
    "grouped"
   ]
  },
  {
   "cell_type": "markdown",
   "metadata": {},
   "source": [
    "Now that we have this grouping object that represents the **split** part of the workflow in the figure above, we can **apply** operations and **combine** the results using methods like sum:"
   ]
  },
  {
   "cell_type": "code",
   "execution_count": null,
   "metadata": {
    "collapsed": false
   },
   "outputs": [],
   "source": [
    "grouped.sum()"
   ]
  },
  {
   "cell_type": "markdown",
   "metadata": {},
   "source": [
    "Let's add county names to the dataframe so we get more readable output, and rerun this aggregation."
   ]
  },
  {
   "cell_type": "code",
   "execution_count": null,
   "metadata": {
    "collapsed": false
   },
   "outputs": [],
   "source": [
    "county_names = {'001': 'Alameda', '013': 'Contra Costa', '041': 'Marin', '055': 'Napa', '075': 'San Francisco',\n",
    "                '081': 'San Mateo', '085': 'Santa Clara', '095': 'Solano', '097': 'Sonoma'}"
   ]
  },
  {
   "cell_type": "markdown",
   "metadata": {},
   "source": [
    "Let's add county_name as a column in the dataframe.  It would be easy to append it as the last column with a merge, but let's see how to insert it in a specified location so that it is easier to read when we browse the data.  We can insert it as the 4th column, between county and tract, like so:"
   ]
  },
  {
   "cell_type": "code",
   "execution_count": null,
   "metadata": {
    "collapsed": false
   },
   "outputs": [],
   "source": [
    "sf1.insert(4, 'county_name', sf1['county'].replace(county_names))\n",
    "sf1[:5]"
   ]
  },
  {
   "cell_type": "markdown",
   "metadata": {},
   "source": [
    "Now we can print the results of summing population by county_name:"
   ]
  },
  {
   "cell_type": "code",
   "execution_count": null,
   "metadata": {
    "collapsed": false
   },
   "outputs": [],
   "source": [
    "print('Total Population by County:')\n",
    "print(sf1['P0010001'].groupby(sf1['county_name']).sum())"
   ]
  },
  {
   "cell_type": "markdown",
   "metadata": {},
   "source": [
    "We might want to capture the result in a DataFrame if we want to use it in other processing, like merging the results to the original DataFrame."
   ]
  },
  {
   "cell_type": "code",
   "execution_count": null,
   "metadata": {
    "collapsed": false
   },
   "outputs": [],
   "source": [
    "county_pop = sf1['P0010001'].groupby(sf1['county_name']).sum().to_frame(name='total_population')\n",
    "county_pop"
   ]
  },
  {
   "cell_type": "markdown",
   "metadata": {},
   "source": [
    "Here we merge the county total population with sf1 and create a new DataFrame."
   ]
  },
  {
   "cell_type": "code",
   "execution_count": null,
   "metadata": {
    "collapsed": false,
    "scrolled": true
   },
   "outputs": [],
   "source": [
    "sf2 = pd.merge(sf1,county_pop, left_on='county_name', right_index=True)\n",
    "sf2[:5]"
   ]
  },
  {
   "cell_type": "markdown",
   "metadata": {},
   "source": [
    "Let's say we wanted to compute the population per square mile by county using the groupby method.  We could go ahead and create another dataframe with total area by county than then do the division of total population by total area."
   ]
  },
  {
   "cell_type": "code",
   "execution_count": null,
   "metadata": {
    "collapsed": false
   },
   "outputs": [],
   "source": [
    "county_land = sf1['arealand'].groupby(sf1['county_name']).sum().to_frame(name='total_area')\n",
    "county_land"
   ]
  },
  {
   "cell_type": "code",
   "execution_count": null,
   "metadata": {
    "collapsed": false
   },
   "outputs": [],
   "source": [
    "county_pop_per_sqmi = county_pop['total_population'] / county_land['total_area'] * 2589988.11\n",
    "county_pop_per_sqmi"
   ]
  },
  {
   "cell_type": "markdown",
   "metadata": {},
   "source": [
    "Or of course we could have done this whole thing in one line:"
   ]
  },
  {
   "cell_type": "code",
   "execution_count": null,
   "metadata": {
    "collapsed": false
   },
   "outputs": [],
   "source": [
    "sf1['P0010001'].groupby(sf1['county_name']).sum() / sf1['arealand'].groupby(sf1['county_name']).sum() * 2589988.11"
   ]
  },
  {
   "cell_type": "markdown",
   "metadata": {},
   "source": [
    "## Your turn to practice:\n",
    "\n",
    "Count the number of census blocks per county.\n",
    "\n",
    "Calculate total households per county.\n",
    "\n",
    "Calculate percent renters by county. (Careful not to calculate the mean percent rental across blocks in a county)\n",
    "\n",
    "Calculate percent vacant by county.\n",
    "\n",
    "Calculate mean, min and max pop_sqmi (at the block level) by county.\n",
    "\n",
    "Calculate the 90th percentile of pop_sqmi (at the block level) by county."
   ]
  },
  {
   "cell_type": "code",
   "execution_count": null,
   "metadata": {
    "collapsed": true
   },
   "outputs": [],
   "source": []
  },
  {
   "cell_type": "code",
   "execution_count": null,
   "metadata": {
    "collapsed": true
   },
   "outputs": [],
   "source": []
  },
  {
   "cell_type": "markdown",
   "metadata": {},
   "source": []
  }
 ],
 "metadata": {
  "kernelspec": {
   "display_name": "Python 3",
   "language": "python",
   "name": "python3"
  },
  "language_info": {
   "codemirror_mode": {
    "name": "ipython",
    "version": 3
   },
   "file_extension": ".py",
   "mimetype": "text/x-python",
   "name": "python",
   "nbconvert_exporter": "python",
   "pygments_lexer": "ipython3",
   "version": "3.5.2"
  }
 },
 "nbformat": 4,
 "nbformat_minor": 0
}
