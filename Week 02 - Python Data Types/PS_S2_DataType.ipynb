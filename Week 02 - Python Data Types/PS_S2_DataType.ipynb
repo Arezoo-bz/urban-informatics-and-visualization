{
 "cells": [
  {
   "cell_type": "markdown",
   "metadata": {},
   "source": [
    "## Problem Set 1 | Data Types"
   ]
  },
  {
   "cell_type": "markdown",
   "metadata": {},
   "source": [
    "#### 1) write a code that reverses even numbers from 0 to 100 and print the result. \n"
   ]
  },
  {
   "cell_type": "code",
   "execution_count": 1,
   "metadata": {
    "collapsed": true
   },
   "outputs": [],
   "source": [
    "# Type your code here "
   ]
  },
  {
   "cell_type": "markdown",
   "metadata": {},
   "source": [
    "#### 2) Remove the duplicates from the following list. List : [[10, 20], [40], [30, 56, 25], [10, 20], [33], [40]]\n"
   ]
  },
  {
   "cell_type": "code",
   "execution_count": 2,
   "metadata": {
    "collapsed": true
   },
   "outputs": [],
   "source": [
    "# Your code here"
   ]
  },
  {
   "cell_type": "markdown",
   "metadata": {},
   "source": [
    "#### 3) We have two lists, a and b, a=[10,20,30] b=[30,60,90]. Write codes that give us the expected outputs:\n",
    "\n",
    "a. [[10,20,30],[30,60,90]]\n",
    "\n",
    "b. [10,20,30,30,60,90]\n",
    "\n",
    "c. [10,20,60,90]\n",
    "\n",
    "d. [10,40,60]"
   ]
  },
  {
   "cell_type": "code",
   "execution_count": 3,
   "metadata": {
    "collapsed": true
   },
   "outputs": [],
   "source": [
    "# your code here"
   ]
  },
  {
   "cell_type": "markdown",
   "metadata": {},
   "source": [
    "#### 4) Write a code that insert the word \"assignment, at the beginning of all items in the list b.\n",
    "\n",
    "b= [1,2,3,4] \n",
    "\n",
    "hint: Expected output is ['assignmnet1', 'assignmnet2', 'assignmnet3', 'assignmnet4']"
   ]
  },
  {
   "cell_type": "code",
   "execution_count": 4,
   "metadata": {
    "collapsed": true
   },
   "outputs": [],
   "source": [
    "# type your code here "
   ]
  },
  {
   "cell_type": "markdown",
   "metadata": {},
   "source": [
    "#### 5) Find a list in the following list(G) whose sum of its elements is the highest.\n",
    "\n",
    "G: [[1,2,3], [4,5,6], [10,11,12], [7,8,9]]\n"
   ]
  },
  {
   "cell_type": "code",
   "execution_count": 5,
   "metadata": {
    "collapsed": true
   },
   "outputs": [],
   "source": [
    "# type your code here "
   ]
  },
  {
   "cell_type": "markdown",
   "metadata": {},
   "source": [
    "#### 6) Using variable A, print how much Sam earns monthly. \n",
    " \n",
    " A= \"Sam earns $96500 in a year\""
   ]
  },
  {
   "cell_type": "code",
   "execution_count": 6,
   "metadata": {
    "collapsed": true
   },
   "outputs": [],
   "source": [
    "# type your code here "
   ]
  },
  {
   "cell_type": "markdown",
   "metadata": {},
   "source": [
    "#### 7) Turn the string below into 'all good countrymen' using the minimum amount of code, using the methods covered so far. A couple of lines of code should do the trick.\n",
    "\n",
    "S = 'Now is the time for all good men to come to the aid of their country!'"
   ]
  },
  {
   "cell_type": "code",
   "execution_count": 7,
   "metadata": {
    "collapsed": true
   },
   "outputs": [],
   "source": [
    "# type your code here "
   ]
  }
 ],
 "metadata": {
  "kernelspec": {
   "display_name": "Python 3",
   "language": "python",
   "name": "python3"
  },
  "language_info": {
   "codemirror_mode": {
    "name": "ipython",
    "version": 3
   },
   "file_extension": ".py",
   "mimetype": "text/x-python",
   "name": "python",
   "nbconvert_exporter": "python",
   "pygments_lexer": "ipython3",
   "version": "3.6.1"
  }
 },
 "nbformat": 4,
 "nbformat_minor": 2
}
