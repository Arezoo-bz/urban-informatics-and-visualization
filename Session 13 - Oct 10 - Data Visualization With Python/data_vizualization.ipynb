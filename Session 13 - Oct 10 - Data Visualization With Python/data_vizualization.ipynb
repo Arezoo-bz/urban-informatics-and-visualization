{
 "cells": [
  {
   "cell_type": "markdown",
   "metadata": {},
   "source": [
    "# Data Visualization in Python\n",
    "\n",
    "There are many data visualization libraries to make charts and graphs using data in Python.  The oldest and probably the most powerful of these is Matplotlib.  It has many options to control the creation of charts, but it is also one of the most complex libraries to use to make charts.  We will spend much of this session on learning how to use Matplotlib, and then switch to exploring tutorials with a new Python library, Altair.\n",
    "\n",
    "To do the Altair tutorials, you'll need to install the library first.\n",
    "At the command prompt, install it with this command:\n",
    "conda install altair --channel conda-forge\n",
    "\n",
    "We will come back to this later in the class session.\n",
    "\n",
    "Objectives for today's session:\n",
    "\n",
    "* Learn how to use Matplotlib to make basic charts:\n",
    "    * Line charts\n",
    "    * Histograms\n",
    "    * Scatterplots\n",
    "* Learn how to add titles, and labels for X and Y axes\n",
    "* Learn how to control the styling of the charts\n",
    "* Learn how to create a composite figure with subplots\n",
    "* Learn how to export figures to png to use elsewhere\n",
    "\n",
    "* Introduce Altair charting library\n",
    "\n",
    "In addition, we will explore Census data and Craigslist rentals to visualize them.\n"
   ]
  },
  {
   "cell_type": "markdown",
   "metadata": {},
   "source": [
    "## Visualizing Census Data\n",
    "\n",
    "Here we load 2010 Census Block data to set up some initial analysis and data visualization. Below are the tables pulled from Summary File 1 (SF1) for Census Blocks in the San Francisco Bay Area."
   ]
  },
  {
   "cell_type": "raw",
   "metadata": {},
   "source": [
    "P1. POPULATION [1]\n",
    "Total: P0010001\n",
    "\n",
    "P3. RACE [8]\n",
    "Universe: Total population\n",
    "Total: P0030001\n",
    "White alone P0030002\n",
    "Black or African American alone P0030003\n",
    "American Indian and Alaska Native alone P0030004\n",
    "Asian alone P0030005\n",
    "Native Hawaiian and Other Pacific Islander alone P0030006\n",
    "Some Other Race alone P0030007\n",
    "Two or More Races P0030008\n",
    "\n",
    "P4. HISPANIC OR LATINO ORIGIN [3]\n",
    "Universe: Total population\n",
    "Total: P0040001\n",
    "Not Hispanic or Latino P0040002\n",
    "Hispanic or Latino P0040003\n",
    "\n",
    "H1. HOUSING UNITS [1]\n",
    "Universe: Housing units\n",
    "Total H00010001\n",
    "\n",
    "H3. OCCUPANCY STATUS [3]\n",
    "Universe: Housing units\n",
    "Total: H0030001\n",
    "Occupied H0030002\n",
    "Vacant H0030003\n",
    "\n",
    "H4. TENURE [4]\n",
    "Universe: Occupied housing units\n",
    "Total: H0040001\n",
    "Owned with a mortgage or a loan H0040002\n",
    "Owned free and clear H0040003\n",
    "Renter-occupied H0040004\n",
    "\n",
    "H5. VACANCY STATUS [8]\n",
    "Universe: Vacant housing units\n",
    "Total: H0050001\n",
    "For rent H0050002\n",
    "Rented, not occupied H0050003\n",
    "For sale only H0050004\n",
    "Sold, not occupied H0050005\n",
    "For seasonal, recreational, or occasional use H0050006\n",
    "For migrant workers H0050007\n",
    "Other vacant H0050008\n"
   ]
  },
  {
   "cell_type": "code",
   "execution_count": null,
   "metadata": {
    "collapsed": false
   },
   "outputs": [],
   "source": [
    "import pandas as pd\n",
    "\n",
    "sf1store = pd.HDFStore('bay_sf1_small.h5')\n",
    "sf1 = sf1store['sf1_extract']\n",
    "print(sf1[:5])\n",
    "print(sf1.shape)"
   ]
  },
  {
   "cell_type": "markdown",
   "metadata": {},
   "source": [
    "Let's calculate some basic information about each census block in the Bay Area."
   ]
  },
  {
   "cell_type": "code",
   "execution_count": null,
   "metadata": {
    "collapsed": false
   },
   "outputs": [],
   "source": [
    "sf1['pct_rent'] = sf1['H0040004'] / sf1['H0040001'] * 100\n",
    "sf1['pct_black'] = sf1['P0030003'] / sf1['P0030001'] * 100\n",
    "sf1['pct_asian'] = sf1['P0030005'] / sf1['P0030001'] * 100\n",
    "sf1['pct_white'] = sf1['P0030002'] / sf1['P0030001'] * 100\n",
    "sf1['pct_hisp'] = sf1['P0040003'] / sf1['P0040001'] * 100\n",
    "sf1['pct_vacant'] = sf1['H0050001'] / sf1['H00010001'] * 100\n",
    "sf1['pop_sqmi'] = (sf1['P0010001'] / (sf1['arealand'] / 2589988))\n",
    "sf1 = sf1[sf1['P0030001']>0]\n",
    "print(sf1.head())\n",
    "print(sf1.shape)"
   ]
  },
  {
   "cell_type": "code",
   "execution_count": null,
   "metadata": {
    "collapsed": false
   },
   "outputs": [],
   "source": [
    "sf1.describe()"
   ]
  },
  {
   "cell_type": "code",
   "execution_count": null,
   "metadata": {
    "collapsed": true
   },
   "outputs": [],
   "source": [
    "import matplotlib.pyplot as plt, numpy as np\n",
    "%matplotlib inline\n",
    "import pandas as pd\n",
    "#from altair import Chart, X, Y, Axis, SortField\n"
   ]
  },
  {
   "cell_type": "markdown",
   "metadata": {},
   "source": [
    "## Basic Graphs With Matplotlib\n",
    "\n",
    "Matplotlib is the oldest and most widely used of the charting libraries for Python, and integrates seamlessly into IPython notebooks.  Making simple charts of all kinds is very straightforward.  Matplotlib also has a tremendous number of options that enable a user to carefully control the appearance of charts.  This power is one of Matplotlib's best and worst features, at the same time.  Using those options is complicated.\n",
    "\n",
    "Here we will stick to basic plots that Matplotlib makes easy, and then switch to a newer charting library that handles both simple and more complex charts well.\n",
    "\n",
    "The first example is a chart showing that you can use Numpy methods like sort to create a revealing line graph showing in this case how few census blocks have a relatively large numbers of people in them."
   ]
  },
  {
   "cell_type": "code",
   "execution_count": null,
   "metadata": {
    "collapsed": false
   },
   "outputs": [],
   "source": [
    "plt.plot(np.sort(sf1['P0010001']))\n",
    "plt.show()"
   ]
  },
  {
   "cell_type": "markdown",
   "metadata": {},
   "source": [
    "Next we look at a cumulative sum of population across blocks.  The order they are added is based on the order they have in the DataFrame, so this is somewhat arbitrary."
   ]
  },
  {
   "cell_type": "code",
   "execution_count": null,
   "metadata": {
    "collapsed": false
   },
   "outputs": [],
   "source": [
    "plt.plot(np.cumsum(sf1['P0010001']))\n",
    "plt.show()"
   ]
  },
  {
   "cell_type": "markdown",
   "metadata": {},
   "source": [
    "Combining the sort and cumulative sum methods makes this look more interesting."
   ]
  },
  {
   "cell_type": "code",
   "execution_count": null,
   "metadata": {
    "collapsed": false
   },
   "outputs": [],
   "source": [
    "plt.plot(np.cumsum(np.sort(sf1['P0010001'])))\n",
    "plt.show()"
   ]
  },
  {
   "cell_type": "markdown",
   "metadata": {},
   "source": [
    "As we have seen before, simple histograms are also easy to produce.  Here is the same population data displayed as a histogram. You can control things like the number of bins, or the color, easily."
   ]
  },
  {
   "cell_type": "code",
   "execution_count": null,
   "metadata": {
    "collapsed": false
   },
   "outputs": [],
   "source": [
    "plt.hist(sf1['P0010001'], bins=25, color='red')\n",
    "plt.show()"
   ]
  },
  {
   "cell_type": "markdown",
   "metadata": {},
   "source": [
    "The distribution of population seems to be very skewed, with most blocks having relatively small population counts.  To zoom in to those and get a better sense of the distribution we might slice the blocks to isolate those below the long tail of the distribution.  Let's plot the distribution again after truncating the top one percent.  Increasing the number of bins provides greater detail as well.  We can see that 99% of the blocks have less than 700 people, and that there are still a significant number of blocks with only a few people in them."
   ]
  },
  {
   "cell_type": "code",
   "execution_count": null,
   "metadata": {
    "collapsed": false
   },
   "outputs": [],
   "source": [
    "print(sf1['P0010001'].quantile(.99))\n",
    "small_pop = sf1[sf1['P0010001'] < sf1['P0010001'].quantile(.99)]\n",
    "plt.hist(small_pop['P0010001'], bins=100, color='green')\n",
    "plt.show()"
   ]
  },
  {
   "cell_type": "markdown",
   "metadata": {},
   "source": [
    "### Exploring Racial and Ethnic Concentration in the Bay Area\n",
    "\n",
    "Let's use the 2010 population by race and ethnicity to explore the spatial concentration of people of different races and ethnicities in the Bay Area.  First, compute a regional percentage to use as a frame of reference for rhe block-level profiles. "
   ]
  },
  {
   "cell_type": "code",
   "execution_count": null,
   "metadata": {
    "collapsed": false
   },
   "outputs": [],
   "source": [
    "print('Regional Pct White: '+\"{0:.1f}%\".format(sf1['P0030002'].sum()/sf1['P0030001'].sum()*100))\n",
    "print('Regional Pct Black: '+\"{0:.1f}%\".format(sf1['P0030003'].sum()/sf1['P0030001'].sum()*100))\n",
    "print('Regional Pct Asian: '+\"{0:.1f}%\".format(sf1['P0030005'].sum()/sf1['P0030001'].sum()*100))\n",
    "print('Regional Pct Hispanic: '+\"{0:.1f}%\".format(sf1['P0040003'].sum()/sf1['P0040001'].sum()*100))\n",
    "print('Note that these add up to more than 100% since Hispanic is not broken out by race in this calculation')"
   ]
  },
  {
   "cell_type": "markdown",
   "metadata": {},
   "source": [
    "Now create a statistical profile and generate histograms of the distribution of each of these population groups.  What kinds of descriptive conclusions could you draw about how they differ from each other?"
   ]
  },
  {
   "cell_type": "code",
   "execution_count": null,
   "metadata": {
    "collapsed": false
   },
   "outputs": [],
   "source": [
    "print(sf1['pct_asian'].describe())\n",
    "plt.hist(sf1['pct_asian'], bins=50)\n",
    "plt.show()"
   ]
  },
  {
   "cell_type": "code",
   "execution_count": null,
   "metadata": {
    "collapsed": false
   },
   "outputs": [],
   "source": [
    "print(sf1['pct_hisp'].describe())\n",
    "plt.hist(sf1['pct_hisp'], bins=50)\n",
    "plt.show()"
   ]
  },
  {
   "cell_type": "code",
   "execution_count": null,
   "metadata": {
    "collapsed": false
   },
   "outputs": [],
   "source": [
    "print(sf1['pct_black'].describe())\n",
    "plt.hist(sf1['pct_black'], bins=50)\n",
    "plt.show()"
   ]
  },
  {
   "cell_type": "code",
   "execution_count": null,
   "metadata": {
    "collapsed": false
   },
   "outputs": [],
   "source": [
    "print(sf1['pct_white'].describe())\n",
    "plt.hist(sf1['pct_white'], bins=50)\n",
    "plt.show()"
   ]
  },
  {
   "cell_type": "markdown",
   "metadata": {},
   "source": [
    "To make figures easier to compare side-by-side, Matplotlib enables creating a composite figure using subplots."
   ]
  },
  {
   "cell_type": "code",
   "execution_count": null,
   "metadata": {
    "collapsed": false
   },
   "outputs": [],
   "source": [
    "plt.figure(1)\n",
    "plt.subplot(221)\n",
    "plt.hist(sf1['pct_asian'], bins=50)\n",
    "\n",
    "plt.subplot(222)\n",
    "plt.hist(sf1['pct_black'], bins=50)\n",
    "\n",
    "plt.subplot(223)\n",
    "plt.hist(sf1['pct_hisp'], bins=50)\n",
    "\n",
    "plt.subplot(224)\n",
    "plt.hist(sf1['pct_white'], bins=50)\n",
    "\n",
    "plt.show()"
   ]
  },
  {
   "cell_type": "markdown",
   "metadata": {},
   "source": [
    "The figures by default are a bit too small, and now it would really help to add some titles and legends to make this easier to read."
   ]
  },
  {
   "cell_type": "code",
   "execution_count": null,
   "metadata": {
    "collapsed": false
   },
   "outputs": [],
   "source": [
    "plt.figure(1, figsize=(10,8), )\n",
    "plt.suptitle(\"2010 Racial and Ethnic Distribution by Census Block, San Francisco Bay Area\", fontsize=16)\n",
    "\n",
    "ax = plt.subplot(221)\n",
    "ax.set_title(\"Asian\")\n",
    "ax.set_xlabel('Percent of Population in Census Block')\n",
    "ax.set_ylabel('Number of Census Blocks')\n",
    "ax.hist(sf1['pct_asian'], bins=50)\n",
    "\n",
    "ax = plt.subplot(222)\n",
    "ax.set_title(\"Black\")\n",
    "ax.set_xlabel('Percent of Population in Census Block')\n",
    "ax.set_ylabel('Number of Census Blocks')\n",
    "ax.hist(sf1['pct_black'], bins=50)\n",
    "\n",
    "ax = plt.subplot(223)\n",
    "ax.set_title(\"Hispanic\")\n",
    "ax.set_xlabel('Percent of Population in Census Block')\n",
    "ax.set_ylabel('Number of Census Blocks')\n",
    "ax.hist(sf1['pct_hisp'], bins=50)\n",
    "\n",
    "ax = plt.subplot(224)\n",
    "ax.set_title(\"White\")\n",
    "ax.set_xlabel('Percent of Population in Census Block')\n",
    "ax.set_ylabel('Number of Census Blocks')\n",
    "ax.hist(sf1['pct_white'], bins=50)\n",
    "\n",
    "plt.subplots_adjust(wspace=.5, hspace=.5)\n",
    "plt.show()"
   ]
  },
  {
   "cell_type": "markdown",
   "metadata": {},
   "source": [
    "But notice that the y axis scales are different for each subplot?  That makes direct comparisons potentially distorted by the difference in the scales.  Below we add consistent scales for the y axis on each subplot."
   ]
  },
  {
   "cell_type": "code",
   "execution_count": null,
   "metadata": {
    "collapsed": false
   },
   "outputs": [],
   "source": [
    "plt.figure(1, figsize=(10,8), )\n",
    "plt.suptitle(\"2010 Racial and Ethnic Distribution by Census Block, San Francisco Bay Area\", fontsize=16)\n",
    "\n",
    "ax = plt.subplot(221)\n",
    "ax.set_title(\"Asian\")\n",
    "ax.set_xlabel('Percent of Population in Census Block')\n",
    "ax.set_ylabel('Number of Census Blocks')\n",
    "ax.set_ylim(0,45000)\n",
    "ax.hist(sf1['pct_asian'], bins=50)\n",
    "\n",
    "ax = plt.subplot(222)\n",
    "ax.set_title(\"Black\")\n",
    "ax.set_xlabel('Percent of Population in Census Block')\n",
    "ax.set_ylabel('Number of Census Blocks')\n",
    "ax.set_ylim(0,45000)\n",
    "ax.hist(sf1['pct_black'], bins=50)\n",
    "\n",
    "ax = plt.subplot(223)\n",
    "ax.set_title(\"Hispanic\")\n",
    "ax.set_xlabel('Percent of Population in Census Block')\n",
    "ax.set_ylabel('Number of Census Blocks')\n",
    "ax.set_ylim(0,45000)\n",
    "ax.hist(sf1['pct_hisp'], bins=50)\n",
    "\n",
    "ax = plt.subplot(224)\n",
    "ax.set_title(\"White\")\n",
    "ax.set_xlabel('Percent of Population in Census Block')\n",
    "ax.set_ylabel('Number of Census Blocks')\n",
    "ax.set_ylim(0,45000)\n",
    "ax.hist(sf1['pct_white'], bins=50)\n",
    "\n",
    "plt.subplots_adjust(wspace=.5, hspace=.5)\n",
    "plt.show()"
   ]
  },
  {
   "cell_type": "markdown",
   "metadata": {},
   "source": [
    "Finally, a bit more tweaking of the plots, changing the color and edgecolor of the bars, and decreasing the alpha (opacity) of the bars.  And here we save the figure to a png file at a specified dpi."
   ]
  },
  {
   "cell_type": "code",
   "execution_count": null,
   "metadata": {
    "collapsed": false
   },
   "outputs": [],
   "source": [
    "plt.figure(1, figsize=(10,8), )\n",
    "plt.suptitle(\"2010 Racial and Ethnic Distribution by Census Block, San Francisco Bay Area\", fontsize=16)\n",
    "\n",
    "ax = plt.subplot(221)\n",
    "ax.set_title(\"Asian\")\n",
    "ax.set_xlabel('Percent of Population in Census Block')\n",
    "ax.set_ylabel('Number of Census Blocks')\n",
    "ax.set_ylim(0,45000)\n",
    "ax.hist(sf1['pct_asian'], bins=50, alpha=.6, color='r', edgecolor='r')\n",
    "\n",
    "ax = plt.subplot(222)\n",
    "ax.set_title(\"Black\")\n",
    "ax.set_xlabel('Percent of Population in Census Block')\n",
    "ax.set_ylabel('Number of Census Blocks')\n",
    "ax.set_ylim(0,45000)\n",
    "ax.hist(sf1['pct_black'], bins=50, alpha=.6, color='b', edgecolor='b')\n",
    "\n",
    "ax = plt.subplot(223)\n",
    "ax.set_title(\"Hispanic\")\n",
    "ax.set_xlabel('Percent of Population in Census Block')\n",
    "ax.set_ylabel('Number of Census Blocks')\n",
    "ax.set_ylim(0,45000)\n",
    "ax.hist(sf1['pct_hisp'], bins=50, alpha=.6, color='g', edgecolor='g')\n",
    "\n",
    "ax = plt.subplot(224)\n",
    "ax.set_title(\"White\")\n",
    "ax.set_xlabel('Percent of Population in Census Block')\n",
    "ax.set_ylabel('Number of Census Blocks')\n",
    "ax.set_ylim(0,45000)\n",
    "ax.hist(sf1['pct_white'], bins=50, alpha=.6, color='k', edgecolor='k')\n",
    "\n",
    "plt.subplots_adjust(wspace=.5, hspace=.5)\n",
    "plt.savefig(\"2010_racial_distributuon_bay_area.png\",dpi=150)\n",
    "plt.show()\n"
   ]
  },
  {
   "cell_type": "markdown",
   "metadata": {},
   "source": [
    "## Visualizing Craigslist Data\n",
    "\n",
    "Next we read Craigslist rental listings for the San Francisco Bay Area - over 70,000 listings scraped during 2014,  cleaned, and reverse geocoded to attach a Census Block ID that we can use to merge with census data."
   ]
  },
  {
   "cell_type": "code",
   "execution_count": null,
   "metadata": {
    "collapsed": false
   },
   "outputs": [],
   "source": [
    "rentals = pd.read_csv('sfbay_geocoded.csv', dtype={'fips_block': str})\n",
    "rentals = rentals.iloc[:,2:]\n",
    "print(rentals.head())\n",
    "print(rentals.shape)\n",
    "print(rentals['rent'].describe())\n",
    "print(rentals['sqft'].describe())"
   ]
  },
  {
   "cell_type": "markdown",
   "metadata": {},
   "source": [
    "Start by creating a default histogram of rents."
   ]
  },
  {
   "cell_type": "code",
   "execution_count": null,
   "metadata": {
    "collapsed": false
   },
   "outputs": [],
   "source": [
    "plt.hist(rentals['rent'])\n",
    "plt.show()"
   ]
  },
  {
   "cell_type": "markdown",
   "metadata": {},
   "source": [
    "Now make it look nicer, adding titles, axis labels, and setting the color and alpha."
   ]
  },
  {
   "cell_type": "code",
   "execution_count": null,
   "metadata": {
    "collapsed": false
   },
   "outputs": [],
   "source": [
    "plt.figure(1, figsize=(8,6), )\n",
    "plt.suptitle('2014 Bay Area Rents from Craigslist Listings', fontsize=14)\n",
    "plt.xlabel('Monthly Rent')\n",
    "plt.ylabel('Number of Listings')\n",
    "ax = plt.hist(rentals['rent'], bins=25, alpha=.6, color='g')\n",
    "plt.show()"
   ]
  },
  {
   "cell_type": "markdown",
   "metadata": {},
   "source": [
    "Now lets look at generating a scatter plot between two variables -- sqft and rent."
   ]
  },
  {
   "cell_type": "code",
   "execution_count": null,
   "metadata": {
    "collapsed": false
   },
   "outputs": [],
   "source": [
    "plt.scatter(rentals['sqft'], rentals['rent'])"
   ]
  },
  {
   "cell_type": "markdown",
   "metadata": {},
   "source": [
    "And a somewhat nicer version:"
   ]
  },
  {
   "cell_type": "code",
   "execution_count": null,
   "metadata": {
    "collapsed": false
   },
   "outputs": [],
   "source": [
    "plt.figure(1, figsize=(8,6), )\n",
    "plt.suptitle('2014 Bay Area Rents from Craigslist Listings', fontsize=14)\n",
    "plt.xlabel('Square Feet')\n",
    "plt.ylabel('Rent')\n",
    "plt.xlim(0,5000)\n",
    "plt.ylim(0,10000)\n",
    "ax = plt.scatter(rentals['sqft'], rentals['rent'], color='g', alpha=.5, edgecolor='g', s=.2)\n",
    "plt.show()"
   ]
  },
  {
   "cell_type": "markdown",
   "metadata": {},
   "source": [
    "And here we look at a scatter plot of rents against number of bedrooms."
   ]
  },
  {
   "cell_type": "code",
   "execution_count": null,
   "metadata": {
    "collapsed": false
   },
   "outputs": [],
   "source": [
    "plt.figure(1, figsize=(8,6), )\n",
    "plt.suptitle('2014 Bay Area Rents from Craigslist Listings', fontsize=14)\n",
    "plt.xlabel('Bedrooms')\n",
    "plt.ylabel('Rent')\n",
    "ax = plt.scatter(rentals['bedrooms'], rentals['rent'], color='w', edgecolor='r', alpha=.6, s=50)\n",
    "plt.show()"
   ]
  },
  {
   "cell_type": "markdown",
   "metadata": {},
   "source": [
    "## Exploring the Altair Python Visualization Library\n",
    "\n",
    "For the remainder of today's session, experiment with visualizing the two datasets above (or load your own data) to become more comfortable making data charts in Python.\n",
    "\n",
    "I also suggest that you explore the tutorials for the new Altair library. If you didn't install it earlier, do it before running the cell below, which loads a series of tutorials into this notebook."
   ]
  },
  {
   "cell_type": "code",
   "execution_count": null,
   "metadata": {
    "collapsed": false
   },
   "outputs": [],
   "source": [
    "from altair import *\n",
    "tutorial(overwrite=True)"
   ]
  },
  {
   "cell_type": "code",
   "execution_count": null,
   "metadata": {
    "collapsed": true
   },
   "outputs": [],
   "source": []
  }
 ],
 "metadata": {
  "kernelspec": {
   "display_name": "Python 3",
   "language": "python",
   "name": "python3"
  },
  "language_info": {
   "codemirror_mode": {
    "name": "ipython",
    "version": 3
   },
   "file_extension": ".py",
   "mimetype": "text/x-python",
   "name": "python",
   "nbconvert_exporter": "python",
   "pygments_lexer": "ipython3",
   "version": "3.5.2"
  }
 },
 "nbformat": 4,
 "nbformat_minor": 0
}
