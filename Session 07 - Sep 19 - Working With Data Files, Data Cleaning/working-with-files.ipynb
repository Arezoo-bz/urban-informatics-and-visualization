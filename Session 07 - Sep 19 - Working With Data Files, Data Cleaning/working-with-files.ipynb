{
 "cells": [
  {
   "cell_type": "markdown",
   "metadata": {},
   "source": [
    "# Working With Files and Doing Data Cleaning"
   ]
  },
  {
   "cell_type": "markdown",
   "metadata": {},
   "source": [
    "## Working With Files\n",
    "\n",
    "Most data you might want to work with is likely to be in some kind of file or another.  You often will want to work with data in comma separated text files, or in spreadsheet tables, or in tables stored in a database.  And you will increasingly find data online, not only as text or spreadsheets to download, but as Open Data APIs, returned from a web service as a JSON object.  This session covers how to work with a variety of file formats in Python, and how to begin processing data in files to clean data."
   ]
  },
  {
   "cell_type": "markdown",
   "metadata": {},
   "source": [
    "### Basics of Reading and Writing Files in Python\n",
    "\n",
    "Let's start by creating a simple file, and then reading it back.  We will use 'open' to open a file we will call 'tempfile' in 'write' (w) mode.  We will assign the file object, which is **iterable**, to an object we will arbitrarily call 'f'."
   ]
  },
  {
   "cell_type": "code",
   "execution_count": 49,
   "metadata": {
    "collapsed": false
   },
   "outputs": [],
   "source": [
    "f = open('tempfile.txt', 'w')\n",
    "for i in range(10):\n",
    "    f.write('this is line ' + str(i) + '\\n')\n",
    "f.close()"
   ]
  },
  {
   "cell_type": "markdown",
   "metadata": {},
   "source": [
    "You can open the text file in an editor to verify that this code wrote the file as expected.  Now open the file we just created in Python, in read mode (r)"
   ]
  },
  {
   "cell_type": "code",
   "execution_count": 57,
   "metadata": {
    "collapsed": false
   },
   "outputs": [],
   "source": [
    "f = open('tempfile.txt', 'r')"
   ]
  },
  {
   "cell_type": "markdown",
   "metadata": {},
   "source": [
    "And step through reading each line with the readline() method.  Notice that each time you execute this it advances to the next line."
   ]
  },
  {
   "cell_type": "code",
   "execution_count": 58,
   "metadata": {
    "collapsed": false
   },
   "outputs": [
    {
     "name": "stdout",
     "output_type": "stream",
     "text": [
      "this is line 0\n",
      "\n",
      "this is line 1\n",
      "\n"
     ]
    }
   ],
   "source": [
    "print(f.readline())\n",
    "print(f.readline())"
   ]
  },
  {
   "cell_type": "markdown",
   "metadata": {},
   "source": [
    "The plural version of that method generates a list of the lines in a file.  Note that we will re-open the file here to start from the beginning. Otherwise it will be positioned at the end of the file and give us back an empty string. Notice that this list contains the raw text contents, including the newline string '\\n'."
   ]
  },
  {
   "cell_type": "code",
   "execution_count": 61,
   "metadata": {
    "collapsed": false
   },
   "outputs": [
    {
     "data": {
      "text/plain": [
       "['this is line 0\\n',\n",
       " 'this is line 1\\n',\n",
       " 'this is line 2\\n',\n",
       " 'this is line 3\\n',\n",
       " 'this is line 4\\n',\n",
       " 'this is line 5\\n',\n",
       " 'this is line 6\\n',\n",
       " 'this is line 7\\n',\n",
       " 'this is line 8\\n',\n",
       " 'this is line 9\\n']"
      ]
     },
     "execution_count": 61,
     "metadata": {},
     "output_type": "execute_result"
    }
   ],
   "source": [
    "f = open('tempfile.txt', 'r')\n",
    "f.readlines()"
   ]
  },
  {
   "cell_type": "markdown",
   "metadata": {},
   "source": [
    "Here is another way to loop through the lines of the file and print them all out. Notice that printing the lines suppresses the quotes and the newline string."
   ]
  },
  {
   "cell_type": "code",
   "execution_count": 62,
   "metadata": {
    "collapsed": false
   },
   "outputs": [
    {
     "name": "stdout",
     "output_type": "stream",
     "text": [
      "this is line 0\n",
      "this is line 1\n",
      "this is line 2\n",
      "this is line 3\n",
      "this is line 4\n",
      "this is line 5\n",
      "this is line 6\n",
      "this is line 7\n",
      "this is line 8\n",
      "this is line 9\n"
     ]
    }
   ],
   "source": [
    "f = open('tempfile.txt', 'r')\n",
    "for line in f:\n",
    "    print(line, end='')"
   ]
  },
  {
   "cell_type": "code",
   "execution_count": 77,
   "metadata": {
    "collapsed": false
   },
   "outputs": [
    {
     "data": {
      "text/plain": [
       "'[\"this is line 0\\\\n\", \"this is line 1\\\\n\", \"this is line 2\\\\n\", \"this is line 3\\\\n\", \"this is line 4\\\\n\", \"this is line 5\\\\n\", \"this is line 6\\\\n\", \"this is line 7\\\\n\", \"this is line 8\\\\n\", \"this is line 9\\\\n\"]'"
      ]
     },
     "execution_count": 77,
     "metadata": {},
     "output_type": "execute_result"
    }
   ],
   "source": [
    "import json\n",
    "f = open('tempfile.txt', 'r')\n",
    "\n",
    "x = json.dumps(f.readlines())\n",
    "x"
   ]
  },
  {
   "cell_type": "code",
   "execution_count": 78,
   "metadata": {
    "collapsed": false
   },
   "outputs": [],
   "source": [
    "f = open('tempfile.txt', 'r')\n",
    "j = open('temp.json', 'w')\n",
    "json.dump(f.readlines(), j)"
   ]
  },
  {
   "cell_type": "code",
   "execution_count": 80,
   "metadata": {
    "collapsed": false
   },
   "outputs": [
    {
     "data": {
      "text/plain": [
       "['this is line 0\\n',\n",
       " 'this is line 1\\n',\n",
       " 'this is line 2\\n',\n",
       " 'this is line 3\\n',\n",
       " 'this is line 4\\n',\n",
       " 'this is line 5\\n',\n",
       " 'this is line 6\\n',\n",
       " 'this is line 7\\n',\n",
       " 'this is line 8\\n',\n",
       " 'this is line 9\\n']"
      ]
     },
     "execution_count": 80,
     "metadata": {},
     "output_type": "execute_result"
    }
   ],
   "source": [
    "j = open('temp.json', 'r')\n",
    "x = json.load(j)\n",
    "x"
   ]
  },
  {
   "cell_type": "markdown",
   "metadata": {},
   "source": [
    "## Putting Python to Work: Cleaning up Messy Data"
   ]
  },
  {
   "cell_type": "markdown",
   "metadata": {},
   "source": [
    "Let's begin looking at some real data and do some work on it using these Python data types and methods.  Remember those rental listings you just used to create a map in CartoDB last week and that we looked at using Python last session?  They were nicely formatted, clean CSV files.  That isn't how they started...\n",
    "\n",
    "Let's look at the messy set of raw rental listing data, obtained by scraping it from the web.  We left in the messiness to use it for learning how to begin putting to work what we have learned about basic data types.  \n",
    "\n",
    "You will need a data file called items.csv, and a copy of this notebook, which is 5-strings-lists-dictionaries-part-2.ipynb.  Both are in the files directory, and linked from the session page.  Download the notebook to a location on your hard drive.  I create a Data folder below that, and put the items.csv file into that.  If you organize things differently, you will need to change the file references below in each cell -- so probably best to use the same file organization.\n",
    "\n",
    "Once we have the file downloaded and you have this notebook open, we begin by importing the csv and string modules so we have access to their classes and methods."
   ]
  },
  {
   "cell_type": "code",
   "execution_count": 2,
   "metadata": {
    "collapsed": false
   },
   "outputs": [],
   "source": [
    "import csv, string"
   ]
  },
  {
   "cell_type": "markdown",
   "metadata": {},
   "source": [
    "Now let's open the items.csv file and use the reader method in the csv class to iterate over all the rows in the file, and print out its contents."
   ]
  },
  {
   "cell_type": "code",
   "execution_count": 4,
   "metadata": {
    "collapsed": false
   },
   "outputs": [
    {
     "name": "stdout",
     "output_type": "stream",
     "text": [
      "['neighborhood', 'title', 'price', 'bedrooms', 'pid', 'longitude', 'date', 'link', 'latitude', 'sqft', 'sourcepage']\n",
      "[' (SOMA / south beach)', '1bed + Den, 1bath at Mission Bay', '$2895', '   / 1br - 950ft\\xc2\\xb2 -    ', '4046628359', '-122.399663', 'Sep  4 2013', '/sfc/apa/4046628359.html', '37.774623', '   / 1br - 950ft\\xc2\\xb2 -    ', 'http://sfbay.craigslist.org/sfc/apa/']\n",
      "[' (SOMA / south beach)', 'Love where you live!', '$3354', '   / 1br - 710ft\\xc2\\xb2 -    ', '4046761563', '', 'Sep  4 2013', '/sfc/apa/4046761563.html', '', '   / 1br - 710ft\\xc2\\xb2 -    ', 'http://sfbay.craigslist.org/sfc/apa/']\n",
      "[' (inner sunset / UCSF)', 'We Welcome Your Furry Friends! Call Today!', '$2865', '   / 1br - 644ft\\xc2\\xb2 -    ', '4046661504', '-122.470727', 'Sep  4 2013', '/sfc/apa/4046661504.html', '37.765739', '   / 1br - 644ft\\xc2\\xb2 -    ', 'http://sfbay.craigslist.org/sfc/apa/']\n",
      "[' (financial district)', 'Golden Gateway Commons | 2BR + office townhouse & 4 decks!!', '$5500', '   / 2br - 1450ft\\xc2\\xb2 -    ', '4036170429', '', 'Sep  4 2013', '/sfc/apa/4036170429.html', '', '   / 2br - 1450ft\\xc2\\xb2 -    ', 'http://sfbay.craigslist.org/sfc/apa/']\n"
     ]
    }
   ],
   "source": [
    "with open('Data/items.csv', 'rb') as csvfile:\n",
    "    i = 0\n",
    "    itemreader = csv.reader(csvfile)\n",
    "    #next(itemreader, None)  # skip the headers\n",
    "    for row in itemreader:\n",
    "        i = i+1\n",
    "        if i < 6:\n",
    "            print row"
   ]
  },
  {
   "cell_type": "markdown",
   "metadata": {},
   "source": [
    "## What a Mess!"
   ]
  },
  {
   "cell_type": "markdown",
   "metadata": {},
   "source": [
    "OK, that is what 'raw' data looks like.  It has all kinds of extraneous text in it, and we need to clean it up in order to use it.  Fortunately, you already should know how to use the tools to make this happen, using basic Python methods for lists and strings that we learned last session: split, len, find, indexing (e.g. s[1:4]), strip.\n",
    "\n",
    "The exercise for today is to practice those skills to clean up this file.  These are the things you need to do to get it cleaned up:\n",
    "\n",
    "1. Create variables for neighborhood, title, price, pid, date, latitude, longitude\n",
    "2. Remove the parentheses around the neighborhood name\n",
    "3. Remove the $ sign from price\n",
    "4. Convert price to integer\n",
    "5. Extract the number of bedrooms from the text string that contains it. For example, the first data row has '   / 1br - 950ft\\xc2\\xb2 -    ' as a string, and you just want the '1' before 'br' (hint: you can find an index value of a specific character or string and get an offset from that index value by adding or subtracting from that index value, like: find('X')+1)\n",
    "6. Extract the sqft from the same text string, in this case '950' just before 'ft'\n",
    "7. Unpack the date into year, month and day\n",
    "8. print the cleaned up variables for the first 10 rows\n",
    "\n",
    "To do this without getting too frustrated, and as a general productivity strategy, it is advisable to take small steps and check the results at each step. Don't try to do everything in the smallest number of steps - at least not in your first pass.\n",
    "\n",
    "When you're done, printing the relevant variables from the first row using the following command:"
   ]
  },
  {
   "cell_type": "raw",
   "metadata": {},
   "source": [
    "print neighborhood, ',', price, ',', bedrooms, ',', pid, ',', sqft, ',', year, ',', month, ',', day, ',', latitude, ',', longitude"
   ]
  },
  {
   "cell_type": "markdown",
   "metadata": {},
   "source": [
    "should look like:"
   ]
  },
  {
   "cell_type": "raw",
   "metadata": {},
   "source": [
    "SOMA / south beach , 2895 ,  1 , 4046628359 ,  950 , 2013 , Sep , 4 , 37.774623 , -122.399663"
   ]
  },
  {
   "cell_type": "markdown",
   "metadata": {},
   "source": [
    "PLEASE do each step above in a different cell, checking your results at each step, and add comment cells to explain your work.\n",
    "\n",
    "When you complete this exercise, save the notebook and submit it on the class website.  \n",
    "\n",
    "Let's do the first couple of steps to get started. Beginning with creating variables. Note that the bedrooms and sqft strings are duplicated and contain both items of information."
   ]
  },
  {
   "cell_type": "code",
   "execution_count": 5,
   "metadata": {
    "collapsed": false
   },
   "outputs": [
    {
     "name": "stdout",
     "output_type": "stream",
     "text": [
      "neighborhood , price , bedrooms , sqft\n",
      " (SOMA / south beach) , $2895 ,    / 1br - 950ft² -     ,    / 1br - 950ft² -    \n",
      " (SOMA / south beach) , $3354 ,    / 1br - 710ft² -     ,    / 1br - 710ft² -    \n",
      " (inner sunset / UCSF) , $2865 ,    / 1br - 644ft² -     ,    / 1br - 644ft² -    \n",
      " (financial district) , $5500 ,    / 2br - 1450ft² -     ,    / 2br - 1450ft² -    \n"
     ]
    }
   ],
   "source": [
    "with open('Data/items.csv', 'rb') as csvfile:\n",
    "    i = 0\n",
    "    itemreader = csv.reader(csvfile)\n",
    "    #next(itemreader, None)  # skip the headers\n",
    "    for row in itemreader:\n",
    "        i = i+1\n",
    "        if i < 6:\n",
    "            neighborhood = row[0]\n",
    "            title = row[1]\n",
    "            price = row[2]\n",
    "            bedrooms = row[3]\n",
    "            sqft = row[9]\n",
    "            print neighborhood, ',', price, ',', bedrooms, ',', sqft"
   ]
  },
  {
   "cell_type": "markdown",
   "metadata": {},
   "source": [
    "OK, next we strip the parentheses from around the neighborhood name..."
   ]
  },
  {
   "cell_type": "code",
   "execution_count": 6,
   "metadata": {
    "collapsed": false
   },
   "outputs": [
    {
     "name": "stdout",
     "output_type": "stream",
     "text": [
      "neighborhood , price , bedrooms , sqft\n",
      "SOMA / south beach , $2895 ,    / 1br - 950ft² -     ,    / 1br - 950ft² -    \n",
      "SOMA / south beach , $3354 ,    / 1br - 710ft² -     ,    / 1br - 710ft² -    \n",
      "inner sunset / UCSF , $2865 ,    / 1br - 644ft² -     ,    / 1br - 644ft² -    \n",
      "financial district , $5500 ,    / 2br - 1450ft² -     ,    / 2br - 1450ft² -    \n"
     ]
    }
   ],
   "source": [
    "with open('Data/items.csv', 'rb') as csvfile:\n",
    "    i = 0\n",
    "    itemreader = csv.reader(csvfile)\n",
    "    #next(itemreader, None)  # skip the headers\n",
    "    for row in itemreader:\n",
    "        i = i+1\n",
    "        if i < 6:\n",
    "            neighborhood = row[0].strip( ') ' ).strip( '  (' )\n",
    "            title = row[1]\n",
    "            price = row[2]\n",
    "            bedrooms = row[3]\n",
    "            sqft = row[9]\n",
    "            print neighborhood, ',', price, ',', bedrooms, ',', sqft"
   ]
  },
  {
   "cell_type": "markdown",
   "metadata": {},
   "source": [
    "Your turn!  Continue from step 3 through 8, and when you are done, submit the completed notebook."
   ]
  },
  {
   "cell_type": "code",
   "execution_count": null,
   "metadata": {
    "collapsed": false
   },
   "outputs": [],
   "source": []
  }
 ],
 "metadata": {
  "kernelspec": {
   "display_name": "Python 3",
   "language": "python",
   "name": "python3"
  },
  "language_info": {
   "codemirror_mode": {
    "name": "ipython",
    "version": 3
   },
   "file_extension": ".py",
   "mimetype": "text/x-python",
   "name": "python",
   "nbconvert_exporter": "python",
   "pygments_lexer": "ipython3",
   "version": "3.5.2"
  }
 },
 "nbformat": 4,
 "nbformat_minor": 0
}
