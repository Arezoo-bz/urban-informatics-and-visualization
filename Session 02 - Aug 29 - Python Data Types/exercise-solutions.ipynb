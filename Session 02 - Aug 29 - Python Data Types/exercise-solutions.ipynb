{
 "cells": [
  {
   "cell_type": "code",
   "execution_count": 1,
   "metadata": {
    "collapsed": true
   },
   "outputs": [],
   "source": [
    "s = 'Now is the time for all good men to come to the aid of their country!'"
   ]
  },
  {
   "cell_type": "code",
   "execution_count": 6,
   "metadata": {
    "collapsed": false
   },
   "outputs": [
    {
     "data": {
      "text/plain": [
       "'all good countrymen'"
      ]
     },
     "execution_count": 6,
     "metadata": {},
     "output_type": "execute_result"
    }
   ],
   "source": [
    "# Paul W\n",
    "t = s.split()\n",
    "new = (str.join(' ', t[5:7]) + ' ' + str.join('', [t[-1].strip('!'), t[7]]))\n",
    "new"
   ]
  },
  {
   "cell_type": "code",
   "execution_count": 3,
   "metadata": {
    "collapsed": false
   },
   "outputs": [
    {
     "data": {
      "text/plain": [
       "'all good countrymen'"
      ]
     },
     "execution_count": 3,
     "metadata": {},
     "output_type": "execute_result"
    }
   ],
   "source": [
    "# Chelsea Zhou\n",
    "list = s.split(\" \")\n",
    "new = list[5]+ \" \" + list[6] + \" \" + list[-1][:-1] + list[7]\n",
    "new"
   ]
  },
  {
   "cell_type": "code",
   "execution_count": 4,
   "metadata": {
    "collapsed": false
   },
   "outputs": [
    {
     "name": "stdout",
     "output_type": "stream",
     "text": [
      "all good countrymen\n"
     ]
    }
   ],
   "source": [
    "# Arezoo Zadeh\n",
    "m = s.strip(\"!\")\n",
    "t = str.split(m)\n",
    "a = t[5]\n",
    "g = t[6]\n",
    "m = t[7]\n",
    "c = t[-1]\n",
    "n = a+\" \"+g+\" \"+c+m\n",
    "print(n)"
   ]
  },
  {
   "cell_type": "code",
   "execution_count": 5,
   "metadata": {
    "collapsed": false
   },
   "outputs": [
    {
     "name": "stdout",
     "output_type": "stream",
     "text": [
      "all good countrymen\n"
     ]
    }
   ],
   "source": [
    "# Varun Bhargava\n",
    "s=s.strip('!')\n",
    "x=str.split(s)\n",
    "x.insert(7,x[15])\n",
    "y=str.join(' ',x[5:8])\n",
    "z=str.join(' ',x[8:9])\n",
    "print(y+z)"
   ]
  },
  {
   "cell_type": "code",
   "execution_count": 8,
   "metadata": {
    "collapsed": false
   },
   "outputs": [
    {
     "data": {
      "text/plain": [
       "'all good countrymen'"
      ]
     },
     "execution_count": 8,
     "metadata": {},
     "output_type": "execute_result"
    }
   ],
   "source": [
    "# Olga Kavaada\n",
    "sentence_list = s.split()\n",
    "all_good = sentence_list[5:7]\n",
    "country = sentence_list[-1].strip('!')\n",
    "men = sentence_list[7]\n",
    "\n",
    "end_result = str.join(\" \", all_good+[country])+men\n",
    "end_result"
   ]
  },
  {
   "cell_type": "code",
   "execution_count": 10,
   "metadata": {
    "collapsed": false
   },
   "outputs": [
    {
     "data": {
      "text/plain": [
       "'all good countrymen'"
      ]
     },
     "execution_count": 10,
     "metadata": {},
     "output_type": "execute_result"
    }
   ],
   "source": [
    "# Peter Lawrence Smith\n",
    "stringlist = s.split()\n",
    "newstring = stringlist[5] + ' ' + stringlist[6] + ' ' + stringlist[15].strip('!') + stringlist[7]\n",
    "newstring"
   ]
  },
  {
   "cell_type": "code",
   "execution_count": null,
   "metadata": {
    "collapsed": true
   },
   "outputs": [],
   "source": []
  }
 ],
 "metadata": {
  "anaconda-cloud": {},
  "kernelspec": {
   "display_name": "Python 3",
   "language": "python",
   "name": "python3"
  },
  "language_info": {
   "codemirror_mode": {
    "name": "ipython",
    "version": 3
   },
   "file_extension": ".py",
   "mimetype": "text/x-python",
   "name": "python",
   "nbconvert_exporter": "python",
   "pygments_lexer": "ipython3",
   "version": "3.5.2"
  }
 },
 "nbformat": 4,
 "nbformat_minor": 1
}
