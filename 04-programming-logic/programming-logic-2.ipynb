{
 "cells": [
  {
   "cell_type": "markdown",
   "metadata": {},
   "source": [
    "# Programming Logic in Python - Part 2\n"
   ]
  },
  {
   "cell_type": "markdown",
   "metadata": {},
   "source": [
    "Last session we covered core building blocks in logical programming: booleans, conditionals, and iteration.  This time we extend into the realm of object oriented programming: functions and classes."
   ]
  },
  {
   "cell_type": "markdown",
   "metadata": {},
   "source": [
    "# Functions\n",
    "\n",
    "You can group programming steps into functions to be able to reuse them easily and flexibly, on different inputs.\n",
    "\n",
    "Note the syntax.  A function definition begins with the word def.  It then has a name for the function, which you choose (just avoid reserved words). A convention in Python is to use lower case words, separated by undescrores, for function names. It then has parentheses containing one or more elements, which are known as arguments to a function. These are the names of the values that you intend to pass to the function to evaluate.  Notice also the indentation of the block of code defining the function, which itself may contain indentation for embedded if statements or other program logic.\n",
    "\n",
    "Below we nest the series of if/elif/else statements into a function we call "
   ]
  },
  {
   "cell_type": "code",
   "execution_count": 1,
   "metadata": {
    "collapsed": false
   },
   "outputs": [
    {
     "name": "stdout",
     "output_type": "stream",
     "text": [
      "7 is less than 10\n"
     ]
    }
   ],
   "source": [
    "# encapsulation turns a handful of statements into a reusable function\n",
    "def compare_to_10(value):\n",
    "    if value < 10:\n",
    "        print(value, 'is less than 10')\n",
    "    elif value == 10:\n",
    "        print(value, 'equals 10')\n",
    "    else:\n",
    "        print(value, 'is greater than 10')\n",
    "        \n",
    "# now call the function\n",
    "compare_to_10(7)"
   ]
  },
  {
   "cell_type": "code",
   "execution_count": 2,
   "metadata": {
    "collapsed": false
   },
   "outputs": [
    {
     "name": "stdout",
     "output_type": "stream",
     "text": [
      "16 is greater than 10\n"
     ]
    }
   ],
   "source": [
    "# Try passing an argument with a calculation in it.  It works also, because Python \n",
    "# evaluates the argument and passes the resulting object into the function:\n",
    "compare_to_10((2*2)**2)"
   ]
  },
  {
   "cell_type": "markdown",
   "metadata": {},
   "source": [
    "Your function can return results that you can use elsewhere in your code. Here is an example function with two arguments that it compares.  Note that executing this code block does not produce any output. It only defines the function.\n",
    "\n",
    "Note the new syntax in this example.  We use **return** to send back to whatever called the function, a specific result, rather than just printing a value to the output.  This is what makes it possible to call the function in your code, and get the results back, potentially to operate on, as in this case with simple print statements.\n",
    "\n",
    "Notice also that functions can accept more than one argument."
   ]
  },
  {
   "cell_type": "code",
   "execution_count": 3,
   "metadata": {
    "collapsed": true
   },
   "outputs": [],
   "source": [
    "def greater_than(x, y):\n",
    "    if x > y:\n",
    "        return True\n",
    "    else:\n",
    "        return False"
   ]
  },
  {
   "cell_type": "code",
   "execution_count": 4,
   "metadata": {
    "collapsed": false,
    "scrolled": true
   },
   "outputs": [
    {
     "name": "stdout",
     "output_type": "stream",
     "text": [
      "False\n",
      "True\n"
     ]
    }
   ],
   "source": [
    "print(greater_than(3, 5))\n",
    "print(greater_than(5, 3))"
   ]
  },
  {
   "cell_type": "markdown",
   "metadata": {},
   "source": [
    "Here is a more complex function that calculates a Fibonacci series up to n.  Fibonacci series have the property that the sum of two adjacent numbers in the list equals the next value in the list.  Notice the statement in triple quotation marks following the def statement -- it is a 'docstring', which Python can use to generate documentation for a function."
   ]
  },
  {
   "cell_type": "code",
   "execution_count": 6,
   "metadata": {
    "collapsed": false
   },
   "outputs": [
    {
     "name": "stdout",
     "output_type": "stream",
     "text": [
      "0 1 1 2 3 5 8 13 21 34 55 89 144 233 377 610 987 \n"
     ]
    }
   ],
   "source": [
    "def fib_func(n):    # write Fibonacci series up to n\n",
    "    \"\"\"Print a Fibonacci series up to n.\n",
    "    \"\"\"\n",
    "    a, b = 0, 1\n",
    "    while a < n:\n",
    "        print(a, end=' ')\n",
    "        a, b = b, a+b\n",
    "    print()\n",
    "    \n",
    "fib_func(1000)# print the doctring for a function\n",
    "print(fib_func.__doc__)"
   ]
  },
  {
   "cell_type": "code",
   "execution_count": 7,
   "metadata": {
    "collapsed": false
   },
   "outputs": [
    {
     "name": "stdout",
     "output_type": "stream",
     "text": [
      "Print a Fibonacci series up to n.\n",
      "    \n"
     ]
    }
   ],
   "source": [
    "# print the doctring for a function\n",
    "print(fib_func.__doc__)"
   ]
  },
  {
   "cell_type": "code",
   "execution_count": 8,
   "metadata": {
    "collapsed": false,
    "scrolled": true
   },
   "outputs": [
    {
     "name": "stdout",
     "output_type": "stream",
     "text": [
      "Help on function fib_func in module __main__:\n",
      "\n",
      "fib_func(n)\n",
      "    Print a Fibonacci series up to n.\n",
      "\n"
     ]
    }
   ],
   "source": [
    "help(fib_func)"
   ]
  },
  {
   "cell_type": "markdown",
   "metadata": {},
   "source": [
    "### Practice 1: \n",
    "\n",
    "a. create a function that accepts a list of integers as an argument and returns a list of fractions of the total of that list.\n",
    "\n",
    "b. Next, limit the number of decimal places in the returned list to 2\n",
    "\n",
    "c. Then, make the number of decimal places a user specified argument to the function\n",
    "\n",
    "d. Make a new function that calculates percentages to two decimal places"
   ]
  },
  {
   "cell_type": "code",
   "execution_count": null,
   "metadata": {
    "collapsed": true
   },
   "outputs": [],
   "source": []
  },
  {
   "cell_type": "markdown",
   "metadata": {},
   "source": [
    "### Practice 2:\n",
    "\n",
    "Write a function nums_reversed that takes in an integer `n` and returns a string containing the numbers 1 through `n` including `n` in reverse order, separated\n",
    "by spaces. For example:\n",
    "\n",
    "    >>> nums_reversed(5)\n",
    "    '5 4 3 2 1'"
   ]
  },
  {
   "cell_type": "code",
   "execution_count": null,
   "metadata": {
    "collapsed": true
   },
   "outputs": [],
   "source": []
  },
  {
   "cell_type": "markdown",
   "metadata": {},
   "source": [
    "### Practice 3:\n",
    "\n",
    "Write a Python function to print the even numbers from a given list."
   ]
  },
  {
   "cell_type": "code",
   "execution_count": null,
   "metadata": {
    "collapsed": true
   },
   "outputs": [],
   "source": []
  },
  {
   "cell_type": "markdown",
   "metadata": {},
   "source": [
    "### Practice 4:\n",
    "\n",
    "Write a Python program to count the number of even and odd numbers from a series of numbers."
   ]
  },
  {
   "cell_type": "code",
   "execution_count": null,
   "metadata": {
    "collapsed": true
   },
   "outputs": [],
   "source": []
  },
  {
   "cell_type": "markdown",
   "metadata": {},
   "source": [
    "## Classes\n",
    "\n",
    "Classes create objects that can bundle attributes and functions together.  Functions within classes are referred to as methods of that class.  Let's look at a simple example of a class, one that defines points in a Cartesian coordinate system.  The class definition begins like a function definition, using 'def' and then the name of the class -- using a norm that class names are capitalized -- followed by a colon, and an indented block of code containing the logic defining the class attributes and methods.\n",
    "\n",
    "The first two methods use reserved names in Python. The __init__ method is executed whenever an instance of class Point is created -- whenever the class is called and passed two arguments specifying an x coordinate and a y coordinate. Notice that the method has three arguments. __self__ refers to the instance of an object of type point being created.  Theother two are the x and y coordinates passes to the constructor of the point object when a point is created, and will be the attributes of the point. The __str__ method will be executed whenever a Point needs to be printed. The other methods are user defined methods specific to points."
   ]
  },
  {
   "cell_type": "code",
   "execution_count": 1,
   "metadata": {
    "collapsed": true
   },
   "outputs": [],
   "source": [
    "# Import the math library to use methods like sqrt\n",
    "import math\n",
    "\n",
    "class Point:\n",
    "\n",
    "    def __init__(self, x, y):\n",
    "        self.x = x\n",
    "        self.y = y\n",
    "\n",
    "    def __str__(self):\n",
    "        return \"Point(%d, %d)\" % (self.x, self.y)\n",
    "\n",
    "    def distance_from_origin(self):\n",
    "        return math.sqrt(self.x**2 + self.y**2)\n",
    "\n",
    "    def distance(self, p2):\n",
    "        return math.sqrt((p2.x - self.x)**2 + (p2.y - self.y)**2)"
   ]
  },
  {
   "cell_type": "markdown",
   "metadata": {},
   "source": [
    "Classes are useful for defining general functionality that is bundled to handle repeated use.  It enables creating instances of objects of the type defined in the class, which inherit its attributes and methods."
   ]
  },
  {
   "cell_type": "code",
   "execution_count": 2,
   "metadata": {
    "collapsed": true
   },
   "outputs": [],
   "source": [
    "# Here we just create two new objects, p1 and p2, that are specific instances of class Point, and inherit its\n",
    "# attributes and methods\n",
    "p1 = Point(3,4)\n",
    "p2 = Point(1,1)"
   ]
  },
  {
   "cell_type": "code",
   "execution_count": 3,
   "metadata": {
    "collapsed": false
   },
   "outputs": [
    {
     "data": {
      "text/plain": [
       "<__main__.Point at 0x1113bc358>"
      ]
     },
     "execution_count": 3,
     "metadata": {},
     "output_type": "execute_result"
    }
   ],
   "source": [
    "# If we just type p1, Python will tell us that it exists, and is an object of type Point\n",
    "p1"
   ]
  },
  {
   "cell_type": "code",
   "execution_count": 4,
   "metadata": {
    "collapsed": false
   },
   "outputs": [
    {
     "name": "stdout",
     "output_type": "stream",
     "text": [
      "Point(3, 4)\n",
      "Point(1, 1)\n"
     ]
    }
   ],
   "source": [
    "# Using method __str__ we can print the attributes of each instance of point\n",
    "print(p1)\n",
    "print(p2)"
   ]
  },
  {
   "cell_type": "code",
   "execution_count": 5,
   "metadata": {
    "collapsed": false
   },
   "outputs": [
    {
     "name": "stdout",
     "output_type": "stream",
     "text": [
      "3\n",
      "1\n"
     ]
    }
   ],
   "source": [
    "# Or print specified attributes\n",
    "print(p1.x)\n",
    "print(p2.x)"
   ]
  },
  {
   "cell_type": "code",
   "execution_count": 6,
   "metadata": {
    "collapsed": false
   },
   "outputs": [
    {
     "name": "stdout",
     "output_type": "stream",
     "text": [
      "p1 distance from origin:  5.0\n",
      "p2 distance from origin: 1.4142135623730951\n",
      "distance between p1 and p2:  3.605551275463989\n"
     ]
    }
   ],
   "source": [
    "# And we can call the other methods of class point to return calculations on these specific instances\n",
    "print('p1 distance from origin: ', p1.distance_from_origin())\n",
    "print('p2 distance from origin:', p2.distance_from_origin())\n",
    "print('distance between p1 and p2: ', p1.distance(p2))"
   ]
  },
  {
   "cell_type": "markdown",
   "metadata": {},
   "source": [
    "### Practice..."
   ]
  },
  {
   "cell_type": "code",
   "execution_count": null,
   "metadata": {
    "collapsed": true
   },
   "outputs": [],
   "source": []
  }
 ],
 "metadata": {
  "kernelspec": {
   "display_name": "Python [default]",
   "language": "python",
   "name": "python3"
  },
  "language_info": {
   "codemirror_mode": {
    "name": "ipython",
    "version": 3
   },
   "file_extension": ".py",
   "mimetype": "text/x-python",
   "name": "python",
   "nbconvert_exporter": "python",
   "pygments_lexer": "ipython3",
   "version": "3.6.0"
  }
 },
 "nbformat": 4,
 "nbformat_minor": 1
}
