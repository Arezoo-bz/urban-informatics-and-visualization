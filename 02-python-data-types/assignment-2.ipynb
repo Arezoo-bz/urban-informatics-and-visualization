{
 "cells": [
  {
   "cell_type": "markdown",
   "metadata": {},
   "source": [
    "## Assignment 2: Python Data Types\n",
    "\n",
    "In this notebook add code that accomplishes the tasks identified for each question below."
   ]
  },
  {
   "cell_type": "markdown",
   "metadata": {},
   "source": [
    "1) Create an arbitrary one dimensional array called \"v\".\n",
    "\n",
    "2) Create a new array which consists of the odd indices of previously created array \"v\".\n",
    "\n",
    "3) Create a new array in backwards ordering from v.\n",
    "\n",
    "4) What will be the output of the following code:\n",
    "\n",
    "   a = np.array([1, 2, 3, 4, 5])\n",
    "   b = a[1:4]\n",
    "   b[0] = 200\n",
    "   print(a[1])\n",
    "   \n",
    "5) Create a two dimensional array called \"m\".\n",
    "\n",
    "6) Create a new array from m, in which the elements of each row are in reverse order.\n",
    "\n",
    "7) Another one, where the rows are in reverse order.\n",
    "\n",
    "8) Create an array from m, where columns and rows are in reverse order.\n",
    "\n",
    "9) Cut of the first and last row and the first and last column."
   ]
  },
  {
   "cell_type": "markdown",
   "metadata": {},
   "source": [
    "1) Create an arbitrary one dimensional array called \"v\".\n",
    "\n",
    "2) Create a new array which consists of the odd indices of previously created array \"v\".\n",
    "\n",
    "3) Create a new array in backwards ordering from v.\n",
    "\n",
    "4) What will be the output of the following code:\n",
    "\n",
    "   a = np.array([1, 2, 3, 4, 5])\n",
    "   b = a[1:4]\n",
    "   b[0] = 200\n",
    "   print(a[1])\n",
    "   \n",
    "5) Create a two dimensional array called \"m\".\n",
    "\n",
    "6) Create a new array from m, in which the elements of each row are in reverse order.\n",
    "\n",
    "7) Another one, where the rows are in reverse order.\n",
    "\n",
    "8) Create an array from m, where columns and rows are in reverse order.\n",
    "\n",
    "9) Cut of the first and last row and the first and last column."
   ]
  },
  {
   "cell_type": "code",
   "execution_count": null,
   "metadata": {
    "collapsed": true
   },
   "outputs": [],
   "source": []
  }
 ],
 "metadata": {
  "kernelspec": {
   "display_name": "Python [conda root]",
   "language": "python",
   "name": "conda-root-py"
  },
  "language_info": {
   "codemirror_mode": {
    "name": "ipython",
    "version": 3
   },
   "file_extension": ".py",
   "mimetype": "text/x-python",
   "name": "python",
   "nbconvert_exporter": "python",
   "pygments_lexer": "ipython3",
   "version": "3.5.3"
  }
 },
 "nbformat": 4,
 "nbformat_minor": 2
}
