{
 "cells": [
  {
   "cell_type": "markdown",
   "metadata": {},
   "source": [
    "## Assignment 2 | Data types"
   ]
  },
  {
   "cell_type": "markdown",
   "metadata": {},
   "source": [
    "Based on the following table create two dictionaries, one for California and one for New York state. Each dictionary should have the following keys / value-type: name: (string) , population density: (float), race (dict), tenure: (dict). \n",
    "\n",
    "1.  Create an outer dictionary called \"states\" that each contain dictionaries containing name, pop_density, race as a dictionary, and tenure. \n",
    "\n",
    "1.  Check if texas is in our state dictionary (we know it isn't but show us).\n",
    "\n",
    "1. Print the race distribution for New York as percentages with 2 decimal places\n",
    "\n",
    "1. Print the state name, the tenure category, and the percentage of households of that tenure in each state, with two decimal places\n",
    "\n",
    "![Census.jpg](Census.jpg)\n"
   ]
  },
  {
   "cell_type": "code",
   "execution_count": 220,
   "metadata": {
    "collapsed": true
   },
   "outputs": [],
   "source": [
    "#Solution to 1:\n",
    "\n",
    "CA={'name':'California', 'pop_density': 239.1,\\\n",
    "    'race': {'white': 0.57, 'african_american': 0.06, 'asian': 0.13, 'other': 0.22},\\\n",
    "    'tenure': {'owner': 7035371,'renter':5542127 }}\n",
    "NY={'name':'New York', 'pop_density': 411.2,\\\n",
    "    'race': {'white': 0.65, 'african_american': 0.15, 'asian': 0.07, 'other': 0.22},\\\n",
    "    'tenure': {'owner': 3897837,'renter':3419918}}\n",
    "\n",
    "    "
   ]
  },
  {
   "cell_type": "code",
   "execution_count": 106,
   "metadata": {
    "collapsed": false
   },
   "outputs": [
    {
     "data": {
      "text/plain": [
       "{'CA': {'name': 'California',\n",
       "  'pop_density': 239.1,\n",
       "  'race': {'african_american': 0.06,\n",
       "   'asian': 0.13,\n",
       "   'other': 0.22,\n",
       "   'white': 0.57},\n",
       "  'tenure': {'owner': 7035371, 'renter': 5542127}},\n",
       " 'NY': {'name': 'New York',\n",
       "  'pop_density': 411.2,\n",
       "  'race': {'african_american': 0.15,\n",
       "   'asian': 0.07,\n",
       "   'other': 0.22,\n",
       "   'white': 0.65},\n",
       "  'tenure': {'owner': 3897837, 'renter': 3419918}}}"
      ]
     },
     "execution_count": 106,
     "metadata": {},
     "output_type": "execute_result"
    }
   ],
   "source": [
    "states = {}\n",
    "states[\"CA\"] = CA\n",
    "states[\"NY\"] = NY\n",
    "states"
   ]
  },
  {
   "cell_type": "code",
   "execution_count": 221,
   "metadata": {
    "collapsed": false
   },
   "outputs": [
    {
     "data": {
      "text/plain": [
       "False"
      ]
     },
     "execution_count": 221,
     "metadata": {},
     "output_type": "execute_result"
    }
   ],
   "source": [
    "# Solution to 2\n",
    "'Texas' in states"
   ]
  },
  {
   "cell_type": "code",
   "execution_count": 222,
   "metadata": {
    "collapsed": false
   },
   "outputs": [
    {
     "name": "stdout",
     "output_type": "stream",
     "text": [
      "white 65.0%\n",
      "african_american 15.0%\n",
      "asian 7.0%\n",
      "other 22.0%\n"
     ]
    }
   ],
   "source": [
    "# Solution to 3\n",
    "for i in states[\"NY\"][\"race\"].keys():\n",
    "    print(i, str(round(100 * race[i],2))+'%')"
   ]
  },
  {
   "cell_type": "code",
   "execution_count": 223,
   "metadata": {
    "collapsed": false
   },
   "outputs": [
    {
     "name": "stdout",
     "output_type": "stream",
     "text": [
      "California \n",
      " owner: 55.94% \n",
      " renter: 44.06%\n",
      "New York \n",
      " owner: 53.27% \n",
      " renter: 46.73%\n"
     ]
    }
   ],
   "source": [
    "# Solution to 4\n",
    "for i in states.values():\n",
    "    print(i[\"name\"], '\\n', 'owner:', str(round(100* i[\"tenure\"][\"owner\"]/(i[\"tenure\"][\"owner\"]+i[\"tenure\"][\"renter\"]),2))+'%',\\\n",
    "         '\\n', 'renter:', str(round(100 * i[\"tenure\"][\"renter\"]/(i[\"tenure\"][\"owner\"]+i[\"tenure\"][\"renter\"]),2))+'%')"
   ]
  },
  {
   "cell_type": "code",
   "execution_count": null,
   "metadata": {
    "collapsed": true
   },
   "outputs": [],
   "source": []
  }
 ],
 "metadata": {
  "kernelspec": {
   "display_name": "Python [default]",
   "language": "python",
   "name": "python3"
  },
  "language_info": {
   "codemirror_mode": {
    "name": "ipython",
    "version": 3
   },
   "file_extension": ".py",
   "mimetype": "text/x-python",
   "name": "python",
   "nbconvert_exporter": "python",
   "pygments_lexer": "ipython3",
   "version": "3.6.0"
  }
 },
 "nbformat": 4,
 "nbformat_minor": 2
}
