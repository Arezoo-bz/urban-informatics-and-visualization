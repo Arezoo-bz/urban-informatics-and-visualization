{
 "cells": [
  {
   "cell_type": "markdown",
   "metadata": {},
   "source": [
    "## Assignment 2 | Data types"
   ]
  },
  {
   "cell_type": "markdown",
   "metadata": {},
   "source": [
    "### 1. Working with Lists\n",
    "\n",
    "Identify (with code, not manually) and print the list in the following list (G) whose sum of its elements is the highest. \n",
    "\n",
    "G = [[13,9,8], [14,6,12], [10,13,11], [7,18,9]]\n",
    "\n"
   ]
  },
  {
   "cell_type": "code",
   "execution_count": 26,
   "metadata": {},
   "outputs": [
    {
     "data": {
      "text/plain": [
       "30"
      ]
     },
     "execution_count": 26,
     "metadata": {},
     "output_type": "execute_result"
    }
   ],
   "source": [
    "G = [[13,9,8], [14,6,12], [10,13,11], [7,18,9]]\n",
    "\n",
    "sum(G[0])"
   ]
  },
  {
   "cell_type": "markdown",
   "metadata": {},
   "source": [
    "### 2. Create and Query a Dictionary on State Demographics\n",
    "\n",
    "Based on the following table create two dictionaries, one for California and one for New York state. Each dictionary should have the following keys / value-type: name: (string) , population density: (float), race (dict), tenure: (dict). \n",
    "\n",
    "1.  Create an outer dictionary called \"states\" that each contain dictionaries containing name, pop_density, race as a dictionary, and tenure. \n",
    "\n",
    "1.  Check if texas is in our state dictionary (we know it isn't but show us).\n",
    "\n",
    "1. Print the race distribution for New York as percentages with 2 decimal places\n",
    "\n",
    "1. Print the state name, the tenure category, and the percentage of households of that tenure in each state, with two decimal places\n",
    "\n",
    "![Census.jpg](Census.jpg)\n"
   ]
  },
  {
   "cell_type": "code",
   "execution_count": 220,
   "metadata": {
    "collapsed": true
   },
   "outputs": [],
   "source": [
    "#Solution to 1:\n",
    "\n",
    "CA={'name':'California', 'pop_density': 239.1,\\\n",
    "    'race': {'white': 0.57, 'african_american': 0.06, 'asian': 0.13, 'other': 0.22},\\\n",
    "    'tenure': {'owner': 7035371,'renter':5542127 }}\n",
    "NY={'name':'New York', 'pop_density': 411.2,\\\n",
    "    'race': {'white': 0.65, 'african_american': 0.15, 'asian': 0.07, 'other': 0.22},\\\n",
    "    'tenure': {'owner': 3897837,'renter':3419918}}\n",
    "\n",
    "    "
   ]
  },
  {
   "cell_type": "code",
   "execution_count": 106,
   "metadata": {},
   "outputs": [
    {
     "data": {
      "text/plain": [
       "{'CA': {'name': 'California',\n",
       "  'pop_density': 239.1,\n",
       "  'race': {'african_american': 0.06,\n",
       "   'asian': 0.13,\n",
       "   'other': 0.22,\n",
       "   'white': 0.57},\n",
       "  'tenure': {'owner': 7035371, 'renter': 5542127}},\n",
       " 'NY': {'name': 'New York',\n",
       "  'pop_density': 411.2,\n",
       "  'race': {'african_american': 0.15,\n",
       "   'asian': 0.07,\n",
       "   'other': 0.22,\n",
       "   'white': 0.65},\n",
       "  'tenure': {'owner': 3897837, 'renter': 3419918}}}"
      ]
     },
     "execution_count": 106,
     "metadata": {},
     "output_type": "execute_result"
    }
   ],
   "source": [
    "states = {}\n",
    "states[\"CA\"] = CA\n",
    "states[\"NY\"] = NY\n",
    "states"
   ]
  },
  {
   "cell_type": "code",
   "execution_count": 221,
   "metadata": {},
   "outputs": [
    {
     "data": {
      "text/plain": [
       "False"
      ]
     },
     "execution_count": 221,
     "metadata": {},
     "output_type": "execute_result"
    }
   ],
   "source": [
    "# Solution to 2\n",
    "'Texas' in states"
   ]
  },
  {
   "cell_type": "code",
   "execution_count": 222,
   "metadata": {},
   "outputs": [
    {
     "name": "stdout",
     "output_type": "stream",
     "text": [
      "white 65.0%\n",
      "african_american 15.0%\n",
      "asian 7.0%\n",
      "other 22.0%\n"
     ]
    }
   ],
   "source": [
    "# Solution to 3\n",
    "for i in states[\"NY\"][\"race\"].keys():\n",
    "    print(i, str(round(100 * race[i],2))+'%')"
   ]
  },
  {
   "cell_type": "code",
   "execution_count": 223,
   "metadata": {},
   "outputs": [
    {
     "name": "stdout",
     "output_type": "stream",
     "text": [
      "California \n",
      " owner: 55.94% \n",
      " renter: 44.06%\n",
      "New York \n",
      " owner: 53.27% \n",
      " renter: 46.73%\n"
     ]
    }
   ],
   "source": [
    "# Solution to 4\n",
    "for i in states.values():\n",
    "    print(i[\"name\"], '\\n', 'owner:', str(round(100* i[\"tenure\"][\"owner\"]/(i[\"tenure\"][\"owner\"]+i[\"tenure\"][\"renter\"]),2))+'%',\\\n",
    "         '\\n', 'renter:', str(round(100 * i[\"tenure\"][\"renter\"]/(i[\"tenure\"][\"owner\"]+i[\"tenure\"][\"renter\"]),2))+'%')"
   ]
  },
  {
   "cell_type": "markdown",
   "metadata": {
    "collapsed": true
   },
   "source": [
    "### 3. Working with Numpy Arrays"
   ]
  },
  {
   "cell_type": "code",
   "execution_count": 1,
   "metadata": {
    "collapsed": true
   },
   "outputs": [],
   "source": [
    "import numpy as np\n",
    "import matplotlib.pyplot as plt\n",
    "%matplotlib inline"
   ]
  },
  {
   "cell_type": "code",
   "execution_count": 14,
   "metadata": {},
   "outputs": [
    {
     "data": {
      "text/plain": [
       "array([[ 3.,  3.,  3.,  3.,  3.,  3.,  3.,  3.,  3.,  3.],\n",
       "       [ 3.,  3.,  3.,  3.,  3.,  3.,  3.,  3.,  3.,  3.],\n",
       "       [ 3.,  3.,  3.,  3.,  3.,  3.,  3.,  3.,  3.,  3.],\n",
       "       [ 3.,  3.,  3.,  3.,  3.,  3.,  3.,  3.,  3.,  3.],\n",
       "       [ 3.,  3.,  3.,  3.,  3.,  3.,  3.,  3.,  3.,  3.],\n",
       "       [ 3.,  3.,  3.,  3.,  3.,  3.,  3.,  3.,  3.,  3.],\n",
       "       [ 3.,  3.,  3.,  3.,  3.,  3.,  3.,  3.,  3.,  3.],\n",
       "       [ 3.,  3.,  3.,  3.,  3.,  3.,  3.,  3.,  3.,  3.],\n",
       "       [ 3.,  3.,  3.,  3.,  3.,  3.,  3.,  3.,  3.,  3.],\n",
       "       [ 3.,  3.,  3.,  3.,  3.,  3.,  3.,  3.,  3.,  3.]])"
      ]
     },
     "execution_count": 14,
     "metadata": {},
     "output_type": "execute_result"
    }
   ],
   "source": [
    "a = np.ones(100).reshape(10,10)*3\n",
    "a"
   ]
  },
  {
   "cell_type": "code",
   "execution_count": 13,
   "metadata": {},
   "outputs": [
    {
     "data": {
      "text/plain": [
       "array([[ 0.7053364 ,  0.69212851,  0.52099591,  0.12662091,  0.80383873,\n",
       "         0.72521233,  0.04241316,  0.88256179,  0.37951943,  0.7072789 ],\n",
       "       [ 0.13822292,  0.81438051,  0.9331823 ,  0.27405526,  0.55514774,\n",
       "         0.25645046,  0.69494015,  0.74865781,  0.99205391,  0.48686679],\n",
       "       [ 0.7212531 ,  0.60003724,  0.14531165,  0.27219301,  0.88887615,\n",
       "         0.59007147,  0.20491565,  0.68382761,  0.85161679,  0.8628242 ],\n",
       "       [ 0.31447589,  0.16640822,  0.03243917,  0.53719061,  0.68690196,\n",
       "         0.16669175,  0.88944444,  0.24474502,  0.79625103,  0.242206  ],\n",
       "       [ 0.60958581,  0.53004003,  0.78609278,  0.93239401,  0.21125376,\n",
       "         0.38861239,  0.20046715,  0.21310081,  0.7694347 ,  0.29924009],\n",
       "       [ 0.74220298,  0.0411803 ,  0.54949707,  0.77021417,  0.47293409,\n",
       "         0.24955085,  0.53080466,  0.81876875,  0.97645888,  0.27117325],\n",
       "       [ 0.53305151,  0.19447217,  0.96413459,  0.24263079,  0.29362186,\n",
       "         0.10948171,  0.95273359,  0.63427075,  0.95768576,  0.56603652],\n",
       "       [ 0.423231  ,  0.70119189,  0.5817325 ,  0.87364258,  0.56216234,\n",
       "         0.98006444,  0.14193588,  0.04055415,  0.04765444,  0.22245674],\n",
       "       [ 0.12427649,  0.81530834,  0.01805877,  0.98212463,  0.53903462,\n",
       "         0.04638447,  0.9340144 ,  0.43080055,  0.01794245,  0.1921896 ],\n",
       "       [ 0.45113408,  0.76008086,  0.37466214,  0.73335187,  0.83447048,\n",
       "         0.78236572,  0.87722866,  0.09058194,  0.1343529 ,  0.35670062]])"
      ]
     },
     "execution_count": 13,
     "metadata": {},
     "output_type": "execute_result"
    }
   ],
   "source": [
    "b = np.random.uniform(0,1,100).reshape(10,10)\n",
    "b"
   ]
  },
  {
   "cell_type": "code",
   "execution_count": 16,
   "metadata": {},
   "outputs": [
    {
     "data": {
      "text/plain": [
       "array([[   4.25328964,    4.33445517,    5.75820262,   23.69276975,\n",
       "           3.73209191,    4.13671953,   70.73276906,    3.39919542,\n",
       "           7.90473359,    4.24160823],\n",
       "       [  21.70407065,    3.68378167,    3.21480593,   10.94669726,\n",
       "           5.40396689,   11.698166  ,    4.31691853,    4.00717118,\n",
       "           3.02402922,    6.16184967],\n",
       "       [   4.15942751,    4.99968966,   20.64528192,   11.02159107,\n",
       "           3.37504838,    5.0841299 ,   14.64017011,    4.38707062,\n",
       "           3.52271118,    3.47695393],\n",
       "       [   9.53968191,   18.02795613,   92.48078268,    5.58460993,\n",
       "           4.36743549,   17.99729187,    3.37289197,   12.25765505,\n",
       "           3.76765602,   12.38615074],\n",
       "       [   4.92137441,    5.65994986,    3.81634343,    3.2175239 ,\n",
       "          14.20093055,    7.7197745 ,   14.96504552,   14.07784428,\n",
       "           3.89896633,   10.02539476],\n",
       "       [   4.04202096,   72.85037429,    5.4595378 ,    3.89502054,\n",
       "           6.34337863,   12.02159796,    5.65179663,    3.66403822,\n",
       "           3.07232599,   11.06303791],\n",
       "       [   5.62797392,   15.42637196,    3.11159877,   12.36446553,\n",
       "          10.21722302,   27.40183804,    3.14883408,    4.72984132,\n",
       "           3.13255153,    5.30001138],\n",
       "       [   7.08832771,    4.27842943,    5.15700949,    3.43389854,\n",
       "           5.33653675,    3.06102321,   21.13630477,   73.97516353,\n",
       "          62.95320947,   13.48576834],\n",
       "       [  24.13972352,    3.67958948,  166.12426975,    3.05460213,\n",
       "           5.56550524,   64.67681828,    3.2119419 ,    6.96377947,\n",
       "         167.20122031,   15.60958567],\n",
       "       [   6.64990776,    3.94694849,    8.00721417,    4.09080567,\n",
       "           3.59509423,    3.83452385,    3.41986091,   33.11918526,\n",
       "          22.32925414,    8.41041438]])"
      ]
     },
     "execution_count": 16,
     "metadata": {},
     "output_type": "execute_result"
    }
   ],
   "source": [
    "c = a/b\n",
    "c"
   ]
  },
  {
   "cell_type": "code",
   "execution_count": 24,
   "metadata": {},
   "outputs": [
    {
     "data": {
      "text/plain": [
       "array([  3.1315039 ,   3.35735516,   3.87989637,   5.57505759,\n",
       "        12.66105514,  24.46593497,  70.83864932])"
      ]
     },
     "execution_count": 24,
     "metadata": {},
     "output_type": "execute_result"
    }
   ],
   "source": [
    "np.percentile(c,[5,10,25,50,75,90,95])"
   ]
  },
  {
   "cell_type": "code",
   "execution_count": null,
   "metadata": {
    "collapsed": true
   },
   "outputs": [],
   "source": []
  }
 ],
 "metadata": {
  "kernelspec": {
   "display_name": "Python [default]",
   "language": "python",
   "name": "python3"
  },
  "language_info": {
   "codemirror_mode": {
    "name": "ipython",
    "version": 3
   },
   "file_extension": ".py",
   "mimetype": "text/x-python",
   "name": "python",
   "nbconvert_exporter": "python",
   "pygments_lexer": "ipython3",
   "version": "3.5.3"
  }
 },
 "nbformat": 4,
 "nbformat_minor": 2
}
