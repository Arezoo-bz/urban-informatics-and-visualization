{
 "cells": [
  {
   "cell_type": "markdown",
   "metadata": {},
   "source": [
    "## Exercises | String & List"
   ]
  },
  {
   "cell_type": "markdown",
   "metadata": {},
   "source": [
    "### Challenge 1"
   ]
  },
  {
   "cell_type": "markdown",
   "metadata": {},
   "source": [
    "#### If thing is a list of integeras from 1 to 7 and we have variables low = 2 and high=5:\n",
    "\n",
    "For each operation below, first think about what you think the answer will be, then write it as code in the cell below and confirm that it does what you expected. For readibility add one cell at a time and execute it, starting by creating a list called 'thing' with the integer values 1...7 then answer each question below.\n",
    "\n",
    "1- What does thing[low:high] do?\n",
    "\n",
    "2- What does thing[low:] (without a value after the colon) do?\n",
    "\n",
    "3- What does thing[:high] (without a value before the colon) do?\n",
    "\n",
    "4- What does thing[-1] (just a colon) do?\n",
    "\n",
    "5- What does thing[:-1] (just a colon) do?\n",
    "\n",
    "6- What does thing[:] (just a colon) do?\n",
    "\n",
    "7- How long is the list thing[low:high]?\n",
    "\n"
   ]
  },
  {
   "cell_type": "code",
   "execution_count": null,
   "metadata": {
    "collapsed": true
   },
   "outputs": [],
   "source": [
    "# Type your code here "
   ]
  },
  {
   "cell_type": "code",
   "execution_count": 9,
   "metadata": {
    "collapsed": false
   },
   "outputs": [
    {
     "name": "stdout",
     "output_type": "stream",
     "text": [
      "thing[low:high]: [3, 6, 3]\n",
      "thing[low:]: [3, 6, 3, 6, 7]\n",
      "thing[:high]: [1, 4, 3, 6, 3]\n",
      "thing[-1]: 7\n",
      "thing[:-1]: [1, 4, 3, 6, 3, 6]\n",
      "thing[:]: [1, 4, 3, 6, 3, 6, 7]\n",
      "len(thing[low:high]): 3\n"
     ]
    }
   ],
   "source": [
    "# Solution \n",
    "\n",
    "thing = [1, 4, 3, 6, 3, 6, 7]\n",
    "low = 2\n",
    "high = 5\n",
    "\n",
    "print('thing[low:high]:', thing[low:high])\n",
    "print('thing[low:]:',thing[low:])\n",
    "print('thing[:high]:',thing[:high])\n",
    "print('thing[-1]:',thing[-1])\n",
    "print('thing[:-1]:',thing[:-1])\n",
    "print('thing[:]:',thing[:])\n",
    "print('len(thing[low:high]):',len(thing[low:high]))"
   ]
  },
  {
   "cell_type": "markdown",
   "metadata": {},
   "source": [
    "### Challenge 2"
   ]
  },
  {
   "cell_type": "markdown",
   "metadata": {},
   "source": [
    "Write code that reverses even numbers from 0 to 100 (including 100) and print the result. \n"
   ]
  },
  {
   "cell_type": "code",
   "execution_count": 1,
   "metadata": {
    "collapsed": true
   },
   "outputs": [],
   "source": [
    "# Type your code here "
   ]
  },
  {
   "cell_type": "code",
   "execution_count": 19,
   "metadata": {
    "collapsed": false
   },
   "outputs": [
    {
     "name": "stdout",
     "output_type": "stream",
     "text": [
      "[100, 98, 96, 94, 92, 90, 88, 86, 84, 82, 80, 78, 76, 74, 72, 70, 68, 66, 64, 62, 60, 58, 56, 54, 52, 50, 48, 46, 44, 42, 40, 38, 36, 34, 32, 30, 28, 26, 24, 22, 20, 18, 16, 14, 12, 10, 8, 6, 4, 2, 0]\n",
      "[100, 98, 96, 94, 92, 90, 88, 86, 84, 82, 80, 78, 76, 74, 72, 70, 68, 66, 64, 62, 60, 58, 56, 54, 52, 50, 48, 46, 44, 42, 40, 38, 36, 34, 32, 30, 28, 26, 24, 22, 20, 18, 16, 14, 12, 10, 8, 6, 4, 2, 0]\n"
     ]
    }
   ],
   "source": [
    "# Solution 1\n",
    "\n",
    "print(list(range(100,-1,-2)))\n",
    "\n",
    "# Solution 2\n",
    "\n",
    "a=list(range(0,101,2))\n",
    "a.reverse()\n",
    "print(a)"
   ]
  },
  {
   "cell_type": "markdown",
   "metadata": {},
   "source": [
    "### Challenge 3"
   ]
  },
  {
   "cell_type": "markdown",
   "metadata": {},
   "source": [
    "#### We have two lists, a and b, a=[10,20,30] b=[30,60,90]. Write code that give us the following outputs: [LIST]\n",
    "\n",
    "a. [[10,20,30],[30,60,90]]\n",
    "\n",
    "b. [10,20,30,30,60,90]\n",
    "\n",
    "c. [10,20,60,90]\n",
    "\n",
    "d. [20,40,60]"
   ]
  },
  {
   "cell_type": "code",
   "execution_count": 6,
   "metadata": {
    "collapsed": true
   },
   "outputs": [],
   "source": [
    "# Type your code here"
   ]
  },
  {
   "cell_type": "code",
   "execution_count": 43,
   "metadata": {
    "collapsed": false
   },
   "outputs": [
    {
     "name": "stdout",
     "output_type": "stream",
     "text": [
      "[[10, 20, 30], [30, 60, 90]] \n",
      " [[10, 20, 30, 30, 60, 90]] \n",
      " [10, 20, 60, 90] \n",
      " [20, 40, 60]\n"
     ]
    }
   ],
   "source": [
    "# solution\n",
    "\n",
    "a=[10,20,30]\n",
    "b=[30,60,90]\n",
    "\n",
    "\n",
    "A=[a,b]\n",
    "B=[a+b]\n",
    "C= a[:2]+b[1:]\n",
    "D=[y-x for x,y in zip(a, b)]\n",
    "\n",
    "print(A,'\\n', B, '\\n',C,'\\n',D)"
   ]
  },
  {
   "cell_type": "markdown",
   "metadata": {},
   "source": [
    "### Challenge 4"
   ]
  },
  {
   "cell_type": "markdown",
   "metadata": {},
   "source": [
    "#### Write code that add the name \"Norah\" to the following list, after the name \"Mike\"  [LIST]"
   ]
  },
  {
   "cell_type": "code",
   "execution_count": 88,
   "metadata": {
    "collapsed": true
   },
   "outputs": [],
   "source": [
    "# Type your code here"
   ]
  },
  {
   "cell_type": "code",
   "execution_count": 41,
   "metadata": {
    "collapsed": false
   },
   "outputs": [
    {
     "name": "stdout",
     "output_type": "stream",
     "text": [
      "8\n",
      "['Akshara', 'Anna', 'Aqshems', 'Chester', 'Echo', 'James', 'Jessica', 'Matthew', 'Norah', 'Michael', 'Philip', 'Sarah']\n"
     ]
    }
   ],
   "source": [
    "# Solution\n",
    "\n",
    "names= ['Akshara','Anna','Aqshems','Chester','Echo','James','Jessica','Matthew','Michael','Philip','Sarah'] \n",
    "print(names.index('Michael'))\n",
    "names.insert(8, 'Norah')\n",
    "\n",
    "# Or\n",
    "\n",
    "# names.insert(-2, 'Norah')\n",
    "print(names)"
   ]
  },
  {
   "cell_type": "markdown",
   "metadata": {},
   "source": [
    "### Challenge 5"
   ]
  },
  {
   "cell_type": "markdown",
   "metadata": {},
   "source": [
    " #### Find a list in the following list (G) whose sum of its elements is the highest. [LIST]\n",
    "\n",
    "G = [[13,9,8], [14,6,12], [10,13,11], [7,18,9]]\n"
   ]
  },
  {
   "cell_type": "code",
   "execution_count": 9,
   "metadata": {
    "collapsed": true
   },
   "outputs": [],
   "source": [
    "# Type your code here"
   ]
  },
  {
   "cell_type": "code",
   "execution_count": 42,
   "metadata": {
    "collapsed": false
   },
   "outputs": [
    {
     "name": "stdout",
     "output_type": "stream",
     "text": [
      "[10, 13, 11]\n"
     ]
    }
   ],
   "source": [
    "#Solution\n",
    "\n",
    "G = [[13,9,8], [14,6,12], [10,13,11], [7,18,9]]\n",
    "print(max(G, key=sum))"
   ]
  },
  {
   "cell_type": "markdown",
   "metadata": {},
   "source": [
    "### Challenge 6"
   ]
  },
  {
   "cell_type": "markdown",
   "metadata": {},
   "source": [
    "#### Using variable a, print how much Sarah earns monthly. \n",
    " \n",
    " a= \"Sarah earns $96500 in a year\""
   ]
  },
  {
   "cell_type": "code",
   "execution_count": 10,
   "metadata": {
    "collapsed": true
   },
   "outputs": [],
   "source": [
    "# Type your code here"
   ]
  },
  {
   "cell_type": "code",
   "execution_count": 89,
   "metadata": {
    "collapsed": false
   },
   "outputs": [
    {
     "name": "stdout",
     "output_type": "stream",
     "text": [
      "Sarah earns $ 8042.0 monthly.\n",
      "12\n",
      "Sarah earns $ 8041.67 monthly.\n"
     ]
    }
   ],
   "source": [
    "# Solution 1\n",
    "\n",
    "a= \"Sarah earns $96500 in a year\"\n",
    "b= str.find(a,'$')\n",
    "c=a[b:b+6].strip('$')\n",
    "print (\"Sarah earns $\",round((int(c)/12),0),\"monthly.\")\n",
    "\n",
    "\n",
    "# or\n",
    "\n",
    "a= \"Sarah earns $96500 in a year\"\n",
    "a.split()\n",
    "print(a.index('$'))\n",
    "b=a[13:18]\n",
    "print (\"Sarah earns $\",round((int(b)/12),2),\"monthly.\")\n"
   ]
  },
  {
   "cell_type": "markdown",
   "metadata": {},
   "source": [
    "### Challenge 7"
   ]
  },
  {
   "cell_type": "markdown",
   "metadata": {},
   "source": [
    "#### Turn the string below into 'all good countrymen' using the minimum amount of code, using the methods covered so far. A couple of lines of code should do the trick.\n",
    "\n",
    "S = 'Now is the time for all good men to come to the aid of their country!'"
   ]
  },
  {
   "cell_type": "code",
   "execution_count": 15,
   "metadata": {
    "collapsed": true
   },
   "outputs": [],
   "source": [
    "# Type your code here\n",
    "s = 'Now is the time for all good men to come to the aid of their country!'"
   ]
  },
  {
   "cell_type": "code",
   "execution_count": 16,
   "metadata": {
    "collapsed": false
   },
   "outputs": [
    {
     "data": {
      "text/plain": [
       "'all good countrymen'"
      ]
     },
     "execution_count": 16,
     "metadata": {},
     "output_type": "execute_result"
    }
   ],
   "source": [
    "# Solution 1\n",
    "list = s.split(\" \")\n",
    "new = list[5]+ \" \" + list[6] + \" \" + list[-1][:-1] + list[7]\n",
    "new"
   ]
  },
  {
   "cell_type": "code",
   "execution_count": 17,
   "metadata": {
    "collapsed": false
   },
   "outputs": [
    {
     "data": {
      "text/plain": [
       "['Now',\n",
       " 'is',\n",
       " 'the',\n",
       " 'time',\n",
       " 'for',\n",
       " 'all',\n",
       " 'good',\n",
       " 'men',\n",
       " 'to',\n",
       " 'come',\n",
       " 'to',\n",
       " 'the',\n",
       " 'aid',\n",
       " 'of',\n",
       " 'their',\n",
       " 'country!']"
      ]
     },
     "execution_count": 17,
     "metadata": {},
     "output_type": "execute_result"
    }
   ],
   "source": [
    "list = s.split(\" \")\n",
    "list"
   ]
  },
  {
   "cell_type": "code",
   "execution_count": null,
   "metadata": {
    "collapsed": true
   },
   "outputs": [],
   "source": [
    "# Solution 2\n",
    "\n",
    "s=s.strip('!')\n",
    "x=str.split(s)\n",
    "x.insert(7,x[15])\n",
    "y=str.join(' ',x[5:8])\n",
    "z=str.join(' ',x[8:9])\n",
    "print(y+z)"
   ]
  },
  {
   "cell_type": "markdown",
   "metadata": {},
   "source": [
    "### Challenge 8"
   ]
  },
  {
   "cell_type": "markdown",
   "metadata": {},
   "source": [
    "#### Write code that insert the word \" household\", at the end of all items in the list \"race\". [LIST]\n",
    "\n",
    "race=['white', 'african_american','asian','others']\n"
   ]
  },
  {
   "cell_type": "code",
   "execution_count": 8,
   "metadata": {
    "collapsed": true
   },
   "outputs": [],
   "source": [
    "# Type your code here"
   ]
  },
  {
   "cell_type": "code",
   "execution_count": 50,
   "metadata": {
    "collapsed": false
   },
   "outputs": [
    {
     "name": "stdout",
     "output_type": "stream",
     "text": [
      "['white_households', 'african_american_households', 'asian_households', 'others_households']\n"
     ]
    }
   ],
   "source": [
    "# Solution\n",
    "\n",
    "race=['white', 'african_american','asian','others']\n",
    "#b= [1,2,3,4] \n",
    "print(['{0}_households'.format(i) for i in race])"
   ]
  },
  {
   "cell_type": "markdown",
   "metadata": {},
   "source": [
    "***************************************"
   ]
  }
 ],
 "metadata": {
  "kernelspec": {
   "display_name": "Python [default]",
   "language": "python",
   "name": "python3"
  },
  "language_info": {
   "codemirror_mode": {
    "name": "ipython",
    "version": 3
   },
   "file_extension": ".py",
   "mimetype": "text/x-python",
   "name": "python",
   "nbconvert_exporter": "python",
   "pygments_lexer": "ipython3",
   "version": "3.6.0"
  }
 },
 "nbformat": 4,
 "nbformat_minor": 2
}
