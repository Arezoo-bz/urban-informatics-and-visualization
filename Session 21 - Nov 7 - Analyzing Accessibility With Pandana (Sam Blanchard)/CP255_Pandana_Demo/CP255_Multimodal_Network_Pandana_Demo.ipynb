{
 "cells": [
  {
   "cell_type": "markdown",
   "metadata": {},
   "source": [
    "# CP255: Using Pandana to Measure Multi-Modal Accessibility with Automobile, Pedestrian, and Transit Networks"
   ]
  },
  {
   "cell_type": "markdown",
   "metadata": {},
   "source": [
    "Created by Sam Blanchard (sablanchard@berkeley.edu) 11/7/2016\n",
    "\n",
    "This script demonstrates the basic functionality of Pandana (Pandas Network Analysis) including: acquisition of OpenStreetMap (OSM) street network data and nearest neighbor and cumulative accessibility queries on auto, pedestrian, and transit Pandana networks."
   ]
  },
  {
   "cell_type": "code",
   "execution_count": null,
   "metadata": {
    "collapsed": true
   },
   "outputs": [],
   "source": [
    "import pandana as pdna\n",
    "# from pandana.loaders import osm\n",
    "import pandas as pd\n",
    "from ipywidgets import FloatSlider, interact\n",
    "from IPython.core.display import display\n",
    "from urbansim.utils import misc\n",
    "import matplotlib.pyplot as plt\n",
    "import matplotlib\n",
    "from mpl_toolkits.basemap import Basemap\n",
    "\n",
    "#Set number of unique Pandana networks that will be generated in this session\n",
    "pdna.network.reserve_num_graphs(5)\n",
    "\n",
    "%matplotlib inline"
   ]
  },
  {
   "cell_type": "code",
   "execution_count": null,
   "metadata": {
    "collapsed": true
   },
   "outputs": [],
   "source": [
    "def plot_nodes(x_data=None,y_data=None,node_size=15,node_color='black',color_map=None,edge_color=None):\n",
    "    fig, ax = plt.subplots()\n",
    "    ax.scatter(x_data, y_data, s=node_size, c=node_color,\n",
    "                   alpha=1, edgecolor=edge_color,cmap=color_map,\n",
    "                   zorder=3)\n",
    "    plt.show()\n",
    "    return fig, ax"
   ]
  },
  {
   "cell_type": "markdown",
   "metadata": {},
   "source": [
    "Pandana is a Python and C++ network analysis tool that can compute network accessibility using: 1) shortest path queries between ODs for any number of nodes within a search radius; and 2) aggregation queries using a cumulative opportunities accessibility method.  \n",
    "\n",
    "A variety of statistics and can be used including sum, average, standard deviation, and count along with a number of distance decay functions such as linear and exponential. Pandana requires: 1) a set of OD node coordinates (e.g. based on addresses or Census block centroids) for which accessibility will be computed between and can include variables of interest such as socioeconomic data or business establishments that can be queried or aggregated; and 2) a network of nodes and weighted edges used for network routing. The OD nodes are connected to the nearest node in the graph network.\n",
    "\n",
    "Pandana calculates the shortest path (e.g. lowest cost path) between ODs over a hierarchical network using the contraction hierarchies algorithm. Contraction hierarchies allows for rapid network calculations over large geographic extents and is an improvement upon the more traditional Dijkstra's shortest path algorithm. \n",
    "\n",
    "Pandana can be acquired as a open source library here: https://github.com/UDST/pandana\n",
    "\n",
    "For more detailed information on Pandana see:\n",
    "\n",
    "Fletcher Foti and Paul Waddell. 2014. \"A Generalized Computational Framework for Accessibility: From the Pedestrian to the Metropolitan Scale\""
   ]
  },
  {
   "cell_type": "markdown",
   "metadata": {},
   "source": [
    "Set data path"
   ]
  },
  {
   "cell_type": "code",
   "execution_count": null,
   "metadata": {
    "collapsed": true
   },
   "outputs": [],
   "source": [
    "data_path = 'C:/Users/Sam/Dropbox/Work/github_projects/urbanaccess/demos/CP255_Pandana_Demo/data/'"
   ]
  },
  {
   "cell_type": "markdown",
   "metadata": {},
   "source": [
    "# #1 Pandana networks"
   ]
  },
  {
   "cell_type": "markdown",
   "metadata": {},
   "source": [
    "## Nodes"
   ]
  },
  {
   "cell_type": "markdown",
   "metadata": {},
   "source": [
    "Pandana nodes consist of a unique \"id\" with spatial coordinates (latitude and longitude). Nodes are the vertices of a graph network representing street intersections."
   ]
  },
  {
   "cell_type": "code",
   "execution_count": null,
   "metadata": {
    "collapsed": false
   },
   "outputs": [],
   "source": [
    "nodes = pd.DataFrame({'id':[1,2,3,4],\n",
    "                      'x':[-122.302578,-122.177008,-122.181374,-122.184170],\n",
    "                      'y':[37.560184,37.481747,37.483689,37.484536]})"
   ]
  },
  {
   "cell_type": "code",
   "execution_count": null,
   "metadata": {
    "collapsed": false,
    "scrolled": true
   },
   "outputs": [],
   "source": [
    "nodes"
   ]
  },
  {
   "cell_type": "markdown",
   "metadata": {},
   "source": [
    "Plot the nodes on a map"
   ]
  },
  {
   "cell_type": "code",
   "execution_count": null,
   "metadata": {
    "collapsed": false
   },
   "outputs": [],
   "source": [
    "plot_nodes(x_data=nodes['x'],\n",
    "           y_data=nodes['y'],\n",
    "           node_size=15,\n",
    "           node_color='black',\n",
    "           color_map=None,\n",
    "           edge_color='#999999')"
   ]
  },
  {
   "cell_type": "markdown",
   "metadata": {},
   "source": [
    "## Edges"
   ]
  },
  {
   "cell_type": "markdown",
   "metadata": {},
   "source": [
    "Pandana edges consist of a \"from\" node id and \"to\" node id column which is used to denote direction and an impedance column or weight column representing a friction factor for travel between the two nodes, in this case distance in meters, but this can also be travel time or a utility value. Edges are the connections between nodes representing streets and pathways."
   ]
  },
  {
   "cell_type": "code",
   "execution_count": null,
   "metadata": {
    "collapsed": false
   },
   "outputs": [],
   "source": [
    "edges = pd.DataFrame({'from':[1,2,3],\n",
    "                      'to':[2,3,4],\n",
    "                      'distance_m':[3000,6000,8000]})"
   ]
  },
  {
   "cell_type": "code",
   "execution_count": null,
   "metadata": {
    "collapsed": false
   },
   "outputs": [],
   "source": [
    "edges"
   ]
  },
  {
   "cell_type": "markdown",
   "metadata": {},
   "source": [
    "You can convert the edge weights to represent any unit  \n",
    "for example convert distance into pedestrian travel time at 3 MPH"
   ]
  },
  {
   "cell_type": "code",
   "execution_count": null,
   "metadata": {
    "collapsed": false,
    "scrolled": true
   },
   "outputs": [],
   "source": [
    "SPEED_MPH = 3\n",
    "edges['travel_time_min'] = (edges['distance_m']/1609.34) / SPEED_MPH * 60\n",
    "edges"
   ]
  },
  {
   "cell_type": "markdown",
   "metadata": {},
   "source": [
    "Pandana edges can be either \"one way\" or \"two way\". Lets convert the one way edge table above to a two way edge table"
   ]
  },
  {
   "cell_type": "code",
   "execution_count": null,
   "metadata": {
    "collapsed": false
   },
   "outputs": [],
   "source": [
    "edges = edges.append(edges.rename({'from':'to','to':'from'})).reset_index(drop=True)\n",
    "edges"
   ]
  },
  {
   "cell_type": "markdown",
   "metadata": {},
   "source": [
    "# #1 Nearest neighbor query"
   ]
  },
  {
   "cell_type": "markdown",
   "metadata": {},
   "source": [
    "### Download street network data: Auto network"
   ]
  },
  {
   "cell_type": "markdown",
   "metadata": {},
   "source": [
    "Use Pandana to acquire the auto street network within a bounding box for Alameda County, CA from OpenStreetMap. Then remove low connectivity nodes from the graph network and save as a local hdf5 file. \"drive\" network type extracts auto only OSM street network components. \"Two_way\" denotes each edge in the network is traversable in both directions with the same weight.\n",
    "\n",
    "Bounding box from: http://boundingbox.klokantech.com/"
   ]
  },
  {
   "cell_type": "code",
   "execution_count": null,
   "metadata": {
    "collapsed": true
   },
   "outputs": [],
   "source": [
    "'''\n",
    "%%time\n",
    "h5file = 'osm_drive_2way_subset.h5'\n",
    "network = pdna.loaders.osm.network_from_bbox(lat_min=37.454539, \n",
    "                                                lng_min=-122.342665, \n",
    "                                                lat_max=37.905668, \n",
    "                                                lng_max=-121.469214, \n",
    "                                                network_type='drive', \n",
    "                                                two_way=True)\n",
    "lcn = network.low_connectivity_nodes(10000, 10, imp_name='distance')\n",
    "network.save_hdf5(data_path+h5file, rm_nodes=lcn)\n",
    "print 'OSM data save completed:', data_path, h5file\n",
    "'''"
   ]
  },
  {
   "cell_type": "markdown",
   "metadata": {},
   "source": [
    "Load previously generated auto network"
   ]
  },
  {
   "cell_type": "code",
   "execution_count": null,
   "metadata": {
    "collapsed": false
   },
   "outputs": [],
   "source": [
    "%%time\n",
    "h5file = 'osm_drive_2way_subset.h5'\n",
    "osm_drive_nodes = pd.HDFStore(data_path+h5file).nodes\n",
    "osm_drive_edges = pd.HDFStore(data_path+h5file).edges"
   ]
  },
  {
   "cell_type": "markdown",
   "metadata": {},
   "source": [
    "## Inspect the network"
   ]
  },
  {
   "cell_type": "markdown",
   "metadata": {},
   "source": [
    "### Nodes"
   ]
  },
  {
   "cell_type": "code",
   "execution_count": null,
   "metadata": {
    "collapsed": false
   },
   "outputs": [],
   "source": [
    "print 'Total number of nodes:', len(osm_drive_nodes)\n",
    "osm_drive_nodes.head()"
   ]
  },
  {
   "cell_type": "markdown",
   "metadata": {},
   "source": [
    "### Edges"
   ]
  },
  {
   "cell_type": "code",
   "execution_count": null,
   "metadata": {
    "collapsed": false
   },
   "outputs": [],
   "source": [
    "print 'Total number of edges:', len(osm_drive_edges)\n",
    "osm_drive_edges.head()"
   ]
  },
  {
   "cell_type": "markdown",
   "metadata": {},
   "source": [
    "## Initialize a Pandana network"
   ]
  },
  {
   "cell_type": "markdown",
   "metadata": {},
   "source": [
    "Initialize the Pandana network object to be used in the nearest neighbor query"
   ]
  },
  {
   "cell_type": "code",
   "execution_count": null,
   "metadata": {
    "collapsed": false
   },
   "outputs": [],
   "source": [
    "%%time\n",
    "drive_net = pdna.Network(osm_drive_nodes[\"x\"], \n",
    "                   osm_drive_nodes[\"y\"], \n",
    "                   osm_drive_edges[\"from\"], \n",
    "                   osm_drive_edges[\"to\"],\n",
    "                   osm_drive_edges[[\"distance\"]],twoway=True)\n",
    "print 'Network initialized'"
   ]
  },
  {
   "cell_type": "markdown",
   "metadata": {},
   "source": [
    "## Load input data"
   ]
  },
  {
   "cell_type": "markdown",
   "metadata": {},
   "source": [
    "### POI data"
   ]
  },
  {
   "cell_type": "markdown",
   "metadata": {},
   "source": [
    "OSHPD Hospitals 2012 from: https://www.oshpd.ca.gov/documents/HWDD/GIS/HealthcareFacilities201210.zip  \n",
    "CPAD Parks 2016 from: http://atlas.ca.gov/casil/planning/Land_Ownership/GreenInfoNetworkProject/CPAD-2016a-June2016/CPAD_2016a.zip\n",
    "\n",
    "Shapefiles have been post-processed by converting each shapefile to a csv and adding explicit centroid coordinates columns."
   ]
  },
  {
   "cell_type": "markdown",
   "metadata": {},
   "source": [
    "Read data into a Pandas dataframe and subset for Alameda county and other attributes."
   ]
  },
  {
   "cell_type": "code",
   "execution_count": null,
   "metadata": {
    "collapsed": false
   },
   "outputs": [],
   "source": [
    "hospitals = pd.read_csv(data_path+'oshpd_points.csv')\n",
    "hospitals = hospitals[hospitals['COUNTY'] == 'Alameda']\n",
    "hospitals = hospitals[hospitals['TYPE'] == 'Hospital']\n",
    "hospitals = hospitals[hospitals['FAC_STATUS'] == 'Open']\n",
    "print 'Loaded', str(len(hospitals)), 'hospitals.'"
   ]
  },
  {
   "cell_type": "code",
   "execution_count": null,
   "metadata": {
    "collapsed": false,
    "scrolled": true
   },
   "outputs": [],
   "source": [
    "hospitals.head()"
   ]
  },
  {
   "cell_type": "code",
   "execution_count": null,
   "metadata": {
    "collapsed": false
   },
   "outputs": [],
   "source": [
    "plot_nodes(x_data=hospitals['X'],\n",
    "           y_data=hospitals['Y'],\n",
    "           node_size=15,\n",
    "           node_color='black',\n",
    "           color_map=None,\n",
    "           edge_color='#999999')"
   ]
  },
  {
   "cell_type": "code",
   "execution_count": null,
   "metadata": {
    "collapsed": false
   },
   "outputs": [],
   "source": [
    "parks = pd.read_csv(data_path+'cpad_points.csv')\n",
    "parks = parks[parks['COUNTY'] == 'Alameda']\n",
    "parks = parks[parks['ACCESS_TYP'] == 'Open Access']\n",
    "print 'Loaded', str(len(parks)), 'parks.'"
   ]
  },
  {
   "cell_type": "code",
   "execution_count": null,
   "metadata": {
    "collapsed": false,
    "scrolled": true
   },
   "outputs": [],
   "source": [
    "parks.head()"
   ]
  },
  {
   "cell_type": "code",
   "execution_count": null,
   "metadata": {
    "collapsed": false
   },
   "outputs": [],
   "source": [
    "plot_nodes(x_data=parks['XCOORD'],\n",
    "           y_data=parks['YCOORD'],\n",
    "           node_size=15,\n",
    "           node_color='black',\n",
    "           color_map=None,\n",
    "           edge_color='#999999')"
   ]
  },
  {
   "cell_type": "markdown",
   "metadata": {},
   "source": [
    "## Calculate nearest neighbor"
   ]
  },
  {
   "cell_type": "markdown",
   "metadata": {},
   "source": [
    "For each node on the network calculate the distance to the nearest 2 hospital and 2 park features within a 10 km network search radius."
   ]
  },
  {
   "cell_type": "markdown",
   "metadata": {},
   "source": [
    "Initialize the POIs on the network for two types of POIs with a max query distance of 10 km meters for the nearest 2 POIs. Then set the POIs on the network."
   ]
  },
  {
   "cell_type": "code",
   "execution_count": null,
   "metadata": {
    "collapsed": false
   },
   "outputs": [],
   "source": [
    "%%time\n",
    "drive_net.init_pois(num_categories=2, max_dist=10000, max_pois=2)\n",
    "drive_net.set_pois(category=\"parks\", x_col=parks['XCOORD'], y_col=parks['YCOORD'])\n",
    "drive_net.set_pois(category=\"hospitals\", x_col=hospitals['X'], y_col=hospitals['Y'])"
   ]
  },
  {
   "cell_type": "markdown",
   "metadata": {},
   "source": [
    "Calculate the distance between each network node and the nearest 2 POIs for each category within a 10 km network radius."
   ]
  },
  {
   "cell_type": "code",
   "execution_count": null,
   "metadata": {
    "collapsed": false
   },
   "outputs": [],
   "source": [
    "%%time\n",
    "nearest_parks = drive_net.nearest_pois(distance=10000, category=\"parks\", num_pois=2,max_distance=0)\n",
    "nearest_hospitals = drive_net.nearest_pois(distance=10000, category=\"hospitals\", num_pois=2,max_distance=0)"
   ]
  },
  {
   "cell_type": "markdown",
   "metadata": {},
   "source": [
    "## View results"
   ]
  },
  {
   "cell_type": "markdown",
   "metadata": {},
   "source": [
    "Inspect results: Network node id and network distance to first and second closest hospital within 10 km"
   ]
  },
  {
   "cell_type": "code",
   "execution_count": null,
   "metadata": {
    "collapsed": false
   },
   "outputs": [],
   "source": [
    "nearest_hospitals[nearest_hospitals[1]>0].head()"
   ]
  },
  {
   "cell_type": "markdown",
   "metadata": {},
   "source": [
    "## View results on a map"
   ]
  },
  {
   "cell_type": "markdown",
   "metadata": {},
   "source": [
    "### Oakland: Distance to nearest hospital within 10 km"
   ]
  },
  {
   "cell_type": "code",
   "execution_count": null,
   "metadata": {
    "collapsed": false,
    "scrolled": true
   },
   "outputs": [],
   "source": [
    "bbox = (37.6991981,-122.3426649,37.8847249,-122.1149234) #oakland\n",
    "drive_net.plot(nearest_hospitals[1], \n",
    "         bbox=bbox,\n",
    "         plot_type='scatter',\n",
    "         fig_kwargs={'figsize':[20,14]},\n",
    "         bmap_kwargs={'epsg':'26943','resolution':'h'},\n",
    "         plot_kwargs={'cmap':'BrBG_r','s':8,'edgecolor':'none'})"
   ]
  },
  {
   "cell_type": "markdown",
   "metadata": {},
   "source": [
    "### Alameda County: Distance to nearest hospital within 10 km"
   ]
  },
  {
   "cell_type": "code",
   "execution_count": null,
   "metadata": {
    "collapsed": false
   },
   "outputs": [],
   "source": [
    "drive_net.plot(nearest_hospitals[1], \n",
    "         plot_type='scatter',\n",
    "         fig_kwargs={'figsize':[20,14]},\n",
    "         bmap_kwargs={'epsg':'26943','resolution':'h'},\n",
    "         plot_kwargs={'cmap':'gist_heat_r','s':8,'edgecolor':'none'})"
   ]
  },
  {
   "cell_type": "markdown",
   "metadata": {},
   "source": [
    "Interactively change the distance threshold"
   ]
  },
  {
   "cell_type": "code",
   "execution_count": null,
   "metadata": {
    "collapsed": true
   },
   "outputs": [],
   "source": [
    "def net_query(distance):\n",
    "    nearest_hospitals = drive_net.nearest_pois(distance=distance, \n",
    "                                         category=\"hospitals\", \n",
    "                                         num_pois=2,\n",
    "                                         max_distance=0)\n",
    "    drive_net.plot(nearest_hospitals[1], \n",
    "         plot_type='scatter',\n",
    "         fig_kwargs={'figsize':[20,14]},\n",
    "         bmap_kwargs={'epsg':'26943','resolution':'h'},\n",
    "         plot_kwargs={'cmap':'gist_heat_r','s':8,'edgecolor':'none'})"
   ]
  },
  {
   "cell_type": "code",
   "execution_count": null,
   "metadata": {
    "collapsed": false
   },
   "outputs": [],
   "source": [
    "v = interact(net_query,distance=FloatSlider(min=0, max=10000, step=1000,continuous_update=False))\n",
    "display(v)"
   ]
  },
  {
   "cell_type": "markdown",
   "metadata": {},
   "source": [
    "### Alameda County: Distance to nearest park within 10 km"
   ]
  },
  {
   "cell_type": "code",
   "execution_count": null,
   "metadata": {
    "collapsed": false
   },
   "outputs": [],
   "source": [
    "drive_net.plot(nearest_parks[1], \n",
    "         plot_type='scatter',\n",
    "         fig_kwargs={'figsize':[20,14]},\n",
    "         bmap_kwargs={'epsg':'26943','resolution':'h'},\n",
    "         plot_kwargs={'cmap':'gist_heat_r','s':8,'edgecolor':'none'})"
   ]
  },
  {
   "cell_type": "markdown",
   "metadata": {},
   "source": [
    "# #3 Cumulative opportunities accessibility query"
   ]
  },
  {
   "cell_type": "markdown",
   "metadata": {},
   "source": [
    "## Load input variable and network data"
   ]
  },
  {
   "cell_type": "markdown",
   "metadata": {},
   "source": [
    "Data includes Census blocks for Alameda County with block level synthesized job and household data (as agents)"
   ]
  },
  {
   "cell_type": "code",
   "execution_count": null,
   "metadata": {
    "collapsed": false
   },
   "outputs": [],
   "source": [
    "%%time\n",
    "blocks = pd.read_csv(data_path+'blocks_subset.csv', index_col='block_id')\n",
    "jobs = pd.read_csv(data_path+'jobs_subset.csv', index_col='job_id')\n",
    "households = pd.read_csv(data_path+'households_subset.csv', index_col='block_id')\n",
    "print 'Loaded',str(len(blocks)),'blocks',str(len(jobs)),'jobs',str(len(households)),'households'"
   ]
  },
  {
   "cell_type": "markdown",
   "metadata": {},
   "source": [
    "## Inspect the data"
   ]
  },
  {
   "cell_type": "code",
   "execution_count": null,
   "metadata": {
    "collapsed": false
   },
   "outputs": [],
   "source": [
    "blocks.head()"
   ]
  },
  {
   "cell_type": "code",
   "execution_count": null,
   "metadata": {
    "collapsed": false
   },
   "outputs": [],
   "source": [
    "jobs.head()"
   ]
  },
  {
   "cell_type": "code",
   "execution_count": null,
   "metadata": {
    "collapsed": false
   },
   "outputs": [],
   "source": [
    "households.head()"
   ]
  },
  {
   "cell_type": "markdown",
   "metadata": {},
   "source": [
    "## Create accessibility variables of interest and set them on the network"
   ]
  },
  {
   "cell_type": "markdown",
   "metadata": {},
   "source": [
    "Aggregate job and worker agents to the block level"
   ]
  },
  {
   "cell_type": "code",
   "execution_count": null,
   "metadata": {
    "collapsed": false
   },
   "outputs": [],
   "source": [
    "blocks['node_id'] = drive_net.get_node_ids(blocks['x'], blocks['y'])\n",
    "blocks['jobs'] = jobs.groupby(jobs.block_id).size()\n",
    "blocks['workers'] = households.groupby(households.index).workers.sum()\n",
    "blocks = blocks.fillna(0)"
   ]
  },
  {
   "cell_type": "markdown",
   "metadata": {},
   "source": [
    "set the variables on the Pandana network"
   ]
  },
  {
   "cell_type": "code",
   "execution_count": null,
   "metadata": {
    "collapsed": false
   },
   "outputs": [],
   "source": [
    "drive_net.set(blocks.node_id, variable = blocks.jobs, name='jobs')\n",
    "drive_net.set(blocks.node_id, variable = blocks.workers, name='workers')"
   ]
  },
  {
   "cell_type": "markdown",
   "metadata": {},
   "source": [
    "## Precompute the network"
   ]
  },
  {
   "cell_type": "markdown",
   "metadata": {},
   "source": [
    "Precompute the distance query from 0 to 3000 m to speed up the query. Note: This is memory intensive."
   ]
  },
  {
   "cell_type": "code",
   "execution_count": null,
   "metadata": {
    "collapsed": false
   },
   "outputs": [],
   "source": [
    "%%time\n",
    "drive_net.precompute(3000)"
   ]
  },
  {
   "cell_type": "markdown",
   "metadata": {},
   "source": [
    "## Calculate cumulative accessibility"
   ]
  },
  {
   "cell_type": "markdown",
   "metadata": {},
   "source": [
    "For each block, calculate the cumulative number of total jobs accessible for blocks within a 1, 2, 3 km network radius."
   ]
  },
  {
   "cell_type": "code",
   "execution_count": null,
   "metadata": {
    "collapsed": false
   },
   "outputs": [],
   "source": [
    "%%time\n",
    "jobs_1000 = drive_net.aggregate(1000, \n",
    "                              type='sum', \n",
    "                              decay='linear', \n",
    "                              name = 'jobs')\n",
    "jobs_2000 = drive_net.aggregate(2000, \n",
    "                              type='sum', \n",
    "                              decay='linear', \n",
    "                              name = 'jobs')\n",
    "jobs_3000 = drive_net.aggregate(3000, \n",
    "                              type='sum', \n",
    "                              decay='linear', \n",
    "                              name = 'jobs')"
   ]
  },
  {
   "cell_type": "markdown",
   "metadata": {},
   "source": [
    "Do the same for the number of workers"
   ]
  },
  {
   "cell_type": "code",
   "execution_count": null,
   "metadata": {
    "collapsed": false
   },
   "outputs": [],
   "source": [
    "%%time\n",
    "workers_3000 = drive_net.aggregate(3000, \n",
    "                              type='sum', \n",
    "                              decay='linear', \n",
    "                              name = 'workers')"
   ]
  },
  {
   "cell_type": "markdown",
   "metadata": {},
   "source": [
    "## View results"
   ]
  },
  {
   "cell_type": "markdown",
   "metadata": {},
   "source": [
    "Combine all results into a Pandas dataframe"
   ]
  },
  {
   "cell_type": "code",
   "execution_count": null,
   "metadata": {
    "collapsed": false
   },
   "outputs": [],
   "source": [
    "results_drive = pd.DataFrame({'jobs_1000':misc.reindex(jobs_1000, blocks.node_id),\n",
    "                              'jobs_2000':misc.reindex(jobs_2000, blocks.node_id),\n",
    "                              'jobs_3000':misc.reindex(jobs_3000, blocks.node_id),\n",
    "                              'workers_3000':misc.reindex(workers_3000, blocks.node_id)})\n",
    "results_drive.tail()"
   ]
  },
  {
   "cell_type": "markdown",
   "metadata": {},
   "source": [
    "## View results on a map"
   ]
  },
  {
   "cell_type": "markdown",
   "metadata": {},
   "source": [
    "### Alameda County: Total jobs within 1 km"
   ]
  },
  {
   "cell_type": "code",
   "execution_count": null,
   "metadata": {
    "collapsed": false
   },
   "outputs": [],
   "source": [
    "drive_net.plot(jobs_1000, \n",
    "         plot_type='scatter',\n",
    "         fig_kwargs={'figsize':[20,14]},\n",
    "         bmap_kwargs={'epsg':'26943','resolution':'h'},\n",
    "         plot_kwargs={'cmap':'gist_heat_r','s':8,'edgecolor':'none'})"
   ]
  },
  {
   "cell_type": "markdown",
   "metadata": {},
   "source": [
    "### Alameda County: Total jobs within 2 km"
   ]
  },
  {
   "cell_type": "code",
   "execution_count": null,
   "metadata": {
    "collapsed": false
   },
   "outputs": [],
   "source": [
    "drive_net.plot(jobs_2000, \n",
    "         plot_type='scatter',\n",
    "         fig_kwargs={'figsize':[20,14]},\n",
    "         bmap_kwargs={'epsg':'26943','resolution':'h'},\n",
    "         plot_kwargs={'cmap':'gist_heat_r','s':8,'edgecolor':'none'})"
   ]
  },
  {
   "cell_type": "markdown",
   "metadata": {},
   "source": [
    "### Alameda County: Total jobs within 3 km"
   ]
  },
  {
   "cell_type": "code",
   "execution_count": null,
   "metadata": {
    "collapsed": false
   },
   "outputs": [],
   "source": [
    "drive_net.plot(jobs_3000, \n",
    "         plot_type='scatter',\n",
    "         fig_kwargs={'figsize':[20,14]},\n",
    "         bmap_kwargs={'epsg':'26943','resolution':'h'},\n",
    "         plot_kwargs={'cmap':'gist_heat_r','s':8,'edgecolor':'none'})"
   ]
  },
  {
   "cell_type": "markdown",
   "metadata": {},
   "source": [
    "### Alameda County: Total workers within 3 km"
   ]
  },
  {
   "cell_type": "code",
   "execution_count": null,
   "metadata": {
    "collapsed": false
   },
   "outputs": [],
   "source": [
    "drive_net.plot(workers_3000, \n",
    "         plot_type='scatter',\n",
    "         fig_kwargs={'figsize':[20,14]},\n",
    "         bmap_kwargs={'epsg':'26943','resolution':'h'},\n",
    "         plot_kwargs={'cmap':'gist_heat_r','s':8,'edgecolor':'none'})"
   ]
  },
  {
   "cell_type": "markdown",
   "metadata": {},
   "source": [
    "# Transit+Pedestrian network"
   ]
  },
  {
   "cell_type": "markdown",
   "metadata": {},
   "source": [
    "The transit+pedestrian network used here was created using UrbanAccess. UrbanAccess is a Python General Transit Feed Specification (GTFS) data acquisition, processing, and Pandana network creation tool designed to be used in tandem with Pandana for accessibility queries. UrbanAccess includes tools: 1) to connect and search GTFS data APIs; 2) validate GTFS data; 3) create individual agency or metropolitan scale transit networks; 4) compute headways; 5) penalize network impedance by transit mode.\n",
    "\n",
    "The UrbanAccess library will soon be on UDST: https://github.com/UDST/\n",
    "\n",
    "For more detailed information on UrbanAccess see:\n",
    "\n",
    "Samuel D. Blanchard and Paul Waddell. Forthcoming. \"UrbanAccess: A Generalized Methodology for Measuring Regional Accessibility with an Integrated Pedestrian and Transit Network\" Transportation Research Record: Journal of the Transportation Research Board."
   ]
  },
  {
   "cell_type": "code",
   "execution_count": null,
   "metadata": {
    "collapsed": false
   },
   "outputs": [],
   "source": [
    "%%time\n",
    "blocks = pd.read_csv(data_path+'blocks_subset.csv', index_col='block_id')\n",
    "jobs = pd.read_csv(data_path+'jobs_subset.csv', index_col='job_id')\n",
    "households = pd.read_csv(data_path+'households_subset.csv', index_col='block_id')\n",
    "\n",
    "hdffile = 'transit_ped_network.h5'\n",
    "transit_nodes = pd.HDFStore(data_path+hdffile).nodes\n",
    "transit_edges = pd.HDFStore(data_path+hdffile).edges\n",
    "transit_edges.drop('id', axis=1, inplace=True)\n",
    "\n",
    "print 'Loaded',str(len(blocks)),'blocks',str(len(jobs)),'jobs',str(len(households)),'households'\n",
    "print 'Loaded',str(len(transit_nodes)),'nodes',str(len(transit_edges)),'edges'"
   ]
  },
  {
   "cell_type": "markdown",
   "metadata": {},
   "source": [
    "The transit network represents the AM Peak scheduled network of AC Transit from 7 am to 10 am with edges weighted by travel time. Pedestrian to transit connector edges have been weighted by the average route stop headways to represent expected passenger wait time. This network has been integrated with the pedestrian network which uses a standard walking speed of 3 MPH to calculate the pedestrian travel time."
   ]
  },
  {
   "cell_type": "code",
   "execution_count": null,
   "metadata": {
    "collapsed": false
   },
   "outputs": [],
   "source": [
    "%%time\n",
    "transit_net = pdna.Network(transit_nodes[\"x\"], \n",
    "                           transit_nodes[\"y\"], \n",
    "                           transit_edges[\"from\"], \n",
    "                           transit_edges[\"to\"],\n",
    "                           transit_edges[[\"weight\"]],twoway=False)"
   ]
  },
  {
   "cell_type": "code",
   "execution_count": null,
   "metadata": {
    "collapsed": false
   },
   "outputs": [],
   "source": [
    "%%time\n",
    "%%capture\n",
    "blocks['node_id'] = transit_net.get_node_ids(blocks['x'], blocks['y'])\n",
    "blocks['jobs'] = jobs.groupby(jobs.block_id).size()\n",
    "transit_net.set(blocks.node_id, variable = blocks.jobs, name='transit_jobs')"
   ]
  },
  {
   "cell_type": "markdown",
   "metadata": {},
   "source": [
    "Run an aggregation query to calculate the total number of jobs accessible within a 20 minute travel time along the transit+pedestrian network."
   ]
  },
  {
   "cell_type": "code",
   "execution_count": null,
   "metadata": {
    "collapsed": false
   },
   "outputs": [],
   "source": [
    "%%time\n",
    "transit_jobs_20 = transit_net.aggregate(20, type='sum', decay='linear', name = 'transit_jobs')"
   ]
  },
  {
   "cell_type": "code",
   "execution_count": null,
   "metadata": {
    "collapsed": false,
    "scrolled": false
   },
   "outputs": [],
   "source": [
    "results_transit = pd.DataFrame({'transit_jobs_20':misc.reindex(transit_jobs_20, blocks.node_id)})\n",
    "results_transit.tail()"
   ]
  },
  {
   "cell_type": "markdown",
   "metadata": {},
   "source": [
    "## View results on a map"
   ]
  },
  {
   "cell_type": "markdown",
   "metadata": {},
   "source": [
    "### Alameda County"
   ]
  },
  {
   "cell_type": "markdown",
   "metadata": {},
   "source": [
    "### 20 min"
   ]
  },
  {
   "cell_type": "code",
   "execution_count": null,
   "metadata": {
    "collapsed": false
   },
   "outputs": [],
   "source": [
    "bbox = (37.454539,-122.342665,37.905668,-121.469214) # alameda county\n",
    "transit_net.plot(transit_jobs_20, \n",
    "         bbox=bbox,\n",
    "         plot_type='scatter',\n",
    "         fig_kwargs={'figsize':[20,14]},\n",
    "         bmap_kwargs={'epsg':'3310','resolution':'h'},\n",
    "         plot_kwargs={'cmap':'BrBG','s':8,'edgecolor':'none'})"
   ]
  },
  {
   "cell_type": "code",
   "execution_count": null,
   "metadata": {
    "collapsed": false
   },
   "outputs": [],
   "source": [
    "bbox = (37.454539,-122.342665,37.905668,-121.469214) # alameda county\n",
    "transit_net.plot(transit_jobs_20, \n",
    "         bbox=bbox,\n",
    "         plot_type='scatter',\n",
    "         fig_kwargs={'figsize':[20,14]},\n",
    "         bmap_kwargs={'epsg':'3310','resolution':'h'},\n",
    "         plot_kwargs={'cmap':'gist_heat_r','s':8,'edgecolor':'none'})"
   ]
  },
  {
   "cell_type": "markdown",
   "metadata": {},
   "source": [
    "### Oakland"
   ]
  },
  {
   "cell_type": "code",
   "execution_count": null,
   "metadata": {
    "collapsed": false
   },
   "outputs": [],
   "source": [
    "bbox = (37.6991981,-122.3426649,37.8847249,-122.1149234) #oakland\n",
    "transit_net.plot(transit_jobs_20, \n",
    "         bbox=bbox,\n",
    "         plot_type='scatter',\n",
    "         fig_kwargs={'figsize':[20,14]},\n",
    "         bmap_kwargs={'epsg':'3310','resolution':'h','area_thresh':100000000000000000},\n",
    "         plot_kwargs={'cmap':'BrBG','s':30,'edgecolor':'none'})"
   ]
  },
  {
   "cell_type": "markdown",
   "metadata": {},
   "source": [
    "You can combine census data with accessibility metrics in order to investigate patterns of low or high access neighborhoods and socioeconomics."
   ]
  },
  {
   "cell_type": "code",
   "execution_count": null,
   "metadata": {
    "collapsed": false,
    "scrolled": true
   },
   "outputs": [],
   "source": [
    "households.head()"
   ]
  },
  {
   "cell_type": "markdown",
   "metadata": {},
   "source": [
    "In this case lets see what the relationship is between average household income and transit accessibility (using a 20 min travel time)"
   ]
  },
  {
   "cell_type": "code",
   "execution_count": null,
   "metadata": {
    "collapsed": false
   },
   "outputs": [],
   "source": [
    "results_transit['av_inc'] = households.groupby(households.index).income.mean()\n",
    "results_transit.head()"
   ]
  },
  {
   "cell_type": "code",
   "execution_count": null,
   "metadata": {
    "collapsed": false
   },
   "outputs": [],
   "source": [
    "results_transit.plot.scatter(x='transit_jobs_20',y='av_inc')"
   ]
  },
  {
   "cell_type": "markdown",
   "metadata": {},
   "source": [
    "# Compare accessibility using different networks: walking vs transit"
   ]
  },
  {
   "cell_type": "markdown",
   "metadata": {},
   "source": [
    "# Pedestrian network"
   ]
  },
  {
   "cell_type": "markdown",
   "metadata": {},
   "source": [
    "Download the pedestrian network from OSM: This includes all pedestrian accessible pathways including paths and stairways and omits auto only roads such as limited access highways"
   ]
  },
  {
   "cell_type": "code",
   "execution_count": null,
   "metadata": {
    "collapsed": false
   },
   "outputs": [],
   "source": [
    "'''\n",
    "%%time\n",
    "h5file = 'osm_walk_2way_subset.h5'\n",
    "network = pdna.loaders.osm.network_from_bbox(lat_min=37.454539, \n",
    "                                                lng_min=-122.342665, \n",
    "                                                lat_max=37.905668, \n",
    "                                                lng_max=-121.469214, \n",
    "                                                network_type='walk', \n",
    "                                                two_way=True)\n",
    "lcn = network.low_connectivity_nodes(10000, 10, imp_name='distance')\n",
    "network.save_hdf5(data_path+h5file, rm_nodes=lcn)\n",
    "print 'OSM data save completed:', data_path, h5file\n",
    "'''"
   ]
  },
  {
   "cell_type": "markdown",
   "metadata": {},
   "source": [
    "Load the pedestrian network, convert edge weight to walking travel time, and calculate the total number of jobs accessible with a 20 min walk. Then combine these results with those of the transit network accessibility metric and compare."
   ]
  },
  {
   "cell_type": "code",
   "execution_count": null,
   "metadata": {
    "collapsed": false
   },
   "outputs": [],
   "source": [
    "%%time\n",
    "blocks = pd.read_csv(data_path+'blocks_subset.csv', index_col='block_id')\n",
    "jobs = pd.read_csv(data_path+'jobs_subset.csv', index_col='job_id')\n",
    "\n",
    "h5file = 'osm_walk_2way_subset.h5'\n",
    "osm_walk_nodes = pd.HDFStore(data_path+h5file).nodes\n",
    "osm_walk_edges = pd.HDFStore(data_path+h5file).edges\n",
    "print 'Loaded',str(len(osm_walk_nodes)),'nodes',str(len(osm_walk_edges)),'edges'\n",
    "\n",
    "SPEED_MPH = 3\n",
    "osm_walk_edges['travel_time_min'] = (osm_walk_edges['distance']/1609.34) / SPEED_MPH * 60\n",
    "print 'Converted edge weight'\n",
    "\n",
    "walk_net = pdna.Network(osm_walk_nodes[\"x\"], \n",
    "                   osm_walk_nodes[\"y\"], \n",
    "                   osm_walk_edges[\"from\"], \n",
    "                   osm_walk_edges[\"to\"],\n",
    "                   osm_walk_edges[[\"travel_time_min\"]],twoway=True)\n",
    "print 'Network initialized'\n",
    "\n",
    "blocks['node_id'] = walk_net.get_node_ids(blocks['x'], blocks['y'])\n",
    "blocks['jobs'] = jobs.groupby(jobs.block_id).size()\n",
    "walk_net.set(blocks.node_id, variable = blocks.jobs, name='jobs')\n",
    "walk_jobs_20 = walk_net.aggregate(20, \n",
    "                              type='sum', \n",
    "                              decay='linear', \n",
    "                              name = 'jobs')\n",
    "print 'Aggregation completed'\n",
    "\n",
    "results_walk = pd.DataFrame({'walk_jobs_20':misc.reindex(walk_jobs_20, blocks.node_id)})\n",
    "results_combined = results_transit.join(results_walk, how='left', sort=False)\n",
    "results_combined = results_combined.join(blocks[['x','y']], how='left', sort=False)\n",
    "results_combined['access_diff'] = results_combined['walk_jobs_20']-results_combined['transit_jobs_20']\n",
    "results_combined.tail()"
   ]
  },
  {
   "cell_type": "markdown",
   "metadata": {},
   "source": [
    "## View the difference between the two results on a map"
   ]
  },
  {
   "cell_type": "markdown",
   "metadata": {},
   "source": [
    "Blue = Transit network provides more access to jobs than pedestrian alone"
   ]
  },
  {
   "cell_type": "code",
   "execution_count": null,
   "metadata": {
    "collapsed": false,
    "scrolled": true
   },
   "outputs": [],
   "source": [
    "fig, ax = plt.subplots(figsize=[20,14])\n",
    "\n",
    "bbox = (\n",
    "    results_combined.y.min(),\n",
    "    results_combined.x.min(),\n",
    "    results_combined.y.max(),\n",
    "    results_combined.x.max())\n",
    "\n",
    "bmap = Basemap(bbox[1], bbox[0], bbox[3], bbox[2], ax=ax)\n",
    "x, y = bmap(results_combined.x.values, results_combined.y.values)\n",
    "plot = bmap.scatter(x, y, c=results_combined.access_diff.values, cmap='bwr',s=8,edgecolor='none')\n",
    "bmap, fig, ax"
   ]
  },
  {
   "cell_type": "code",
   "execution_count": null,
   "metadata": {
    "collapsed": false
   },
   "outputs": [],
   "source": [
    "fig, ax = plt.subplots(figsize=[20,14])\n",
    "bbox = (37.6991981,-122.3426649,37.8847249,-122.1149234) # Oakland\n",
    "\n",
    "bmap = Basemap(bbox[1], bbox[0], bbox[3], bbox[2], ax=ax)\n",
    "x, y = bmap(results_combined.x.values, results_combined.y.values)\n",
    "plot = bmap.scatter(x, y, c=results_combined.access_diff.values, cmap='bwr_r',s=8,edgecolor='none')\n",
    "bmap, fig, ax"
   ]
  },
  {
   "cell_type": "code",
   "execution_count": null,
   "metadata": {
    "collapsed": true
   },
   "outputs": [],
   "source": []
  }
 ],
 "metadata": {
  "kernelspec": {
   "display_name": "Python 2",
   "language": "python",
   "name": "python2"
  },
  "language_info": {
   "codemirror_mode": {
    "name": "ipython",
    "version": 2
   },
   "file_extension": ".py",
   "mimetype": "text/x-python",
   "name": "python",
   "nbconvert_exporter": "python",
   "pygments_lexer": "ipython2",
   "version": "2.7.11"
  },
  "widgets": {
   "state": {
    "461399f884fb4665906496abad2145c1": {
     "views": [
      {
       "cell_index": 62
      }
     ]
    }
   },
   "version": "1.2.0"
  }
 },
 "nbformat": 4,
 "nbformat_minor": 0
}
