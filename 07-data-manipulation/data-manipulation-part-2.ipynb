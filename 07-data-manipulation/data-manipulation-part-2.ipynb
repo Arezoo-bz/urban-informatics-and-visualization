{
 "cells": [
  {
   "cell_type": "markdown",
   "metadata": {},
   "source": [
    "# Data Manipulation Part 1: Groupby Operations"
   ]
  },
  {
   "cell_type": "markdown",
   "metadata": {},
   "source": [
    "Data manipulation with Pandas is a way to describe the kind of analytics you have at your command with some very accessible pandas syntax, for doing the following kinds of tasks:\n",
    "\n",
    "* Split a pandas object into pieces using one or more keys (in the form of functions, arrays, or DataFrame column names)\n",
    "* Computing group summary statistics, like count, mean, or standard deviation, or a user-defined function\n",
    "* Apply a varying set of functions to each column of a DataFrame\n",
    "* Apply within-group transformations or other manipulations, like normalization, linear regression, rank, or subset selection\n",
    "* Compute pivot tables and cross-tabulations\n",
    "* Perform quantile analysis and other data-derived group analyses"
   ]
  },
  {
   "cell_type": "markdown",
   "metadata": {},
   "source": [
    "Grouping keys can use any of these forms:\n",
    "\n",
    "* A list or array of values that is the same length as the axis being grouped\n",
    "* A value indicating a column name in a DataFrame\n",
    "* A dict or Series giving a correspondence between the values on the axis being grouped and the group names\n",
    "* A function to be invoked on the axis index or the individual labels in the index\n",
    "\n",
    "Let's try some of the Groupby methods on the data we used last time."
   ]
  },
  {
   "cell_type": "code",
   "execution_count": 1,
   "metadata": {
    "collapsed": false
   },
   "outputs": [],
   "source": [
    "%matplotlib inline\n",
    "import pandas as pd\n",
    "import pylab as P\n",
    "import numpy as np\n",
    "import seaborn as sns\n",
    "import matplotlib.pyplot as plt\n",
    "import matplotlib.cm as cm, matplotlib.font_manager as fm\n",
    "sns.set(style=\"darkgrid\")"
   ]
  },
  {
   "cell_type": "markdown",
   "metadata": {},
   "source": [
    "## Working with Census PUMS Microdata\n",
    "\n",
    "(with acknowledgments to Aksel Olsen, from whom much of the material for today's session is adapted)\n",
    "\n",
    "Data source: Census ACS 1-year PUMS data, 2012 release\n",
    "\n",
    "The 2012 PUMS household and person tables for California were downloaded from:\n",
    "\n",
    "Persons: [census ftp](http://www2.census.gov/acs2012_1yr/pums/csv_pca.zip)\n",
    "\n",
    "Households: [census ftp](http://www2.census.gov/acs2012_1yr/pums/csv_hca.zip)\n",
    "\n",
    "Note - these are large files and take time to download and to load into memory."
   ]
  },
  {
   "cell_type": "code",
   "execution_count": 2,
   "metadata": {
    "collapsed": false,
    "scrolled": true
   },
   "outputs": [
    {
     "data": {
      "text/html": [
       "<div>\n",
       "<table border=\"1\" class=\"dataframe\">\n",
       "  <thead>\n",
       "    <tr style=\"text-align: right;\">\n",
       "      <th></th>\n",
       "      <th>RT</th>\n",
       "      <th>SERIALNO</th>\n",
       "      <th>DIVISION</th>\n",
       "      <th>PUMA</th>\n",
       "      <th>REGION</th>\n",
       "      <th>ST</th>\n",
       "      <th>ADJHSG</th>\n",
       "      <th>ADJINC</th>\n",
       "      <th>WGTP</th>\n",
       "      <th>NP</th>\n",
       "      <th>...</th>\n",
       "      <th>wgtp71</th>\n",
       "      <th>wgtp72</th>\n",
       "      <th>wgtp73</th>\n",
       "      <th>wgtp74</th>\n",
       "      <th>wgtp75</th>\n",
       "      <th>wgtp76</th>\n",
       "      <th>wgtp77</th>\n",
       "      <th>wgtp78</th>\n",
       "      <th>wgtp79</th>\n",
       "      <th>wgtp80</th>\n",
       "    </tr>\n",
       "    <tr>\n",
       "      <th>SERIALNO</th>\n",
       "      <th></th>\n",
       "      <th></th>\n",
       "      <th></th>\n",
       "      <th></th>\n",
       "      <th></th>\n",
       "      <th></th>\n",
       "      <th></th>\n",
       "      <th></th>\n",
       "      <th></th>\n",
       "      <th></th>\n",
       "      <th></th>\n",
       "      <th></th>\n",
       "      <th></th>\n",
       "      <th></th>\n",
       "      <th></th>\n",
       "      <th></th>\n",
       "      <th></th>\n",
       "      <th></th>\n",
       "      <th></th>\n",
       "      <th></th>\n",
       "      <th></th>\n",
       "    </tr>\n",
       "  </thead>\n",
       "  <tbody>\n",
       "    <tr>\n",
       "      <th>11</th>\n",
       "      <td>H</td>\n",
       "      <td>11</td>\n",
       "      <td>9</td>\n",
       "      <td>8508</td>\n",
       "      <td>4</td>\n",
       "      <td>6</td>\n",
       "      <td>1000000</td>\n",
       "      <td>1010207</td>\n",
       "      <td>110</td>\n",
       "      <td>2</td>\n",
       "      <td>...</td>\n",
       "      <td>176</td>\n",
       "      <td>178</td>\n",
       "      <td>120</td>\n",
       "      <td>99</td>\n",
       "      <td>173</td>\n",
       "      <td>33</td>\n",
       "      <td>129</td>\n",
       "      <td>35</td>\n",
       "      <td>34</td>\n",
       "      <td>130</td>\n",
       "    </tr>\n",
       "    <tr>\n",
       "      <th>19</th>\n",
       "      <td>H</td>\n",
       "      <td>19</td>\n",
       "      <td>9</td>\n",
       "      <td>7502</td>\n",
       "      <td>4</td>\n",
       "      <td>6</td>\n",
       "      <td>1000000</td>\n",
       "      <td>1010207</td>\n",
       "      <td>180</td>\n",
       "      <td>0</td>\n",
       "      <td>...</td>\n",
       "      <td>308</td>\n",
       "      <td>184</td>\n",
       "      <td>288</td>\n",
       "      <td>52</td>\n",
       "      <td>185</td>\n",
       "      <td>337</td>\n",
       "      <td>288</td>\n",
       "      <td>188</td>\n",
       "      <td>190</td>\n",
       "      <td>197</td>\n",
       "    </tr>\n",
       "    <tr>\n",
       "      <th>22</th>\n",
       "      <td>H</td>\n",
       "      <td>22</td>\n",
       "      <td>9</td>\n",
       "      <td>8105</td>\n",
       "      <td>4</td>\n",
       "      <td>6</td>\n",
       "      <td>1000000</td>\n",
       "      <td>1010207</td>\n",
       "      <td>75</td>\n",
       "      <td>1</td>\n",
       "      <td>...</td>\n",
       "      <td>78</td>\n",
       "      <td>127</td>\n",
       "      <td>125</td>\n",
       "      <td>110</td>\n",
       "      <td>72</td>\n",
       "      <td>20</td>\n",
       "      <td>73</td>\n",
       "      <td>135</td>\n",
       "      <td>83</td>\n",
       "      <td>143</td>\n",
       "    </tr>\n",
       "    <tr>\n",
       "      <th>31</th>\n",
       "      <td>H</td>\n",
       "      <td>31</td>\n",
       "      <td>9</td>\n",
       "      <td>1305</td>\n",
       "      <td>4</td>\n",
       "      <td>6</td>\n",
       "      <td>1000000</td>\n",
       "      <td>1010207</td>\n",
       "      <td>76</td>\n",
       "      <td>2</td>\n",
       "      <td>...</td>\n",
       "      <td>88</td>\n",
       "      <td>24</td>\n",
       "      <td>75</td>\n",
       "      <td>76</td>\n",
       "      <td>131</td>\n",
       "      <td>140</td>\n",
       "      <td>20</td>\n",
       "      <td>29</td>\n",
       "      <td>130</td>\n",
       "      <td>141</td>\n",
       "    </tr>\n",
       "    <tr>\n",
       "      <th>40</th>\n",
       "      <td>H</td>\n",
       "      <td>40</td>\n",
       "      <td>9</td>\n",
       "      <td>2901</td>\n",
       "      <td>4</td>\n",
       "      <td>6</td>\n",
       "      <td>1000000</td>\n",
       "      <td>1010207</td>\n",
       "      <td>12</td>\n",
       "      <td>2</td>\n",
       "      <td>...</td>\n",
       "      <td>12</td>\n",
       "      <td>24</td>\n",
       "      <td>20</td>\n",
       "      <td>21</td>\n",
       "      <td>12</td>\n",
       "      <td>10</td>\n",
       "      <td>12</td>\n",
       "      <td>13</td>\n",
       "      <td>12</td>\n",
       "      <td>3</td>\n",
       "    </tr>\n",
       "  </tbody>\n",
       "</table>\n",
       "<p>5 rows × 206 columns</p>\n",
       "</div>"
      ],
      "text/plain": [
       "         RT  SERIALNO  DIVISION  PUMA  REGION  ST   ADJHSG   ADJINC  WGTP  NP  \\\n",
       "SERIALNO                                                                        \n",
       "11        H        11         9  8508       4   6  1000000  1010207   110   2   \n",
       "19        H        19         9  7502       4   6  1000000  1010207   180   0   \n",
       "22        H        22         9  8105       4   6  1000000  1010207    75   1   \n",
       "31        H        31         9  1305       4   6  1000000  1010207    76   2   \n",
       "40        H        40         9  2901       4   6  1000000  1010207    12   2   \n",
       "\n",
       "           ...    wgtp71  wgtp72  wgtp73  wgtp74  wgtp75  wgtp76  wgtp77  \\\n",
       "SERIALNO   ...                                                             \n",
       "11         ...       176     178     120      99     173      33     129   \n",
       "19         ...       308     184     288      52     185     337     288   \n",
       "22         ...        78     127     125     110      72      20      73   \n",
       "31         ...        88      24      75      76     131     140      20   \n",
       "40         ...        12      24      20      21      12      10      12   \n",
       "\n",
       "          wgtp78  wgtp79  wgtp80  \n",
       "SERIALNO                          \n",
       "11            35      34     130  \n",
       "19           188     190     197  \n",
       "22           135      83     143  \n",
       "31            29     130     141  \n",
       "40            13      12       3  \n",
       "\n",
       "[5 rows x 206 columns]"
      ]
     },
     "execution_count": 2,
     "metadata": {},
     "output_type": "execute_result"
    }
   ],
   "source": [
    "pums_h = pd.read_csv('data/ss12hca.csv')\n",
    "#pums_h=pd.read_csv('data/pums_h_sf_2012.csv')\n",
    "pums_h.index=pums_h.SERIALNO\n",
    "pums_h.head()"
   ]
  },
  {
   "cell_type": "code",
   "execution_count": 3,
   "metadata": {
    "collapsed": false
   },
   "outputs": [
    {
     "name": "stdout",
     "output_type": "stream",
     "text": [
      "['RT', 'SERIALNO', 'DIVISION', 'PUMA', 'REGION', 'ST', 'ADJHSG', 'ADJINC', 'WGTP', 'NP', 'TYPE', 'ACR', 'AGS', 'BATH', 'BDSP', 'BLD', 'BUS', 'CONP', 'ELEP', 'FS', 'FULP', 'GASP', 'HFL', 'INSP', 'MHP', 'MRGI', 'MRGP', 'MRGT', 'MRGX', 'REFR', 'RMSP', 'RNTM', 'RNTP', 'RWAT', 'SINK', 'SMP', 'STOV', 'TEL', 'TEN', 'TOIL', 'VACS', 'VALP', 'VEH', 'WATP', 'YBL', 'FES', 'FFINCP', 'FGRNTP', 'FHINCP', 'FINCP', 'FPARC', 'FSMOCP', 'GRNTP', 'GRPIP', 'HHL', 'HHT', 'HINCP', 'HUGCL', 'HUPAC', 'HUPAOC', 'HUPARC', 'KIT', 'LNGI', 'MULTG', 'MV', 'NOC', 'NPF', 'NPP', 'NR', 'NRC', 'OCPIP', 'PARTNER', 'PLM', 'PSF', 'R18', 'R60', 'R65', 'RESMODE', 'SMOCP', 'SMX', 'SRNT', 'SVAL', 'TAXP', 'WIF', 'WKEXREL', 'WORKSTAT', 'FACRP', 'FAGSP', 'FBATHP', 'FBDSP', 'FBLDP', 'FBUSP', 'FCONP', 'FELEP', 'FFSP', 'FFULP', 'FGASP', 'FHFLP', 'FINSP', 'FKITP', 'FMHP', 'FMRGIP', 'FMRGP', 'FMRGTP', 'FMRGXP', 'FMVP', 'FPLMP', 'FREFRP', 'FRMSP', 'FRNTMP', 'FRNTP', 'FRWATP', 'FSINKP', 'FSMP', 'FSMXHP', 'FSMXSP', 'FSTOVP', 'FTAXP', 'FTELP', 'FTENP', 'FTOILP', 'FVACSP', 'FVALP', 'FVEHP', 'FWATP', 'FYBLP', 'wgtp1', 'wgtp2', 'wgtp3', 'wgtp4', 'wgtp5', 'wgtp6', 'wgtp7', 'wgtp8', 'wgtp9', 'wgtp10', 'wgtp11', 'wgtp12', 'wgtp13', 'wgtp14', 'wgtp15', 'wgtp16', 'wgtp17', 'wgtp18', 'wgtp19', 'wgtp20', 'wgtp21', 'wgtp22', 'wgtp23', 'wgtp24', 'wgtp25', 'wgtp26', 'wgtp27', 'wgtp28', 'wgtp29', 'wgtp30', 'wgtp31', 'wgtp32', 'wgtp33', 'wgtp34', 'wgtp35', 'wgtp36', 'wgtp37', 'wgtp38', 'wgtp39', 'wgtp40', 'wgtp41', 'wgtp42', 'wgtp43', 'wgtp44', 'wgtp45', 'wgtp46', 'wgtp47', 'wgtp48', 'wgtp49', 'wgtp50', 'wgtp51', 'wgtp52', 'wgtp53', 'wgtp54', 'wgtp55', 'wgtp56', 'wgtp57', 'wgtp58', 'wgtp59', 'wgtp60', 'wgtp61', 'wgtp62', 'wgtp63', 'wgtp64', 'wgtp65', 'wgtp66', 'wgtp67', 'wgtp68', 'wgtp69', 'wgtp70', 'wgtp71', 'wgtp72', 'wgtp73', 'wgtp74', 'wgtp75', 'wgtp76', 'wgtp77', 'wgtp78', 'wgtp79', 'wgtp80']\n"
     ]
    }
   ],
   "source": [
    "print(list(pums_h.columns))"
   ]
  },
  {
   "cell_type": "code",
   "execution_count": 4,
   "metadata": {
    "collapsed": false,
    "scrolled": false
   },
   "outputs": [
    {
     "data": {
      "text/html": [
       "<div>\n",
       "<table border=\"1\" class=\"dataframe\">\n",
       "  <thead>\n",
       "    <tr style=\"text-align: right;\">\n",
       "      <th></th>\n",
       "      <th>RT</th>\n",
       "      <th>SERIALNO</th>\n",
       "      <th>SPORDER</th>\n",
       "      <th>PUMA</th>\n",
       "      <th>ST</th>\n",
       "      <th>ADJINC</th>\n",
       "      <th>PWGTP</th>\n",
       "      <th>AGEP</th>\n",
       "      <th>CIT</th>\n",
       "      <th>CITWP</th>\n",
       "      <th>...</th>\n",
       "      <th>pwgtp71</th>\n",
       "      <th>pwgtp72</th>\n",
       "      <th>pwgtp73</th>\n",
       "      <th>pwgtp74</th>\n",
       "      <th>pwgtp75</th>\n",
       "      <th>pwgtp76</th>\n",
       "      <th>pwgtp77</th>\n",
       "      <th>pwgtp78</th>\n",
       "      <th>pwgtp79</th>\n",
       "      <th>pwgtp80</th>\n",
       "    </tr>\n",
       "  </thead>\n",
       "  <tbody>\n",
       "    <tr>\n",
       "      <th>0</th>\n",
       "      <td>P</td>\n",
       "      <td>11</td>\n",
       "      <td>1</td>\n",
       "      <td>8508</td>\n",
       "      <td>6</td>\n",
       "      <td>1010207</td>\n",
       "      <td>109</td>\n",
       "      <td>63</td>\n",
       "      <td>1</td>\n",
       "      <td>NaN</td>\n",
       "      <td>...</td>\n",
       "      <td>176</td>\n",
       "      <td>178</td>\n",
       "      <td>120</td>\n",
       "      <td>100</td>\n",
       "      <td>173</td>\n",
       "      <td>32</td>\n",
       "      <td>129</td>\n",
       "      <td>35</td>\n",
       "      <td>34</td>\n",
       "      <td>129</td>\n",
       "    </tr>\n",
       "    <tr>\n",
       "      <th>1</th>\n",
       "      <td>P</td>\n",
       "      <td>11</td>\n",
       "      <td>2</td>\n",
       "      <td>8508</td>\n",
       "      <td>6</td>\n",
       "      <td>1010207</td>\n",
       "      <td>117</td>\n",
       "      <td>60</td>\n",
       "      <td>1</td>\n",
       "      <td>NaN</td>\n",
       "      <td>...</td>\n",
       "      <td>224</td>\n",
       "      <td>192</td>\n",
       "      <td>124</td>\n",
       "      <td>106</td>\n",
       "      <td>161</td>\n",
       "      <td>36</td>\n",
       "      <td>132</td>\n",
       "      <td>30</td>\n",
       "      <td>35</td>\n",
       "      <td>137</td>\n",
       "    </tr>\n",
       "    <tr>\n",
       "      <th>2</th>\n",
       "      <td>P</td>\n",
       "      <td>22</td>\n",
       "      <td>1</td>\n",
       "      <td>8105</td>\n",
       "      <td>6</td>\n",
       "      <td>1010207</td>\n",
       "      <td>75</td>\n",
       "      <td>79</td>\n",
       "      <td>1</td>\n",
       "      <td>NaN</td>\n",
       "      <td>...</td>\n",
       "      <td>79</td>\n",
       "      <td>127</td>\n",
       "      <td>125</td>\n",
       "      <td>110</td>\n",
       "      <td>72</td>\n",
       "      <td>20</td>\n",
       "      <td>72</td>\n",
       "      <td>134</td>\n",
       "      <td>83</td>\n",
       "      <td>143</td>\n",
       "    </tr>\n",
       "    <tr>\n",
       "      <th>3</th>\n",
       "      <td>P</td>\n",
       "      <td>31</td>\n",
       "      <td>1</td>\n",
       "      <td>1305</td>\n",
       "      <td>6</td>\n",
       "      <td>1010207</td>\n",
       "      <td>76</td>\n",
       "      <td>49</td>\n",
       "      <td>1</td>\n",
       "      <td>NaN</td>\n",
       "      <td>...</td>\n",
       "      <td>88</td>\n",
       "      <td>24</td>\n",
       "      <td>75</td>\n",
       "      <td>75</td>\n",
       "      <td>131</td>\n",
       "      <td>139</td>\n",
       "      <td>19</td>\n",
       "      <td>28</td>\n",
       "      <td>131</td>\n",
       "      <td>141</td>\n",
       "    </tr>\n",
       "    <tr>\n",
       "      <th>4</th>\n",
       "      <td>P</td>\n",
       "      <td>31</td>\n",
       "      <td>2</td>\n",
       "      <td>1305</td>\n",
       "      <td>6</td>\n",
       "      <td>1010207</td>\n",
       "      <td>98</td>\n",
       "      <td>48</td>\n",
       "      <td>1</td>\n",
       "      <td>NaN</td>\n",
       "      <td>...</td>\n",
       "      <td>129</td>\n",
       "      <td>26</td>\n",
       "      <td>81</td>\n",
       "      <td>93</td>\n",
       "      <td>179</td>\n",
       "      <td>173</td>\n",
       "      <td>25</td>\n",
       "      <td>41</td>\n",
       "      <td>164</td>\n",
       "      <td>198</td>\n",
       "    </tr>\n",
       "  </tbody>\n",
       "</table>\n",
       "<p>5 rows × 286 columns</p>\n",
       "</div>"
      ],
      "text/plain": [
       "  RT  SERIALNO  SPORDER  PUMA  ST   ADJINC  PWGTP  AGEP  CIT  CITWP   ...     \\\n",
       "0  P        11        1  8508   6  1010207    109    63    1    NaN   ...      \n",
       "1  P        11        2  8508   6  1010207    117    60    1    NaN   ...      \n",
       "2  P        22        1  8105   6  1010207     75    79    1    NaN   ...      \n",
       "3  P        31        1  1305   6  1010207     76    49    1    NaN   ...      \n",
       "4  P        31        2  1305   6  1010207     98    48    1    NaN   ...      \n",
       "\n",
       "   pwgtp71  pwgtp72  pwgtp73  pwgtp74  pwgtp75  pwgtp76  pwgtp77  pwgtp78  \\\n",
       "0      176      178      120      100      173       32      129       35   \n",
       "1      224      192      124      106      161       36      132       30   \n",
       "2       79      127      125      110       72       20       72      134   \n",
       "3       88       24       75       75      131      139       19       28   \n",
       "4      129       26       81       93      179      173       25       41   \n",
       "\n",
       "   pwgtp79  pwgtp80  \n",
       "0       34      129  \n",
       "1       35      137  \n",
       "2       83      143  \n",
       "3      131      141  \n",
       "4      164      198  \n",
       "\n",
       "[5 rows x 286 columns]"
      ]
     },
     "execution_count": 4,
     "metadata": {},
     "output_type": "execute_result"
    }
   ],
   "source": [
    "#pums_p=pd.read_csv('data/pums_p_sf_2012.csv')\n",
    "pums_p = pd.read_csv('data/ss12pca.csv')\n",
    "pums_p.head()"
   ]
  },
  {
   "cell_type": "code",
   "execution_count": 5,
   "metadata": {
    "collapsed": false,
    "scrolled": true
   },
   "outputs": [
    {
     "name": "stdout",
     "output_type": "stream",
     "text": [
      "there are 153115 observations of 206 variables in the housing table \n",
      "there are 368047 observations of 286 variables in the population table \n"
     ]
    }
   ],
   "source": [
    "print(\"there are {} observations of {} variables in the housing table \".format(pums_h.shape[0],pums_h.shape[1]))\n",
    "print(\"there are {} observations of {} variables in the population table \".format(pums_p.shape[0],pums_p.shape[1]))"
   ]
  },
  {
   "cell_type": "markdown",
   "metadata": {},
   "source": [
    "Per the [Census Bureau's quick facts sheet](http://quickfacts.census.gov/qfd/states/06000.html), there are about 38 million people and  13.8 million housing units in California.\n",
    "\n",
    "Thus, we have:\n",
    "* Sample size for housing: $\\frac{153,000}{13,800,000}=1.1\\%$\n",
    "* Sample size for population: $\\frac{368,000}{38,300,000}=.94\\%$\n",
    "\n",
    "Let's do a few statistics--how many men and women in the Golden State? To answer this, we first need the [code book](http://www.census.gov/acs/www/Downloads/data_documentation/pums/DataDict/PUMSDataDict12.pdf), which we will need regularly for these types of exercises. Which table do we need?\n",
    "\n",
    "We need the population table. As ever, refer to the data dictionary. Search for gender, male, female, or sex and see what appears."
   ]
  },
  {
   "cell_type": "code",
   "execution_count": 6,
   "metadata": {
    "collapsed": false,
    "scrolled": true
   },
   "outputs": [
    {
     "data": {
      "text/plain": [
       "0         1\n",
       "1         2\n",
       "2         2\n",
       "3         1\n",
       "4         2\n",
       "5         2\n",
       "6         2\n",
       "7         2\n",
       "8         1\n",
       "9         1\n",
       "10        1\n",
       "11        1\n",
       "12        2\n",
       "13        1\n",
       "14        1\n",
       "15        1\n",
       "16        2\n",
       "17        2\n",
       "18        2\n",
       "19        1\n",
       "20        1\n",
       "21        2\n",
       "22        2\n",
       "23        2\n",
       "24        1\n",
       "25        1\n",
       "26        2\n",
       "27        2\n",
       "28        1\n",
       "29        1\n",
       "         ..\n",
       "368017    1\n",
       "368018    2\n",
       "368019    2\n",
       "368020    1\n",
       "368021    1\n",
       "368022    1\n",
       "368023    2\n",
       "368024    2\n",
       "368025    1\n",
       "368026    2\n",
       "368027    2\n",
       "368028    2\n",
       "368029    2\n",
       "368030    1\n",
       "368031    1\n",
       "368032    2\n",
       "368033    1\n",
       "368034    1\n",
       "368035    2\n",
       "368036    1\n",
       "368037    2\n",
       "368038    1\n",
       "368039    2\n",
       "368040    1\n",
       "368041    1\n",
       "368042    2\n",
       "368043    1\n",
       "368044    2\n",
       "368045    1\n",
       "368046    2\n",
       "Name: SEX, dtype: int64"
      ]
     },
     "execution_count": 6,
     "metadata": {},
     "output_type": "execute_result"
    }
   ],
   "source": [
    "pums_p.SEX"
   ]
  },
  {
   "cell_type": "code",
   "execution_count": 7,
   "metadata": {
    "collapsed": false,
    "scrolled": false
   },
   "outputs": [
    {
     "data": {
      "text/plain": [
       "2    186615\n",
       "1    181432\n",
       "Name: SEX, dtype: int64"
      ]
     },
     "execution_count": 7,
     "metadata": {},
     "output_type": "execute_result"
    }
   ],
   "source": [
    "pums_p.SEX.value_counts() #.map({'1':\"Male\",'2':\"Female\"})"
   ]
  },
  {
   "cell_type": "markdown",
   "metadata": {},
   "source": [
    "So, there are 181,000 1's and 186,000 2's. Done? \n",
    "\n",
    "No, we need to remember that these records have sample weights associated with them, allowing us to make *population estimates*. Think of the weights as roughly inversely proportional to the sampling probability. They should hover around 100, given the sample rate is around 1%. But some groups are much more likely to respond to surveys than others. The Census Bureau employs such information when designing the survey and sample rates for specific sub-groups. \n",
    "\n",
    "To get population estimates, we typically need to sum the weights."
   ]
  },
  {
   "cell_type": "code",
   "execution_count": 8,
   "metadata": {
    "collapsed": false,
    "scrolled": true
   },
   "outputs": [
    {
     "data": {
      "text/html": [
       "<div>\n",
       "<table border=\"1\" class=\"dataframe\">\n",
       "  <thead>\n",
       "    <tr style=\"text-align: right;\">\n",
       "      <th></th>\n",
       "      <th>sum</th>\n",
       "    </tr>\n",
       "    <tr>\n",
       "      <th>SEX</th>\n",
       "      <th></th>\n",
       "    </tr>\n",
       "  </thead>\n",
       "  <tbody>\n",
       "    <tr>\n",
       "      <th>1</th>\n",
       "      <td>18910864</td>\n",
       "    </tr>\n",
       "    <tr>\n",
       "      <th>2</th>\n",
       "      <td>19130566</td>\n",
       "    </tr>\n",
       "  </tbody>\n",
       "</table>\n",
       "</div>"
      ],
      "text/plain": [
       "          sum\n",
       "SEX          \n",
       "1    18910864\n",
       "2    19130566"
      ]
     },
     "execution_count": 8,
     "metadata": {},
     "output_type": "execute_result"
    }
   ],
   "source": [
    "pop_by_gender =  pums_p.groupby(['SEX'])['PWGTP'].agg(['sum'])\n",
    "pop_by_gender"
   ]
  },
  {
   "cell_type": "code",
   "execution_count": 9,
   "metadata": {
    "collapsed": false,
    "scrolled": true
   },
   "outputs": [
    {
     "data": {
      "text/plain": [
       "<matplotlib.axes._subplots.AxesSubplot at 0x1197c8278>"
      ]
     },
     "execution_count": 9,
     "metadata": {},
     "output_type": "execute_result"
    },
    {
     "data": {
      "image/png": "[encoded data removed]",
      "text/plain": [
       "<matplotlib.figure.Figure at 0x10500de10>"
      ]
     },
     "metadata": {},
     "output_type": "display_data"
    }
   ],
   "source": [
    "pop_by_gender.plot(kind='barh')"
   ]
  },
  {
   "cell_type": "markdown",
   "metadata": {},
   "source": [
    "## Let's do a little filtering\n",
    "We want to keep just the Bay Area records for now. So what geographic identifiers do we have in the PUMS files?"
   ]
  },
  {
   "cell_type": "code",
   "execution_count": 10,
   "metadata": {
    "collapsed": false
   },
   "outputs": [
    {
     "data": {
      "text/plain": [
       "dict_keys(['001', '013', '041', '055', '075', '081', '085', '095', '097'])"
      ]
     },
     "execution_count": 10,
     "metadata": {},
     "output_type": "execute_result"
    }
   ],
   "source": [
    "bayareafips ={'001':'Alameda', '013':'Contra Costa', '041':'Marin', '055':'Napa', '075':'San Francisco', '081':'San Mateo', '085':'Santa Clara', '095':'Sonoma', '097':'Solano'}\n",
    "bayareafips.keys()"
   ]
  },
  {
   "cell_type": "code",
   "execution_count": 11,
   "metadata": {
    "collapsed": false,
    "scrolled": true
   },
   "outputs": [
    {
     "name": "stdout",
     "output_type": "stream",
     "text": [
      "['RT', 'SERIALNO', 'SPORDER', 'PUMA', 'ST', 'ADJINC', 'PWGTP', 'AGEP', 'CIT', 'CITWP', 'COW', 'DDRS', 'DEAR', 'DEYE', 'DOUT', 'DPHY', 'DRAT', 'DRATX', 'DREM', 'ENG', 'FER', 'GCL', 'GCM', 'GCR', 'HINS1', 'HINS2', 'HINS3', 'HINS4', 'HINS5', 'HINS6', 'HINS7', 'INTP', 'JWMNP', 'JWRIP', 'JWTR', 'LANX', 'MAR', 'MARHD', 'MARHM', 'MARHT', 'MARHW', 'MARHYP', 'MIG', 'MIL', 'MLPA', 'MLPB', 'MLPC', 'MLPD', 'MLPE', 'MLPF', 'MLPG', 'MLPH', 'MLPI', 'MLPJ', 'MLPK', 'NWAB', 'NWAV', 'NWLA', 'NWLK', 'NWRE', 'OIP', 'PAP', 'RELP', 'RETP', 'SCH', 'SCHG', 'SCHL', 'SEMP', 'SEX', 'SSIP', 'SSP', 'WAGP', 'WKHP', 'WKL', 'WKW', 'WRK', 'YOEP', 'ANC', 'ANC1P', 'ANC2P', 'DECADE', 'DIS', 'DRIVESP', 'ESP', 'ESR', 'FOD1P', 'FOD2P', 'HICOV', 'HISP', 'INDP', 'JWAP', 'JWDP', 'LANP', 'MIGPUMA', 'MIGSP', 'MSP', 'NAICSP', 'NATIVITY', 'NOP', 'OC', 'OCCP', 'PAOC', 'PERNP', 'PINCP', 'POBP', 'POVPIP', 'POWPUMA', 'POWSP', 'PRIVCOV', 'PUBCOV', 'QTRBIR', 'RAC1P', 'RAC2P', 'RAC3P', 'RACAIAN', 'RACASN', 'RACBLK', 'RACNH', 'RACNUM', 'RACPI', 'RACSOR', 'RACWHT', 'RC', 'SCIENGP', 'SCIENGRLP', 'SFN', 'SFR', 'SOCP', 'SSPA', 'VPS', 'WAOB', 'FAGEP', 'FANCP', 'FCITP', 'FCITWP', 'FCOWP', 'FDDRSP', 'FDEARP', 'FDEYEP', 'FDISP', 'FDOUTP', 'FDPHYP', 'FDRATP', 'FDRATXP', 'FDREMP', 'FENGP', 'FESRP', 'FFERP', 'FFODP', 'FGCLP', 'FGCMP', 'FGCRP', 'FHINS1P', 'FHINS2P', 'FHINS3C', 'FHINS3P', 'FHINS4C', 'FHINS4P', 'FHINS5C', 'FHINS5P', 'FHINS6P', 'FHINS7P', 'FHISP', 'FINDP', 'FINTP', 'FJWDP', 'FJWMNP', 'FJWRIP', 'FJWTRP', 'FLANP', 'FLANXP', 'FMARHDP', 'FMARHMP', 'FMARHTP', 'FMARHWP', 'FMARHYP', 'FMARP', 'FMIGP', 'FMIGSP', 'FMILPP', 'FMILSP', 'FOCCP', 'FOIP', 'FPAP', 'FPERNP', 'FPINCP', 'FPOBP', 'FPOWSP', 'FPRIVCOVP', 'FPUBCOVP', 'FRACP', 'FRELP', 'FRETP', 'FSCHGP', 'FSCHLP', 'FSCHP', 'FSEMP', 'FSEXP', 'FSSIP', 'FSSP', 'FWAGP', 'FWKHP', 'FWKLP', 'FWKWP', 'FWRKP', 'FYOEP', 'pwgtp1', 'pwgtp2', 'pwgtp3', 'pwgtp4', 'pwgtp5', 'pwgtp6', 'pwgtp7', 'pwgtp8', 'pwgtp9', 'pwgtp10', 'pwgtp11', 'pwgtp12', 'pwgtp13', 'pwgtp14', 'pwgtp15', 'pwgtp16', 'pwgtp17', 'pwgtp18', 'pwgtp19', 'pwgtp20', 'pwgtp21', 'pwgtp22', 'pwgtp23', 'pwgtp24', 'pwgtp25', 'pwgtp26', 'pwgtp27', 'pwgtp28', 'pwgtp29', 'pwgtp30', 'pwgtp31', 'pwgtp32', 'pwgtp33', 'pwgtp34', 'pwgtp35', 'pwgtp36', 'pwgtp37', 'pwgtp38', 'pwgtp39', 'pwgtp40', 'pwgtp41', 'pwgtp42', 'pwgtp43', 'pwgtp44', 'pwgtp45', 'pwgtp46', 'pwgtp47', 'pwgtp48', 'pwgtp49', 'pwgtp50', 'pwgtp51', 'pwgtp52', 'pwgtp53', 'pwgtp54', 'pwgtp55', 'pwgtp56', 'pwgtp57', 'pwgtp58', 'pwgtp59', 'pwgtp60', 'pwgtp61', 'pwgtp62', 'pwgtp63', 'pwgtp64', 'pwgtp65', 'pwgtp66', 'pwgtp67', 'pwgtp68', 'pwgtp69', 'pwgtp70', 'pwgtp71', 'pwgtp72', 'pwgtp73', 'pwgtp74', 'pwgtp75', 'pwgtp76', 'pwgtp77', 'pwgtp78', 'pwgtp79', 'pwgtp80']\n"
     ]
    }
   ],
   "source": [
    "print(list(pums_p.columns))"
   ]
  },
  {
   "cell_type": "code",
   "execution_count": 12,
   "metadata": {
    "collapsed": false
   },
   "outputs": [
    {
     "data": {
      "text/plain": [
       "(265,)"
      ]
     },
     "execution_count": 12,
     "metadata": {},
     "output_type": "execute_result"
    }
   ],
   "source": [
    "pums_p.PUMA.unique().shape"
   ]
  },
  {
   "cell_type": "markdown",
   "metadata": {},
   "source": [
    "(Incidentally, 265 means they easily satisfy the 100,000 population per PUMA area). \n",
    "To know which PUMAS are in which counties, we need to get a [correspondence](http://www2.census.gov/geo/tiger/GENZ2013/cb_2013_06_puma10_500k.zip). Or we can cheat--SF PUMAS provided below."
   ]
  },
  {
   "cell_type": "code",
   "execution_count": 13,
   "metadata": {
    "collapsed": false
   },
   "outputs": [
    {
     "data": {
      "text/plain": [
       "[7501, 7502, 7503, 7504, 7505, 7506, 7507]"
      ]
     },
     "execution_count": 13,
     "metadata": {},
     "output_type": "execute_result"
    }
   ],
   "source": [
    "sfPUMAS = [k for k in range(7501,7508)]\n",
    "sfPUMAS"
   ]
  },
  {
   "cell_type": "code",
   "execution_count": 14,
   "metadata": {
    "collapsed": false
   },
   "outputs": [
    {
     "data": {
      "text/plain": [
       "(7311, 286)"
      ]
     },
     "execution_count": 14,
     "metadata": {},
     "output_type": "execute_result"
    }
   ],
   "source": [
    "pums_p_sf=pums_p.ix[pums_p.PUMA.isin(sfPUMAS)]\n",
    "pums_p_sf.shape"
   ]
  },
  {
   "cell_type": "code",
   "execution_count": 15,
   "metadata": {
    "collapsed": false
   },
   "outputs": [
    {
     "data": {
      "text/plain": [
       "(3586, 206)"
      ]
     },
     "execution_count": 15,
     "metadata": {},
     "output_type": "execute_result"
    }
   ],
   "source": [
    "pums_h_sf=pums_h.ix[pums_h.PUMA.isin(sfPUMAS)]\n",
    "pums_h_sf.shape"
   ]
  },
  {
   "cell_type": "markdown",
   "metadata": {},
   "source": [
    "Down to several thousand records now. How many records in each?"
   ]
  },
  {
   "cell_type": "code",
   "execution_count": 16,
   "metadata": {
    "collapsed": false,
    "scrolled": true
   },
   "outputs": [
    {
     "data": {
      "text/html": [
       "<div>\n",
       "<table border=\"1\" class=\"dataframe\">\n",
       "  <thead>\n",
       "    <tr style=\"text-align: right;\">\n",
       "      <th></th>\n",
       "      <th>size</th>\n",
       "    </tr>\n",
       "    <tr>\n",
       "      <th>PUMA</th>\n",
       "      <th></th>\n",
       "    </tr>\n",
       "  </thead>\n",
       "  <tbody>\n",
       "    <tr>\n",
       "      <th>7501</th>\n",
       "      <td>1231</td>\n",
       "    </tr>\n",
       "    <tr>\n",
       "      <th>7502</th>\n",
       "      <td>896</td>\n",
       "    </tr>\n",
       "    <tr>\n",
       "      <th>7503</th>\n",
       "      <td>971</td>\n",
       "    </tr>\n",
       "    <tr>\n",
       "      <th>7504</th>\n",
       "      <td>955</td>\n",
       "    </tr>\n",
       "    <tr>\n",
       "      <th>7505</th>\n",
       "      <td>969</td>\n",
       "    </tr>\n",
       "    <tr>\n",
       "      <th>7506</th>\n",
       "      <td>1063</td>\n",
       "    </tr>\n",
       "    <tr>\n",
       "      <th>7507</th>\n",
       "      <td>1226</td>\n",
       "    </tr>\n",
       "  </tbody>\n",
       "</table>\n",
       "</div>"
      ],
      "text/plain": [
       "      size\n",
       "PUMA      \n",
       "7501  1231\n",
       "7502   896\n",
       "7503   971\n",
       "7504   955\n",
       "7505   969\n",
       "7506  1063\n",
       "7507  1226"
      ]
     },
     "execution_count": 16,
     "metadata": {},
     "output_type": "execute_result"
    }
   ],
   "source": [
    "## records per puma\n",
    "pums_p_sf.groupby(['PUMA'])['PWGTP'].agg(['size'])"
   ]
  },
  {
   "cell_type": "markdown",
   "metadata": {},
   "source": [
    "What is the 2012 population of San Francisco based on these data?"
   ]
  },
  {
   "cell_type": "code",
   "execution_count": 17,
   "metadata": {
    "collapsed": false
   },
   "outputs": [
    {
     "data": {
      "text/plain": [
       "824855"
      ]
     },
     "execution_count": 17,
     "metadata": {},
     "output_type": "execute_result"
    }
   ],
   "source": [
    "sf_pop = pums_p_sf.PWGTP.sum()\n",
    "sf_pop"
   ]
  },
  {
   "cell_type": "markdown",
   "metadata": {},
   "source": [
    "# Processing and recoding stuff\n",
    "Data comes with numeric codes. Let's assign labels to a few as well as create some dummies."
   ]
  },
  {
   "cell_type": "markdown",
   "metadata": {},
   "source": [
    "### make convenience wrapper for assigning labels from dictionary to codes in data files\n",
    "PUMS variables are not exposed in the census API (yet, at least). Instead, grab variable labels--pasted directly from PDF [data dictionary](http://www.census.gov/acs/www/Downloads/data_documentation/pums/DataDict/PUMSDataDict12.pdf).\n",
    "\n",
    "Wrapper here reads the pasted strings, cleans them a bit and tries to stuff into a dictionary."
   ]
  },
  {
   "cell_type": "code",
   "execution_count": 18,
   "metadata": {
    "collapsed": false
   },
   "outputs": [],
   "source": [
    "def map_value_labels(codes_pasted):\n",
    "    code = []\n",
    "    for item in codes_pasted.strip('\\n').replace(' .',',').split('\\n'):\n",
    "        id = int(item.split(',')[0])\n",
    "        val = item.split(',')[1]\n",
    "        code.append([id,val])\n",
    "    return dict(code)\n",
    "\n",
    "def assign_value_labels(df,value_map,var):\n",
    "    target = var+'L'\n",
    "    if target in df.columns:\n",
    "        df[target].replace(df[var].map(value_map))\n",
    "    else:\n",
    "        df[target] = df[var].map(value_map)\n",
    "    print(df[target].value_counts())"
   ]
  },
  {
   "cell_type": "markdown",
   "metadata": {},
   "source": [
    "### Applying the value label wrappers / mappers\n",
    "1. paste the code, store in a variable as a string."
   ]
  },
  {
   "cell_type": "code",
   "execution_count": 19,
   "metadata": {
    "collapsed": true
   },
   "outputs": [],
   "source": [
    "## we ship the blank category here--Ideally fix, but currently most vars are loaded as integers, so 'bb' won't work here\n",
    "## RACE\n",
    "## note that these are not actually verbatim categories from the code book. Instead, this collapses categories.\n",
    "codesrace =\"\"\"\n",
    "1 .White\n",
    "2 .Black\n",
    "3 .Other\n",
    "4 .Other\n",
    "5 .Other\n",
    "6 .Asian\n",
    "7 .Other\n",
    "8 .Other\n",
    "9 .Two + Races\n",
    "\"\"\""
   ]
  },
  {
   "cell_type": "code",
   "execution_count": 20,
   "metadata": {
    "collapsed": true
   },
   "outputs": [],
   "source": [
    "## TENURE\n",
    "codesten=\"\"\"\n",
    "1 .Owned with mortgage or loan (include home equity loans)\n",
    "2 .Owned free and clear\n",
    "3 .Rented\n",
    "4 .Occupied without payment of rent\n",
    "\"\"\""
   ]
  },
  {
   "cell_type": "code",
   "execution_count": 21,
   "metadata": {
    "collapsed": true
   },
   "outputs": [],
   "source": [
    "## YEAR BUILT\n",
    "codeybl=\"\"\"\n",
    "01 .1939 or earlier\n",
    "02 .1940 to 1959\n",
    "03 .1940 to 1959\n",
    "04 .1960 to 1979\n",
    "05 .1960 to 1979\n",
    "06 .1980 to 1999\n",
    "07 .1980 to 1999\n",
    "08 .2000 to 2011\n",
    "09 .2000 to 2011\n",
    "10 .2000 to 2011\n",
    "11 .2000 to 2011\n",
    "12 .2000 to 2011\n",
    "13 .2000 to 2011\n",
    "14 .2000 to 2011\n",
    "15 .2000 to 2011\n",
    "\"\"\""
   ]
  },
  {
   "cell_type": "code",
   "execution_count": 22,
   "metadata": {
    "collapsed": true
   },
   "outputs": [],
   "source": [
    "## YEAR MOVED INTO UNIT\n",
    "codemovein=\"\"\"\n",
    "1 .12 months or less\n",
    "2 .13 to 23 months\n",
    "3 .2 to 4 years\n",
    "4 .5 to 9 years\n",
    "5 .10 to 19 years\n",
    "6 .20 to 29 years\n",
    "7 .30 years or more\n",
    "\"\"\""
   ]
  },
  {
   "cell_type": "markdown",
   "metadata": {},
   "source": [
    "Then, grab those strings, and call the two wrapper functions\n",
    " 2. `race_value_map` in the example below stores the mapping dictionary\n",
    " 3. `assign_value_labels` applies those value labels to the passed dataframe in the source variable name, with an `_l` (for label) appended."
   ]
  },
  {
   "cell_type": "code",
   "execution_count": 37,
   "metadata": {
    "collapsed": false
   },
   "outputs": [
    {
     "name": "stdout",
     "output_type": "stream",
     "text": [
      "White          233425\n",
      "Asian           51761\n",
      "Other           46025\n",
      "Black           20146\n",
      "Two + Races     16690\n",
      "Name: RAC1PL, dtype: int64\n"
     ]
    }
   ],
   "source": [
    "var = 'RAC1P'\n",
    "value_map = map_value_labels(codesrace)\n",
    "assign_value_labels(pums_p,value_map,var) "
   ]
  },
  {
   "cell_type": "code",
   "execution_count": 38,
   "metadata": {
    "collapsed": false,
    "scrolled": true
   },
   "outputs": [
    {
     "name": "stdout",
     "output_type": "stream",
     "text": [
      "5 to 9 years         30248\n",
      "10 to 19 years       28520\n",
      "2 to 4 years         23960\n",
      "12 months or less    16910\n",
      "13 to 23 months      16562\n",
      "30 years or more     15107\n",
      "20 to 29 years       13988\n",
      "Name: MVL, dtype: int64\n"
     ]
    }
   ],
   "source": [
    "var = 'MV'\n",
    "value_map = map_value_labels(codemovein)\n",
    "assign_value_labels(pums_h,value_map,var) "
   ]
  },
  {
   "cell_type": "code",
   "execution_count": 26,
   "metadata": {
    "collapsed": false
   },
   "outputs": [
    {
     "name": "stdout",
     "output_type": "stream",
     "text": [
      "Owned with mortgage or loan (include home equity loans)    55072\n",
      "Rented                                                     49868\n",
      "Owned free and clear                                       22270\n",
      "Occupied without payment of rent                            2044\n",
      "Name: TENL, dtype: int64\n"
     ]
    }
   ],
   "source": [
    "var = 'TEN'\n",
    "value_map = map_value_labels(codesten)\n",
    "assign_value_labels(pums_h,value_map,var) "
   ]
  },
  {
   "cell_type": "code",
   "execution_count": 40,
   "metadata": {
    "collapsed": false
   },
   "outputs": [
    {
     "name": "stdout",
     "output_type": "stream",
     "text": [
      "1960 to 1979       43970\n",
      "1980 to 1999       34802\n",
      "1940 to 1959       29456\n",
      "2000 to 2011       15354\n",
      "1939 or earlier    13446\n",
      "Name: YBLL, dtype: int64\n"
     ]
    }
   ],
   "source": [
    "var = 'YBL'\n",
    "value_map = map_value_labels(codeybl)\n",
    "assign_value_labels(pums_h,value_map,var)  "
   ]
  },
  {
   "cell_type": "code",
   "execution_count": 27,
   "metadata": {
    "collapsed": false,
    "scrolled": false
   },
   "outputs": [
    {
     "data": {
      "text/plain": [
       "SERIALNO\n",
       "11    3 or more bedrooms\n",
       "19             1 bedroom\n",
       "22            2 bedrooms\n",
       "31    3 or more bedrooms\n",
       "40            2 bedrooms\n",
       "Name: BDSP_l, dtype: object"
      ]
     },
     "execution_count": 27,
     "metadata": {},
     "output_type": "execute_result"
    }
   ],
   "source": [
    "## Bedrooms\n",
    "def brclassifier(val):\n",
    "    if val < 1: return \"Studio\"\n",
    "    elif val <=1: return \"1 bedroom\"\n",
    "    elif val <=2: return \"2 bedrooms\"\n",
    "    #elif val <=3: return \"3 bedrooms\"\n",
    "    #elif val <=4: return \"4 bedrooms\"\n",
    "    elif val >=3: return \"3 or more bedrooms\"\n",
    "pums_h['BDSP_l']=pums_h.BDSP.apply(lambda x: brclassifier(x))\n",
    "pums_h.BDSP_l.head()"
   ]
  },
  {
   "cell_type": "code",
   "execution_count": 29,
   "metadata": {
    "collapsed": false
   },
   "outputs": [
    {
     "data": {
      "text/plain": [
       "'59-78'"
      ]
     },
     "execution_count": 29,
     "metadata": {},
     "output_type": "execute_result"
    }
   ],
   "source": [
    "def age_mapping_dyn(x):\n",
    "    ## ordinal var\n",
    "    breaks = [0,18,34,59,79,99]\n",
    "\n",
    "    ## given the breaks above, what is the interval between each?\n",
    "    diff=[breaks[i+1]-breaks[i] for i in range(len(breaks)-1)]\n",
    "    \n",
    "    ## make tuples of breaks and distance--we need this to generate a list of age ranges\n",
    "    joint = zip(breaks,diff)\n",
    "    l=['%s-%s'%(yr[0],yr[0]+yr[1]-1) for yr in joint]\n",
    "    \n",
    "    # Which bin in breaks does the age fall in?\n",
    "    cnt=0\n",
    "    for k in breaks:\n",
    "        #print k\n",
    "        if x<k:\n",
    "            break\n",
    "        else:\n",
    "            cnt+=1\n",
    "    index = 0 if cnt==0 else cnt-1\n",
    "    \n",
    "    ## the bin id is then used to select the appropriate age range\n",
    "    return l[index]\n",
    "\n",
    "age_mapping_dyn(67)"
   ]
  },
  {
   "cell_type": "code",
   "execution_count": 59,
   "metadata": {
    "collapsed": false
   },
   "outputs": [
    {
     "data": {
      "text/plain": [
       "0    59-78\n",
       "1    59-78\n",
       "2    79-98\n",
       "3    34-58\n",
       "4    34-58\n",
       "Name: AGEPL, dtype: object"
      ]
     },
     "execution_count": 59,
     "metadata": {},
     "output_type": "execute_result"
    }
   ],
   "source": [
    "pums_p['AGEPL']=pums_p.AGEP.map(age_mapping_dyn)\n",
    "pums_p.AGEPL.head()"
   ]
  },
  {
   "cell_type": "markdown",
   "metadata": {},
   "source": [
    "## Let's create a new dummy for movers\n",
    "First, we create a new variable, called newcomer, referring to folks who moved to SF during the past year. The relevant variable is `MIGPUMA`. How does it work? There are lots of missing values--most folks do not move during a given year.\n",
    "\n",
    "(Codes differ from PUMA designations, as it happens. Refer to [code list](http://www.census.gov/acs/www/Downloads/data_documentation/pums/CodeLists/ACSPUMS2012CodeLists.pdf) here:)"
   ]
  },
  {
   "cell_type": "code",
   "execution_count": 45,
   "metadata": {
    "collapsed": false
   },
   "outputs": [
    {
     "data": {
      "text/plain": [
       "dtype('float64')"
      ]
     },
     "execution_count": 45,
     "metadata": {},
     "output_type": "execute_result"
    }
   ],
   "source": [
    "pums_p['MIGPUMA'].dtypes"
   ]
  },
  {
   "cell_type": "code",
   "execution_count": 42,
   "metadata": {
    "collapsed": false
   },
   "outputs": [
    {
     "data": {
      "text/plain": [
       "3700.0    11612\n",
       "7300.0     3520\n",
       "5900.0     3235\n",
       "6500.0     2696\n",
       "1.0        2367\n",
       "7100.0     2236\n",
       "100.0      2235\n",
       "6700.0     2141\n",
       "Name: MIGPUMA, dtype: int64"
      ]
     },
     "execution_count": 42,
     "metadata": {},
     "output_type": "execute_result"
    }
   ],
   "source": [
    "pums_p.MIGPUMA.value_counts().head(8)"
   ]
  },
  {
   "cell_type": "code",
   "execution_count": 46,
   "metadata": {
    "collapsed": false,
    "scrolled": true
   },
   "outputs": [
    {
     "data": {
      "text/plain": [
       "existing resident    317362\n",
       "new resident          50685\n",
       "Name: newcomer, dtype: int64"
      ]
     },
     "execution_count": 46,
     "metadata": {},
     "output_type": "execute_result"
    }
   ],
   "source": [
    "pums_p['newcomer'], pums_h['newcomer']=0,0\n",
    "pums_p.ix[(pums_p.MIGPUMA!=7500)&(pums_p.MIGPUMA>0),['newcomer']]=1\n",
    "pums_p['newcomer']=pums_p['newcomer'].map({0:'existing resident',1:'new resident'})\n",
    "pums_p['newcomer'].value_counts()"
   ]
  },
  {
   "cell_type": "markdown",
   "metadata": {},
   "source": [
    "## Now we can study our population with respect to other characteristics\n"
   ]
  },
  {
   "cell_type": "code",
   "execution_count": 33,
   "metadata": {
    "collapsed": false
   },
   "outputs": [
    {
     "data": {
      "text/plain": [
       "<matplotlib.axes._subplots.AxesSubplot at 0x106353ba8>"
      ]
     },
     "execution_count": 33,
     "metadata": {},
     "output_type": "execute_result"
    },
    {
     "data": {
      "image/png": "[encoded data removed]",
      "text/plain": [
       "<matplotlib.figure.Figure at 0x1063506d8>"
      ]
     },
     "metadata": {},
     "output_type": "display_data"
    }
   ],
   "source": [
    "pums_p.ix[:,['newcomer','SEX','PWGTP']].groupby(['newcomer','SEX']).sum().unstack().plot(kind='barh')"
   ]
  },
  {
   "cell_type": "markdown",
   "metadata": {},
   "source": [
    "Let's add some age information to movers, picking arbitrary age breaks for categorization."
   ]
  },
  {
   "cell_type": "code",
   "execution_count": 61,
   "metadata": {
    "collapsed": false,
    "scrolled": true
   },
   "outputs": [
    {
     "data": {
      "text/html": [
       "<div>\n",
       "<table border=\"1\" class=\"dataframe\">\n",
       "  <thead>\n",
       "    <tr style=\"text-align: right;\">\n",
       "      <th></th>\n",
       "      <th></th>\n",
       "      <th>PWGTP</th>\n",
       "    </tr>\n",
       "    <tr>\n",
       "      <th>newcomer</th>\n",
       "      <th>AGEPL</th>\n",
       "      <th></th>\n",
       "    </tr>\n",
       "  </thead>\n",
       "  <tbody>\n",
       "    <tr>\n",
       "      <th rowspan=\"5\" valign=\"top\">existing resident</th>\n",
       "      <th>0-17</th>\n",
       "      <td>7882541</td>\n",
       "    </tr>\n",
       "    <tr>\n",
       "      <th>18-33</th>\n",
       "      <td>6709605</td>\n",
       "    </tr>\n",
       "    <tr>\n",
       "      <th>34-58</th>\n",
       "      <td>11216011</td>\n",
       "    </tr>\n",
       "    <tr>\n",
       "      <th>59-78</th>\n",
       "      <td>5187931</td>\n",
       "    </tr>\n",
       "    <tr>\n",
       "      <th>79-98</th>\n",
       "      <td>1319422</td>\n",
       "    </tr>\n",
       "    <tr>\n",
       "      <th rowspan=\"5\" valign=\"top\">new resident</th>\n",
       "      <th>0-17</th>\n",
       "      <td>1347003</td>\n",
       "    </tr>\n",
       "    <tr>\n",
       "      <th>18-33</th>\n",
       "      <td>2263351</td>\n",
       "    </tr>\n",
       "    <tr>\n",
       "      <th>34-58</th>\n",
       "      <td>1622568</td>\n",
       "    </tr>\n",
       "    <tr>\n",
       "      <th>59-78</th>\n",
       "      <td>390474</td>\n",
       "    </tr>\n",
       "    <tr>\n",
       "      <th>79-98</th>\n",
       "      <td>102524</td>\n",
       "    </tr>\n",
       "  </tbody>\n",
       "</table>\n",
       "</div>"
      ],
      "text/plain": [
       "                            PWGTP\n",
       "newcomer          AGEPL          \n",
       "existing resident 0-17    7882541\n",
       "                  18-33   6709605\n",
       "                  34-58  11216011\n",
       "                  59-78   5187931\n",
       "                  79-98   1319422\n",
       "new resident      0-17    1347003\n",
       "                  18-33   2263351\n",
       "                  34-58   1622568\n",
       "                  59-78    390474\n",
       "                  79-98    102524"
      ]
     },
     "execution_count": 61,
     "metadata": {},
     "output_type": "execute_result"
    }
   ],
   "source": [
    "pums_p.ix[:,['newcomer','AGEPL','PWGTP']].groupby(['newcomer','AGEPL']).sum()"
   ]
  },
  {
   "cell_type": "code",
   "execution_count": 64,
   "metadata": {
    "collapsed": false,
    "scrolled": true
   },
   "outputs": [
    {
     "data": {
      "text/plain": [
       "<matplotlib.axes._subplots.AxesSubplot at 0x121b41a58>"
      ]
     },
     "execution_count": 64,
     "metadata": {},
     "output_type": "execute_result"
    },
    {
     "data": {
      "image/png": "[encoded data removed]",
      "text/plain": [
       "<matplotlib.figure.Figure at 0x124de8b38>"
      ]
     },
     "metadata": {},
     "output_type": "display_data"
    }
   ],
   "source": [
    "pums_p.ix[:,['newcomer','AGEPL','PWGTP']].groupby(['newcomer','AGEPL']).sum().unstack().plot(kind='barh')"
   ]
  },
  {
   "cell_type": "code",
   "execution_count": 66,
   "metadata": {
    "collapsed": false
   },
   "outputs": [
    {
     "data": {
      "text/plain": [
       "<matplotlib.axes._subplots.AxesSubplot at 0x125434e80>"
      ]
     },
     "execution_count": 66,
     "metadata": {},
     "output_type": "execute_result"
    },
    {
     "data": {
      "image/png": "[encoded data removed]",
      "text/plain": [
       "<matplotlib.figure.Figure at 0x1256d2a58>"
      ]
     },
     "metadata": {},
     "output_type": "display_data"
    }
   ],
   "source": [
    "pums_p.ix[:,['newcomer','AGEPL','PWGTP']].groupby(['newcomer','AGEPL']).sum().unstack().plot(kind='barh')"
   ]
  },
  {
   "cell_type": "code",
   "execution_count": 56,
   "metadata": {
    "collapsed": false
   },
   "outputs": [
    {
     "data": {
      "text/html": [
       "<div>\n",
       "<table border=\"1\" class=\"dataframe\">\n",
       "  <thead>\n",
       "    <tr style=\"text-align: right;\">\n",
       "      <th></th>\n",
       "      <th></th>\n",
       "      <th>PWGTP</th>\n",
       "    </tr>\n",
       "    <tr>\n",
       "      <th>newcomer</th>\n",
       "      <th>RAC1PL</th>\n",
       "      <th></th>\n",
       "    </tr>\n",
       "  </thead>\n",
       "  <tbody>\n",
       "    <tr>\n",
       "      <th rowspan=\"5\" valign=\"top\">existing resident</th>\n",
       "      <th>Asian</th>\n",
       "      <td>4388282</td>\n",
       "    </tr>\n",
       "    <tr>\n",
       "      <th>Black</th>\n",
       "      <td>1846543</td>\n",
       "    </tr>\n",
       "    <tr>\n",
       "      <th>Other</th>\n",
       "      <td>4475976</td>\n",
       "    </tr>\n",
       "    <tr>\n",
       "      <th>Two + Races</th>\n",
       "      <td>1388573</td>\n",
       "    </tr>\n",
       "    <tr>\n",
       "      <th>White</th>\n",
       "      <td>20216136</td>\n",
       "    </tr>\n",
       "    <tr>\n",
       "      <th rowspan=\"5\" valign=\"top\">new resident</th>\n",
       "      <th>Asian</th>\n",
       "      <td>738948</td>\n",
       "    </tr>\n",
       "    <tr>\n",
       "      <th>Black</th>\n",
       "      <td>422679</td>\n",
       "    </tr>\n",
       "    <tr>\n",
       "      <th>Other</th>\n",
       "      <td>863996</td>\n",
       "    </tr>\n",
       "    <tr>\n",
       "      <th>Two + Races</th>\n",
       "      <td>303564</td>\n",
       "    </tr>\n",
       "    <tr>\n",
       "      <th>White</th>\n",
       "      <td>3396733</td>\n",
       "    </tr>\n",
       "  </tbody>\n",
       "</table>\n",
       "</div>"
      ],
      "text/plain": [
       "                                  PWGTP\n",
       "newcomer          RAC1PL               \n",
       "existing resident Asian         4388282\n",
       "                  Black         1846543\n",
       "                  Other         4475976\n",
       "                  Two + Races   1388573\n",
       "                  White        20216136\n",
       "new resident      Asian          738948\n",
       "                  Black          422679\n",
       "                  Other          863996\n",
       "                  Two + Races    303564\n",
       "                  White         3396733"
      ]
     },
     "execution_count": 56,
     "metadata": {},
     "output_type": "execute_result"
    }
   ],
   "source": [
    "new_by_race = pums_p.ix[:,['newcomer','RAC1PL','PWGTP']].groupby(['newcomer','RAC1PL']).sum()\n",
    "new_by_race"
   ]
  },
  {
   "cell_type": "code",
   "execution_count": 57,
   "metadata": {
    "collapsed": false
   },
   "outputs": [
    {
     "data": {
      "text/plain": [
       "<matplotlib.axes._subplots.AxesSubplot at 0x11e0117b8>"
      ]
     },
     "execution_count": 57,
     "metadata": {},
     "output_type": "execute_result"
    },
    {
     "data": {
      "image/png": "[encoded data removed]",
      "text/plain": [
       "<matplotlib.figure.Figure at 0x11d9f0898>"
      ]
     },
     "metadata": {},
     "output_type": "display_data"
    }
   ],
   "source": [
    "new_by_race.unstack().plot(kind='barh')"
   ]
  },
  {
   "cell_type": "code",
   "execution_count": null,
   "metadata": {
    "collapsed": true
   },
   "outputs": [],
   "source": []
  },
  {
   "cell_type": "code",
   "execution_count": null,
   "metadata": {
    "collapsed": true
   },
   "outputs": [],
   "source": []
  },
  {
   "cell_type": "code",
   "execution_count": null,
   "metadata": {
    "collapsed": true
   },
   "outputs": [],
   "source": []
  },
  {
   "cell_type": "code",
   "execution_count": null,
   "metadata": {
    "collapsed": false
   },
   "outputs": [],
   "source": [
    "grouped = calls.groupby('Z')\n",
    "grouped"
   ]
  },
  {
   "cell_type": "markdown",
   "metadata": {},
   "source": [
    "Computing means on the grouped data object gives us group level means for observations matching each key value."
   ]
  },
  {
   "cell_type": "code",
   "execution_count": null,
   "metadata": {
    "collapsed": false
   },
   "outputs": [],
   "source": [
    "grouped.count()"
   ]
  },
  {
   "cell_type": "markdown",
   "metadata": {},
   "source": [
    "Here is an example, using a new object we construct as a list of the same length as the axis being grouped:"
   ]
  },
  {
   "cell_type": "code",
   "execution_count": null,
   "metadata": {
    "collapsed": true
   },
   "outputs": [],
   "source": [
    "key3 = ['x','x','x','y','y']\n",
    "grouped = df.groupby(key3)"
   ]
  },
  {
   "cell_type": "code",
   "execution_count": null,
   "metadata": {
    "collapsed": false
   },
   "outputs": [],
   "source": [
    "grouped.mean()"
   ]
  },
  {
   "cell_type": "markdown",
   "metadata": {},
   "source": [
    "If we use two keys we get a heirarchical key grouping:"
   ]
  },
  {
   "cell_type": "code",
   "execution_count": null,
   "metadata": {
    "collapsed": false
   },
   "outputs": [],
   "source": [
    "grouped = df.groupby(['key1', 'key2'])\n",
    "grouped.mean()"
   ]
  },
  {
   "cell_type": "markdown",
   "metadata": {},
   "source": [
    "You can change the presentation of the results with the 'unstack' method, like so:"
   ]
  },
  {
   "cell_type": "code",
   "execution_count": null,
   "metadata": {
    "collapsed": false
   },
   "outputs": [],
   "source": [
    "grouped.mean().unstack()"
   ]
  },
  {
   "cell_type": "markdown",
   "metadata": {},
   "source": [
    "Or just analyze one data column."
   ]
  },
  {
   "cell_type": "code",
   "execution_count": null,
   "metadata": {
    "collapsed": false
   },
   "outputs": [],
   "source": [
    "grouped['data1'].mean().unstack()"
   ]
  },
  {
   "cell_type": "markdown",
   "metadata": {},
   "source": [
    "Apparently the syntax is somewhat flexible about how to specify this:"
   ]
  },
  {
   "cell_type": "code",
   "execution_count": null,
   "metadata": {
    "collapsed": false
   },
   "outputs": [],
   "source": [
    "grouped.mean()['data1'].unstack()"
   ]
  },
  {
   "cell_type": "code",
   "execution_count": null,
   "metadata": {
    "collapsed": false
   },
   "outputs": [],
   "source": [
    "grouped.mean().unstack()['data1']"
   ]
  },
  {
   "cell_type": "markdown",
   "metadata": {},
   "source": [
    "For those of you familiar with PivotTables in Excel, you might think the above results look like PivotTables.  No coincidence.  Pandas provides an alternative way to use the groupby operations that is called pivot_table:"
   ]
  },
  {
   "cell_type": "code",
   "execution_count": null,
   "metadata": {
    "collapsed": false
   },
   "outputs": [],
   "source": [
    "df.pivot_table(index='key1', columns='key2', values='data1')"
   ]
  },
  {
   "cell_type": "markdown",
   "metadata": {},
   "source": [
    "Mean is the default agg operation, but you can use others:"
   ]
  },
  {
   "cell_type": "markdown",
   "metadata": {},
   "source": [
    "And we can combine different types of groupby objects. In this example, DataFrame columns and a list:"
   ]
  },
  {
   "cell_type": "code",
   "execution_count": null,
   "metadata": {
    "collapsed": false
   },
   "outputs": [],
   "source": [
    "grouped = df.groupby(['key1', 'key2', key3])\n",
    "grouped.mean()"
   ]
  },
  {
   "cell_type": "markdown",
   "metadata": {},
   "source": [
    "Below are the optimized groupby methods, like mean, that you can use.  You can extend these with your own functions, but these are built-in and optimized for computational performance on larger datasets."
   ]
  },
  {
   "cell_type": "markdown",
   "metadata": {},
   "source": [
    "#### Table 9-1. Optimized groupby methods ####\n",
    "| Function Name | Description |\n",
    "|---|--------------------------|\n",
    "| count | Number of non-NA values in the group\n",
    "| sum | Sum of non-NA values\n",
    "| mean | Mean of non-NA values\n",
    "| median | Arithmetic median of non-NA values\n",
    "| std, var | Unbiased (n - 1 denominator) standard deviation and variance \n",
    "| min, max | Minimum and maximum of non-NA values\n",
    "| prod | Product of non-NA values\n",
    "| first, last | First and last non-NA values"
   ]
  },
  {
   "cell_type": "code",
   "execution_count": null,
   "metadata": {
    "collapsed": false
   },
   "outputs": [],
   "source": [
    "df.pivot_table(index='key1', columns='key2', values='data1', aggfunc=max)"
   ]
  },
  {
   "cell_type": "code",
   "execution_count": null,
   "metadata": {
    "collapsed": true
   },
   "outputs": [],
   "source": [
    "grouped = df.groupby(['key1'])"
   ]
  },
  {
   "cell_type": "code",
   "execution_count": null,
   "metadata": {
    "collapsed": false
   },
   "outputs": [],
   "source": [
    "grouped.sum()"
   ]
  },
  {
   "cell_type": "markdown",
   "metadata": {},
   "source": [
    "These functions (and your own) can be put into a list, and used with the 'agg' method to get specific results you want."
   ]
  },
  {
   "cell_type": "code",
   "execution_count": null,
   "metadata": {
    "collapsed": false
   },
   "outputs": [],
   "source": [
    "function_list = ['count', 'mean', 'min', 'max']\n",
    "grouped.agg(function_list)"
   ]
  },
  {
   "cell_type": "markdown",
   "metadata": {},
   "source": [
    "You can define your own functions, and use them in these agg operations"
   ]
  },
  {
   "cell_type": "code",
   "execution_count": null,
   "metadata": {
    "collapsed": true
   },
   "outputs": [],
   "source": [
    "def max_min(x):\n",
    "    return x.max() - x.min()"
   ]
  },
  {
   "cell_type": "code",
   "execution_count": null,
   "metadata": {
    "collapsed": false
   },
   "outputs": [],
   "source": [
    "function_list = ['count', 'mean', 'min', 'max', max_min]\n",
    "grouped.agg(function_list)"
   ]
  },
  {
   "cell_type": "markdown",
   "metadata": {},
   "source": [
    "You can of course also use pandas to plot results of groupby operations."
   ]
  },
  {
   "cell_type": "code",
   "execution_count": null,
   "metadata": {
    "collapsed": false
   },
   "outputs": [],
   "source": [
    "grouped['data1'].std().plot(kind='bar')"
   ]
  },
  {
   "cell_type": "code",
   "execution_count": null,
   "metadata": {
    "collapsed": false
   },
   "outputs": [],
   "source": [
    "grouped.std().plot(kind='bar')"
   ]
  },
  {
   "cell_type": "code",
   "execution_count": null,
   "metadata": {
    "collapsed": false
   },
   "outputs": [],
   "source": [
    "grouped.std().plot(kind='bar', stacked=True)"
   ]
  },
  {
   "cell_type": "markdown",
   "metadata": {},
   "source": [
    "How does this work when we use two keys to groupby?"
   ]
  },
  {
   "cell_type": "code",
   "execution_count": null,
   "metadata": {
    "collapsed": false
   },
   "outputs": [],
   "source": [
    "grouped = df.groupby(['key1', 'key2'])\n",
    "grouped.sum().plot(kind='bar')"
   ]
  },
  {
   "cell_type": "code",
   "execution_count": null,
   "metadata": {
    "collapsed": false
   },
   "outputs": [],
   "source": [
    "grouped.sum().plot(kind='bar', stacked=True)"
   ]
  },
  {
   "cell_type": "markdown",
   "metadata": {},
   "source": [
    "## Back to Rental Data"
   ]
  },
  {
   "cell_type": "markdown",
   "metadata": {},
   "source": [
    "OK, so the best way to practice and get comfortable with these tooks is to use them on real data.  Let's get some practice with the rent_bay_filtered.csv dataset."
   ]
  },
  {
   "cell_type": "code",
   "execution_count": null,
   "metadata": {
    "collapsed": true
   },
   "outputs": [],
   "source": [
    "%matplotlib inline\n",
    "import matplotlib.pyplot as plt\n",
    "import pandas as pd\n",
    "import numpy as np\n",
    "rents = pd.read_csv('data/rent_bay_filtered.csv').dropna()"
   ]
  },
  {
   "cell_type": "code",
   "execution_count": null,
   "metadata": {
    "collapsed": false
   },
   "outputs": [],
   "source": [
    "for name in rents.columns:\n",
    "    print name+',',"
   ]
  },
  {
   "cell_type": "markdown",
   "metadata": {},
   "source": [
    "OK, one advanced topic before turning you loose on the data.  In this case, we want to compute group-level variables that are a transformation of the data.  We'll compute a z-score for each group and add it to the table of results.  Z-scored normalize by the standard error, so the resulting standard errors are 1.\n",
    "\n",
    "This example uses list comprehension."
   ]
  },
  {
   "cell_type": "code",
   "execution_count": null,
   "metadata": {
    "collapsed": false
   },
   "outputs": [],
   "source": [
    "cols = ['price', 'sqft', 'bedrooms']\n",
    "grouping_col = ['county_x']\n",
    "rent = rents[grouping_col + cols]\n",
    "grouped = rent.groupby(grouping_col)\n",
    "zscore = lambda x: (x - x.mean()) / x.std()\n",
    "rent[[ 'z_' + col for col in cols]] = grouped.transform(zscore)\n",
    "rent.head()"
   ]
  },
  {
   "cell_type": "code",
   "execution_count": null,
   "metadata": {
    "collapsed": false
   },
   "outputs": [],
   "source": [
    "rent.groupby(grouping_col).mean()"
   ]
  },
  {
   "cell_type": "code",
   "execution_count": null,
   "metadata": {
    "collapsed": false
   },
   "outputs": [],
   "source": [
    "rent.groupby(grouping_col).std()"
   ]
  },
  {
   "cell_type": "markdown",
   "metadata": {},
   "source": [
    "## OK, now back to basics.  Your turn to work with groupby."
   ]
  },
  {
   "cell_type": "markdown",
   "metadata": {},
   "source": [
    "Generate a groupby object called 'grouped' grouping on county_x"
   ]
  },
  {
   "cell_type": "code",
   "execution_count": null,
   "metadata": {
    "collapsed": true
   },
   "outputs": [],
   "source": [
    "gr = rents.groupby('county_x')"
   ]
  },
  {
   "cell_type": "markdown",
   "metadata": {},
   "source": [
    "Now compute the mean price for each county_x"
   ]
  },
  {
   "cell_type": "code",
   "execution_count": null,
   "metadata": {
    "collapsed": true
   },
   "outputs": [],
   "source": [
    "mean_prices = gr['price'].mean()"
   ]
  },
  {
   "cell_type": "markdown",
   "metadata": {},
   "source": [
    "Plot this as a bar chart"
   ]
  },
  {
   "cell_type": "code",
   "execution_count": null,
   "metadata": {
    "collapsed": false
   },
   "outputs": [],
   "source": [
    "mean_prices.plot(kind='bar')"
   ]
  },
  {
   "cell_type": "markdown",
   "metadata": {},
   "source": [
    "Compute the maximum price per county_x"
   ]
  },
  {
   "cell_type": "code",
   "execution_count": null,
   "metadata": {
    "collapsed": true
   },
   "outputs": [],
   "source": [
    "max_prices = gr['price'].max()"
   ]
  },
  {
   "cell_type": "markdown",
   "metadata": {},
   "source": [
    "Plot this as a horizontal bar chart"
   ]
  },
  {
   "cell_type": "code",
   "execution_count": null,
   "metadata": {
    "collapsed": false
   },
   "outputs": [],
   "source": [
    "max_prices.plot(kind='barh')"
   ]
  },
  {
   "cell_type": "markdown",
   "metadata": {},
   "source": [
    "Compute a groupby object using county, and within county_x, by number of bedrooms."
   ]
  },
  {
   "cell_type": "code",
   "execution_count": null,
   "metadata": {
    "collapsed": true
   },
   "outputs": [],
   "source": [
    "gr2 = rents.groupby(['county_x', 'bedrooms'])"
   ]
  },
  {
   "cell_type": "markdown",
   "metadata": {},
   "source": [
    "Compute the mean price and sqft in each groupby value (county_x and bedroom)"
   ]
  },
  {
   "cell_type": "code",
   "execution_count": null,
   "metadata": {
    "collapsed": true
   },
   "outputs": [],
   "source": [
    "means = gr2[['price', 'sqft']].mean()"
   ]
  },
  {
   "cell_type": "markdown",
   "metadata": {},
   "source": [
    "Use the 'unstack' method to present the results as a two-dimensional table"
   ]
  },
  {
   "cell_type": "code",
   "execution_count": null,
   "metadata": {
    "collapsed": true
   },
   "outputs": [],
   "source": [
    "means = means.unstack()"
   ]
  },
  {
   "cell_type": "markdown",
   "metadata": {},
   "source": [
    "Plot this as a horizontal bar chart (increase figsize to 10,10 to make this legible)"
   ]
  },
  {
   "cell_type": "code",
   "execution_count": null,
   "metadata": {
    "collapsed": false
   },
   "outputs": [],
   "source": [
    "means.plot(kind='barh', edgecolor='None', figsize=(10,10))"
   ]
  },
  {
   "cell_type": "markdown",
   "metadata": {},
   "source": [
    "Do the same tabulation (no plot), but presenting the 10th percentile values instead of means"
   ]
  },
  {
   "cell_type": "code",
   "execution_count": null,
   "metadata": {
    "collapsed": false
   },
   "outputs": [],
   "source": [
    "gr2[['price', 'sqft']].quantile(0.9)"
   ]
  },
  {
   "cell_type": "markdown",
   "metadata": {},
   "source": [
    "Do the same, but use describe to get the full statistical profile "
   ]
  },
  {
   "cell_type": "code",
   "execution_count": null,
   "metadata": {
    "collapsed": false
   },
   "outputs": [],
   "source": [
    "gr2[['price', 'sqft']].describe()"
   ]
  },
  {
   "cell_type": "markdown",
   "metadata": {},
   "source": [
    "Do the same, presenting the count of how many nonmissing price values there are in each group"
   ]
  },
  {
   "cell_type": "code",
   "execution_count": null,
   "metadata": {
    "collapsed": false
   },
   "outputs": [],
   "source": [
    "gr2[['price', 'sqft']].count()"
   ]
  },
  {
   "cell_type": "markdown",
   "metadata": {},
   "source": [
    "Define a function called 'q75_q25' that computes the difference between the 75th percentile and the 25th percentile, and analyze this value in the groupby"
   ]
  },
  {
   "cell_type": "code",
   "execution_count": null,
   "metadata": {
    "collapsed": true
   },
   "outputs": [],
   "source": [
    "def q75_q25(x):\n",
    "    return x.quantile(0.75)-x.quantile(0.25)"
   ]
  },
  {
   "cell_type": "code",
   "execution_count": null,
   "metadata": {
    "collapsed": false
   },
   "outputs": [],
   "source": [
    "gr2.agg(q75_q25)"
   ]
  },
  {
   "cell_type": "markdown",
   "metadata": {},
   "source": [
    "Create a list of functions to apply, using min, median, max, and q75_q25 for price and sqft by county_x, and bedrooms"
   ]
  },
  {
   "cell_type": "code",
   "execution_count": null,
   "metadata": {
    "collapsed": false
   },
   "outputs": [],
   "source": [
    "f = ['min', 'median', 'max', q75_q25]\n",
    "gr2.agg(f)"
   ]
  },
  {
   "cell_type": "code",
   "execution_count": null,
   "metadata": {
    "collapsed": true
   },
   "outputs": [],
   "source": []
  },
  {
   "cell_type": "markdown",
   "metadata": {},
   "source": [
    "Use the pivot_table syntax to create a table of max prices by county_x by bedrooms"
   ]
  },
  {
   "cell_type": "code",
   "execution_count": null,
   "metadata": {
    "collapsed": false
   },
   "outputs": [],
   "source": [
    "rents.pivot_table(index='county_x', columns='bedrooms', values='price')"
   ]
  },
  {
   "cell_type": "markdown",
   "metadata": {},
   "source": [
    "OK -- now start experimenting with groupby and plotting on your own data"
   ]
  },
  {
   "cell_type": "code",
   "execution_count": null,
   "metadata": {
    "collapsed": true
   },
   "outputs": [],
   "source": []
  }
 ],
 "metadata": {
  "kernelspec": {
   "display_name": "Python [default]",
   "language": "python",
   "name": "python3"
  },
  "language_info": {
   "codemirror_mode": {
    "name": "ipython",
    "version": 3
   },
   "file_extension": ".py",
   "mimetype": "text/x-python",
   "name": "python",
   "nbconvert_exporter": "python",
   "pygments_lexer": "ipython3",
   "version": "3.6.0"
  }
 },
 "nbformat": 4,
 "nbformat_minor": 1
}
