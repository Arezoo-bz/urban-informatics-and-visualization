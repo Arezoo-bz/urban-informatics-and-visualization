{
 "cells": [
  {
   "cell_type": "markdown",
   "metadata": {},
   "source": [
    "# More Basics of Pandas"
   ]
  },
  {
   "cell_type": "markdown",
   "metadata": {},
   "source": [
    "Last session we introduced Pandas quickly. Now we review the basics of using Pandas, with a more interactive workflow to solidify understanding and facility with this powerful Python toolkit."
   ]
  },
  {
   "cell_type": "markdown",
   "metadata": {},
   "source": [
    "## Reviewing Pandas Basics"
   ]
  },
  {
   "cell_type": "code",
   "execution_count": 46,
   "metadata": {
    "collapsed": false
   },
   "outputs": [],
   "source": [
    "from pandas import DataFrame\n",
    "import pandas as pd"
   ]
  },
  {
   "cell_type": "code",
   "execution_count": 47,
   "metadata": {
    "collapsed": false
   },
   "outputs": [],
   "source": [
    "import pandas as pd\n",
    "df = pd.read_csv('ca_tracts_pop_cleaned.csv')"
   ]
  },
  {
   "cell_type": "markdown",
   "metadata": {},
   "source": [
    "### Basics of indexing in Pandas\n",
    "\n",
    "The first use of indexing is to use a slice, just like we have done with other Python objects. Below we slice the first 5 index values of the first dimension of the dataframe."
   ]
  },
  {
   "cell_type": "code",
   "execution_count": 48,
   "metadata": {
    "collapsed": false
   },
   "outputs": [
    {
     "data": {
      "text/html": [
       "<div>\n",
       "<table border=\"1\" class=\"dataframe\">\n",
       "  <thead>\n",
       "    <tr style=\"text-align: right;\">\n",
       "      <th></th>\n",
       "      <th>POPGROUP</th>\n",
       "      <th>label</th>\n",
       "      <th>GEOIDLONG</th>\n",
       "      <th>GEOID</th>\n",
       "      <th>geodisplay</th>\n",
       "      <th>Population</th>\n",
       "    </tr>\n",
       "  </thead>\n",
       "  <tbody>\n",
       "    <tr>\n",
       "      <th>0</th>\n",
       "      <td>1</td>\n",
       "      <td>Total population</td>\n",
       "      <td>1400000US06001400100</td>\n",
       "      <td>6001400100</td>\n",
       "      <td>Census Tract 4001, Alameda County, California</td>\n",
       "      <td>2937</td>\n",
       "    </tr>\n",
       "    <tr>\n",
       "      <th>1</th>\n",
       "      <td>1</td>\n",
       "      <td>Total population</td>\n",
       "      <td>1400000US06001400200</td>\n",
       "      <td>6001400200</td>\n",
       "      <td>Census Tract 4002, Alameda County, California</td>\n",
       "      <td>1974</td>\n",
       "    </tr>\n",
       "    <tr>\n",
       "      <th>2</th>\n",
       "      <td>1</td>\n",
       "      <td>Total population</td>\n",
       "      <td>1400000US06001400300</td>\n",
       "      <td>6001400300</td>\n",
       "      <td>Census Tract 4003, Alameda County, California</td>\n",
       "      <td>4865</td>\n",
       "    </tr>\n",
       "    <tr>\n",
       "      <th>3</th>\n",
       "      <td>1</td>\n",
       "      <td>Total population</td>\n",
       "      <td>1400000US06001400400</td>\n",
       "      <td>6001400400</td>\n",
       "      <td>Census Tract 4004, Alameda County, California</td>\n",
       "      <td>3703</td>\n",
       "    </tr>\n",
       "    <tr>\n",
       "      <th>4</th>\n",
       "      <td>1</td>\n",
       "      <td>Total population</td>\n",
       "      <td>1400000US06001400500</td>\n",
       "      <td>6001400500</td>\n",
       "      <td>Census Tract 4005, Alameda County, California</td>\n",
       "      <td>3517</td>\n",
       "    </tr>\n",
       "  </tbody>\n",
       "</table>\n",
       "</div>"
      ],
      "text/plain": [
       "   POPGROUP             label             GEOIDLONG       GEOID  \\\n",
       "0         1  Total population  1400000US06001400100  6001400100   \n",
       "1         1  Total population  1400000US06001400200  6001400200   \n",
       "2         1  Total population  1400000US06001400300  6001400300   \n",
       "3         1  Total population  1400000US06001400400  6001400400   \n",
       "4         1  Total population  1400000US06001400500  6001400500   \n",
       "\n",
       "                                      geodisplay  Population  \n",
       "0  Census Tract 4001, Alameda County, California        2937  \n",
       "1  Census Tract 4002, Alameda County, California        1974  \n",
       "2  Census Tract 4003, Alameda County, California        4865  \n",
       "3  Census Tract 4004, Alameda County, California        3703  \n",
       "4  Census Tract 4005, Alameda County, California        3517  "
      ]
     },
     "execution_count": 48,
     "metadata": {},
     "output_type": "execute_result"
    }
   ],
   "source": [
    "df[:5]"
   ]
  },
  {
   "cell_type": "markdown",
   "metadata": {},
   "source": [
    "The first indexing method is equivalent to usinf the iloc indexing method, which uses the integer based indexing, purely based on the location of the index."
   ]
  },
  {
   "cell_type": "code",
   "execution_count": 49,
   "metadata": {
    "collapsed": false
   },
   "outputs": [
    {
     "data": {
      "text/html": [
       "<div>\n",
       "<table border=\"1\" class=\"dataframe\">\n",
       "  <thead>\n",
       "    <tr style=\"text-align: right;\">\n",
       "      <th></th>\n",
       "      <th>POPGROUP</th>\n",
       "      <th>label</th>\n",
       "      <th>GEOIDLONG</th>\n",
       "      <th>GEOID</th>\n",
       "      <th>geodisplay</th>\n",
       "      <th>Population</th>\n",
       "    </tr>\n",
       "  </thead>\n",
       "  <tbody>\n",
       "    <tr>\n",
       "      <th>0</th>\n",
       "      <td>1</td>\n",
       "      <td>Total population</td>\n",
       "      <td>1400000US06001400100</td>\n",
       "      <td>6001400100</td>\n",
       "      <td>Census Tract 4001, Alameda County, California</td>\n",
       "      <td>2937</td>\n",
       "    </tr>\n",
       "    <tr>\n",
       "      <th>1</th>\n",
       "      <td>1</td>\n",
       "      <td>Total population</td>\n",
       "      <td>1400000US06001400200</td>\n",
       "      <td>6001400200</td>\n",
       "      <td>Census Tract 4002, Alameda County, California</td>\n",
       "      <td>1974</td>\n",
       "    </tr>\n",
       "    <tr>\n",
       "      <th>2</th>\n",
       "      <td>1</td>\n",
       "      <td>Total population</td>\n",
       "      <td>1400000US06001400300</td>\n",
       "      <td>6001400300</td>\n",
       "      <td>Census Tract 4003, Alameda County, California</td>\n",
       "      <td>4865</td>\n",
       "    </tr>\n",
       "    <tr>\n",
       "      <th>3</th>\n",
       "      <td>1</td>\n",
       "      <td>Total population</td>\n",
       "      <td>1400000US06001400400</td>\n",
       "      <td>6001400400</td>\n",
       "      <td>Census Tract 4004, Alameda County, California</td>\n",
       "      <td>3703</td>\n",
       "    </tr>\n",
       "    <tr>\n",
       "      <th>4</th>\n",
       "      <td>1</td>\n",
       "      <td>Total population</td>\n",
       "      <td>1400000US06001400500</td>\n",
       "      <td>6001400500</td>\n",
       "      <td>Census Tract 4005, Alameda County, California</td>\n",
       "      <td>3517</td>\n",
       "    </tr>\n",
       "  </tbody>\n",
       "</table>\n",
       "</div>"
      ],
      "text/plain": [
       "   POPGROUP             label             GEOIDLONG       GEOID  \\\n",
       "0         1  Total population  1400000US06001400100  6001400100   \n",
       "1         1  Total population  1400000US06001400200  6001400200   \n",
       "2         1  Total population  1400000US06001400300  6001400300   \n",
       "3         1  Total population  1400000US06001400400  6001400400   \n",
       "4         1  Total population  1400000US06001400500  6001400500   \n",
       "\n",
       "                                      geodisplay  Population  \n",
       "0  Census Tract 4001, Alameda County, California        2937  \n",
       "1  Census Tract 4002, Alameda County, California        1974  \n",
       "2  Census Tract 4003, Alameda County, California        4865  \n",
       "3  Census Tract 4004, Alameda County, California        3703  \n",
       "4  Census Tract 4005, Alameda County, California        3517  "
      ]
     },
     "execution_count": 49,
     "metadata": {},
     "output_type": "execute_result"
    }
   ],
   "source": [
    "df.iloc[:5]"
   ]
  },
  {
   "cell_type": "markdown",
   "metadata": {},
   "source": [
    "A second way to index is using loc, which uses the labels of the index. Note that this approach includes the second value, whereas iloc does not."
   ]
  },
  {
   "cell_type": "code",
   "execution_count": 50,
   "metadata": {
    "collapsed": false
   },
   "outputs": [
    {
     "data": {
      "text/html": [
       "<div>\n",
       "<table border=\"1\" class=\"dataframe\">\n",
       "  <thead>\n",
       "    <tr style=\"text-align: right;\">\n",
       "      <th></th>\n",
       "      <th>POPGROUP</th>\n",
       "      <th>label</th>\n",
       "      <th>GEOIDLONG</th>\n",
       "      <th>GEOID</th>\n",
       "      <th>geodisplay</th>\n",
       "      <th>Population</th>\n",
       "    </tr>\n",
       "  </thead>\n",
       "  <tbody>\n",
       "    <tr>\n",
       "      <th>0</th>\n",
       "      <td>1</td>\n",
       "      <td>Total population</td>\n",
       "      <td>1400000US06001400100</td>\n",
       "      <td>6001400100</td>\n",
       "      <td>Census Tract 4001, Alameda County, California</td>\n",
       "      <td>2937</td>\n",
       "    </tr>\n",
       "    <tr>\n",
       "      <th>1</th>\n",
       "      <td>1</td>\n",
       "      <td>Total population</td>\n",
       "      <td>1400000US06001400200</td>\n",
       "      <td>6001400200</td>\n",
       "      <td>Census Tract 4002, Alameda County, California</td>\n",
       "      <td>1974</td>\n",
       "    </tr>\n",
       "    <tr>\n",
       "      <th>2</th>\n",
       "      <td>1</td>\n",
       "      <td>Total population</td>\n",
       "      <td>1400000US06001400300</td>\n",
       "      <td>6001400300</td>\n",
       "      <td>Census Tract 4003, Alameda County, California</td>\n",
       "      <td>4865</td>\n",
       "    </tr>\n",
       "    <tr>\n",
       "      <th>3</th>\n",
       "      <td>1</td>\n",
       "      <td>Total population</td>\n",
       "      <td>1400000US06001400400</td>\n",
       "      <td>6001400400</td>\n",
       "      <td>Census Tract 4004, Alameda County, California</td>\n",
       "      <td>3703</td>\n",
       "    </tr>\n",
       "    <tr>\n",
       "      <th>4</th>\n",
       "      <td>1</td>\n",
       "      <td>Total population</td>\n",
       "      <td>1400000US06001400500</td>\n",
       "      <td>6001400500</td>\n",
       "      <td>Census Tract 4005, Alameda County, California</td>\n",
       "      <td>3517</td>\n",
       "    </tr>\n",
       "    <tr>\n",
       "      <th>5</th>\n",
       "      <td>1</td>\n",
       "      <td>Total population</td>\n",
       "      <td>1400000US06001400600</td>\n",
       "      <td>6001400600</td>\n",
       "      <td>Census Tract 4006, Alameda County, California</td>\n",
       "      <td>1571</td>\n",
       "    </tr>\n",
       "  </tbody>\n",
       "</table>\n",
       "</div>"
      ],
      "text/plain": [
       "   POPGROUP             label             GEOIDLONG       GEOID  \\\n",
       "0         1  Total population  1400000US06001400100  6001400100   \n",
       "1         1  Total population  1400000US06001400200  6001400200   \n",
       "2         1  Total population  1400000US06001400300  6001400300   \n",
       "3         1  Total population  1400000US06001400400  6001400400   \n",
       "4         1  Total population  1400000US06001400500  6001400500   \n",
       "5         1  Total population  1400000US06001400600  6001400600   \n",
       "\n",
       "                                      geodisplay  Population  \n",
       "0  Census Tract 4001, Alameda County, California        2937  \n",
       "1  Census Tract 4002, Alameda County, California        1974  \n",
       "2  Census Tract 4003, Alameda County, California        4865  \n",
       "3  Census Tract 4004, Alameda County, California        3703  \n",
       "4  Census Tract 4005, Alameda County, California        3517  \n",
       "5  Census Tract 4006, Alameda County, California        1571  "
      ]
     },
     "execution_count": 50,
     "metadata": {},
     "output_type": "execute_result"
    }
   ],
   "source": [
    "df.loc[:5]"
   ]
  },
  {
   "cell_type": "markdown",
   "metadata": {},
   "source": [
    "Note that indexing can work for both rows and colums"
   ]
  },
  {
   "cell_type": "code",
   "execution_count": 51,
   "metadata": {
    "collapsed": false
   },
   "outputs": [
    {
     "data": {
      "text/html": [
       "<div>\n",
       "<table border=\"1\" class=\"dataframe\">\n",
       "  <thead>\n",
       "    <tr style=\"text-align: right;\">\n",
       "      <th></th>\n",
       "      <th>POPGROUP</th>\n",
       "      <th>label</th>\n",
       "      <th>GEOIDLONG</th>\n",
       "      <th>GEOID</th>\n",
       "    </tr>\n",
       "  </thead>\n",
       "  <tbody>\n",
       "    <tr>\n",
       "      <th>0</th>\n",
       "      <td>1</td>\n",
       "      <td>Total population</td>\n",
       "      <td>1400000US06001400100</td>\n",
       "      <td>6001400100</td>\n",
       "    </tr>\n",
       "    <tr>\n",
       "      <th>1</th>\n",
       "      <td>1</td>\n",
       "      <td>Total population</td>\n",
       "      <td>1400000US06001400200</td>\n",
       "      <td>6001400200</td>\n",
       "    </tr>\n",
       "    <tr>\n",
       "      <th>2</th>\n",
       "      <td>1</td>\n",
       "      <td>Total population</td>\n",
       "      <td>1400000US06001400300</td>\n",
       "      <td>6001400300</td>\n",
       "    </tr>\n",
       "    <tr>\n",
       "      <th>3</th>\n",
       "      <td>1</td>\n",
       "      <td>Total population</td>\n",
       "      <td>1400000US06001400400</td>\n",
       "      <td>6001400400</td>\n",
       "    </tr>\n",
       "    <tr>\n",
       "      <th>4</th>\n",
       "      <td>1</td>\n",
       "      <td>Total population</td>\n",
       "      <td>1400000US06001400500</td>\n",
       "      <td>6001400500</td>\n",
       "    </tr>\n",
       "    <tr>\n",
       "      <th>5</th>\n",
       "      <td>1</td>\n",
       "      <td>Total population</td>\n",
       "      <td>1400000US06001400600</td>\n",
       "      <td>6001400600</td>\n",
       "    </tr>\n",
       "  </tbody>\n",
       "</table>\n",
       "</div>"
      ],
      "text/plain": [
       "   POPGROUP             label             GEOIDLONG       GEOID\n",
       "0         1  Total population  1400000US06001400100  6001400100\n",
       "1         1  Total population  1400000US06001400200  6001400200\n",
       "2         1  Total population  1400000US06001400300  6001400300\n",
       "3         1  Total population  1400000US06001400400  6001400400\n",
       "4         1  Total population  1400000US06001400500  6001400500\n",
       "5         1  Total population  1400000US06001400600  6001400600"
      ]
     },
     "execution_count": 51,
     "metadata": {},
     "output_type": "execute_result"
    }
   ],
   "source": [
    "df.loc[:5, : 'GEOID']"
   ]
  },
  {
   "cell_type": "code",
   "execution_count": 52,
   "metadata": {
    "collapsed": false
   },
   "outputs": [
    {
     "data": {
      "text/html": [
       "<div>\n",
       "<table border=\"1\" class=\"dataframe\">\n",
       "  <thead>\n",
       "    <tr style=\"text-align: right;\">\n",
       "      <th></th>\n",
       "      <th>POPGROUP</th>\n",
       "      <th>label</th>\n",
       "      <th>GEOIDLONG</th>\n",
       "      <th>GEOID</th>\n",
       "    </tr>\n",
       "  </thead>\n",
       "  <tbody>\n",
       "    <tr>\n",
       "      <th>0</th>\n",
       "      <td>1</td>\n",
       "      <td>Total population</td>\n",
       "      <td>1400000US06001400100</td>\n",
       "      <td>6001400100</td>\n",
       "    </tr>\n",
       "    <tr>\n",
       "      <th>1</th>\n",
       "      <td>1</td>\n",
       "      <td>Total population</td>\n",
       "      <td>1400000US06001400200</td>\n",
       "      <td>6001400200</td>\n",
       "    </tr>\n",
       "    <tr>\n",
       "      <th>2</th>\n",
       "      <td>1</td>\n",
       "      <td>Total population</td>\n",
       "      <td>1400000US06001400300</td>\n",
       "      <td>6001400300</td>\n",
       "    </tr>\n",
       "    <tr>\n",
       "      <th>3</th>\n",
       "      <td>1</td>\n",
       "      <td>Total population</td>\n",
       "      <td>1400000US06001400400</td>\n",
       "      <td>6001400400</td>\n",
       "    </tr>\n",
       "    <tr>\n",
       "      <th>4</th>\n",
       "      <td>1</td>\n",
       "      <td>Total population</td>\n",
       "      <td>1400000US06001400500</td>\n",
       "      <td>6001400500</td>\n",
       "    </tr>\n",
       "  </tbody>\n",
       "</table>\n",
       "</div>"
      ],
      "text/plain": [
       "   POPGROUP             label             GEOIDLONG       GEOID\n",
       "0         1  Total population  1400000US06001400100  6001400100\n",
       "1         1  Total population  1400000US06001400200  6001400200\n",
       "2         1  Total population  1400000US06001400300  6001400300\n",
       "3         1  Total population  1400000US06001400400  6001400400\n",
       "4         1  Total population  1400000US06001400500  6001400500"
      ]
     },
     "execution_count": 52,
     "metadata": {},
     "output_type": "execute_result"
    }
   ],
   "source": [
    "df.iloc[:5, :4]"
   ]
  },
  {
   "cell_type": "markdown",
   "metadata": {},
   "source": [
    "We can select rows based on their value as well.  Notice that we nest df[df[condition]] to get this result."
   ]
  },
  {
   "cell_type": "code",
   "execution_count": 53,
   "metadata": {
    "collapsed": false
   },
   "outputs": [
    {
     "data": {
      "text/html": [
       "<div>\n",
       "<table border=\"1\" class=\"dataframe\">\n",
       "  <thead>\n",
       "    <tr style=\"text-align: right;\">\n",
       "      <th></th>\n",
       "      <th>POPGROUP</th>\n",
       "      <th>label</th>\n",
       "      <th>GEOIDLONG</th>\n",
       "      <th>GEOID</th>\n",
       "      <th>geodisplay</th>\n",
       "      <th>Population</th>\n",
       "    </tr>\n",
       "  </thead>\n",
       "  <tbody>\n",
       "    <tr>\n",
       "      <th>688</th>\n",
       "      <td>1</td>\n",
       "      <td>Total population</td>\n",
       "      <td>1400000US06017031900</td>\n",
       "      <td>6017031900</td>\n",
       "      <td>Census Tract 319, El Dorado County, California</td>\n",
       "      <td>133</td>\n",
       "    </tr>\n",
       "    <tr>\n",
       "      <th>2729</th>\n",
       "      <td>1</td>\n",
       "      <td>Total population</td>\n",
       "      <td>1400000US06037532400</td>\n",
       "      <td>6037532400</td>\n",
       "      <td>Census Tract 5324, Los Angeles County, California</td>\n",
       "      <td>112</td>\n",
       "    </tr>\n",
       "    <tr>\n",
       "      <th>3051</th>\n",
       "      <td>1</td>\n",
       "      <td>Total population</td>\n",
       "      <td>1400000US06037574700</td>\n",
       "      <td>6037574700</td>\n",
       "      <td>Census Tract 5747, Los Angeles County, California</td>\n",
       "      <td>117</td>\n",
       "    </tr>\n",
       "    <tr>\n",
       "      <th>3473</th>\n",
       "      <td>1</td>\n",
       "      <td>Total population</td>\n",
       "      <td>1400000US06037930101</td>\n",
       "      <td>6037930101</td>\n",
       "      <td>Census Tract 9301.01, Los Angeles County, Cali...</td>\n",
       "      <td>119</td>\n",
       "    </tr>\n",
       "    <tr>\n",
       "      <th>3477</th>\n",
       "      <td>1</td>\n",
       "      <td>Total population</td>\n",
       "      <td>1400000US06037980004</td>\n",
       "      <td>6037980004</td>\n",
       "      <td>Census Tract 9800.04, Los Angeles County, Cali...</td>\n",
       "      <td>169</td>\n",
       "    </tr>\n",
       "    <tr>\n",
       "      <th>3478</th>\n",
       "      <td>1</td>\n",
       "      <td>Total population</td>\n",
       "      <td>1400000US06037980008</td>\n",
       "      <td>6037980008</td>\n",
       "      <td>Census Tract 9800.08, Los Angeles County, Cali...</td>\n",
       "      <td>145</td>\n",
       "    </tr>\n",
       "    <tr>\n",
       "      <th>3479</th>\n",
       "      <td>1</td>\n",
       "      <td>Total population</td>\n",
       "      <td>1400000US06037980010</td>\n",
       "      <td>6037980010</td>\n",
       "      <td>Census Tract 9800.10, Los Angeles County, Cali...</td>\n",
       "      <td>164</td>\n",
       "    </tr>\n",
       "    <tr>\n",
       "      <th>3482</th>\n",
       "      <td>1</td>\n",
       "      <td>Total population</td>\n",
       "      <td>1400000US06037980019</td>\n",
       "      <td>6037980019</td>\n",
       "      <td>Census Tract 9800.19, Los Angeles County, Cali...</td>\n",
       "      <td>173</td>\n",
       "    </tr>\n",
       "    <tr>\n",
       "      <th>3483</th>\n",
       "      <td>1</td>\n",
       "      <td>Total population</td>\n",
       "      <td>1400000US06037980024</td>\n",
       "      <td>6037980024</td>\n",
       "      <td>Census Tract 9800.24, Los Angeles County, Cali...</td>\n",
       "      <td>186</td>\n",
       "    </tr>\n",
       "    <tr>\n",
       "      <th>4906</th>\n",
       "      <td>1</td>\n",
       "      <td>Total population</td>\n",
       "      <td>1400000US06065940100</td>\n",
       "      <td>6065940100</td>\n",
       "      <td>Census Tract 9401, Riverside County, California</td>\n",
       "      <td>166</td>\n",
       "    </tr>\n",
       "    <tr>\n",
       "      <th>5719</th>\n",
       "      <td>1</td>\n",
       "      <td>Total population</td>\n",
       "      <td>1400000US06073005500</td>\n",
       "      <td>6073005500</td>\n",
       "      <td>Census Tract 55, San Diego County, California</td>\n",
       "      <td>198</td>\n",
       "    </tr>\n",
       "    <tr>\n",
       "      <th>5726</th>\n",
       "      <td>1</td>\n",
       "      <td>Total population</td>\n",
       "      <td>1400000US06073006200</td>\n",
       "      <td>6073006200</td>\n",
       "      <td>Census Tract 62, San Diego County, California</td>\n",
       "      <td>144</td>\n",
       "    </tr>\n",
       "    <tr>\n",
       "      <th>6433</th>\n",
       "      <td>1</td>\n",
       "      <td>Total population</td>\n",
       "      <td>1400000US06075980300</td>\n",
       "      <td>6075980300</td>\n",
       "      <td>Census Tract 9803, San Francisco County, Calif...</td>\n",
       "      <td>171</td>\n",
       "    </tr>\n",
       "  </tbody>\n",
       "</table>\n",
       "</div>"
      ],
      "text/plain": [
       "      POPGROUP             label             GEOIDLONG       GEOID  \\\n",
       "688          1  Total population  1400000US06017031900  6017031900   \n",
       "2729         1  Total population  1400000US06037532400  6037532400   \n",
       "3051         1  Total population  1400000US06037574700  6037574700   \n",
       "3473         1  Total population  1400000US06037930101  6037930101   \n",
       "3477         1  Total population  1400000US06037980004  6037980004   \n",
       "3478         1  Total population  1400000US06037980008  6037980008   \n",
       "3479         1  Total population  1400000US06037980010  6037980010   \n",
       "3482         1  Total population  1400000US06037980019  6037980019   \n",
       "3483         1  Total population  1400000US06037980024  6037980024   \n",
       "4906         1  Total population  1400000US06065940100  6065940100   \n",
       "5719         1  Total population  1400000US06073005500  6073005500   \n",
       "5726         1  Total population  1400000US06073006200  6073006200   \n",
       "6433         1  Total population  1400000US06075980300  6075980300   \n",
       "\n",
       "                                             geodisplay  Population  \n",
       "688      Census Tract 319, El Dorado County, California         133  \n",
       "2729  Census Tract 5324, Los Angeles County, California         112  \n",
       "3051  Census Tract 5747, Los Angeles County, California         117  \n",
       "3473  Census Tract 9301.01, Los Angeles County, Cali...         119  \n",
       "3477  Census Tract 9800.04, Los Angeles County, Cali...         169  \n",
       "3478  Census Tract 9800.08, Los Angeles County, Cali...         145  \n",
       "3479  Census Tract 9800.10, Los Angeles County, Cali...         164  \n",
       "3482  Census Tract 9800.19, Los Angeles County, Cali...         173  \n",
       "3483  Census Tract 9800.24, Los Angeles County, Cali...         186  \n",
       "4906    Census Tract 9401, Riverside County, California         166  \n",
       "5719      Census Tract 55, San Diego County, California         198  \n",
       "5726      Census Tract 62, San Diego County, California         144  \n",
       "6433  Census Tract 9803, San Francisco County, Calif...         171  "
      ]
     },
     "execution_count": 53,
     "metadata": {},
     "output_type": "execute_result"
    }
   ],
   "source": [
    "df[df['Population'] < 200]"
   ]
  },
  {
   "cell_type": "code",
   "execution_count": 54,
   "metadata": {
    "collapsed": false
   },
   "outputs": [
    {
     "data": {
      "text/html": [
       "<div>\n",
       "<table border=\"1\" class=\"dataframe\">\n",
       "  <thead>\n",
       "    <tr style=\"text-align: right;\">\n",
       "      <th></th>\n",
       "      <th>POPGROUP</th>\n",
       "      <th>label</th>\n",
       "      <th>GEOIDLONG</th>\n",
       "      <th>GEOID</th>\n",
       "      <th>geodisplay</th>\n",
       "      <th>Population</th>\n",
       "    </tr>\n",
       "  </thead>\n",
       "  <tbody>\n",
       "    <tr>\n",
       "      <th>688</th>\n",
       "      <td>1</td>\n",
       "      <td>Total population</td>\n",
       "      <td>1400000US06017031900</td>\n",
       "      <td>6017031900</td>\n",
       "      <td>Census Tract 319, El Dorado County, California</td>\n",
       "      <td>133</td>\n",
       "    </tr>\n",
       "  </tbody>\n",
       "</table>\n",
       "</div>"
      ],
      "text/plain": [
       "     POPGROUP             label             GEOIDLONG       GEOID  \\\n",
       "688         1  Total population  1400000US06017031900  6017031900   \n",
       "\n",
       "                                         geodisplay  Population  \n",
       "688  Census Tract 319, El Dorado County, California         133  "
      ]
     },
     "execution_count": 54,
     "metadata": {},
     "output_type": "execute_result"
    }
   ],
   "source": [
    "df[df['GEOID']==6017031900]"
   ]
  },
  {
   "cell_type": "markdown",
   "metadata": {},
   "source": [
    "Here we show how to set a value of a cell in the table, identifying a specific row by index label, and setting its population."
   ]
  },
  {
   "cell_type": "code",
   "execution_count": 55,
   "metadata": {
    "collapsed": false
   },
   "outputs": [
    {
     "data": {
      "text/plain": [
       "POPGROUP                                                   1\n",
       "label                                       Total population\n",
       "GEOIDLONG                               1400000US06017031900\n",
       "GEOID                                             6017031900\n",
       "geodisplay    Census Tract 319, El Dorado County, California\n",
       "Population                                               134\n",
       "Name: 688, dtype: object"
      ]
     },
     "execution_count": 55,
     "metadata": {},
     "output_type": "execute_result"
    }
   ],
   "source": [
    "df.loc[688,'Population'] = 134\n",
    "df.loc[688]"
   ]
  },
  {
   "cell_type": "markdown",
   "metadata": {},
   "source": [
    "Here we find and print records that are in El Dorado County, using the str attribute and 'contains' to search for the county name in geodisplay."
   ]
  },
  {
   "cell_type": "code",
   "execution_count": 56,
   "metadata": {
    "collapsed": false
   },
   "outputs": [
    {
     "data": {
      "text/html": [
       "<div>\n",
       "<table border=\"1\" class=\"dataframe\">\n",
       "  <thead>\n",
       "    <tr style=\"text-align: right;\">\n",
       "      <th></th>\n",
       "      <th>POPGROUP</th>\n",
       "      <th>label</th>\n",
       "      <th>GEOIDLONG</th>\n",
       "      <th>GEOID</th>\n",
       "      <th>geodisplay</th>\n",
       "      <th>Population</th>\n",
       "    </tr>\n",
       "  </thead>\n",
       "  <tbody>\n",
       "    <tr>\n",
       "      <th>648</th>\n",
       "      <td>1</td>\n",
       "      <td>Total population</td>\n",
       "      <td>1400000US06017030200</td>\n",
       "      <td>6017030200</td>\n",
       "      <td>Census Tract 302, El Dorado County, California</td>\n",
       "      <td>4773</td>\n",
       "    </tr>\n",
       "    <tr>\n",
       "      <th>649</th>\n",
       "      <td>1</td>\n",
       "      <td>Total population</td>\n",
       "      <td>1400000US06017030301</td>\n",
       "      <td>6017030301</td>\n",
       "      <td>Census Tract 303.01, El Dorado County, California</td>\n",
       "      <td>2469</td>\n",
       "    </tr>\n",
       "    <tr>\n",
       "      <th>650</th>\n",
       "      <td>1</td>\n",
       "      <td>Total population</td>\n",
       "      <td>1400000US06017030302</td>\n",
       "      <td>6017030302</td>\n",
       "      <td>Census Tract 303.02, El Dorado County, California</td>\n",
       "      <td>2867</td>\n",
       "    </tr>\n",
       "    <tr>\n",
       "      <th>651</th>\n",
       "      <td>1</td>\n",
       "      <td>Total population</td>\n",
       "      <td>1400000US06017030401</td>\n",
       "      <td>6017030401</td>\n",
       "      <td>Census Tract 304.01, El Dorado County, California</td>\n",
       "      <td>3498</td>\n",
       "    </tr>\n",
       "    <tr>\n",
       "      <th>652</th>\n",
       "      <td>1</td>\n",
       "      <td>Total population</td>\n",
       "      <td>1400000US06017030402</td>\n",
       "      <td>6017030402</td>\n",
       "      <td>Census Tract 304.02, El Dorado County, California</td>\n",
       "      <td>3723</td>\n",
       "    </tr>\n",
       "    <tr>\n",
       "      <th>653</th>\n",
       "      <td>1</td>\n",
       "      <td>Total population</td>\n",
       "      <td>1400000US06017030502</td>\n",
       "      <td>6017030502</td>\n",
       "      <td>Census Tract 305.02, El Dorado County, California</td>\n",
       "      <td>2641</td>\n",
       "    </tr>\n",
       "    <tr>\n",
       "      <th>654</th>\n",
       "      <td>1</td>\n",
       "      <td>Total population</td>\n",
       "      <td>1400000US06017030504</td>\n",
       "      <td>6017030504</td>\n",
       "      <td>Census Tract 305.04, El Dorado County, California</td>\n",
       "      <td>2912</td>\n",
       "    </tr>\n",
       "    <tr>\n",
       "      <th>655</th>\n",
       "      <td>1</td>\n",
       "      <td>Total population</td>\n",
       "      <td>1400000US06017030505</td>\n",
       "      <td>6017030505</td>\n",
       "      <td>Census Tract 305.05, El Dorado County, California</td>\n",
       "      <td>2704</td>\n",
       "    </tr>\n",
       "    <tr>\n",
       "      <th>656</th>\n",
       "      <td>1</td>\n",
       "      <td>Total population</td>\n",
       "      <td>1400000US06017030601</td>\n",
       "      <td>6017030601</td>\n",
       "      <td>Census Tract 306.01, El Dorado County, California</td>\n",
       "      <td>5044</td>\n",
       "    </tr>\n",
       "    <tr>\n",
       "      <th>657</th>\n",
       "      <td>1</td>\n",
       "      <td>Total population</td>\n",
       "      <td>1400000US06017030602</td>\n",
       "      <td>6017030602</td>\n",
       "      <td>Census Tract 306.02, El Dorado County, California</td>\n",
       "      <td>6781</td>\n",
       "    </tr>\n",
       "    <tr>\n",
       "      <th>658</th>\n",
       "      <td>1</td>\n",
       "      <td>Total population</td>\n",
       "      <td>1400000US06017030603</td>\n",
       "      <td>6017030603</td>\n",
       "      <td>Census Tract 306.03, El Dorado County, California</td>\n",
       "      <td>3566</td>\n",
       "    </tr>\n",
       "    <tr>\n",
       "      <th>659</th>\n",
       "      <td>1</td>\n",
       "      <td>Total population</td>\n",
       "      <td>1400000US06017030701</td>\n",
       "      <td>6017030701</td>\n",
       "      <td>Census Tract 307.01, El Dorado County, California</td>\n",
       "      <td>6205</td>\n",
       "    </tr>\n",
       "    <tr>\n",
       "      <th>660</th>\n",
       "      <td>1</td>\n",
       "      <td>Total population</td>\n",
       "      <td>1400000US06017030704</td>\n",
       "      <td>6017030704</td>\n",
       "      <td>Census Tract 307.04, El Dorado County, California</td>\n",
       "      <td>5961</td>\n",
       "    </tr>\n",
       "    <tr>\n",
       "      <th>661</th>\n",
       "      <td>1</td>\n",
       "      <td>Total population</td>\n",
       "      <td>1400000US06017030706</td>\n",
       "      <td>6017030706</td>\n",
       "      <td>Census Tract 307.06, El Dorado County, California</td>\n",
       "      <td>6020</td>\n",
       "    </tr>\n",
       "    <tr>\n",
       "      <th>662</th>\n",
       "      <td>1</td>\n",
       "      <td>Total population</td>\n",
       "      <td>1400000US06017030709</td>\n",
       "      <td>6017030709</td>\n",
       "      <td>Census Tract 307.09, El Dorado County, California</td>\n",
       "      <td>4806</td>\n",
       "    </tr>\n",
       "    <tr>\n",
       "      <th>663</th>\n",
       "      <td>1</td>\n",
       "      <td>Total population</td>\n",
       "      <td>1400000US06017030710</td>\n",
       "      <td>6017030710</td>\n",
       "      <td>Census Tract 307.10, El Dorado County, California</td>\n",
       "      <td>4989</td>\n",
       "    </tr>\n",
       "    <tr>\n",
       "      <th>664</th>\n",
       "      <td>1</td>\n",
       "      <td>Total population</td>\n",
       "      <td>1400000US06017030801</td>\n",
       "      <td>6017030801</td>\n",
       "      <td>Census Tract 308.01, El Dorado County, California</td>\n",
       "      <td>4011</td>\n",
       "    </tr>\n",
       "    <tr>\n",
       "      <th>665</th>\n",
       "      <td>1</td>\n",
       "      <td>Total population</td>\n",
       "      <td>1400000US06017030803</td>\n",
       "      <td>6017030803</td>\n",
       "      <td>Census Tract 308.03, El Dorado County, California</td>\n",
       "      <td>7241</td>\n",
       "    </tr>\n",
       "    <tr>\n",
       "      <th>666</th>\n",
       "      <td>1</td>\n",
       "      <td>Total population</td>\n",
       "      <td>1400000US06017030804</td>\n",
       "      <td>6017030804</td>\n",
       "      <td>Census Tract 308.04, El Dorado County, California</td>\n",
       "      <td>6377</td>\n",
       "    </tr>\n",
       "    <tr>\n",
       "      <th>667</th>\n",
       "      <td>1</td>\n",
       "      <td>Total population</td>\n",
       "      <td>1400000US06017030807</td>\n",
       "      <td>6017030807</td>\n",
       "      <td>Census Tract 308.07, El Dorado County, California</td>\n",
       "      <td>3986</td>\n",
       "    </tr>\n",
       "    <tr>\n",
       "      <th>668</th>\n",
       "      <td>1</td>\n",
       "      <td>Total population</td>\n",
       "      <td>1400000US06017030808</td>\n",
       "      <td>6017030808</td>\n",
       "      <td>Census Tract 308.08, El Dorado County, California</td>\n",
       "      <td>6897</td>\n",
       "    </tr>\n",
       "    <tr>\n",
       "      <th>669</th>\n",
       "      <td>1</td>\n",
       "      <td>Total population</td>\n",
       "      <td>1400000US06017030809</td>\n",
       "      <td>6017030809</td>\n",
       "      <td>Census Tract 308.09, El Dorado County, California</td>\n",
       "      <td>2447</td>\n",
       "    </tr>\n",
       "    <tr>\n",
       "      <th>670</th>\n",
       "      <td>1</td>\n",
       "      <td>Total population</td>\n",
       "      <td>1400000US06017030810</td>\n",
       "      <td>6017030810</td>\n",
       "      <td>Census Tract 308.10, El Dorado County, California</td>\n",
       "      <td>3437</td>\n",
       "    </tr>\n",
       "    <tr>\n",
       "      <th>671</th>\n",
       "      <td>1</td>\n",
       "      <td>Total population</td>\n",
       "      <td>1400000US06017030901</td>\n",
       "      <td>6017030901</td>\n",
       "      <td>Census Tract 309.01, El Dorado County, California</td>\n",
       "      <td>3020</td>\n",
       "    </tr>\n",
       "    <tr>\n",
       "      <th>672</th>\n",
       "      <td>1</td>\n",
       "      <td>Total population</td>\n",
       "      <td>1400000US06017030902</td>\n",
       "      <td>6017030902</td>\n",
       "      <td>Census Tract 309.02, El Dorado County, California</td>\n",
       "      <td>4687</td>\n",
       "    </tr>\n",
       "    <tr>\n",
       "      <th>673</th>\n",
       "      <td>1</td>\n",
       "      <td>Total population</td>\n",
       "      <td>1400000US06017031000</td>\n",
       "      <td>6017031000</td>\n",
       "      <td>Census Tract 310, El Dorado County, California</td>\n",
       "      <td>6061</td>\n",
       "    </tr>\n",
       "    <tr>\n",
       "      <th>674</th>\n",
       "      <td>1</td>\n",
       "      <td>Total population</td>\n",
       "      <td>1400000US06017031100</td>\n",
       "      <td>6017031100</td>\n",
       "      <td>Census Tract 311, El Dorado County, California</td>\n",
       "      <td>5462</td>\n",
       "    </tr>\n",
       "    <tr>\n",
       "      <th>675</th>\n",
       "      <td>1</td>\n",
       "      <td>Total population</td>\n",
       "      <td>1400000US06017031200</td>\n",
       "      <td>6017031200</td>\n",
       "      <td>Census Tract 312, El Dorado County, California</td>\n",
       "      <td>5193</td>\n",
       "    </tr>\n",
       "    <tr>\n",
       "      <th>676</th>\n",
       "      <td>1</td>\n",
       "      <td>Total population</td>\n",
       "      <td>1400000US06017031301</td>\n",
       "      <td>6017031301</td>\n",
       "      <td>Census Tract 313.01, El Dorado County, California</td>\n",
       "      <td>3408</td>\n",
       "    </tr>\n",
       "    <tr>\n",
       "      <th>677</th>\n",
       "      <td>1</td>\n",
       "      <td>Total population</td>\n",
       "      <td>1400000US06017031302</td>\n",
       "      <td>6017031302</td>\n",
       "      <td>Census Tract 313.02, El Dorado County, California</td>\n",
       "      <td>4701</td>\n",
       "    </tr>\n",
       "    <tr>\n",
       "      <th>678</th>\n",
       "      <td>1</td>\n",
       "      <td>Total population</td>\n",
       "      <td>1400000US06017031402</td>\n",
       "      <td>6017031402</td>\n",
       "      <td>Census Tract 314.02, El Dorado County, California</td>\n",
       "      <td>5896</td>\n",
       "    </tr>\n",
       "    <tr>\n",
       "      <th>679</th>\n",
       "      <td>1</td>\n",
       "      <td>Total population</td>\n",
       "      <td>1400000US06017031404</td>\n",
       "      <td>6017031404</td>\n",
       "      <td>Census Tract 314.04, El Dorado County, California</td>\n",
       "      <td>2407</td>\n",
       "    </tr>\n",
       "    <tr>\n",
       "      <th>680</th>\n",
       "      <td>1</td>\n",
       "      <td>Total population</td>\n",
       "      <td>1400000US06017031405</td>\n",
       "      <td>6017031405</td>\n",
       "      <td>Census Tract 314.05, El Dorado County, California</td>\n",
       "      <td>2426</td>\n",
       "    </tr>\n",
       "    <tr>\n",
       "      <th>681</th>\n",
       "      <td>1</td>\n",
       "      <td>Total population</td>\n",
       "      <td>1400000US06017031406</td>\n",
       "      <td>6017031406</td>\n",
       "      <td>Census Tract 314.06, El Dorado County, California</td>\n",
       "      <td>5544</td>\n",
       "    </tr>\n",
       "    <tr>\n",
       "      <th>682</th>\n",
       "      <td>1</td>\n",
       "      <td>Total population</td>\n",
       "      <td>1400000US06017031502</td>\n",
       "      <td>6017031502</td>\n",
       "      <td>Census Tract 315.02, El Dorado County, California</td>\n",
       "      <td>6031</td>\n",
       "    </tr>\n",
       "    <tr>\n",
       "      <th>683</th>\n",
       "      <td>1</td>\n",
       "      <td>Total population</td>\n",
       "      <td>1400000US06017031503</td>\n",
       "      <td>6017031503</td>\n",
       "      <td>Census Tract 315.03, El Dorado County, California</td>\n",
       "      <td>2810</td>\n",
       "    </tr>\n",
       "    <tr>\n",
       "      <th>684</th>\n",
       "      <td>1</td>\n",
       "      <td>Total population</td>\n",
       "      <td>1400000US06017031504</td>\n",
       "      <td>6017031504</td>\n",
       "      <td>Census Tract 315.04, El Dorado County, California</td>\n",
       "      <td>5337</td>\n",
       "    </tr>\n",
       "    <tr>\n",
       "      <th>685</th>\n",
       "      <td>1</td>\n",
       "      <td>Total population</td>\n",
       "      <td>1400000US06017031600</td>\n",
       "      <td>6017031600</td>\n",
       "      <td>Census Tract 316, El Dorado County, California</td>\n",
       "      <td>4126</td>\n",
       "    </tr>\n",
       "    <tr>\n",
       "      <th>686</th>\n",
       "      <td>1</td>\n",
       "      <td>Total population</td>\n",
       "      <td>1400000US06017031700</td>\n",
       "      <td>6017031700</td>\n",
       "      <td>Census Tract 317, El Dorado County, California</td>\n",
       "      <td>2648</td>\n",
       "    </tr>\n",
       "    <tr>\n",
       "      <th>687</th>\n",
       "      <td>1</td>\n",
       "      <td>Total population</td>\n",
       "      <td>1400000US06017031800</td>\n",
       "      <td>6017031800</td>\n",
       "      <td>Census Tract 318, El Dorado County, California</td>\n",
       "      <td>6798</td>\n",
       "    </tr>\n",
       "    <tr>\n",
       "      <th>688</th>\n",
       "      <td>1</td>\n",
       "      <td>Total population</td>\n",
       "      <td>1400000US06017031900</td>\n",
       "      <td>6017031900</td>\n",
       "      <td>Census Tract 319, El Dorado County, California</td>\n",
       "      <td>134</td>\n",
       "    </tr>\n",
       "    <tr>\n",
       "      <th>689</th>\n",
       "      <td>1</td>\n",
       "      <td>Total population</td>\n",
       "      <td>1400000US06017032000</td>\n",
       "      <td>6017032000</td>\n",
       "      <td>Census Tract 320, El Dorado County, California</td>\n",
       "      <td>1015</td>\n",
       "    </tr>\n",
       "  </tbody>\n",
       "</table>\n",
       "</div>"
      ],
      "text/plain": [
       "     POPGROUP             label             GEOIDLONG       GEOID  \\\n",
       "648         1  Total population  1400000US06017030200  6017030200   \n",
       "649         1  Total population  1400000US06017030301  6017030301   \n",
       "650         1  Total population  1400000US06017030302  6017030302   \n",
       "651         1  Total population  1400000US06017030401  6017030401   \n",
       "652         1  Total population  1400000US06017030402  6017030402   \n",
       "653         1  Total population  1400000US06017030502  6017030502   \n",
       "654         1  Total population  1400000US06017030504  6017030504   \n",
       "655         1  Total population  1400000US06017030505  6017030505   \n",
       "656         1  Total population  1400000US06017030601  6017030601   \n",
       "657         1  Total population  1400000US06017030602  6017030602   \n",
       "658         1  Total population  1400000US06017030603  6017030603   \n",
       "659         1  Total population  1400000US06017030701  6017030701   \n",
       "660         1  Total population  1400000US06017030704  6017030704   \n",
       "661         1  Total population  1400000US06017030706  6017030706   \n",
       "662         1  Total population  1400000US06017030709  6017030709   \n",
       "663         1  Total population  1400000US06017030710  6017030710   \n",
       "664         1  Total population  1400000US06017030801  6017030801   \n",
       "665         1  Total population  1400000US06017030803  6017030803   \n",
       "666         1  Total population  1400000US06017030804  6017030804   \n",
       "667         1  Total population  1400000US06017030807  6017030807   \n",
       "668         1  Total population  1400000US06017030808  6017030808   \n",
       "669         1  Total population  1400000US06017030809  6017030809   \n",
       "670         1  Total population  1400000US06017030810  6017030810   \n",
       "671         1  Total population  1400000US06017030901  6017030901   \n",
       "672         1  Total population  1400000US06017030902  6017030902   \n",
       "673         1  Total population  1400000US06017031000  6017031000   \n",
       "674         1  Total population  1400000US06017031100  6017031100   \n",
       "675         1  Total population  1400000US06017031200  6017031200   \n",
       "676         1  Total population  1400000US06017031301  6017031301   \n",
       "677         1  Total population  1400000US06017031302  6017031302   \n",
       "678         1  Total population  1400000US06017031402  6017031402   \n",
       "679         1  Total population  1400000US06017031404  6017031404   \n",
       "680         1  Total population  1400000US06017031405  6017031405   \n",
       "681         1  Total population  1400000US06017031406  6017031406   \n",
       "682         1  Total population  1400000US06017031502  6017031502   \n",
       "683         1  Total population  1400000US06017031503  6017031503   \n",
       "684         1  Total population  1400000US06017031504  6017031504   \n",
       "685         1  Total population  1400000US06017031600  6017031600   \n",
       "686         1  Total population  1400000US06017031700  6017031700   \n",
       "687         1  Total population  1400000US06017031800  6017031800   \n",
       "688         1  Total population  1400000US06017031900  6017031900   \n",
       "689         1  Total population  1400000US06017032000  6017032000   \n",
       "\n",
       "                                            geodisplay  Population  \n",
       "648     Census Tract 302, El Dorado County, California        4773  \n",
       "649  Census Tract 303.01, El Dorado County, California        2469  \n",
       "650  Census Tract 303.02, El Dorado County, California        2867  \n",
       "651  Census Tract 304.01, El Dorado County, California        3498  \n",
       "652  Census Tract 304.02, El Dorado County, California        3723  \n",
       "653  Census Tract 305.02, El Dorado County, California        2641  \n",
       "654  Census Tract 305.04, El Dorado County, California        2912  \n",
       "655  Census Tract 305.05, El Dorado County, California        2704  \n",
       "656  Census Tract 306.01, El Dorado County, California        5044  \n",
       "657  Census Tract 306.02, El Dorado County, California        6781  \n",
       "658  Census Tract 306.03, El Dorado County, California        3566  \n",
       "659  Census Tract 307.01, El Dorado County, California        6205  \n",
       "660  Census Tract 307.04, El Dorado County, California        5961  \n",
       "661  Census Tract 307.06, El Dorado County, California        6020  \n",
       "662  Census Tract 307.09, El Dorado County, California        4806  \n",
       "663  Census Tract 307.10, El Dorado County, California        4989  \n",
       "664  Census Tract 308.01, El Dorado County, California        4011  \n",
       "665  Census Tract 308.03, El Dorado County, California        7241  \n",
       "666  Census Tract 308.04, El Dorado County, California        6377  \n",
       "667  Census Tract 308.07, El Dorado County, California        3986  \n",
       "668  Census Tract 308.08, El Dorado County, California        6897  \n",
       "669  Census Tract 308.09, El Dorado County, California        2447  \n",
       "670  Census Tract 308.10, El Dorado County, California        3437  \n",
       "671  Census Tract 309.01, El Dorado County, California        3020  \n",
       "672  Census Tract 309.02, El Dorado County, California        4687  \n",
       "673     Census Tract 310, El Dorado County, California        6061  \n",
       "674     Census Tract 311, El Dorado County, California        5462  \n",
       "675     Census Tract 312, El Dorado County, California        5193  \n",
       "676  Census Tract 313.01, El Dorado County, California        3408  \n",
       "677  Census Tract 313.02, El Dorado County, California        4701  \n",
       "678  Census Tract 314.02, El Dorado County, California        5896  \n",
       "679  Census Tract 314.04, El Dorado County, California        2407  \n",
       "680  Census Tract 314.05, El Dorado County, California        2426  \n",
       "681  Census Tract 314.06, El Dorado County, California        5544  \n",
       "682  Census Tract 315.02, El Dorado County, California        6031  \n",
       "683  Census Tract 315.03, El Dorado County, California        2810  \n",
       "684  Census Tract 315.04, El Dorado County, California        5337  \n",
       "685     Census Tract 316, El Dorado County, California        4126  \n",
       "686     Census Tract 317, El Dorado County, California        2648  \n",
       "687     Census Tract 318, El Dorado County, California        6798  \n",
       "688     Census Tract 319, El Dorado County, California         134  \n",
       "689     Census Tract 320, El Dorado County, California        1015  "
      ]
     },
     "execution_count": 56,
     "metadata": {},
     "output_type": "execute_result"
    }
   ],
   "source": [
    "df[df['geodisplay'].str.contains('El Dorado County')]"
   ]
  },
  {
   "cell_type": "markdown",
   "metadata": {},
   "source": [
    "We can find the unique values of a column (not very interesting in this particular case)"
   ]
  },
  {
   "cell_type": "code",
   "execution_count": 57,
   "metadata": {
    "collapsed": false
   },
   "outputs": [
    {
     "data": {
      "text/plain": [
       "array([1])"
      ]
     },
     "execution_count": 57,
     "metadata": {},
     "output_type": "execute_result"
    }
   ],
   "source": [
    "df['POPGROUP'].unique()"
   ]
  },
  {
   "cell_type": "markdown",
   "metadata": {},
   "source": [
    "And count how many times each unique value is in the data"
   ]
  },
  {
   "cell_type": "code",
   "execution_count": 58,
   "metadata": {
    "collapsed": false
   },
   "outputs": [
    {
     "data": {
      "text/plain": [
       "1    8000\n",
       "Name: POPGROUP, dtype: int64"
      ]
     },
     "execution_count": 58,
     "metadata": {},
     "output_type": "execute_result"
    }
   ],
   "source": [
    "df['POPGROUP'].value_counts()"
   ]
  },
  {
   "cell_type": "markdown",
   "metadata": {},
   "source": [
    "We saw last time how to use the str attribute to do string manipulation, such as to create a new column.  We need to explore some more advanced string processing, but let's use a smaller dataframe for that."
   ]
  },
  {
   "cell_type": "code",
   "execution_count": 59,
   "metadata": {
    "collapsed": false
   },
   "outputs": [
    {
     "data": {
      "text/html": [
       "<div>\n",
       "<table border=\"1\" class=\"dataframe\">\n",
       "  <thead>\n",
       "    <tr style=\"text-align: right;\">\n",
       "      <th></th>\n",
       "      <th>POPGROUP</th>\n",
       "      <th>label</th>\n",
       "      <th>GEOIDLONG</th>\n",
       "      <th>GEOID</th>\n",
       "      <th>geodisplay</th>\n",
       "      <th>Population</th>\n",
       "      <th>state</th>\n",
       "    </tr>\n",
       "  </thead>\n",
       "  <tbody>\n",
       "    <tr>\n",
       "      <th>0</th>\n",
       "      <td>1</td>\n",
       "      <td>Total population</td>\n",
       "      <td>1400000US06001400100</td>\n",
       "      <td>6001400100</td>\n",
       "      <td>Census Tract 4001, Alameda County, California</td>\n",
       "      <td>2937</td>\n",
       "      <td>California</td>\n",
       "    </tr>\n",
       "    <tr>\n",
       "      <th>1</th>\n",
       "      <td>1</td>\n",
       "      <td>Total population</td>\n",
       "      <td>1400000US06001400200</td>\n",
       "      <td>6001400200</td>\n",
       "      <td>Census Tract 4002, Alameda County, California</td>\n",
       "      <td>1974</td>\n",
       "      <td>California</td>\n",
       "    </tr>\n",
       "    <tr>\n",
       "      <th>2</th>\n",
       "      <td>1</td>\n",
       "      <td>Total population</td>\n",
       "      <td>1400000US06001400300</td>\n",
       "      <td>6001400300</td>\n",
       "      <td>Census Tract 4003, Alameda County, California</td>\n",
       "      <td>4865</td>\n",
       "      <td>California</td>\n",
       "    </tr>\n",
       "    <tr>\n",
       "      <th>3</th>\n",
       "      <td>1</td>\n",
       "      <td>Total population</td>\n",
       "      <td>1400000US06001400400</td>\n",
       "      <td>6001400400</td>\n",
       "      <td>Census Tract 4004, Alameda County, California</td>\n",
       "      <td>3703</td>\n",
       "      <td>California</td>\n",
       "    </tr>\n",
       "    <tr>\n",
       "      <th>4</th>\n",
       "      <td>1</td>\n",
       "      <td>Total population</td>\n",
       "      <td>1400000US06001400500</td>\n",
       "      <td>6001400500</td>\n",
       "      <td>Census Tract 4005, Alameda County, California</td>\n",
       "      <td>3517</td>\n",
       "      <td>California</td>\n",
       "    </tr>\n",
       "  </tbody>\n",
       "</table>\n",
       "</div>"
      ],
      "text/plain": [
       "   POPGROUP             label             GEOIDLONG       GEOID  \\\n",
       "0         1  Total population  1400000US06001400100  6001400100   \n",
       "1         1  Total population  1400000US06001400200  6001400200   \n",
       "2         1  Total population  1400000US06001400300  6001400300   \n",
       "3         1  Total population  1400000US06001400400  6001400400   \n",
       "4         1  Total population  1400000US06001400500  6001400500   \n",
       "\n",
       "                                      geodisplay  Population        state  \n",
       "0  Census Tract 4001, Alameda County, California        2937   California  \n",
       "1  Census Tract 4002, Alameda County, California        1974   California  \n",
       "2  Census Tract 4003, Alameda County, California        4865   California  \n",
       "3  Census Tract 4004, Alameda County, California        3703   California  \n",
       "4  Census Tract 4005, Alameda County, California        3517   California  "
      ]
     },
     "execution_count": 59,
     "metadata": {},
     "output_type": "execute_result"
    }
   ],
   "source": [
    "df['state'] = df['geodisplay'].str.split(',').str[2]\n",
    "df[:5]"
   ]
  },
  {
   "cell_type": "markdown",
   "metadata": {},
   "source": [
    "## Working with Pandas -- an in-class working session"
   ]
  },
  {
   "cell_type": "markdown",
   "metadata": {},
   "source": [
    "OK, let's create a DataFrame from a dictionary, following the example on pg 116 of Python for Data Analysis (PDA)."
   ]
  },
  {
   "cell_type": "code",
   "execution_count": 73,
   "metadata": {
    "collapsed": false
   },
   "outputs": [],
   "source": [
    "data = {'state': ['Ohio', 'Ohio', 'Ohio', 'Nevada', 'Nevada'], 'year': [2000, 2001, 2002, 2001, 2002],\n",
    "'pop': [1.5, 1.7, 3.6, 2.4, 2.9]}\n",
    "df = DataFrame(data)"
   ]
  },
  {
   "cell_type": "markdown",
   "metadata": {},
   "source": [
    "Explain the contents and structure of 'data'\n",
    "\n",
    "What does 'DataFrame(data)' do? What if we did not begin that line with 'df ='?\n",
    "\n",
    "Look at the contents of df, using just df by itself, and 'print df'.  "
   ]
  },
  {
   "cell_type": "code",
   "execution_count": 74,
   "metadata": {
    "collapsed": false
   },
   "outputs": [
    {
     "data": {
      "text/html": [
       "<div>\n",
       "<table border=\"1\" class=\"dataframe\">\n",
       "  <thead>\n",
       "    <tr style=\"text-align: right;\">\n",
       "      <th></th>\n",
       "      <th>pop</th>\n",
       "      <th>state</th>\n",
       "      <th>year</th>\n",
       "    </tr>\n",
       "  </thead>\n",
       "  <tbody>\n",
       "    <tr>\n",
       "      <th>0</th>\n",
       "      <td>1.5</td>\n",
       "      <td>Ohio</td>\n",
       "      <td>2000</td>\n",
       "    </tr>\n",
       "    <tr>\n",
       "      <th>1</th>\n",
       "      <td>1.7</td>\n",
       "      <td>Ohio</td>\n",
       "      <td>2001</td>\n",
       "    </tr>\n",
       "    <tr>\n",
       "      <th>2</th>\n",
       "      <td>3.6</td>\n",
       "      <td>Ohio</td>\n",
       "      <td>2002</td>\n",
       "    </tr>\n",
       "    <tr>\n",
       "      <th>3</th>\n",
       "      <td>2.4</td>\n",
       "      <td>Nevada</td>\n",
       "      <td>2001</td>\n",
       "    </tr>\n",
       "    <tr>\n",
       "      <th>4</th>\n",
       "      <td>2.9</td>\n",
       "      <td>Nevada</td>\n",
       "      <td>2002</td>\n",
       "    </tr>\n",
       "  </tbody>\n",
       "</table>\n",
       "</div>"
      ],
      "text/plain": [
       "   pop   state  year\n",
       "0  1.5    Ohio  2000\n",
       "1  1.7    Ohio  2001\n",
       "2  3.6    Ohio  2002\n",
       "3  2.4  Nevada  2001\n",
       "4  2.9  Nevada  2002"
      ]
     },
     "execution_count": 74,
     "metadata": {},
     "output_type": "execute_result"
    }
   ],
   "source": [
    "df"
   ]
  },
  {
   "cell_type": "markdown",
   "metadata": {},
   "source": [
    "We can refer to a column in two ways:"
   ]
  },
  {
   "cell_type": "code",
   "execution_count": 75,
   "metadata": {
    "collapsed": false
   },
   "outputs": [
    {
     "data": {
      "text/plain": [
       "0      Ohio\n",
       "1      Ohio\n",
       "2      Ohio\n",
       "3    Nevada\n",
       "4    Nevada\n",
       "Name: state, dtype: object"
      ]
     },
     "execution_count": 75,
     "metadata": {},
     "output_type": "execute_result"
    }
   ],
   "source": [
    "df['state']"
   ]
  },
  {
   "cell_type": "code",
   "execution_count": 76,
   "metadata": {
    "collapsed": false
   },
   "outputs": [
    {
     "data": {
      "text/plain": [
       "0      Ohio\n",
       "1      Ohio\n",
       "2      Ohio\n",
       "3    Nevada\n",
       "4    Nevada\n",
       "Name: state, dtype: object"
      ]
     },
     "execution_count": 76,
     "metadata": {},
     "output_type": "execute_result"
    }
   ],
   "source": [
    "df.state"
   ]
  },
  {
   "cell_type": "markdown",
   "metadata": {},
   "source": [
    "We can step through the rows in a dataframe"
   ]
  },
  {
   "cell_type": "code",
   "execution_count": 79,
   "metadata": {
    "collapsed": false
   },
   "outputs": [
    {
     "name": "stdout",
     "output_type": "stream",
     "text": [
      "Ohio\n",
      "Ohio\n",
      "Ohio\n",
      "Nevada\n",
      "Nevada\n"
     ]
    }
   ],
   "source": [
    "for label in df.state.index:\n",
    "    print(df.state[label])"
   ]
  },
  {
   "cell_type": "markdown",
   "metadata": {},
   "source": [
    "And find the index value within each entry of a specific substring"
   ]
  },
  {
   "cell_type": "code",
   "execution_count": 80,
   "metadata": {
    "collapsed": false
   },
   "outputs": [
    {
     "name": "stdout",
     "output_type": "stream",
     "text": [
      "2\n",
      "2\n",
      "2\n",
      "-1\n",
      "-1\n"
     ]
    }
   ],
   "source": [
    "for label in df.state.index:\n",
    "    print(df.state[label].find('io'))"
   ]
  },
  {
   "cell_type": "code",
   "execution_count": 82,
   "metadata": {
    "collapsed": false
   },
   "outputs": [
    {
     "name": "stdout",
     "output_type": "stream",
     "text": [
      "Ohio\n",
      "Ohio\n",
      "Ohio\n",
      "Missing\n",
      "Missing\n"
     ]
    }
   ],
   "source": [
    "for label in df.state.index:\n",
    "    if df.state[label]=='Ohio':\n",
    "        print(df.state[label])\n",
    "    else:\n",
    "        print('Missing')"
   ]
  },
  {
   "cell_type": "markdown",
   "metadata": {},
   "source": [
    "### More complex use of Indexing and String Manipulation -- Cleaning the Bedroom Field in the Craigslist data"
   ]
  },
  {
   "cell_type": "code",
   "execution_count": 70,
   "metadata": {
    "collapsed": false
   },
   "outputs": [
    {
     "data": {
      "text/html": [
       "<div>\n",
       "<table border=\"1\" class=\"dataframe\">\n",
       "  <thead>\n",
       "    <tr style=\"text-align: right;\">\n",
       "      <th></th>\n",
       "      <th>neighborhood</th>\n",
       "      <th>title</th>\n",
       "      <th>price</th>\n",
       "      <th>bedrooms</th>\n",
       "      <th>pid</th>\n",
       "      <th>longitude</th>\n",
       "      <th>date</th>\n",
       "      <th>link</th>\n",
       "      <th>latitude</th>\n",
       "      <th>sqft</th>\n",
       "      <th>sourcepage</th>\n",
       "    </tr>\n",
       "  </thead>\n",
       "  <tbody>\n",
       "    <tr>\n",
       "      <th>0</th>\n",
       "      <td>(SOMA / south beach)</td>\n",
       "      <td>1bed + Den, 1bath at Mission Bay</td>\n",
       "      <td>$2895</td>\n",
       "      <td>/ 1br - 950ft² -</td>\n",
       "      <td>4046628359</td>\n",
       "      <td>-122.399663</td>\n",
       "      <td>Sep  4 2013</td>\n",
       "      <td>/sfc/apa/4046628359.html</td>\n",
       "      <td>37.774623</td>\n",
       "      <td>/ 1br - 950ft² -</td>\n",
       "      <td>http://sfbay.craigslist.org/sfc/apa/</td>\n",
       "    </tr>\n",
       "    <tr>\n",
       "      <th>1</th>\n",
       "      <td>(SOMA / south beach)</td>\n",
       "      <td>Love where you live!</td>\n",
       "      <td>$3354</td>\n",
       "      <td>/ 1br - 710ft² -</td>\n",
       "      <td>4046761563</td>\n",
       "      <td>NaN</td>\n",
       "      <td>Sep  4 2013</td>\n",
       "      <td>/sfc/apa/4046761563.html</td>\n",
       "      <td>NaN</td>\n",
       "      <td>/ 1br - 710ft² -</td>\n",
       "      <td>http://sfbay.craigslist.org/sfc/apa/</td>\n",
       "    </tr>\n",
       "    <tr>\n",
       "      <th>2</th>\n",
       "      <td>(inner sunset / UCSF)</td>\n",
       "      <td>We Welcome Your Furry Friends! Call Today!</td>\n",
       "      <td>$2865</td>\n",
       "      <td>/ 1br - 644ft² -</td>\n",
       "      <td>4046661504</td>\n",
       "      <td>-122.470727</td>\n",
       "      <td>Sep  4 2013</td>\n",
       "      <td>/sfc/apa/4046661504.html</td>\n",
       "      <td>37.765739</td>\n",
       "      <td>/ 1br - 644ft² -</td>\n",
       "      <td>http://sfbay.craigslist.org/sfc/apa/</td>\n",
       "    </tr>\n",
       "    <tr>\n",
       "      <th>3</th>\n",
       "      <td>(financial district)</td>\n",
       "      <td>Golden Gateway Commons | 2BR + office townhous...</td>\n",
       "      <td>$5500</td>\n",
       "      <td>/ 2br - 1450ft² -</td>\n",
       "      <td>4036170429</td>\n",
       "      <td>NaN</td>\n",
       "      <td>Sep  4 2013</td>\n",
       "      <td>/sfc/apa/4036170429.html</td>\n",
       "      <td>NaN</td>\n",
       "      <td>/ 2br - 1450ft² -</td>\n",
       "      <td>http://sfbay.craigslist.org/sfc/apa/</td>\n",
       "    </tr>\n",
       "    <tr>\n",
       "      <th>4</th>\n",
       "      <td>(lower nob hill)</td>\n",
       "      <td>Experience Luxury Living in San Fransisco!</td>\n",
       "      <td>$3892</td>\n",
       "      <td>/ 2br -</td>\n",
       "      <td>4046732678</td>\n",
       "      <td>NaN</td>\n",
       "      <td>Sep  4 2013</td>\n",
       "      <td>/sfc/apa/4046732678.html</td>\n",
       "      <td>NaN</td>\n",
       "      <td>/ 2br -</td>\n",
       "      <td>http://sfbay.craigslist.org/sfc/apa/</td>\n",
       "    </tr>\n",
       "  </tbody>\n",
       "</table>\n",
       "</div>"
      ],
      "text/plain": [
       "             neighborhood                                              title  \\\n",
       "0    (SOMA / south beach)                   1bed + Den, 1bath at Mission Bay   \n",
       "1    (SOMA / south beach)                               Love where you live!   \n",
       "2   (inner sunset / UCSF)         We Welcome Your Furry Friends! Call Today!   \n",
       "3    (financial district)  Golden Gateway Commons | 2BR + office townhous...   \n",
       "4        (lower nob hill)         Experience Luxury Living in San Fransisco!   \n",
       "\n",
       "   price                  bedrooms         pid   longitude         date  \\\n",
       "0  $2895      / 1br - 950ft² -      4046628359 -122.399663  Sep  4 2013   \n",
       "1  $3354      / 1br - 710ft² -      4046761563         NaN  Sep  4 2013   \n",
       "2  $2865      / 1br - 644ft² -      4046661504 -122.470727  Sep  4 2013   \n",
       "3  $5500     / 2br - 1450ft² -      4036170429         NaN  Sep  4 2013   \n",
       "4  $3892               / 2br -      4046732678         NaN  Sep  4 2013   \n",
       "\n",
       "                       link   latitude                      sqft  \\\n",
       "0  /sfc/apa/4046628359.html  37.774623      / 1br - 950ft² -       \n",
       "1  /sfc/apa/4046761563.html        NaN      / 1br - 710ft² -       \n",
       "2  /sfc/apa/4046661504.html  37.765739      / 1br - 644ft² -       \n",
       "3  /sfc/apa/4036170429.html        NaN     / 2br - 1450ft² -       \n",
       "4  /sfc/apa/4046732678.html        NaN               / 2br -       \n",
       "\n",
       "                             sourcepage  \n",
       "0  http://sfbay.craigslist.org/sfc/apa/  \n",
       "1  http://sfbay.craigslist.org/sfc/apa/  \n",
       "2  http://sfbay.craigslist.org/sfc/apa/  \n",
       "3  http://sfbay.craigslist.org/sfc/apa/  \n",
       "4  http://sfbay.craigslist.org/sfc/apa/  "
      ]
     },
     "execution_count": 70,
     "metadata": {},
     "output_type": "execute_result"
    }
   ],
   "source": [
    "import re as re, pandas as pd, numpy as np\n",
    "cl = pd.read_csv('items.csv')\n",
    "cl.head()"
   ]
  },
  {
   "cell_type": "markdown",
   "metadata": {},
   "source": [
    "This is a worked part of your assignment for this week.  Here is a code snippet that uses some of what we just learned above, and extends it to clean the bedroom field in this data.  Adapting it to clean sqft remains for you to do in the assignment..."
   ]
  },
  {
   "cell_type": "code",
   "execution_count": 72,
   "metadata": {
    "collapsed": false
   },
   "outputs": [
    {
     "data": {
      "text/plain": [
       "0      1\n",
       "1      1\n",
       "2      1\n",
       "3      2\n",
       "4      2\n",
       "5      1\n",
       "6    NaN\n",
       "7      1\n",
       "8      2\n",
       "Name: bedrooms, dtype: object"
      ]
     },
     "execution_count": 72,
     "metadata": {},
     "output_type": "execute_result"
    }
   ],
   "source": [
    "for label in cl.bedrooms.index:\n",
    "    if isinstance(cl.bedrooms[label], str) and not pd.isnull(cl.bedrooms[label]):\n",
    "        end = cl.bedrooms[label].find('br')\n",
    "        if end == -1:\n",
    "            cl.loc[label,'bedrooms'] = np.nan\n",
    "        else:\n",
    "            start = cl.bedrooms[label].find('/ ') + 2\n",
    "            cl.loc[label,'bedrooms'] = int(cl.bedrooms[label][start: end])\n",
    "cl.bedrooms.head(9)"
   ]
  },
  {
   "cell_type": "markdown",
   "metadata": {},
   "source": [
    "## Now Your Turn"
   ]
  },
  {
   "cell_type": "markdown",
   "metadata": {},
   "source": [
    "Below are a series of questions, with the answers remaining for you to fill in by using pandas expressions that draw on the methods in Chapter 5.  You should not need to use anything more than the content of this chapter -- a subset of the methods summarized above, to do this exercise.  Hopefully you can complete it within class if you've been keeping up with the reading."
   ]
  },
  {
   "cell_type": "markdown",
   "metadata": {},
   "source": [
    "How can we get a quick statistical profile of all the numeric columns?"
   ]
  },
  {
   "cell_type": "code",
   "execution_count": null,
   "metadata": {
    "collapsed": false
   },
   "outputs": [],
   "source": [
    "df.describe()"
   ]
  },
  {
   "cell_type": "markdown",
   "metadata": {},
   "source": [
    "Can you get a profile of a column that is not numeric, like state? Try it."
   ]
  },
  {
   "cell_type": "code",
   "execution_count": null,
   "metadata": {
    "collapsed": false
   },
   "outputs": [],
   "source": [
    "df['state'].describe()"
   ]
  },
  {
   "cell_type": "markdown",
   "metadata": {},
   "source": [
    "How can we print the data types of each column?"
   ]
  },
  {
   "cell_type": "code",
   "execution_count": null,
   "metadata": {
    "collapsed": false
   },
   "outputs": [],
   "source": [
    "df.dtypes"
   ]
  },
  {
   "cell_type": "markdown",
   "metadata": {},
   "source": [
    "How can we print just the column containing state names?"
   ]
  },
  {
   "cell_type": "code",
   "execution_count": null,
   "metadata": {
    "collapsed": false
   },
   "outputs": [],
   "source": [
    "df['state']"
   ]
  },
  {
   "cell_type": "markdown",
   "metadata": {},
   "source": [
    "How can we get a list of the states in the DataFrame, without duplicates?"
   ]
  },
  {
   "cell_type": "code",
   "execution_count": null,
   "metadata": {
    "collapsed": false
   },
   "outputs": [],
   "source": [
    "df['state'].unique()"
   ]
  },
  {
   "cell_type": "markdown",
   "metadata": {},
   "source": [
    "How can we get a count of how many rows we have in each state?"
   ]
  },
  {
   "cell_type": "code",
   "execution_count": null,
   "metadata": {
    "collapsed": false
   },
   "outputs": [],
   "source": [
    "df['state'].value_counts()"
   ]
  },
  {
   "cell_type": "markdown",
   "metadata": {},
   "source": [
    "How can we compute the mean of population across all the rows?"
   ]
  },
  {
   "cell_type": "code",
   "execution_count": null,
   "metadata": {
    "collapsed": false
   },
   "outputs": [],
   "source": [
    "df['pop'].mean()"
   ]
  },
  {
   "cell_type": "markdown",
   "metadata": {},
   "source": [
    "How can we compute the maximum population across all the rows?"
   ]
  },
  {
   "cell_type": "code",
   "execution_count": null,
   "metadata": {
    "collapsed": false
   },
   "outputs": [],
   "source": [
    "df['pop'].max()"
   ]
  },
  {
   "cell_type": "markdown",
   "metadata": {},
   "source": [
    "How can we compute the 20th percentile value of population? "
   ]
  },
  {
   "cell_type": "code",
   "execution_count": null,
   "metadata": {
    "collapsed": false
   },
   "outputs": [],
   "source": [
    "df['pop'].quantile(.2)"
   ]
  },
  {
   "cell_type": "markdown",
   "metadata": {},
   "source": [
    "How can we compute a Boolean array indicating whether the state is 'Ohio'?"
   ]
  },
  {
   "cell_type": "code",
   "execution_count": null,
   "metadata": {
    "collapsed": false
   },
   "outputs": [],
   "source": [
    "df['state']=='Ohio'"
   ]
  },
  {
   "cell_type": "markdown",
   "metadata": {},
   "source": [
    "How can we select and print just the rows for Ohio?"
   ]
  },
  {
   "cell_type": "code",
   "execution_count": null,
   "metadata": {
    "collapsed": false
   },
   "outputs": [],
   "source": [
    "df[df['state']=='Ohio']"
   ]
  },
  {
   "cell_type": "markdown",
   "metadata": {},
   "source": [
    "How can we create a new DataFrame containing only the Ohio records?"
   ]
  },
  {
   "cell_type": "code",
   "execution_count": null,
   "metadata": {
    "collapsed": false
   },
   "outputs": [],
   "source": [
    "dfnew = df[df['state']=='Ohio']\n",
    "dfnew"
   ]
  },
  {
   "cell_type": "markdown",
   "metadata": {},
   "source": [
    "How can we select and print just the rows in which population is more than 2?"
   ]
  },
  {
   "cell_type": "code",
   "execution_count": null,
   "metadata": {
    "collapsed": false
   },
   "outputs": [],
   "source": [
    "df[df['pop']>2]"
   ]
  },
  {
   "cell_type": "markdown",
   "metadata": {},
   "source": [
    "How could we compute the mean of population that is in Ohio, averaging across years?"
   ]
  },
  {
   "cell_type": "code",
   "execution_count": null,
   "metadata": {
    "collapsed": false
   },
   "outputs": [],
   "source": [
    "df[df['state']=='Ohio']['pop'].mean()"
   ]
  },
  {
   "cell_type": "markdown",
   "metadata": {},
   "source": [
    "How can we print the DataFrame, sorted by State and within State, by Population?"
   ]
  },
  {
   "cell_type": "code",
   "execution_count": null,
   "metadata": {
    "collapsed": false
   },
   "outputs": [],
   "source": [
    "df.sort_values(by=['state','pop'])"
   ]
  },
  {
   "cell_type": "markdown",
   "metadata": {},
   "source": [
    "How can we print the row for Ohio, 2002, selecting on its values (not on row and column indexes)?"
   ]
  },
  {
   "cell_type": "code",
   "execution_count": null,
   "metadata": {
    "collapsed": false
   },
   "outputs": [],
   "source": [
    "df[df['state']=='Ohio'][df['year']==2002]"
   ]
  },
  {
   "cell_type": "markdown",
   "metadata": {},
   "source": [
    "How can we use row and column indexing to set the population of Ohio in 2002 to 3.4?"
   ]
  },
  {
   "cell_type": "code",
   "execution_count": null,
   "metadata": {
    "collapsed": false
   },
   "outputs": [],
   "source": [
    "df.loc[2, 'pop'] = 3.6\n",
    "df"
   ]
  },
  {
   "cell_type": "markdown",
   "metadata": {},
   "source": [
    "How can we use row and column indexing to append a new record for Utah, initially with no population or year? "
   ]
  },
  {
   "cell_type": "code",
   "execution_count": null,
   "metadata": {
    "collapsed": false
   },
   "outputs": [],
   "source": [
    "df.loc[5, 'state'] = 'Utah'\n",
    "df"
   ]
  },
  {
   "cell_type": "markdown",
   "metadata": {},
   "source": [
    "How can we set the population to 2.5 and year to 2001 for the new record?"
   ]
  },
  {
   "cell_type": "code",
   "execution_count": null,
   "metadata": {
    "collapsed": false
   },
   "outputs": [],
   "source": [
    "df.loc[5, 'pop'] = 2.5\n",
    "df.loc[5, 'year'] = 2001\n",
    "df"
   ]
  },
  {
   "cell_type": "code",
   "execution_count": null,
   "metadata": {
    "collapsed": true
   },
   "outputs": [],
   "source": []
  }
 ],
 "metadata": {
  "kernelspec": {
   "display_name": "Python 3",
   "language": "python",
   "name": "python3"
  },
  "language_info": {
   "codemirror_mode": {
    "name": "ipython",
    "version": 3
   },
   "file_extension": ".py",
   "mimetype": "text/x-python",
   "name": "python",
   "nbconvert_exporter": "python",
   "pygments_lexer": "ipython3",
   "version": "3.5.2"
  }
 },
 "nbformat": 4,
 "nbformat_minor": 0
}
