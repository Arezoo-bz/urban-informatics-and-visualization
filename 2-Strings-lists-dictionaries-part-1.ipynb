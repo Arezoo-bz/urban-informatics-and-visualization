{
 "metadata": {
  "name": "",
  "signature": "sha256:37bf7f51519b9d72d3bc76451e528541d7572515f9b33e1d2115c997aa6b1087"
 },
 "nbformat": 3,
 "nbformat_minor": 0,
 "worksheets": [
  {
   "cells": [
    {
     "cell_type": "heading",
     "level": 1,
     "metadata": {},
     "source": [
      "Session 2: Data Types -- Strings, Lists and Dictionaries"
     ]
    },
    {
     "cell_type": "markdown",
     "metadata": {},
     "source": [
      "In this session, we explore basic data types and methods that operate on them in Python, to begin to manipulate data.  We will explore:\n",
      "\n",
      "* Data types and methods that act on them:\n",
      "    * Strings\n",
      "    * Lists\n",
      "    * Tuples\n",
      "    * Dictionaries\n",
      "* Introduction to Files: reading and writing data to disk files"
     ]
    },
    {
     "cell_type": "heading",
     "level": 2,
     "metadata": {},
     "source": [
      "Strings"
     ]
    },
    {
     "cell_type": "markdown",
     "metadata": {},
     "source": [
      "Strings are just text, like in the introductory \"Hello World!\" example.  \n",
      "\n",
      "Let's explore some methods that operate on them, and explain an important distinction between data types.  Let's review quickly what we already know about strings.  We can assign any string to a variable like we would assign an integer or a float to a variable:"
     ]
    },
    {
     "cell_type": "code",
     "collapsed": false,
     "input": [
      "a = \"This is CP255!\""
     ],
     "language": "python",
     "metadata": {},
     "outputs": [],
     "prompt_number": 1
    },
    {
     "cell_type": "code",
     "collapsed": false,
     "input": [
      "a"
     ],
     "language": "python",
     "metadata": {},
     "outputs": [
      {
       "metadata": {},
       "output_type": "pyout",
       "prompt_number": 2,
       "text": [
        "'This is CP255!'"
       ]
      }
     ],
     "prompt_number": 2
    },
    {
     "cell_type": "markdown",
     "metadata": {},
     "source": [
      "Notice that you get the contents without the quotes if you use the print method:"
     ]
    },
    {
     "cell_type": "code",
     "collapsed": false,
     "input": [
      "print a"
     ],
     "language": "python",
     "metadata": {},
     "outputs": [
      {
       "output_type": "stream",
       "stream": "stdout",
       "text": [
        "This is CP255!\n"
       ]
      }
     ],
     "prompt_number": 3
    },
    {
     "cell_type": "markdown",
     "metadata": {},
     "source": [
      "We can find the length of a string object:"
     ]
    },
    {
     "cell_type": "code",
     "collapsed": false,
     "input": [
      "len(a)"
     ],
     "language": "python",
     "metadata": {},
     "outputs": [
      {
       "metadata": {},
       "output_type": "pyout",
       "prompt_number": 4,
       "text": [
        "14"
       ]
      }
     ],
     "prompt_number": 4
    },
    {
     "cell_type": "markdown",
     "metadata": {},
     "source": [
      "We can get individual elements of a string (characters) by using indexes, that give us pointers to the positions within a string.  Notice that counting in Python starts from zero -- essentially all counters are offsets from the first position. This can take a bit of getting used to -- think of it like the way building floors in Europe generally start with zero.  The first floor in Europe would be a second floor in the U.S."
     ]
    },
    {
     "cell_type": "code",
     "collapsed": false,
     "input": [
      "a[0]"
     ],
     "language": "python",
     "metadata": {},
     "outputs": [
      {
       "metadata": {},
       "output_type": "pyout",
       "prompt_number": 5,
       "text": [
        "'T'"
       ]
      }
     ],
     "prompt_number": 5
    },
    {
     "cell_type": "markdown",
     "metadata": {},
     "source": [
      "We can use a the string indexing method to extract a range, or a specific section of a string, beginning from any position and ending in any position.  \n",
      "\n",
      "Python uses a syntax that separates the starting from the ending index position by a colon.  If we leave out the first or last, then the indexing gives all the values up to (but not including) the second value, or all the ones from the first value to the end.  Some examples should make this clearer: "
     ]
    },
    {
     "cell_type": "code",
     "collapsed": false,
     "input": [
      "a[1:5]"
     ],
     "language": "python",
     "metadata": {},
     "outputs": [
      {
       "metadata": {},
       "output_type": "pyout",
       "prompt_number": 6,
       "text": [
        "'his '"
       ]
      }
     ],
     "prompt_number": 6
    },
    {
     "cell_type": "code",
     "collapsed": false,
     "input": [
      "a[:5]"
     ],
     "language": "python",
     "metadata": {},
     "outputs": [
      {
       "metadata": {},
       "output_type": "pyout",
       "prompt_number": 7,
       "text": [
        "'This '"
       ]
      }
     ],
     "prompt_number": 7
    },
    {
     "cell_type": "code",
     "collapsed": false,
     "input": [
      "a[8:]"
     ],
     "language": "python",
     "metadata": {},
     "outputs": [
      {
       "metadata": {},
       "output_type": "pyout",
       "prompt_number": 8,
       "text": [
        "'CP255!'"
       ]
      }
     ],
     "prompt_number": 8
    },
    {
     "cell_type": "markdown",
     "metadata": {},
     "source": [
      "We can also remove specific characters with the strip method:"
     ]
    },
    {
     "cell_type": "code",
     "collapsed": false,
     "input": [
      "a.strip('!')"
     ],
     "language": "python",
     "metadata": {},
     "outputs": [
      {
       "metadata": {},
       "output_type": "pyout",
       "prompt_number": 9,
       "text": [
        "'This is CP255'"
       ]
      }
     ],
     "prompt_number": 9
    },
    {
     "cell_type": "markdown",
     "metadata": {},
     "source": [
      "Another helpful thing you can do is nest methods, like so:"
     ]
    },
    {
     "cell_type": "code",
     "collapsed": false,
     "input": [
      "a[8:].strip('!')"
     ],
     "language": "python",
     "metadata": {},
     "outputs": [
      {
       "metadata": {},
       "output_type": "pyout",
       "prompt_number": 10,
       "text": [
        "'CP255'"
       ]
      }
     ],
     "prompt_number": 10
    },
    {
     "cell_type": "markdown",
     "metadata": {},
     "source": [
      "That worked because the first operation (extracting a subset based on the index range) was a string object, so another string method could be applied to it."
     ]
    },
    {
     "cell_type": "markdown",
     "metadata": {},
     "source": [
      "A for loop can nicely iterate over the characters in a string, without having to manually increment a counter to do so:"
     ]
    },
    {
     "cell_type": "code",
     "collapsed": false,
     "input": [
      "for item in a:\n",
      "    print item"
     ],
     "language": "python",
     "metadata": {},
     "outputs": [
      {
       "output_type": "stream",
       "stream": "stdout",
       "text": [
        "T\n",
        "h\n",
        "i\n",
        "s\n",
        " \n",
        "i\n",
        "s\n",
        " \n",
        "C\n",
        "P\n",
        "2\n",
        "5\n",
        "5\n",
        "!\n"
       ]
      }
     ],
     "prompt_number": 11
    },
    {
     "cell_type": "markdown",
     "metadata": {},
     "source": [
      "Note that we cannot assign a new letter to part of the string.  This is because in Python, strings are an **immutable** data type."
     ]
    },
    {
     "cell_type": "code",
     "collapsed": false,
     "input": [
      "#a[0] = 't'"
     ],
     "language": "python",
     "metadata": {},
     "outputs": [],
     "prompt_number": 12
    },
    {
     "cell_type": "markdown",
     "metadata": {},
     "source": [
      "As we will see shortly, other data types like lists are **mutable**."
     ]
    },
    {
     "cell_type": "heading",
     "level": 3,
     "metadata": {},
     "source": [
      "Using Classes and Methods by Importing them"
     ]
    },
    {
     "cell_type": "markdown",
     "metadata": {},
     "source": [
      "Some functions are already programmed and stored in pre-built classes that are available to us if we just import them.  This is the essence of object oriented programming.  We can use someone else's classes and the functions within them, which we refer to as methods when they are embedded inside a class.  Or we can write our own.  Let's use an existing one now, until we learn to write classes later in the semester."
     ]
    },
    {
     "cell_type": "code",
     "collapsed": false,
     "input": [
      "a.find('r')"
     ],
     "language": "python",
     "metadata": {},
     "outputs": [
      {
       "metadata": {},
       "output_type": "pyout",
       "prompt_number": 13,
       "text": [
        "-1"
       ]
      }
     ],
     "prompt_number": 13
    },
    {
     "cell_type": "code",
     "collapsed": false,
     "input": [
      "import string\n",
      "print string.find(a, 'T')"
     ],
     "language": "python",
     "metadata": {},
     "outputs": [
      {
       "output_type": "stream",
       "stream": "stdout",
       "text": [
        "0\n"
       ]
      }
     ],
     "prompt_number": 14
    },
    {
     "cell_type": "markdown",
     "metadata": {},
     "source": [
      "Notice that the find function returns the location (index value) of the first instance it finds of the second argument, 'T' within the string object which is the first argument, a."
     ]
    },
    {
     "cell_type": "heading",
     "level": 2,
     "metadata": {},
     "source": [
      "Converting between string and numeric types"
     ]
    },
    {
     "cell_type": "markdown",
     "metadata": {},
     "source": [
      "Let's say we have a string object that contains numeric data and we want to do mathematical operations on it.  What happens?"
     ]
    },
    {
     "cell_type": "code",
     "collapsed": false,
     "input": [
      "rent = '2500'\n",
      "type(rent)"
     ],
     "language": "python",
     "metadata": {},
     "outputs": [
      {
       "metadata": {},
       "output_type": "pyout",
       "prompt_number": 15,
       "text": [
        "str"
       ]
      }
     ],
     "prompt_number": 15
    },
    {
     "cell_type": "code",
     "collapsed": false,
     "input": [
      "#rent*1.5"
     ],
     "language": "python",
     "metadata": {},
     "outputs": [],
     "prompt_number": 16
    },
    {
     "cell_type": "code",
     "collapsed": false,
     "input": [
      "rent*2"
     ],
     "language": "python",
     "metadata": {},
     "outputs": [
      {
       "metadata": {},
       "output_type": "pyout",
       "prompt_number": 17,
       "text": [
        "'25002500'"
       ]
      }
     ],
     "prompt_number": 17
    },
    {
     "cell_type": "markdown",
     "metadata": {},
     "source": [
      "If we need to do mathematical operations, we really need to convert this string object to a numeric type -- either an integer or a float."
     ]
    },
    {
     "cell_type": "code",
     "collapsed": false,
     "input": [
      "rent_int = int(rent)\n",
      "type(rent_int)"
     ],
     "language": "python",
     "metadata": {},
     "outputs": [
      {
       "metadata": {},
       "output_type": "pyout",
       "prompt_number": 18,
       "text": [
        "int"
       ]
      }
     ],
     "prompt_number": 18
    },
    {
     "cell_type": "code",
     "collapsed": false,
     "input": [
      "rent_int * 2"
     ],
     "language": "python",
     "metadata": {},
     "outputs": [
      {
       "metadata": {},
       "output_type": "pyout",
       "prompt_number": 19,
       "text": [
        "5000"
       ]
      }
     ],
     "prompt_number": 19
    },
    {
     "cell_type": "code",
     "collapsed": false,
     "input": [
      "rent_float = float(rent)\n",
      "print rent_float\n",
      "type(rent_float)"
     ],
     "language": "python",
     "metadata": {},
     "outputs": [
      {
       "output_type": "stream",
       "stream": "stdout",
       "text": [
        "2500.0\n"
       ]
      },
      {
       "metadata": {},
       "output_type": "pyout",
       "prompt_number": 20,
       "text": [
        "float"
       ]
      }
     ],
     "prompt_number": 20
    },
    {
     "cell_type": "markdown",
     "metadata": {},
     "source": [
      "Recall that you can also convert an integer to a float by a mathematical operation that involves a floating point component so that the result is forced to type float:"
     ]
    },
    {
     "cell_type": "code",
     "collapsed": false,
     "input": [
      "rent_flt = rent_int * 1.5\n",
      "print rent_flt\n",
      "type(rent_flt)"
     ],
     "language": "python",
     "metadata": {},
     "outputs": [
      {
       "output_type": "stream",
       "stream": "stdout",
       "text": [
        "3750.0\n"
       ]
      },
      {
       "metadata": {},
       "output_type": "pyout",
       "prompt_number": 21,
       "text": [
        "float"
       ]
      }
     ],
     "prompt_number": 21
    },
    {
     "cell_type": "markdown",
     "metadata": {},
     "source": [
      "But notice that the int method won't convert a string that looks like a floating point number:"
     ]
    },
    {
     "cell_type": "code",
     "collapsed": false,
     "input": [
      "#rent_i = int('2500.0')"
     ],
     "language": "python",
     "metadata": {},
     "outputs": [],
     "prompt_number": 22
    },
    {
     "cell_type": "markdown",
     "metadata": {},
     "source": [
      "But you can do this if you firs convert to float and then convert to int:"
     ]
    },
    {
     "cell_type": "code",
     "collapsed": false,
     "input": [
      "rent_i = int(float('2500.0'))\n",
      "print rent_i\n",
      "type(rent_i)"
     ],
     "language": "python",
     "metadata": {},
     "outputs": [
      {
       "output_type": "stream",
       "stream": "stdout",
       "text": [
        "2500\n"
       ]
      },
      {
       "metadata": {},
       "output_type": "pyout",
       "prompt_number": 23,
       "text": [
        "int"
       ]
      }
     ],
     "prompt_number": 23
    },
    {
     "cell_type": "markdown",
     "metadata": {},
     "source": [
      "Of course, you sometimes may need to convert data from numeric to string type.  It works the same way:"
     ]
    },
    {
     "cell_type": "code",
     "collapsed": false,
     "input": [
      "rent_str = str(rent_int)\n",
      "rent_str"
     ],
     "language": "python",
     "metadata": {},
     "outputs": [
      {
       "metadata": {},
       "output_type": "pyout",
       "prompt_number": 24,
       "text": [
        "'2500'"
       ]
      }
     ],
     "prompt_number": 24
    },
    {
     "cell_type": "heading",
     "level": 2,
     "metadata": {},
     "source": [
      "Lists"
     ]
    },
    {
     "cell_type": "markdown",
     "metadata": {},
     "source": [
      "You can think of strings as an ordered list of characters.  In Python, **lists** are another basic data type. Lists can contain any kind of object: strings, integers, floats, and others -- in any combination.  The syntax for lists is to include them as a sequence separated by commas, and enclosed in square brackets.  We can create an empty list, and add elements to it:"
     ]
    },
    {
     "cell_type": "code",
     "collapsed": false,
     "input": [
      "mylist = []\n",
      "mylist.append('this')"
     ],
     "language": "python",
     "metadata": {},
     "outputs": [],
     "prompt_number": 25
    },
    {
     "cell_type": "code",
     "collapsed": false,
     "input": [
      "mylist"
     ],
     "language": "python",
     "metadata": {},
     "outputs": [
      {
       "metadata": {},
       "output_type": "pyout",
       "prompt_number": 26,
       "text": [
        "['this']"
       ]
      }
     ],
     "prompt_number": 26
    },
    {
     "cell_type": "markdown",
     "metadata": {},
     "source": [
      "Notice that we can add lists, like we can add strings, to contatenate them:"
     ]
    },
    {
     "cell_type": "code",
     "collapsed": false,
     "input": [
      "mylist = mylist + ['and', 'that']"
     ],
     "language": "python",
     "metadata": {},
     "outputs": [],
     "prompt_number": 27
    },
    {
     "cell_type": "code",
     "collapsed": false,
     "input": [
      "mylist"
     ],
     "language": "python",
     "metadata": {},
     "outputs": [
      {
       "metadata": {},
       "output_type": "pyout",
       "prompt_number": 28,
       "text": [
        "['this', 'and', 'that']"
       ]
      }
     ],
     "prompt_number": 28
    },
    {
     "cell_type": "markdown",
     "metadata": {},
     "source": [
      "And as we said, lists are mutable.  Let's replace the last value in the list, which we could do by using index value 2 (there are three elements), or by using the index value -1, which indicates the last index value."
     ]
    },
    {
     "cell_type": "code",
     "collapsed": false,
     "input": [
      "mylist[-1] = 'those'"
     ],
     "language": "python",
     "metadata": {},
     "outputs": [],
     "prompt_number": 29
    },
    {
     "cell_type": "code",
     "collapsed": false,
     "input": [
      "mylist"
     ],
     "language": "python",
     "metadata": {},
     "outputs": [
      {
       "metadata": {},
       "output_type": "pyout",
       "prompt_number": 30,
       "text": [
        "['this', 'and', 'those']"
       ]
      }
     ],
     "prompt_number": 30
    },
    {
     "cell_type": "code",
     "collapsed": false,
     "input": [
      "len(mylist)"
     ],
     "language": "python",
     "metadata": {},
     "outputs": [
      {
       "metadata": {},
       "output_type": "pyout",
       "prompt_number": 31,
       "text": [
        "3"
       ]
      }
     ],
     "prompt_number": 31
    },
    {
     "cell_type": "code",
     "collapsed": false,
     "input": [
      "del(mylist[2])"
     ],
     "language": "python",
     "metadata": {},
     "outputs": [],
     "prompt_number": 32
    },
    {
     "cell_type": "code",
     "collapsed": false,
     "input": [
      "mylist"
     ],
     "language": "python",
     "metadata": {},
     "outputs": [
      {
       "metadata": {},
       "output_type": "pyout",
       "prompt_number": 33,
       "text": [
        "['this', 'and']"
       ]
      }
     ],
     "prompt_number": 33
    },
    {
     "cell_type": "markdown",
     "metadata": {},
     "source": [
      "Now we can also convert a string that might be a sentence, or a line of data, to a list, so we can work with its elements more easily:"
     ]
    },
    {
     "cell_type": "code",
     "collapsed": false,
     "input": [
      "a.split()"
     ],
     "language": "python",
     "metadata": {},
     "outputs": [
      {
       "metadata": {},
       "output_type": "pyout",
       "prompt_number": 34,
       "text": [
        "['This', 'is', 'CP255!']"
       ]
      }
     ],
     "prompt_number": 34
    },
    {
     "cell_type": "code",
     "collapsed": false,
     "input": [
      "b = string.split(a)"
     ],
     "language": "python",
     "metadata": {},
     "outputs": [],
     "prompt_number": 35
    },
    {
     "cell_type": "code",
     "collapsed": false,
     "input": [
      "b"
     ],
     "language": "python",
     "metadata": {},
     "outputs": [
      {
       "metadata": {},
       "output_type": "pyout",
       "prompt_number": 36,
       "text": [
        "['This', 'is', 'CP255!']"
       ]
      }
     ],
     "prompt_number": 36
    },
    {
     "cell_type": "code",
     "collapsed": false,
     "input": [
      "b[2] = 'great!'"
     ],
     "language": "python",
     "metadata": {},
     "outputs": [],
     "prompt_number": 37
    },
    {
     "cell_type": "markdown",
     "metadata": {},
     "source": [
      "and we can put pieces together again to make a string from a list:"
     ]
    },
    {
     "cell_type": "code",
     "collapsed": false,
     "input": [
      "c = string.join(b)"
     ],
     "language": "python",
     "metadata": {},
     "outputs": [],
     "prompt_number": 38
    },
    {
     "cell_type": "code",
     "collapsed": false,
     "input": [
      "c"
     ],
     "language": "python",
     "metadata": {},
     "outputs": [
      {
       "metadata": {},
       "output_type": "pyout",
       "prompt_number": 39,
       "text": [
        "'This is great!'"
       ]
      }
     ],
     "prompt_number": 39
    },
    {
     "cell_type": "heading",
     "level": 2,
     "metadata": {},
     "source": [
      "Tuples"
     ]
    },
    {
     "cell_type": "markdown",
     "metadata": {},
     "source": [
      "Tuples are like lists, but are **immutable**.  The syntax is similar except tuples use parentheses instead of square brackets."
     ]
    },
    {
     "cell_type": "code",
     "collapsed": false,
     "input": [
      "d = ('a', 'b', 'c')"
     ],
     "language": "python",
     "metadata": {},
     "outputs": [],
     "prompt_number": 40
    },
    {
     "cell_type": "code",
     "collapsed": false,
     "input": [
      "#d[2] = 'z'"
     ],
     "language": "python",
     "metadata": {},
     "outputs": [],
     "prompt_number": 41
    },
    {
     "cell_type": "markdown",
     "metadata": {},
     "source": [
      "See?  It really is immutable.  You'll just get a traceback if you try.  Use immutables only when you don't want to allow them to be modified."
     ]
    },
    {
     "cell_type": "heading",
     "level": 2,
     "metadata": {},
     "source": [
      "Dictionaries"
     ]
    },
    {
     "cell_type": "markdown",
     "metadata": {},
     "source": [
      "Dictionaries are a very handy data type that can be used to manage data you need to look up by a key.  Dictionaries are unordered key - value pairs, separated by a colon.  They are much more general than the word : definition kind of pairing, since the value can be many different kinds of objects.  The syntax in this case identifies a dictionary with curly braces, containing lists of key-value pairs. "
     ]
    },
    {
     "cell_type": "code",
     "collapsed": false,
     "input": [
      "antonyms = {'hot': 'cold', 'fast': 'slow', 'good': 'bad'}"
     ],
     "language": "python",
     "metadata": {},
     "outputs": [],
     "prompt_number": 42
    },
    {
     "cell_type": "code",
     "collapsed": false,
     "input": [
      "antonyms['hot']"
     ],
     "language": "python",
     "metadata": {},
     "outputs": [
      {
       "metadata": {},
       "output_type": "pyout",
       "prompt_number": 43,
       "text": [
        "'cold'"
       ]
      }
     ],
     "prompt_number": 43
    },
    {
     "cell_type": "markdown",
     "metadata": {},
     "source": [
      "We can get the length, keys, and values of a dictionary:"
     ]
    },
    {
     "cell_type": "code",
     "collapsed": false,
     "input": [
      "len(antonyms)"
     ],
     "language": "python",
     "metadata": {},
     "outputs": [
      {
       "metadata": {},
       "output_type": "pyout",
       "prompt_number": 44,
       "text": [
        "3"
       ]
      }
     ],
     "prompt_number": 44
    },
    {
     "cell_type": "code",
     "collapsed": false,
     "input": [
      "print antonyms.keys()"
     ],
     "language": "python",
     "metadata": {},
     "outputs": [
      {
       "output_type": "stream",
       "stream": "stdout",
       "text": [
        "['hot', 'good', 'fast']\n"
       ]
      }
     ],
     "prompt_number": 45
    },
    {
     "cell_type": "code",
     "collapsed": false,
     "input": [
      "print antonyms.values()"
     ],
     "language": "python",
     "metadata": {},
     "outputs": [
      {
       "output_type": "stream",
       "stream": "stdout",
       "text": [
        "['cold', 'bad', 'slow']\n"
       ]
      }
     ],
     "prompt_number": 46
    },
    {
     "cell_type": "markdown",
     "metadata": {},
     "source": [
      "Dictionaries are mutable:"
     ]
    },
    {
     "cell_type": "code",
     "collapsed": false,
     "input": [
      "antonyms['fast'] = 'gorge'"
     ],
     "language": "python",
     "metadata": {},
     "outputs": [],
     "prompt_number": 47
    },
    {
     "cell_type": "code",
     "collapsed": false,
     "input": [
      "antonyms"
     ],
     "language": "python",
     "metadata": {},
     "outputs": [
      {
       "metadata": {},
       "output_type": "pyout",
       "prompt_number": 48,
       "text": [
        "{'fast': 'gorge', 'good': 'bad', 'hot': 'cold'}"
       ]
      }
     ],
     "prompt_number": 48
    },
    {
     "cell_type": "heading",
     "level": 2,
     "metadata": {},
     "source": [
      "Reading Data from a File"
     ]
    },
    {
     "cell_type": "markdown",
     "metadata": {},
     "source": [
      "Now that we have learned about some basic data types and methods that operate on them, we add another tool: working with files in Python.  Let's see how to open and step through the rows of a file we have used previously: rents_cat.csv.\n",
      "\n",
      "There is a csv class for Python that provides some convenience methods to interact with csv formatted files.  Here is how we can read and print the first three rows of the file:"
     ]
    },
    {
     "cell_type": "code",
     "collapsed": false,
     "input": [
      "import csv\n",
      "with open('Data/rents_cat.csv', 'rb') as csvfile:\n",
      "    i = 0\n",
      "    itemreader = csv.reader(csvfile)\n",
      "    for row in itemreader:\n",
      "        i = i+1\n",
      "        if i < 4:\n",
      "            print row"
     ],
     "language": "python",
     "metadata": {},
     "outputs": [
      {
       "output_type": "stream",
       "stream": "stdout",
       "text": [
        "['', 'neighborhood', 'title', 'price', 'bedrooms', 'pid', 'longitude', 'subregion', 'link', 'latitude', 'sqft', 'month', 'day', 'year', 'blockfips', 'countyfips', 'countyname', 'price_sqft', 'price_sqft_cat']\n",
        "['3', 'financial district', '*NEW* Beautiful, Upscale Condo in Historic Jackson Square', '3300.0', '1.0', '4067393707', '-122.39974699999999', 'SF', '/sfc/apa/4067393707.html', '37.798108', '830.0', 'Sep', '18', '2013', '60750105002005', '6075', 'San Francisco', '3.9759036144578315', '4']\n",
        "['6', 'castro / upper market', 'remodeled 1bd/1ba', '2950.0', '1.0', '4076891344', '-122.44033400000001', 'SF', '/sfc/apa/4076891344.html', '37.757405', '900.0', 'Sep', '18', '2013', '60750204022001', '6075', 'San Francisco', '3.2777777777777777', '4']\n"
       ]
      }
     ],
     "prompt_number": 49
    },
    {
     "cell_type": "markdown",
     "metadata": {},
     "source": [
      "Sometimes you will need to skip the header row, so you only read the actual lines of data below the header row."
     ]
    },
    {
     "cell_type": "code",
     "collapsed": false,
     "input": [
      "import csv\n",
      "with open('Data/rents_cat.csv', 'rb') as csvfile:\n",
      "    i = 0\n",
      "    itemreader = csv.reader(csvfile)\n",
      "    next(itemreader, None)  # skip the headers\n",
      "    for row in itemreader:\n",
      "        i = i+1\n",
      "        if i < 4:\n",
      "            print row"
     ],
     "language": "python",
     "metadata": {},
     "outputs": [
      {
       "output_type": "stream",
       "stream": "stdout",
       "text": [
        "['3', 'financial district', '*NEW* Beautiful, Upscale Condo in Historic Jackson Square', '3300.0', '1.0', '4067393707', '-122.39974699999999', 'SF', '/sfc/apa/4067393707.html', '37.798108', '830.0', 'Sep', '18', '2013', '60750105002005', '6075', 'San Francisco', '3.9759036144578315', '4']\n",
        "['6', 'castro / upper market', 'remodeled 1bd/1ba', '2950.0', '1.0', '4076891344', '-122.44033400000001', 'SF', '/sfc/apa/4076891344.html', '37.757405', '900.0', 'Sep', '18', '2013', '60750204022001', '6075', 'San Francisco', '3.2777777777777777', '4']\n",
        "['7', 'sunset / parkside', 'Panoramic Ocean View 2 Bedroom House', '3500.0', '2.0', '4060191270', '-122.48358200000001', 'SF', '/sfc/apa/4060191270.html', '37.74831500000001', '1400.0', 'Sep', '18', '2013', '60750328013002', '6075', 'San Francisco', '2.5', '2']\n"
       ]
      }
     ],
     "prompt_number": 50
    },
    {
     "cell_type": "markdown",
     "metadata": {},
     "source": [
      "Remember that you can get help either inline inside IPython, or by googling to get the more detailed online documentation."
     ]
    },
    {
     "cell_type": "code",
     "collapsed": false,
     "input": [
      "csv.reader?"
     ],
     "language": "python",
     "metadata": {},
     "outputs": [],
     "prompt_number": 51
    },
    {
     "cell_type": "heading",
     "level": 2,
     "metadata": {},
     "source": [
      "Exercises"
     ]
    },
    {
     "cell_type": "markdown",
     "metadata": {},
     "source": [
      "Time to practice a bit with what we have covered so far."
     ]
    },
    {
     "cell_type": "code",
     "collapsed": false,
     "input": [
      "s = 'Now is the time for all good men to come to the aid of their country!'"
     ],
     "language": "python",
     "metadata": {},
     "outputs": [],
     "prompt_number": 52
    },
    {
     "cell_type": "markdown",
     "metadata": {},
     "source": [
      "1. Turn the string above into 'all good countrymen' using the minimum amount of code, using the methods covered so far, and the least amount of code.  One or two short lines of code should do the trick."
     ]
    },
    {
     "cell_type": "code",
     "collapsed": false,
     "input": [],
     "language": "python",
     "metadata": {},
     "outputs": [],
     "prompt_number": 52
    },
    {
     "cell_type": "markdown",
     "metadata": {},
     "source": [
      "Now modify the code that we just used to read the rents_cat.csv file, to create variables for neighborhood, rent, sqft, rent_sqft, bedrooms, year, month, and make the type of the numeric variables integer.  Print these for the first 5 rows of data in the file."
     ]
    },
    {
     "cell_type": "code",
     "collapsed": false,
     "input": [],
     "language": "python",
     "metadata": {},
     "outputs": [],
     "prompt_number": 52
    },
    {
     "cell_type": "markdown",
     "metadata": {},
     "source": [
      "Now try computing the average rent_sqft across all the records in the file."
     ]
    },
    {
     "cell_type": "code",
     "collapsed": false,
     "input": [
      "import csv\n",
      "csvfile = open('Data/rents_cat.csv', 'rb')\n",
      "i = 0\n",
      "total = 0.0\n",
      "total_rent_sqft = 0.0\n",
      "itemreader = csv.reader(csvfile)\n",
      "next(itemreader, None)  # skip the headers\n",
      "for row in itemreader:\n",
      "    i = i+1\n",
      "    total = total + float(row[3])\n",
      "    total_rent_sqft = total_rent_sqft + float(row[17])\n",
      "print total/i, total_rent_sqft/i"
     ],
     "language": "python",
     "metadata": {},
     "outputs": [
      {
       "output_type": "stream",
       "stream": "stdout",
       "text": [
        "2722.71336951 2.51892280248\n"
       ]
      }
     ],
     "prompt_number": 61
    },
    {
     "cell_type": "code",
     "collapsed": false,
     "input": [],
     "language": "python",
     "metadata": {},
     "outputs": []
    }
   ],
   "metadata": {}
  }
 ]
}