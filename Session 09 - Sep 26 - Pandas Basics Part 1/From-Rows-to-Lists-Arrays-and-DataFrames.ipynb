{
 "cells": [
  {
   "cell_type": "markdown",
   "metadata": {},
   "source": [
    "# From Rows to Lists, Arrays, and DataFrames"
   ]
  },
  {
   "cell_type": "markdown",
   "metadata": {},
   "source": [
    "## Iterating Over Rows to Analyze Data"
   ]
  },
  {
   "cell_type": "markdown",
   "metadata": {},
   "source": [
    "So far we have learned how to iterate through the rows of a file in order to process each row, one at a time.  It has its limitations.  In this session we compare working with iteration over rows, to two alternatives: generating lists from the rows, and generating arrays using Numpy.  We close with an introduction to the pandas package, which we will begin using extensively.\n",
    "\n",
    "But first, let's ceate and then load a simple cvs file with one column, containing 50 random numbers between 0 and 1:"
   ]
  },
  {
   "cell_type": "markdown",
   "metadata": {},
   "source": [
    "The first task is to calculate a mean value of these numbers.  How can we do that?"
   ]
  },
  {
   "cell_type": "code",
   "execution_count": 1,
   "metadata": {
    "collapsed": false
   },
   "outputs": [
    {
     "name": "stdout",
     "output_type": "stream",
     "text": [
      "0.5244398067643136\n"
     ]
    }
   ],
   "source": [
    "import csv\n",
    "with open('random.csv', 'r') as csvfile:\n",
    "    i = 0\n",
    "    cumsum = 0\n",
    "    itemreader = csv.reader(csvfile)\n",
    "    for row in itemreader:\n",
    "        i = i+1\n",
    "        cumsum = cumsum+float(row[0])\n",
    "    mean = cumsum/i\n",
    "    print(mean)"
   ]
  },
  {
   "cell_type": "markdown",
   "metadata": {},
   "source": [
    "How about computing the min and max values?"
   ]
  },
  {
   "cell_type": "code",
   "execution_count": 3,
   "metadata": {
    "collapsed": false
   },
   "outputs": [
    {
     "name": "stdout",
     "output_type": "stream",
     "text": [
      "0.5244398067643136 0.025223651492324306 0.9466802390670823\n"
     ]
    }
   ],
   "source": [
    "import csv\n",
    "with open('random.csv', 'r') as csvfile:\n",
    "    i = 0\n",
    "    cumsum = 0\n",
    "    min = 1\n",
    "    max = 0\n",
    "    itemreader = csv.reader(csvfile)\n",
    "    for row in itemreader:\n",
    "        i = i+1\n",
    "        cumsum = cumsum+float(row[0])\n",
    "        if float(row[0])>max:\n",
    "            max = float(row[0])\n",
    "        if float(row[0])<min:\n",
    "            min = float(row[0])\n",
    "    mean = cumsum/i\n",
    "    print(mean, min, max)"
   ]
  },
  {
   "cell_type": "markdown",
   "metadata": {},
   "source": [
    "Now let's say we need to compute the median of these numbers.  Remember that a median is the value for which half of the observations are less and half are greater.  Any suggestions on how to code this using our iteration approach, and without resorting to creating a list?"
   ]
  },
  {
   "cell_type": "code",
   "execution_count": 3,
   "metadata": {
    "collapsed": false
   },
   "outputs": [],
   "source": []
  },
  {
   "cell_type": "markdown",
   "metadata": {},
   "source": [
    "## Using Lists to Analyze Data"
   ]
  },
  {
   "cell_type": "markdown",
   "metadata": {},
   "source": [
    "Some things that are hard in the row iteration approach above, become easier if we can keep all of the values in one object, like a list.\n",
    "\n",
    "Let's revisit the problems above, by assembling the values from each row into a single list."
   ]
  },
  {
   "cell_type": "code",
   "execution_count": 4,
   "metadata": {
    "collapsed": false
   },
   "outputs": [
    {
     "data": {
      "text/plain": [
       "[0.4093732012568684,\n",
       " 0.2605739881846625,\n",
       " 0.3292968362616999,\n",
       " 0.15369251587655286,\n",
       " 0.23329043078616352,\n",
       " 0.058375483652005955,\n",
       " 0.5332588448002981,\n",
       " 0.6687962527527715,\n",
       " 0.5332264351934751,\n",
       " 0.8415076456699467,\n",
       " 0.7979353969441536,\n",
       " 0.43233771794075715,\n",
       " 0.34754605289907725,\n",
       " 0.7466619516233285,\n",
       " 0.15813005775862143,\n",
       " 0.9466802390670823,\n",
       " 0.5818232321654557,\n",
       " 0.7928258464748998,\n",
       " 0.41998211394335083,\n",
       " 0.7683834129272147,\n",
       " 0.10818497591591836,\n",
       " 0.2572187926784939,\n",
       " 0.025223651492324306,\n",
       " 0.8997766344084331,\n",
       " 0.9202595213921237,\n",
       " 0.20619395888024705,\n",
       " 0.42389286424458084,\n",
       " 0.02584410137397719,\n",
       " 0.28533959437594425,\n",
       " 0.340806200755437,\n",
       " 0.25722464140666346,\n",
       " 0.3607105175611516,\n",
       " 0.5595361970394099,\n",
       " 0.13022521409946008,\n",
       " 0.8365338424691172,\n",
       " 0.7674578942113987,\n",
       " 0.9166277316995728,\n",
       " 0.10282324854265201,\n",
       " 0.8514145952338723,\n",
       " 0.9289184807191826,\n",
       " 0.4110611617848009,\n",
       " 0.0866924684400674,\n",
       " 0.8206823663887279,\n",
       " 0.9081734329877278,\n",
       " 0.7107543205262647,\n",
       " 0.8664969060282058,\n",
       " 0.7895386545113654,\n",
       " 0.6653522724979578,\n",
       " 0.8754264422252427,\n",
       " 0.8699019981469763]"
      ]
     },
     "execution_count": 4,
     "metadata": {},
     "output_type": "execute_result"
    }
   ],
   "source": [
    "import csv\n",
    "with open('random.csv', 'r') as csvfile:\n",
    "    x = []\n",
    "    itemreader = csv.reader(csvfile)\n",
    "    for row in itemreader:\n",
    "        x.append(float(row[0]))\n",
    "x"
   ]
  },
  {
   "cell_type": "markdown",
   "metadata": {},
   "source": [
    "X is now a single list object with all the values in the file, whereas initially we just had each row producing one list with one element in it (from one row), and then printing that, before recreating it with the value from the next row.  The iteration approach kept only one row at a time, and we could not easily do calculations like a median.\n",
    "\n",
    "Using the list (x), we should now have an easier time with mean and median calculations, using list methods like sum and len, and sort:"
   ]
  },
  {
   "cell_type": "code",
   "execution_count": 6,
   "metadata": {
    "collapsed": false
   },
   "outputs": [
    {
     "name": "stdout",
     "output_type": "stream",
     "text": [
      "0.5244398067643136\n"
     ]
    }
   ],
   "source": [
    "mean = sum(x)/len(x)\n",
    "print(mean)"
   ]
  },
  {
   "cell_type": "markdown",
   "metadata": {},
   "source": [
    "We can solve the median problem by sorting the list, and getting the value that is halfway through the list:"
   ]
  },
  {
   "cell_type": "code",
   "execution_count": 10,
   "metadata": {
    "collapsed": false
   },
   "outputs": [
    {
     "name": "stdout",
     "output_type": "stream",
     "text": [
      "0.5332588448002981\n"
     ]
    }
   ],
   "source": [
    "x.sort()\n",
    "median = x[int(len(x)/2)]\n",
    "print(median)"
   ]
  },
  {
   "cell_type": "markdown",
   "metadata": {},
   "source": [
    "It is also simple to get the min and max, using built-in list methods:"
   ]
  },
  {
   "cell_type": "code",
   "execution_count": 11,
   "metadata": {
    "collapsed": false
   },
   "outputs": [
    {
     "data": {
      "text/plain": [
       "0.025223651492324306"
      ]
     },
     "execution_count": 11,
     "metadata": {},
     "output_type": "execute_result"
    }
   ],
   "source": [
    "min = x[0]\n",
    "min"
   ]
  },
  {
   "cell_type": "code",
   "execution_count": 12,
   "metadata": {
    "collapsed": false
   },
   "outputs": [
    {
     "data": {
      "text/plain": [
       "0.9466802390670823"
      ]
     },
     "execution_count": 12,
     "metadata": {},
     "output_type": "execute_result"
    }
   ],
   "source": [
    "max = x[-1]\n",
    "max"
   ]
  },
  {
   "cell_type": "markdown",
   "metadata": {},
   "source": [
    "OK, this is progress.  Can we now do other math on the data, like multiply each value by 5?"
   ]
  },
  {
   "cell_type": "code",
   "execution_count": 13,
   "metadata": {
    "collapsed": false
   },
   "outputs": [
    {
     "data": {
      "text/plain": [
       "[0.025223651492324306,\n",
       " 0.02584410137397719,\n",
       " 0.058375483652005955,\n",
       " 0.0866924684400674,\n",
       " 0.10282324854265201,\n",
       " 0.10818497591591836,\n",
       " 0.13022521409946008,\n",
       " 0.15369251587655286,\n",
       " 0.15813005775862143,\n",
       " 0.20619395888024705,\n",
       " 0.23329043078616352,\n",
       " 0.2572187926784939,\n",
       " 0.25722464140666346,\n",
       " 0.2605739881846625,\n",
       " 0.28533959437594425,\n",
       " 0.3292968362616999,\n",
       " 0.340806200755437,\n",
       " 0.34754605289907725,\n",
       " 0.3607105175611516,\n",
       " 0.4093732012568684,\n",
       " 0.4110611617848009,\n",
       " 0.41998211394335083,\n",
       " 0.42389286424458084,\n",
       " 0.43233771794075715,\n",
       " 0.5332264351934751,\n",
       " 0.5332588448002981,\n",
       " 0.5595361970394099,\n",
       " 0.5818232321654557,\n",
       " 0.6653522724979578,\n",
       " 0.6687962527527715,\n",
       " 0.7107543205262647,\n",
       " 0.7466619516233285,\n",
       " 0.7674578942113987,\n",
       " 0.7683834129272147,\n",
       " 0.7895386545113654,\n",
       " 0.7928258464748998,\n",
       " 0.7979353969441536,\n",
       " 0.8206823663887279,\n",
       " 0.8365338424691172,\n",
       " 0.8415076456699467,\n",
       " 0.8514145952338723,\n",
       " 0.8664969060282058,\n",
       " 0.8699019981469763,\n",
       " 0.8754264422252427,\n",
       " 0.8997766344084331,\n",
       " 0.9081734329877278,\n",
       " 0.9166277316995728,\n",
       " 0.9202595213921237,\n",
       " 0.9289184807191826,\n",
       " 0.9466802390670823,\n",
       " 0.025223651492324306,\n",
       " 0.02584410137397719,\n",
       " 0.058375483652005955,\n",
       " 0.0866924684400674,\n",
       " 0.10282324854265201,\n",
       " 0.10818497591591836,\n",
       " 0.13022521409946008,\n",
       " 0.15369251587655286,\n",
       " 0.15813005775862143,\n",
       " 0.20619395888024705,\n",
       " 0.23329043078616352,\n",
       " 0.2572187926784939,\n",
       " 0.25722464140666346,\n",
       " 0.2605739881846625,\n",
       " 0.28533959437594425,\n",
       " 0.3292968362616999,\n",
       " 0.340806200755437,\n",
       " 0.34754605289907725,\n",
       " 0.3607105175611516,\n",
       " 0.4093732012568684,\n",
       " 0.4110611617848009,\n",
       " 0.41998211394335083,\n",
       " 0.42389286424458084,\n",
       " 0.43233771794075715,\n",
       " 0.5332264351934751,\n",
       " 0.5332588448002981,\n",
       " 0.5595361970394099,\n",
       " 0.5818232321654557,\n",
       " 0.6653522724979578,\n",
       " 0.6687962527527715,\n",
       " 0.7107543205262647,\n",
       " 0.7466619516233285,\n",
       " 0.7674578942113987,\n",
       " 0.7683834129272147,\n",
       " 0.7895386545113654,\n",
       " 0.7928258464748998,\n",
       " 0.7979353969441536,\n",
       " 0.8206823663887279,\n",
       " 0.8365338424691172,\n",
       " 0.8415076456699467,\n",
       " 0.8514145952338723,\n",
       " 0.8664969060282058,\n",
       " 0.8699019981469763,\n",
       " 0.8754264422252427,\n",
       " 0.8997766344084331,\n",
       " 0.9081734329877278,\n",
       " 0.9166277316995728,\n",
       " 0.9202595213921237,\n",
       " 0.9289184807191826,\n",
       " 0.9466802390670823,\n",
       " 0.025223651492324306,\n",
       " 0.02584410137397719,\n",
       " 0.058375483652005955,\n",
       " 0.0866924684400674,\n",
       " 0.10282324854265201,\n",
       " 0.10818497591591836,\n",
       " 0.13022521409946008,\n",
       " 0.15369251587655286,\n",
       " 0.15813005775862143,\n",
       " 0.20619395888024705,\n",
       " 0.23329043078616352,\n",
       " 0.2572187926784939,\n",
       " 0.25722464140666346,\n",
       " 0.2605739881846625,\n",
       " 0.28533959437594425,\n",
       " 0.3292968362616999,\n",
       " 0.340806200755437,\n",
       " 0.34754605289907725,\n",
       " 0.3607105175611516,\n",
       " 0.4093732012568684,\n",
       " 0.4110611617848009,\n",
       " 0.41998211394335083,\n",
       " 0.42389286424458084,\n",
       " 0.43233771794075715,\n",
       " 0.5332264351934751,\n",
       " 0.5332588448002981,\n",
       " 0.5595361970394099,\n",
       " 0.5818232321654557,\n",
       " 0.6653522724979578,\n",
       " 0.6687962527527715,\n",
       " 0.7107543205262647,\n",
       " 0.7466619516233285,\n",
       " 0.7674578942113987,\n",
       " 0.7683834129272147,\n",
       " 0.7895386545113654,\n",
       " 0.7928258464748998,\n",
       " 0.7979353969441536,\n",
       " 0.8206823663887279,\n",
       " 0.8365338424691172,\n",
       " 0.8415076456699467,\n",
       " 0.8514145952338723,\n",
       " 0.8664969060282058,\n",
       " 0.8699019981469763,\n",
       " 0.8754264422252427,\n",
       " 0.8997766344084331,\n",
       " 0.9081734329877278,\n",
       " 0.9166277316995728,\n",
       " 0.9202595213921237,\n",
       " 0.9289184807191826,\n",
       " 0.9466802390670823,\n",
       " 0.025223651492324306,\n",
       " 0.02584410137397719,\n",
       " 0.058375483652005955,\n",
       " 0.0866924684400674,\n",
       " 0.10282324854265201,\n",
       " 0.10818497591591836,\n",
       " 0.13022521409946008,\n",
       " 0.15369251587655286,\n",
       " 0.15813005775862143,\n",
       " 0.20619395888024705,\n",
       " 0.23329043078616352,\n",
       " 0.2572187926784939,\n",
       " 0.25722464140666346,\n",
       " 0.2605739881846625,\n",
       " 0.28533959437594425,\n",
       " 0.3292968362616999,\n",
       " 0.340806200755437,\n",
       " 0.34754605289907725,\n",
       " 0.3607105175611516,\n",
       " 0.4093732012568684,\n",
       " 0.4110611617848009,\n",
       " 0.41998211394335083,\n",
       " 0.42389286424458084,\n",
       " 0.43233771794075715,\n",
       " 0.5332264351934751,\n",
       " 0.5332588448002981,\n",
       " 0.5595361970394099,\n",
       " 0.5818232321654557,\n",
       " 0.6653522724979578,\n",
       " 0.6687962527527715,\n",
       " 0.7107543205262647,\n",
       " 0.7466619516233285,\n",
       " 0.7674578942113987,\n",
       " 0.7683834129272147,\n",
       " 0.7895386545113654,\n",
       " 0.7928258464748998,\n",
       " 0.7979353969441536,\n",
       " 0.8206823663887279,\n",
       " 0.8365338424691172,\n",
       " 0.8415076456699467,\n",
       " 0.8514145952338723,\n",
       " 0.8664969060282058,\n",
       " 0.8699019981469763,\n",
       " 0.8754264422252427,\n",
       " 0.8997766344084331,\n",
       " 0.9081734329877278,\n",
       " 0.9166277316995728,\n",
       " 0.9202595213921237,\n",
       " 0.9289184807191826,\n",
       " 0.9466802390670823,\n",
       " 0.025223651492324306,\n",
       " 0.02584410137397719,\n",
       " 0.058375483652005955,\n",
       " 0.0866924684400674,\n",
       " 0.10282324854265201,\n",
       " 0.10818497591591836,\n",
       " 0.13022521409946008,\n",
       " 0.15369251587655286,\n",
       " 0.15813005775862143,\n",
       " 0.20619395888024705,\n",
       " 0.23329043078616352,\n",
       " 0.2572187926784939,\n",
       " 0.25722464140666346,\n",
       " 0.2605739881846625,\n",
       " 0.28533959437594425,\n",
       " 0.3292968362616999,\n",
       " 0.340806200755437,\n",
       " 0.34754605289907725,\n",
       " 0.3607105175611516,\n",
       " 0.4093732012568684,\n",
       " 0.4110611617848009,\n",
       " 0.41998211394335083,\n",
       " 0.42389286424458084,\n",
       " 0.43233771794075715,\n",
       " 0.5332264351934751,\n",
       " 0.5332588448002981,\n",
       " 0.5595361970394099,\n",
       " 0.5818232321654557,\n",
       " 0.6653522724979578,\n",
       " 0.6687962527527715,\n",
       " 0.7107543205262647,\n",
       " 0.7466619516233285,\n",
       " 0.7674578942113987,\n",
       " 0.7683834129272147,\n",
       " 0.7895386545113654,\n",
       " 0.7928258464748998,\n",
       " 0.7979353969441536,\n",
       " 0.8206823663887279,\n",
       " 0.8365338424691172,\n",
       " 0.8415076456699467,\n",
       " 0.8514145952338723,\n",
       " 0.8664969060282058,\n",
       " 0.8699019981469763,\n",
       " 0.8754264422252427,\n",
       " 0.8997766344084331,\n",
       " 0.9081734329877278,\n",
       " 0.9166277316995728,\n",
       " 0.9202595213921237,\n",
       " 0.9289184807191826,\n",
       " 0.9466802390670823]"
      ]
     },
     "execution_count": 13,
     "metadata": {},
     "output_type": "execute_result"
    }
   ],
   "source": [
    "y = x*5\n",
    "y"
   ]
  },
  {
   "cell_type": "markdown",
   "metadata": {},
   "source": [
    "Not what we wanted. That just concatenated 5 copies of the list together!\n",
    "\n",
    "Let's take a different approach."
   ]
  },
  {
   "cell_type": "code",
   "execution_count": 14,
   "metadata": {
    "collapsed": false
   },
   "outputs": [
    {
     "data": {
      "text/plain": [
       "[0.12611825746162153,\n",
       " 0.12922050686988595,\n",
       " 0.2918774182600298,\n",
       " 0.43346234220033697,\n",
       " 0.5141162427132601,\n",
       " 0.5409248795795918,\n",
       " 0.6511260704973004,\n",
       " 0.7684625793827643,\n",
       " 0.7906502887931072,\n",
       " 1.0309697944012353,\n",
       " 1.1664521539308175,\n",
       " 1.2860939633924695,\n",
       " 1.2861232070333173,\n",
       " 1.3028699409233124,\n",
       " 1.4266979718797212,\n",
       " 1.6464841813084996,\n",
       " 1.7040310037771849,\n",
       " 1.7377302644953863,\n",
       " 1.803552587805758,\n",
       " 2.046866006284342,\n",
       " 2.0553058089240044,\n",
       " 2.099910569716754,\n",
       " 2.119464321222904,\n",
       " 2.1616885897037856,\n",
       " 2.6661321759673755,\n",
       " 2.6662942240014904,\n",
       " 2.79768098519705,\n",
       " 2.9091161608272786,\n",
       " 3.326761362489789,\n",
       " 3.3439812637638577,\n",
       " 3.5537716026313237,\n",
       " 3.7333097581166426,\n",
       " 3.837289471056993,\n",
       " 3.8419170646360734,\n",
       " 3.947693272556827,\n",
       " 3.964129232374499,\n",
       " 3.9896769847207683,\n",
       " 4.10341183194364,\n",
       " 4.182669212345586,\n",
       " 4.207538228349733,\n",
       " 4.257072976169361,\n",
       " 4.332484530141029,\n",
       " 4.349509990734882,\n",
       " 4.377132211126213,\n",
       " 4.498883172042166,\n",
       " 4.540867164938639,\n",
       " 4.583138658497864,\n",
       " 4.601297606960618,\n",
       " 4.644592403595913,\n",
       " 4.733401195335412]"
      ]
     },
     "execution_count": 14,
     "metadata": {},
     "output_type": "execute_result"
    }
   ],
   "source": [
    "y = []\n",
    "for item in range(len(x)):\n",
    "    y.append(x[item]*5)\n",
    "y"
   ]
  },
  {
   "cell_type": "markdown",
   "metadata": {},
   "source": [
    "Alright, this is a big improvement over the iteration over rows approach, but it is still a bit tedious.\n",
    "\n",
    "## Introducing Numpy\n",
    "\n",
    "Now let's look at the use of arrays, the basic data structure added by Numpy, a multi-dimensional array processing library.\n",
    "\n",
    "Below, we load the same csv file with a built-in Numpy method, genfromtext.  It generates a new object of type Array -- a data type we have not seen before."
   ]
  },
  {
   "cell_type": "code",
   "execution_count": 32,
   "metadata": {
    "collapsed": false
   },
   "outputs": [
    {
     "data": {
      "text/plain": [
       "array([ 0.4093732 ,  0.26057399,  0.32929684,  0.15369252,  0.23329043,\n",
       "        0.05837548,  0.53325884,  0.66879625,  0.53322644,  0.84150765,\n",
       "        0.7979354 ,  0.43233772,  0.34754605,  0.74666195,  0.15813006,\n",
       "        0.94668024,  0.58182323,  0.79282585,  0.41998211,  0.76838341,\n",
       "        0.10818498,  0.25721879,  0.02522365,  0.89977663,  0.92025952,\n",
       "        0.20619396,  0.42389286,  0.0258441 ,  0.28533959,  0.3408062 ,\n",
       "        0.25722464,  0.36071052,  0.5595362 ,  0.13022521,  0.83653384,\n",
       "        0.76745789,  0.91662773,  0.10282325,  0.8514146 ,  0.92891848,\n",
       "        0.41106116,  0.08669247,  0.82068237,  0.90817343,  0.71075432,\n",
       "        0.86649691,  0.78953865,  0.66535227,  0.87542644,  0.869902  ])"
      ]
     },
     "execution_count": 32,
     "metadata": {},
     "output_type": "execute_result"
    }
   ],
   "source": [
    "import numpy as np\n",
    "\n",
    "a = np.genfromtxt('random.csv')\n",
    "a"
   ]
  },
  {
   "cell_type": "markdown",
   "metadata": {},
   "source": [
    "Numpy Arrays, or just arrays, are a special type of object that support fast, vectorized calculations.  Numpy calculations are actually computed in low-level C code behind the scenes, avoiding the need for iterative loops in Python, which are well known to be very slow compared to compiled languages like C, C++ or Fortran.\n",
    "\n",
    "Let's have a look at some of the built-in methods to explore Numpy arrays.\n",
    "\n",
    "First, instead of len, we have a size method that tells us how many elements are in the array."
   ]
  },
  {
   "cell_type": "code",
   "execution_count": 33,
   "metadata": {
    "collapsed": false
   },
   "outputs": [
    {
     "data": {
      "text/plain": [
       "50"
      ]
     },
     "execution_count": 33,
     "metadata": {},
     "output_type": "execute_result"
    }
   ],
   "source": [
    "np.size(a)"
   ]
  },
  {
   "cell_type": "markdown",
   "metadata": {},
   "source": [
    "Next, we can explore the shape of an array.  If it is a single column, it shows as (length,).  If it is a single row, it shows up as (,length)."
   ]
  },
  {
   "cell_type": "code",
   "execution_count": 34,
   "metadata": {
    "collapsed": false
   },
   "outputs": [
    {
     "data": {
      "text/plain": [
       "(50,)"
      ]
     },
     "execution_count": 34,
     "metadata": {},
     "output_type": "execute_result"
    }
   ],
   "source": [
    "np.shape(a)"
   ]
  },
  {
   "cell_type": "markdown",
   "metadata": {},
   "source": [
    "A lot of mathematical methods are readily built in to Numpy.  Here are a few for mean, median, min, and max."
   ]
  },
  {
   "cell_type": "code",
   "execution_count": 38,
   "metadata": {
    "collapsed": false
   },
   "outputs": [
    {
     "data": {
      "text/plain": [
       "0.52443980676431368"
      ]
     },
     "execution_count": 38,
     "metadata": {},
     "output_type": "execute_result"
    }
   ],
   "source": [
    "np.mean(a)"
   ]
  },
  {
   "cell_type": "code",
   "execution_count": 39,
   "metadata": {
    "collapsed": false
   },
   "outputs": [
    {
     "data": {
      "text/plain": [
       "0.53324263999688659"
      ]
     },
     "execution_count": 39,
     "metadata": {},
     "output_type": "execute_result"
    }
   ],
   "source": [
    "np.median(a)"
   ]
  },
  {
   "cell_type": "code",
   "execution_count": 40,
   "metadata": {
    "collapsed": false
   },
   "outputs": [
    {
     "data": {
      "text/plain": [
       "0.025223651492324306"
      ]
     },
     "execution_count": 40,
     "metadata": {},
     "output_type": "execute_result"
    }
   ],
   "source": [
    "np.min(a)"
   ]
  },
  {
   "cell_type": "code",
   "execution_count": 41,
   "metadata": {
    "collapsed": false
   },
   "outputs": [
    {
     "data": {
      "text/plain": [
       "0.94668023906708232"
      ]
     },
     "execution_count": 41,
     "metadata": {},
     "output_type": "execute_result"
    }
   ],
   "source": [
    "np.max(a)"
   ]
  },
  {
   "cell_type": "markdown",
   "metadata": {},
   "source": [
    "Much easier than coding for loops and counters, don't you think?  And a lot faster on large datasets, too.\n",
    "\n",
    "Numpy also integrates very well with Matplotlib to generate charts.  Let's look at a sorted list of the elements in the array."
   ]
  },
  {
   "cell_type": "code",
   "execution_count": 42,
   "metadata": {
    "collapsed": false
   },
   "outputs": [
    {
     "data": {
      "text/plain": [
       "[<matplotlib.lines.Line2D at 0x10c9b89b0>]"
      ]
     },
     "execution_count": 42,
     "metadata": {},
     "output_type": "execute_result"
    },
    {
     "data": {
      "image/png": "[encoded data removed]",
      "text/plain": [
       "<matplotlib.figure.Figure at 0x10cb8f080>"
      ]
     },
     "metadata": {},
     "output_type": "display_data"
    }
   ],
   "source": [
    "import matplotlib.pyplot as plt\n",
    "%matplotlib inline\n",
    "\n",
    "plt.plot(np.sort(a))"
   ]
  },
  {
   "cell_type": "markdown",
   "metadata": {},
   "source": [
    "The efficiency and productivity of coding using arrays becomes even more obvious when we consider calculations like an element by element calculation -- multiplying each element by 5, for example.  No loops needed when the calculations are vectorized.  If we say, a*5 and a is an array, Numpy will perform an element by element multiplication, using fast C code to do the math."
   ]
  },
  {
   "cell_type": "code",
   "execution_count": 43,
   "metadata": {
    "collapsed": false
   },
   "outputs": [
    {
     "data": {
      "text/plain": [
       "array([ 2.04686601,  1.30286994,  1.64648418,  0.76846258,  1.16645215,\n",
       "        0.29187742,  2.66629422,  3.34398126,  2.66613218,  4.20753823,\n",
       "        3.98967698,  2.16168859,  1.73773026,  3.73330976,  0.79065029,\n",
       "        4.7334012 ,  2.90911616,  3.96412923,  2.09991057,  3.84191706,\n",
       "        0.54092488,  1.28609396,  0.12611826,  4.49888317,  4.60129761,\n",
       "        1.03096979,  2.11946432,  0.12922051,  1.42669797,  1.704031  ,\n",
       "        1.28612321,  1.80355259,  2.79768099,  0.65112607,  4.18266921,\n",
       "        3.83728947,  4.58313866,  0.51411624,  4.25707298,  4.6445924 ,\n",
       "        2.05530581,  0.43346234,  4.10341183,  4.54086716,  3.5537716 ,\n",
       "        4.33248453,  3.94769327,  3.32676136,  4.37713221,  4.34950999])"
      ]
     },
     "execution_count": 43,
     "metadata": {},
     "output_type": "execute_result"
    }
   ],
   "source": [
    "b = a*5\n",
    "b"
   ]
  },
  {
   "cell_type": "markdown",
   "metadata": {},
   "source": [
    "Similarly, multiplying two arrays together produces an element by element multiplication, in this case, instead of each element of a being multiplied by a constant (5), it is being multiplied by the corresponding value (same index position) in array b.  In other words, the first element of each array get multiplied together, the second element of each array, the third, and so on.\n",
    "\n",
    "This works as long as the arrays are of the same length, or if one is an even multiple of the other, in which case the shorter one gets repeated to make the lengths match.  That process is called broadcasting, and it is how we were able to multiply a initially by a constant. The constant was broadcast to the length of a."
   ]
  },
  {
   "cell_type": "code",
   "execution_count": 44,
   "metadata": {
    "collapsed": false
   },
   "outputs": [
    {
     "data": {
      "text/plain": [
       "array([  8.37932090e-01,   3.39494017e-01,   5.42182032e-01,\n",
       "         1.18106947e-01,   2.72122125e-01,   1.70384855e-02,\n",
       "         1.42182498e+00,   2.23644214e+00,   1.42165216e+00,\n",
       "         3.54067559e+00,   3.18350449e+00,   9.34579512e-01,\n",
       "         6.03941294e-01,   2.78752035e+00,   1.25025576e-01,\n",
       "         4.48101738e+00,   1.69259137e+00,   3.14286411e+00,\n",
       "         8.81924880e-01,   2.95206535e+00,   5.85199451e-02,\n",
       "         3.30807537e-01,   3.18116297e-03,   4.04798996e+00,\n",
       "         4.23438793e+00,   2.12579743e-01,   8.98425802e-01,\n",
       "         3.33958788e-03,   4.07093421e-01,   5.80744332e-01,\n",
       "         3.30822581e-01,   6.50560387e-01,   1.56540378e+00,\n",
       "         8.47930319e-02,   3.49894435e+00,   2.94495810e+00,\n",
       "         4.20103199e+00,   5.28631022e-02,   3.62453406e+00,\n",
       "         4.31444772e+00,   8.44856394e-01,   3.75779204e-02,\n",
       "         3.36759773e+00,   4.12389492e+00,   2.52585852e+00,\n",
       "         3.75408444e+00,   3.11685643e+00,   2.21346823e+00,\n",
       "         3.83185728e+00,   3.78364743e+00])"
      ]
     },
     "execution_count": 44,
     "metadata": {},
     "output_type": "execute_result"
    }
   ],
   "source": [
    "c = a*b\n",
    "c"
   ]
  },
  {
   "cell_type": "markdown",
   "metadata": {},
   "source": [
    "# Introducing Pandas"
   ]
  },
  {
   "cell_type": "markdown",
   "metadata": {},
   "source": [
    "We have moved from processing file with iterators over rows, to lists with iterators, to using Numpy arrays to do vectorized operations that are much faster and are also less complex to read, understand and to code. We moved from operating on one item in a list at a time, to operating on a whole array at one time. Now we want to be able to move to handling the whole table of data at once.\n",
    "\n",
    "One of the problems we did not attempt to deal with using arrays, or lists, was how to keep rows of data together so that if we skip a missing value in one variable like price, it does not cause the other variables to be mis-aligned due to changes in the length of the array or list for one entry. This is one of many things that the pandas library does for us.\n",
    "We skip forward a bit to Chapter 6 in Python for Data Analysis in order to learn how to load our data using pandas. Here is how:"
   ]
  },
  {
   "cell_type": "code",
   "execution_count": 47,
   "metadata": {
    "collapsed": false
   },
   "outputs": [
    {
     "data": {
      "text/html": [
       "<div>\n",
       "<table border=\"1\" class=\"dataframe\">\n",
       "  <thead>\n",
       "    <tr style=\"text-align: right;\">\n",
       "      <th></th>\n",
       "      <th>POPGROUP</th>\n",
       "      <th>label</th>\n",
       "      <th>GEOIDLONG</th>\n",
       "      <th>GEOID</th>\n",
       "      <th>geodisplay</th>\n",
       "      <th>Population</th>\n",
       "    </tr>\n",
       "  </thead>\n",
       "  <tbody>\n",
       "    <tr>\n",
       "      <th>0</th>\n",
       "      <td>1</td>\n",
       "      <td>Total population</td>\n",
       "      <td>1400000US06001400100</td>\n",
       "      <td>6001400100</td>\n",
       "      <td>Census Tract 4001, Alameda County, California</td>\n",
       "      <td>2937</td>\n",
       "    </tr>\n",
       "    <tr>\n",
       "      <th>1</th>\n",
       "      <td>1</td>\n",
       "      <td>Total population</td>\n",
       "      <td>1400000US06001400200</td>\n",
       "      <td>6001400200</td>\n",
       "      <td>Census Tract 4002, Alameda County, California</td>\n",
       "      <td>1974</td>\n",
       "    </tr>\n",
       "    <tr>\n",
       "      <th>2</th>\n",
       "      <td>1</td>\n",
       "      <td>Total population</td>\n",
       "      <td>1400000US06001400300</td>\n",
       "      <td>6001400300</td>\n",
       "      <td>Census Tract 4003, Alameda County, California</td>\n",
       "      <td>4865</td>\n",
       "    </tr>\n",
       "    <tr>\n",
       "      <th>3</th>\n",
       "      <td>1</td>\n",
       "      <td>Total population</td>\n",
       "      <td>1400000US06001400400</td>\n",
       "      <td>6001400400</td>\n",
       "      <td>Census Tract 4004, Alameda County, California</td>\n",
       "      <td>3703</td>\n",
       "    </tr>\n",
       "    <tr>\n",
       "      <th>4</th>\n",
       "      <td>1</td>\n",
       "      <td>Total population</td>\n",
       "      <td>1400000US06001400500</td>\n",
       "      <td>6001400500</td>\n",
       "      <td>Census Tract 4005, Alameda County, California</td>\n",
       "      <td>3517</td>\n",
       "    </tr>\n",
       "  </tbody>\n",
       "</table>\n",
       "</div>"
      ],
      "text/plain": [
       "   POPGROUP             label             GEOIDLONG       GEOID  \\\n",
       "0         1  Total population  1400000US06001400100  6001400100   \n",
       "1         1  Total population  1400000US06001400200  6001400200   \n",
       "2         1  Total population  1400000US06001400300  6001400300   \n",
       "3         1  Total population  1400000US06001400400  6001400400   \n",
       "4         1  Total population  1400000US06001400500  6001400500   \n",
       "\n",
       "                                      geodisplay  Population  \n",
       "0  Census Tract 4001, Alameda County, California        2937  \n",
       "1  Census Tract 4002, Alameda County, California        1974  \n",
       "2  Census Tract 4003, Alameda County, California        4865  \n",
       "3  Census Tract 4004, Alameda County, California        3703  \n",
       "4  Census Tract 4005, Alameda County, California        3517  "
      ]
     },
     "execution_count": 47,
     "metadata": {},
     "output_type": "execute_result"
    }
   ],
   "source": [
    "import pandas as pd\n",
    "df = pd.read_csv('ca_tracts_pop_cleaned.csv')\n",
    "df[:5]"
   ]
  },
  {
   "cell_type": "markdown",
   "metadata": {},
   "source": [
    "We just read the csv file and assigned it to a pandas **DataFrame** object. In one simple line.  And we printed a nicely formatted table with the first five rows. In one simple line.\n",
    "\n",
    "Notice a few things that have happened here.\n",
    "\n",
    "1. The pd.read_csv has enough built-in smarts to read the first row of the file, get the variable names from it.\n",
    "1. It then read all rows in the file, and used them to create a pandas DataFrame, which is like a set of Numpy arrays we can treat as a table.\n",
    "1. It created an automatic unique index, beginning with zero.\n",
    "1. It inferred the type of each variable from the data.  All were interpreted as strings, except the index that pandas created automatically.\n",
    "1. If it found missing data in a numeric column, it assigned a value of NaN (not a number) to them, which is pandas's representation for missing data.\n",
    "\n",
    "Let's explore this pandas DataFrame to learn some of its features.  Note that a pandas Series is like one column of this DataFrame, coupled with its own index column.  So the main difference between a Series and a DataFrame is that the latter has multiple columns."
   ]
  },
  {
   "cell_type": "code",
   "execution_count": 48,
   "metadata": {
    "collapsed": false
   },
   "outputs": [
    {
     "data": {
      "text/plain": [
       "POPGROUP       int64\n",
       "label         object\n",
       "GEOIDLONG     object\n",
       "GEOID          int64\n",
       "geodisplay    object\n",
       "Population     int64\n",
       "dtype: object"
      ]
     },
     "execution_count": 48,
     "metadata": {},
     "output_type": "execute_result"
    }
   ],
   "source": [
    "df.dtypes"
   ]
  },
  {
   "cell_type": "markdown",
   "metadata": {},
   "source": [
    "We can select subsets of the rows by indexing, and select specific columns by their name:"
   ]
  },
  {
   "cell_type": "code",
   "execution_count": 49,
   "metadata": {
    "collapsed": false
   },
   "outputs": [
    {
     "data": {
      "text/plain": [
       "0    2937\n",
       "1    1974\n",
       "2    4865\n",
       "3    3703\n",
       "4    3517\n",
       "5    1571\n",
       "6    4206\n",
       "7    3594\n",
       "8    2302\n",
       "9    5678\n",
       "Name: Population, dtype: int64"
      ]
     },
     "execution_count": 49,
     "metadata": {},
     "output_type": "execute_result"
    }
   ],
   "source": [
    "df['Population'][:10]"
   ]
  },
  {
   "cell_type": "markdown",
   "metadata": {},
   "source": [
    "We can get all of our statistics on the Population column in one short command:"
   ]
  },
  {
   "cell_type": "code",
   "execution_count": 50,
   "metadata": {
    "collapsed": false
   },
   "outputs": [
    {
     "data": {
      "text/plain": [
       "count     8000.000000\n",
       "mean      4656.669625\n",
       "std       1953.036084\n",
       "min        112.000000\n",
       "25%       3372.000000\n",
       "50%       4422.000000\n",
       "75%       5662.000000\n",
       "max      37452.000000\n",
       "Name: Population, dtype: float64"
      ]
     },
     "execution_count": 50,
     "metadata": {},
     "output_type": "execute_result"
    }
   ],
   "source": [
    "df['Population'].describe()"
   ]
  },
  {
   "cell_type": "markdown",
   "metadata": {},
   "source": [
    "Or get these values 'a la carte':"
   ]
  },
  {
   "cell_type": "code",
   "execution_count": 51,
   "metadata": {
    "collapsed": false
   },
   "outputs": [
    {
     "data": {
      "text/plain": [
       "112"
      ]
     },
     "execution_count": 51,
     "metadata": {},
     "output_type": "execute_result"
    }
   ],
   "source": [
    "df['Population'].min()"
   ]
  },
  {
   "cell_type": "code",
   "execution_count": 52,
   "metadata": {
    "collapsed": false
   },
   "outputs": [
    {
     "data": {
      "text/plain": [
       "37452"
      ]
     },
     "execution_count": 52,
     "metadata": {},
     "output_type": "execute_result"
    }
   ],
   "source": [
    "df['Population'].max()"
   ]
  },
  {
   "cell_type": "code",
   "execution_count": 53,
   "metadata": {
    "collapsed": false
   },
   "outputs": [
    {
     "data": {
      "text/plain": [
       "4422.0"
      ]
     },
     "execution_count": 53,
     "metadata": {},
     "output_type": "execute_result"
    }
   ],
   "source": [
    "df['Population'].median()"
   ]
  },
  {
   "cell_type": "markdown",
   "metadata": {},
   "source": [
    "We can also do some plotting of the data without much effort:"
   ]
  },
  {
   "cell_type": "code",
   "execution_count": 54,
   "metadata": {
    "collapsed": false
   },
   "outputs": [],
   "source": [
    "import matplotlib.pyplot as plt"
   ]
  },
  {
   "cell_type": "code",
   "execution_count": 55,
   "metadata": {
    "collapsed": false
   },
   "outputs": [
    {
     "data": {
      "text/plain": [
       "array([[<matplotlib.axes._subplots.AxesSubplot object at 0x1178d3748>]], dtype=object)"
      ]
     },
     "execution_count": 55,
     "metadata": {},
     "output_type": "execute_result"
    },
    {
     "data": {
      "text/plain": [
       "<matplotlib.figure.Figure at 0x11813e978>"
      ]
     },
     "metadata": {},
     "output_type": "display_data"
    },
    {
     "data": {
      "image/png": "[encoded data removed]",
      "text/plain": [
       "<matplotlib.figure.Figure at 0x11813e588>"
      ]
     },
     "metadata": {},
     "output_type": "display_data"
    }
   ],
   "source": [
    "plt.figure()\n",
    "df.hist(column='Population', bins=50)"
   ]
  },
  {
   "cell_type": "code",
   "execution_count": 59,
   "metadata": {
    "collapsed": false
   },
   "outputs": [
    {
     "name": "stdout",
     "output_type": "stream",
     "text": [
      "             neighborhood                                              title  \\\n",
      "0    (SOMA / south beach)                   1bed + Den, 1bath at Mission Bay   \n",
      "1    (SOMA / south beach)                               Love where you live!   \n",
      "2   (inner sunset / UCSF)         We Welcome Your Furry Friends! Call Today!   \n",
      "3    (financial district)  Golden Gateway Commons | 2BR + office townhous...   \n",
      "4        (lower nob hill)         Experience Luxury Living in San Fransisco!   \n",
      "\n",
      "   price                  bedrooms         pid   longitude         date  \\\n",
      "0  $2895      / 1br - 950ft² -      4046628359 -122.399663  Sep  4 2013   \n",
      "1  $3354      / 1br - 710ft² -      4046761563         NaN  Sep  4 2013   \n",
      "2  $2865      / 1br - 644ft² -      4046661504 -122.470727  Sep  4 2013   \n",
      "3  $5500     / 2br - 1450ft² -      4036170429         NaN  Sep  4 2013   \n",
      "4  $3892               / 2br -      4046732678         NaN  Sep  4 2013   \n",
      "\n",
      "                       link   latitude                      sqft  \\\n",
      "0  /sfc/apa/4046628359.html  37.774623      / 1br - 950ft² -       \n",
      "1  /sfc/apa/4046761563.html        NaN      / 1br - 710ft² -       \n",
      "2  /sfc/apa/4046661504.html  37.765739      / 1br - 644ft² -       \n",
      "3  /sfc/apa/4036170429.html        NaN     / 2br - 1450ft² -       \n",
      "4  /sfc/apa/4046732678.html        NaN               / 2br -       \n",
      "\n",
      "                             sourcepage  \n",
      "0  http://sfbay.craigslist.org/sfc/apa/  \n",
      "1  http://sfbay.craigslist.org/sfc/apa/  \n",
      "2  http://sfbay.craigslist.org/sfc/apa/  \n",
      "3  http://sfbay.craigslist.org/sfc/apa/  \n",
      "4  http://sfbay.craigslist.org/sfc/apa/  \n"
     ]
    }
   ],
   "source": [
    "import pandas as pd\n",
    "df = pd.read_csv('items.csv')\n",
    "print(df[:5])"
   ]
  },
  {
   "cell_type": "code",
   "execution_count": 60,
   "metadata": {
    "collapsed": false
   },
   "outputs": [
    {
     "data": {
      "text/plain": [
       "(1000, 11)"
      ]
     },
     "execution_count": 60,
     "metadata": {},
     "output_type": "execute_result"
    }
   ],
   "source": [
    "df.shape"
   ]
  },
  {
   "cell_type": "code",
   "execution_count": 61,
   "metadata": {
    "collapsed": false
   },
   "outputs": [
    {
     "data": {
      "text/plain": [
       "Index(['neighborhood', 'title', 'price', 'bedrooms', 'pid', 'longitude',\n",
       "       'date', 'link', 'latitude', 'sqft', 'sourcepage'],\n",
       "      dtype='object')"
      ]
     },
     "execution_count": 61,
     "metadata": {},
     "output_type": "execute_result"
    }
   ],
   "source": [
    "df.columns"
   ]
  },
  {
   "cell_type": "code",
   "execution_count": 62,
   "metadata": {
    "collapsed": false
   },
   "outputs": [
    {
     "data": {
      "text/plain": [
       "neighborhood     object\n",
       "title            object\n",
       "price            object\n",
       "bedrooms         object\n",
       "pid               int64\n",
       "longitude       float64\n",
       "date             object\n",
       "link             object\n",
       "latitude        float64\n",
       "sqft             object\n",
       "sourcepage       object\n",
       "dtype: object"
      ]
     },
     "execution_count": 62,
     "metadata": {},
     "output_type": "execute_result"
    }
   ],
   "source": [
    "df.dtypes"
   ]
  },
  {
   "cell_type": "code",
   "execution_count": 63,
   "metadata": {
    "collapsed": false
   },
   "outputs": [
    {
     "data": {
      "text/plain": [
       "0                     1bed + Den, 1bath at Mission Bay\n",
       "1                                 Love where you live!\n",
       "2           We Welcome Your Furry Friends! Call Today!\n",
       "3    Golden Gateway Commons | 2BR + office townhous...\n",
       "4           Experience Luxury Living in San Fransisco!\n",
       "Name: title, dtype: object"
      ]
     },
     "execution_count": 63,
     "metadata": {},
     "output_type": "execute_result"
    }
   ],
   "source": [
    "df['title'][0:5]"
   ]
  },
  {
   "cell_type": "code",
   "execution_count": 64,
   "metadata": {
    "collapsed": false
   },
   "outputs": [
    {
     "data": {
      "text/html": [
       "<div>\n",
       "<table border=\"1\" class=\"dataframe\">\n",
       "  <thead>\n",
       "    <tr style=\"text-align: right;\">\n",
       "      <th></th>\n",
       "      <th>neighborhood</th>\n",
       "      <th>title</th>\n",
       "      <th>price</th>\n",
       "      <th>bedrooms</th>\n",
       "      <th>pid</th>\n",
       "      <th>longitude</th>\n",
       "      <th>date</th>\n",
       "      <th>link</th>\n",
       "      <th>latitude</th>\n",
       "      <th>sqft</th>\n",
       "      <th>sourcepage</th>\n",
       "    </tr>\n",
       "  </thead>\n",
       "  <tbody>\n",
       "    <tr>\n",
       "      <th>0</th>\n",
       "      <td>(SOMA / south beach)</td>\n",
       "      <td>1bed + Den, 1bath at Mission Bay</td>\n",
       "      <td>$2895</td>\n",
       "      <td>/ 1br - 950ft² -</td>\n",
       "      <td>4046628359</td>\n",
       "      <td>-122.399663</td>\n",
       "      <td>Sep  4 2013</td>\n",
       "      <td>/sfc/apa/4046628359.html</td>\n",
       "      <td>37.774623</td>\n",
       "      <td>/ 1br - 950ft² -</td>\n",
       "      <td>http://sfbay.craigslist.org/sfc/apa/</td>\n",
       "    </tr>\n",
       "    <tr>\n",
       "      <th>1</th>\n",
       "      <td>(SOMA / south beach)</td>\n",
       "      <td>Love where you live!</td>\n",
       "      <td>$3354</td>\n",
       "      <td>/ 1br - 710ft² -</td>\n",
       "      <td>4046761563</td>\n",
       "      <td>NaN</td>\n",
       "      <td>Sep  4 2013</td>\n",
       "      <td>/sfc/apa/4046761563.html</td>\n",
       "      <td>NaN</td>\n",
       "      <td>/ 1br - 710ft² -</td>\n",
       "      <td>http://sfbay.craigslist.org/sfc/apa/</td>\n",
       "    </tr>\n",
       "    <tr>\n",
       "      <th>2</th>\n",
       "      <td>(inner sunset / UCSF)</td>\n",
       "      <td>We Welcome Your Furry Friends! Call Today!</td>\n",
       "      <td>$2865</td>\n",
       "      <td>/ 1br - 644ft² -</td>\n",
       "      <td>4046661504</td>\n",
       "      <td>-122.470727</td>\n",
       "      <td>Sep  4 2013</td>\n",
       "      <td>/sfc/apa/4046661504.html</td>\n",
       "      <td>37.765739</td>\n",
       "      <td>/ 1br - 644ft² -</td>\n",
       "      <td>http://sfbay.craigslist.org/sfc/apa/</td>\n",
       "    </tr>\n",
       "    <tr>\n",
       "      <th>3</th>\n",
       "      <td>(financial district)</td>\n",
       "      <td>Golden Gateway Commons | 2BR + office townhous...</td>\n",
       "      <td>$5500</td>\n",
       "      <td>/ 2br - 1450ft² -</td>\n",
       "      <td>4036170429</td>\n",
       "      <td>NaN</td>\n",
       "      <td>Sep  4 2013</td>\n",
       "      <td>/sfc/apa/4036170429.html</td>\n",
       "      <td>NaN</td>\n",
       "      <td>/ 2br - 1450ft² -</td>\n",
       "      <td>http://sfbay.craigslist.org/sfc/apa/</td>\n",
       "    </tr>\n",
       "    <tr>\n",
       "      <th>4</th>\n",
       "      <td>(lower nob hill)</td>\n",
       "      <td>Experience Luxury Living in San Fransisco!</td>\n",
       "      <td>$3892</td>\n",
       "      <td>/ 2br -</td>\n",
       "      <td>4046732678</td>\n",
       "      <td>NaN</td>\n",
       "      <td>Sep  4 2013</td>\n",
       "      <td>/sfc/apa/4046732678.html</td>\n",
       "      <td>NaN</td>\n",
       "      <td>/ 2br -</td>\n",
       "      <td>http://sfbay.craigslist.org/sfc/apa/</td>\n",
       "    </tr>\n",
       "    <tr>\n",
       "      <th>5</th>\n",
       "      <td>(sunset / parkside)</td>\n",
       "      <td>$1250 - 1 bdrm, 1 bath</td>\n",
       "      <td>$1250</td>\n",
       "      <td>/ 1br -</td>\n",
       "      <td>4046731229</td>\n",
       "      <td>NaN</td>\n",
       "      <td>Sep  4 2013</td>\n",
       "      <td>/sfc/apa/4046731229.html</td>\n",
       "      <td>NaN</td>\n",
       "      <td>/ 1br -</td>\n",
       "      <td>http://sfbay.craigslist.org/sfc/apa/</td>\n",
       "    </tr>\n",
       "    <tr>\n",
       "      <th>6</th>\n",
       "      <td>(SOMA / south beach)</td>\n",
       "      <td>Made For The Die-hard Giants Fan</td>\n",
       "      <td>$3249</td>\n",
       "      <td>/ 549ft² -</td>\n",
       "      <td>4046730047</td>\n",
       "      <td>-122.389798</td>\n",
       "      <td>Sep  4 2013</td>\n",
       "      <td>/sfc/apa/4046730047.html</td>\n",
       "      <td>37.774192</td>\n",
       "      <td>/ 549ft² -</td>\n",
       "      <td>http://sfbay.craigslist.org/sfc/apa/</td>\n",
       "    </tr>\n",
       "    <tr>\n",
       "      <th>7</th>\n",
       "      <td>(russian hill)</td>\n",
       "      <td>Open Concept 1bed 1bath</td>\n",
       "      <td>$2690</td>\n",
       "      <td>/ 1br - 781ft² -</td>\n",
       "      <td>4046570245</td>\n",
       "      <td>-122.420787</td>\n",
       "      <td>Sep  4 2013</td>\n",
       "      <td>/sfc/apa/4046570245.html</td>\n",
       "      <td>37.796034</td>\n",
       "      <td>/ 1br - 781ft² -</td>\n",
       "      <td>http://sfbay.craigslist.org/sfc/apa/</td>\n",
       "    </tr>\n",
       "    <tr>\n",
       "      <th>8</th>\n",
       "      <td>NaN</td>\n",
       "      <td>Contemporary, charming 2bds/1ba with private d...</td>\n",
       "      <td>$2850</td>\n",
       "      <td>/ 2br -</td>\n",
       "      <td>4006732632</td>\n",
       "      <td>-122.457100</td>\n",
       "      <td>Sep  4 2013</td>\n",
       "      <td>/sfc/apa/4006732632.html</td>\n",
       "      <td>37.735400</td>\n",
       "      <td>/ 2br -</td>\n",
       "      <td>http://sfbay.craigslist.org/sfc/apa/</td>\n",
       "    </tr>\n",
       "    <tr>\n",
       "      <th>9</th>\n",
       "      <td>(pacific heights)</td>\n",
       "      <td>2bd/2.5ba, 2 car tandem parking @ 1998 Broadwa...</td>\n",
       "      <td>$6500</td>\n",
       "      <td>/ 2br - 1400ft² -</td>\n",
       "      <td>4046018830</td>\n",
       "      <td>-122.429850</td>\n",
       "      <td>Sep  4 2013</td>\n",
       "      <td>/sfc/apa/4046018830.html</td>\n",
       "      <td>37.794973</td>\n",
       "      <td>/ 2br - 1400ft² -</td>\n",
       "      <td>http://sfbay.craigslist.org/sfc/apa/index200.html</td>\n",
       "    </tr>\n",
       "    <tr>\n",
       "      <th>10</th>\n",
       "      <td>(SOMA / south beach)</td>\n",
       "      <td>Stunning Modern GARDEN Loft! Upgrades, Views &amp;...</td>\n",
       "      <td>$4100</td>\n",
       "      <td>/ 1br -</td>\n",
       "      <td>4045981009</td>\n",
       "      <td>-122.402387</td>\n",
       "      <td>Sep  4 2013</td>\n",
       "      <td>/sfc/apa/4045981009.html</td>\n",
       "      <td>37.781055</td>\n",
       "      <td>/ 1br -</td>\n",
       "      <td>http://sfbay.craigslist.org/sfc/apa/index200.html</td>\n",
       "    </tr>\n",
       "    <tr>\n",
       "      <th>11</th>\n",
       "      <td>(marina / cow hollow)</td>\n",
       "      <td>$4700. Top Flat, remodeled, newer building</td>\n",
       "      <td>$4700</td>\n",
       "      <td>/ 2br - 1300ft² -</td>\n",
       "      <td>4036079016</td>\n",
       "      <td>-122.435772</td>\n",
       "      <td>Sep  4 2013</td>\n",
       "      <td>/sfc/apa/4036079016.html</td>\n",
       "      <td>37.798487</td>\n",
       "      <td>/ 2br - 1300ft² -</td>\n",
       "      <td>http://sfbay.craigslist.org/sfc/apa/index200.html</td>\n",
       "    </tr>\n",
       "    <tr>\n",
       "      <th>12</th>\n",
       "      <td>(SOMA / south beach)</td>\n",
       "      <td>2/Bed  Room /2Bath Room Apartment</td>\n",
       "      <td>$4500</td>\n",
       "      <td>/ 2br - 941ft² -</td>\n",
       "      <td>4045848497</td>\n",
       "      <td>-122.401796</td>\n",
       "      <td>Sep  4 2013</td>\n",
       "      <td>/sfc/apa/4045848497.html</td>\n",
       "      <td>37.781521</td>\n",
       "      <td>/ 2br - 941ft² -</td>\n",
       "      <td>http://sfbay.craigslist.org/sfc/apa/index200.html</td>\n",
       "    </tr>\n",
       "    <tr>\n",
       "      <th>13</th>\n",
       "      <td>(sunset / parkside)</td>\n",
       "      <td>Central Sunset Top unit Flat 1Br 1Ba</td>\n",
       "      <td>$2200</td>\n",
       "      <td>/ 1br -</td>\n",
       "      <td>4045983183</td>\n",
       "      <td>-122.486122</td>\n",
       "      <td>Sep  4 2013</td>\n",
       "      <td>/sfc/apa/4045983183.html</td>\n",
       "      <td>37.759468</td>\n",
       "      <td>/ 1br -</td>\n",
       "      <td>http://sfbay.craigslist.org/sfc/apa/index200.html</td>\n",
       "    </tr>\n",
       "    <tr>\n",
       "      <th>14</th>\n",
       "      <td>(downtown / civic / van ness)</td>\n",
       "      <td>Nice Jr 1 Bedroom: bright/spacious/hardwoods/p...</td>\n",
       "      <td>$2095</td>\n",
       "      <td>/ 1br - 500ft² -</td>\n",
       "      <td>3999189643</td>\n",
       "      <td>-122.412680</td>\n",
       "      <td>Sep  4 2013</td>\n",
       "      <td>/sfc/apa/3999189643.html</td>\n",
       "      <td>37.786792</td>\n",
       "      <td>/ 1br - 500ft² -</td>\n",
       "      <td>http://sfbay.craigslist.org/sfc/apa/index200.html</td>\n",
       "    </tr>\n",
       "    <tr>\n",
       "      <th>15</th>\n",
       "      <td>(downtown / civic / van ness)</td>\n",
       "      <td>Nice STUDIO- bright/spacious/hardwoods/great l...</td>\n",
       "      <td>$1600</td>\n",
       "      <td>/ 400ft² -</td>\n",
       "      <td>4026681979</td>\n",
       "      <td>-122.414636</td>\n",
       "      <td>Sep  4 2013</td>\n",
       "      <td>/sfc/apa/4026681979.html</td>\n",
       "      <td>37.785678</td>\n",
       "      <td>/ 400ft² -</td>\n",
       "      <td>http://sfbay.craigslist.org/sfc/apa/index200.html</td>\n",
       "    </tr>\n",
       "    <tr>\n",
       "      <th>16</th>\n",
       "      <td>(SOMA / south beach)</td>\n",
       "      <td>Furnished B&amp;T loft w/ office+patio *10-12mo le...</td>\n",
       "      <td>$5500</td>\n",
       "      <td>/ 1br -</td>\n",
       "      <td>4045960170</td>\n",
       "      <td>NaN</td>\n",
       "      <td>Sep  4 2013</td>\n",
       "      <td>/sfc/apa/4045960170.html</td>\n",
       "      <td>NaN</td>\n",
       "      <td>/ 1br -</td>\n",
       "      <td>http://sfbay.craigslist.org/sfc/apa/index200.html</td>\n",
       "    </tr>\n",
       "    <tr>\n",
       "      <th>17</th>\n",
       "      <td>(SOMA / south beach)</td>\n",
       "      <td>Channel Your Inner Explorer</td>\n",
       "      <td>$3274</td>\n",
       "      <td>/ 1br - 758ft² -</td>\n",
       "      <td>4046428851</td>\n",
       "      <td>-122.389905</td>\n",
       "      <td>Sep  4 2013</td>\n",
       "      <td>/sfc/apa/4046428851.html</td>\n",
       "      <td>37.774243</td>\n",
       "      <td>/ 1br - 758ft² -</td>\n",
       "      <td>http://sfbay.craigslist.org/sfc/apa/index100.html</td>\n",
       "    </tr>\n",
       "    <tr>\n",
       "      <th>18</th>\n",
       "      <td>(twin peaks / diamond hts)</td>\n",
       "      <td>Remodeled Clarendon Heights Home with VIEWS; G...</td>\n",
       "      <td>$8200</td>\n",
       "      <td>/ 3br -</td>\n",
       "      <td>4046427054</td>\n",
       "      <td>-122.449987</td>\n",
       "      <td>Sep  4 2013</td>\n",
       "      <td>/sfc/apa/4046427054.html</td>\n",
       "      <td>37.758892</td>\n",
       "      <td>/ 3br -</td>\n",
       "      <td>http://sfbay.craigslist.org/sfc/apa/index100.html</td>\n",
       "    </tr>\n",
       "    <tr>\n",
       "      <th>19</th>\n",
       "      <td>(castro / upper market)</td>\n",
       "      <td>Luxury Home in Clarendon Heights with VIEWS; P...</td>\n",
       "      <td>$8200</td>\n",
       "      <td>/ 3br -</td>\n",
       "      <td>4046420052</td>\n",
       "      <td>-122.450395</td>\n",
       "      <td>Sep  4 2013</td>\n",
       "      <td>/sfc/apa/4046420052.html</td>\n",
       "      <td>37.758858</td>\n",
       "      <td>/ 3br -</td>\n",
       "      <td>http://sfbay.craigslist.org/sfc/apa/index100.html</td>\n",
       "    </tr>\n",
       "    <tr>\n",
       "      <th>20</th>\n",
       "      <td>(financial district)</td>\n",
       "      <td>Modern 1 BD/ 1 BA condo in a historic building...</td>\n",
       "      <td>$2995</td>\n",
       "      <td>/ 1br -</td>\n",
       "      <td>4026544139</td>\n",
       "      <td>NaN</td>\n",
       "      <td>Sep  4 2013</td>\n",
       "      <td>/sfc/apa/4026544139.html</td>\n",
       "      <td>NaN</td>\n",
       "      <td>/ 1br -</td>\n",
       "      <td>http://sfbay.craigslist.org/sfc/apa/index100.html</td>\n",
       "    </tr>\n",
       "    <tr>\n",
       "      <th>21</th>\n",
       "      <td>(richmond / seacliff)</td>\n",
       "      <td>Bright and Spacious Top Floor Studio, Hardwood...</td>\n",
       "      <td>$1695</td>\n",
       "      <td></td>\n",
       "      <td>4036933089</td>\n",
       "      <td>NaN</td>\n",
       "      <td>Sep  4 2013</td>\n",
       "      <td>/sfc/apa/4036933089.html</td>\n",
       "      <td>NaN</td>\n",
       "      <td></td>\n",
       "      <td>http://sfbay.craigslist.org/sfc/apa/index100.html</td>\n",
       "    </tr>\n",
       "    <tr>\n",
       "      <th>22</th>\n",
       "      <td>(pacific heights)</td>\n",
       "      <td>Remodeled Two Bedroom With New Carpet &amp; Parkin...</td>\n",
       "      <td>$3000</td>\n",
       "      <td>/ 2br -</td>\n",
       "      <td>4046390878</td>\n",
       "      <td>-122.438056</td>\n",
       "      <td>Sep  4 2013</td>\n",
       "      <td>/sfc/apa/4046390878.html</td>\n",
       "      <td>37.789326</td>\n",
       "      <td>/ 2br -</td>\n",
       "      <td>http://sfbay.craigslist.org/sfc/apa/index100.html</td>\n",
       "    </tr>\n",
       "    <tr>\n",
       "      <th>23</th>\n",
       "      <td>(SOMA / south beach)</td>\n",
       "      <td>Live/Work Loft + HUGE 400 Sqft Patio *PICS*</td>\n",
       "      <td>$3900</td>\n",
       "      <td>/ 1br - 950ft² -</td>\n",
       "      <td>4031288668</td>\n",
       "      <td>-122.395744</td>\n",
       "      <td>Sep  4 2013</td>\n",
       "      <td>/sfc/apa/4031288668.html</td>\n",
       "      <td>37.777698</td>\n",
       "      <td>/ 1br - 950ft² -</td>\n",
       "      <td>http://sfbay.craigslist.org/sfc/apa/index100.html</td>\n",
       "    </tr>\n",
       "    <tr>\n",
       "      <th>24</th>\n",
       "      <td>(castro / upper market)</td>\n",
       "      <td>NEWLY REDECORATED WITH GARDEN VIEWS - GREAT LO...</td>\n",
       "      <td>$2400</td>\n",
       "      <td>/ 1br -</td>\n",
       "      <td>4036566554</td>\n",
       "      <td>-122.435188</td>\n",
       "      <td>Sep  3 2013</td>\n",
       "      <td>/sfc/apa/4036566554.html</td>\n",
       "      <td>37.762671</td>\n",
       "      <td>/ 1br -</td>\n",
       "      <td>http://sfbay.craigslist.org/sfc/apa/index700.html</td>\n",
       "    </tr>\n",
       "    <tr>\n",
       "      <th>25</th>\n",
       "      <td>(castro / upper market)</td>\n",
       "      <td>Gorgeous furnished townhouse with private elev...</td>\n",
       "      <td>$10000</td>\n",
       "      <td>/ 3br -</td>\n",
       "      <td>4044142664</td>\n",
       "      <td>-122.428202</td>\n",
       "      <td>Sep  3 2013</td>\n",
       "      <td>/sfc/apa/4044142664.html</td>\n",
       "      <td>37.759692</td>\n",
       "      <td>/ 3br -</td>\n",
       "      <td>http://sfbay.craigslist.org/sfc/apa/index700.html</td>\n",
       "    </tr>\n",
       "    <tr>\n",
       "      <th>26</th>\n",
       "      <td>(glen park)</td>\n",
       "      <td>Exquisite Furnished home.  ~ J.Wavro</td>\n",
       "      <td>$9750</td>\n",
       "      <td>/ 4br -</td>\n",
       "      <td>4044135676</td>\n",
       "      <td>-122.428977</td>\n",
       "      <td>Sep  3 2013</td>\n",
       "      <td>/sfc/apa/4044135676.html</td>\n",
       "      <td>37.736388</td>\n",
       "      <td>/ 4br -</td>\n",
       "      <td>http://sfbay.craigslist.org/sfc/apa/index700.html</td>\n",
       "    </tr>\n",
       "    <tr>\n",
       "      <th>27</th>\n",
       "      <td>(twin peaks / diamond hts)</td>\n",
       "      <td>Large Miraloma Park 4bd/3ba single family home...</td>\n",
       "      <td>$4950</td>\n",
       "      <td>/ 4br -</td>\n",
       "      <td>4044132086</td>\n",
       "      <td>-122.454932</td>\n",
       "      <td>Sep  3 2013</td>\n",
       "      <td>/sfc/apa/4044132086.html</td>\n",
       "      <td>37.741777</td>\n",
       "      <td>/ 4br -</td>\n",
       "      <td>http://sfbay.craigslist.org/sfc/apa/index700.html</td>\n",
       "    </tr>\n",
       "    <tr>\n",
       "      <th>28</th>\n",
       "      <td>(SOMA / south beach)</td>\n",
       "      <td>Full floor flat - 1 bedroom 1 bath  ~ J.Wavro</td>\n",
       "      <td>$4200</td>\n",
       "      <td>/ 1br -</td>\n",
       "      <td>4044127658</td>\n",
       "      <td>-122.395478</td>\n",
       "      <td>Sep  3 2013</td>\n",
       "      <td>/sfc/apa/4044127658.html</td>\n",
       "      <td>37.788092</td>\n",
       "      <td>/ 1br -</td>\n",
       "      <td>http://sfbay.craigslist.org/sfc/apa/index700.html</td>\n",
       "    </tr>\n",
       "    <tr>\n",
       "      <th>29</th>\n",
       "      <td>(marina / cow hollow)</td>\n",
       "      <td>Top floor remodeled studio. Available October ...</td>\n",
       "      <td>$2150</td>\n",
       "      <td></td>\n",
       "      <td>4044120912</td>\n",
       "      <td>-122.429855</td>\n",
       "      <td>Sep  3 2013</td>\n",
       "      <td>/sfc/apa/4044120912.html</td>\n",
       "      <td>37.802583</td>\n",
       "      <td></td>\n",
       "      <td>http://sfbay.craigslist.org/sfc/apa/index700.html</td>\n",
       "    </tr>\n",
       "    <tr>\n",
       "      <th>...</th>\n",
       "      <td>...</td>\n",
       "      <td>...</td>\n",
       "      <td>...</td>\n",
       "      <td>...</td>\n",
       "      <td>...</td>\n",
       "      <td>...</td>\n",
       "      <td>...</td>\n",
       "      <td>...</td>\n",
       "      <td>...</td>\n",
       "      <td>...</td>\n",
       "      <td>...</td>\n",
       "    </tr>\n",
       "    <tr>\n",
       "      <th>970</th>\n",
       "      <td>(potrero hill)</td>\n",
       "      <td>Potrero Hill 2 bed 2 bath</td>\n",
       "      <td>$3995</td>\n",
       "      <td>/ 2br - 1200ft² -</td>\n",
       "      <td>4039439586</td>\n",
       "      <td>-122.402297</td>\n",
       "      <td>Sep  3 2013</td>\n",
       "      <td>/sfc/apa/4039439586.html</td>\n",
       "      <td>37.759621</td>\n",
       "      <td>/ 2br - 1200ft² -</td>\n",
       "      <td>http://sfbay.craigslist.org/sfc/apa/index800.html</td>\n",
       "    </tr>\n",
       "    <tr>\n",
       "      <th>971</th>\n",
       "      <td>(alamo square / nopa)</td>\n",
       "      <td>Wanted: Room/Studio near Alamo Square Park</td>\n",
       "      <td>$1500</td>\n",
       "      <td></td>\n",
       "      <td>4031457434</td>\n",
       "      <td>NaN</td>\n",
       "      <td>Sep  3 2013</td>\n",
       "      <td>/sfc/apa/4031457434.html</td>\n",
       "      <td>NaN</td>\n",
       "      <td></td>\n",
       "      <td>http://sfbay.craigslist.org/sfc/apa/index800.html</td>\n",
       "    </tr>\n",
       "    <tr>\n",
       "      <th>972</th>\n",
       "      <td>(potrero hill)</td>\n",
       "      <td>Unique House w/ Roof Decks &amp; Amazing Views **V...</td>\n",
       "      <td>$5995</td>\n",
       "      <td>/ 2br -</td>\n",
       "      <td>3985067949</td>\n",
       "      <td>-122.393365</td>\n",
       "      <td>Sep  3 2013</td>\n",
       "      <td>/sfc/apa/3985067949.html</td>\n",
       "      <td>37.760202</td>\n",
       "      <td>/ 2br -</td>\n",
       "      <td>http://sfbay.craigslist.org/sfc/apa/index800.html</td>\n",
       "    </tr>\n",
       "    <tr>\n",
       "      <th>973</th>\n",
       "      <td>(SOMA / south beach)</td>\n",
       "      <td>COME RENT!!!  NEW Studios w IN UNIT washer dryer!</td>\n",
       "      <td>$2426</td>\n",
       "      <td>/ 476ft² -</td>\n",
       "      <td>4043617578</td>\n",
       "      <td>NaN</td>\n",
       "      <td>Sep  3 2013</td>\n",
       "      <td>/sfc/apa/4043617578.html</td>\n",
       "      <td>NaN</td>\n",
       "      <td>/ 476ft² -</td>\n",
       "      <td>http://sfbay.craigslist.org/sfc/apa/index800.html</td>\n",
       "    </tr>\n",
       "    <tr>\n",
       "      <th>974</th>\n",
       "      <td>(cole valley / ashbury hts)</td>\n",
       "      <td>Spectacular 4 bedroom house with amazing view ...</td>\n",
       "      <td>$6495</td>\n",
       "      <td>/ 4br -</td>\n",
       "      <td>4043655481</td>\n",
       "      <td>-122.444412</td>\n",
       "      <td>Sep  3 2013</td>\n",
       "      <td>/sfc/apa/4043655481.html</td>\n",
       "      <td>37.763987</td>\n",
       "      <td>/ 4br -</td>\n",
       "      <td>http://sfbay.craigslist.org/sfc/apa/index800.html</td>\n",
       "    </tr>\n",
       "    <tr>\n",
       "      <th>975</th>\n",
       "      <td>(ingleside / SFSU / CCSF)</td>\n",
       "      <td>2BR/2BA Dynamic Townhouse in SF</td>\n",
       "      <td>$2900</td>\n",
       "      <td>/ 2br - 1001ft² -</td>\n",
       "      <td>4027146721</td>\n",
       "      <td>NaN</td>\n",
       "      <td>Sep  3 2013</td>\n",
       "      <td>/sfc/apa/4027146721.html</td>\n",
       "      <td>NaN</td>\n",
       "      <td>/ 2br - 1001ft² -</td>\n",
       "      <td>http://sfbay.craigslist.org/sfc/apa/index800.html</td>\n",
       "    </tr>\n",
       "    <tr>\n",
       "      <th>976</th>\n",
       "      <td>(alamo square / nopa)</td>\n",
       "      <td>3rd Floor Apt with two 2 master bedroom suites</td>\n",
       "      <td>$4800</td>\n",
       "      <td>/ 2br - 900ft² -</td>\n",
       "      <td>4043584327</td>\n",
       "      <td>-122.438740</td>\n",
       "      <td>Sep  3 2013</td>\n",
       "      <td>/sfc/apa/4043584327.html</td>\n",
       "      <td>37.779660</td>\n",
       "      <td>/ 2br - 900ft² -</td>\n",
       "      <td>http://sfbay.craigslist.org/sfc/apa/index800.html</td>\n",
       "    </tr>\n",
       "    <tr>\n",
       "      <th>977</th>\n",
       "      <td>(richmond / seacliff)</td>\n",
       "      <td>Upscale Studio - Heated Floors, New Kitchen &amp; ...</td>\n",
       "      <td>$1675</td>\n",
       "      <td>/ 450ft² -</td>\n",
       "      <td>4021211090</td>\n",
       "      <td>-122.490606</td>\n",
       "      <td>Sep  3 2013</td>\n",
       "      <td>/sfc/apa/4021211090.html</td>\n",
       "      <td>37.772954</td>\n",
       "      <td>/ 450ft² -</td>\n",
       "      <td>http://sfbay.craigslist.org/sfc/apa/index900.html</td>\n",
       "    </tr>\n",
       "    <tr>\n",
       "      <th>978</th>\n",
       "      <td>(sunset / parkside)</td>\n",
       "      <td>Spacious Studio with Parking at Lakewood Apart...</td>\n",
       "      <td>$1739</td>\n",
       "      <td>/ 510ft² -</td>\n",
       "      <td>4019481190</td>\n",
       "      <td>-122.493398</td>\n",
       "      <td>Sep  3 2013</td>\n",
       "      <td>/sfc/apa/4019481190.html</td>\n",
       "      <td>37.714652</td>\n",
       "      <td>/ 510ft² -</td>\n",
       "      <td>http://sfbay.craigslist.org/sfc/apa/index900.html</td>\n",
       "    </tr>\n",
       "    <tr>\n",
       "      <th>979</th>\n",
       "      <td>(north beach / telegraph hill)</td>\n",
       "      <td>Modern North Beach 2BR/2BA including parking</td>\n",
       "      <td>$4600</td>\n",
       "      <td>/ 2br - 1100ft² -</td>\n",
       "      <td>4023934570</td>\n",
       "      <td>-122.412254</td>\n",
       "      <td>Sep  3 2013</td>\n",
       "      <td>/sfc/apa/4023934570.html</td>\n",
       "      <td>37.803918</td>\n",
       "      <td>/ 2br - 1100ft² -</td>\n",
       "      <td>http://sfbay.craigslist.org/sfc/apa/index900.html</td>\n",
       "    </tr>\n",
       "    <tr>\n",
       "      <th>980</th>\n",
       "      <td>(alamo square / nopa)</td>\n",
       "      <td>NOPA location-Bright and Sunny-Garden-Rent inc...</td>\n",
       "      <td>$2595</td>\n",
       "      <td>/ 1br -</td>\n",
       "      <td>4043341830</td>\n",
       "      <td>-122.440314</td>\n",
       "      <td>Sep  3 2013</td>\n",
       "      <td>/sfc/apa/4043341830.html</td>\n",
       "      <td>37.776584</td>\n",
       "      <td>/ 1br -</td>\n",
       "      <td>http://sfbay.craigslist.org/sfc/apa/index900.html</td>\n",
       "    </tr>\n",
       "    <tr>\n",
       "      <th>981</th>\n",
       "      <td>(marina / cow hollow)</td>\n",
       "      <td>TOP Floor Flat - Views!  2 Bedrooms</td>\n",
       "      <td>$5600</td>\n",
       "      <td>/ 2br - 1450ft² -</td>\n",
       "      <td>4021628786</td>\n",
       "      <td>-122.442468</td>\n",
       "      <td>Sep  3 2013</td>\n",
       "      <td>/sfc/apa/4021628786.html</td>\n",
       "      <td>37.798112</td>\n",
       "      <td>/ 2br - 1450ft² -</td>\n",
       "      <td>http://sfbay.craigslist.org/sfc/apa/index900.html</td>\n",
       "    </tr>\n",
       "    <tr>\n",
       "      <th>982</th>\n",
       "      <td>(noe valley)</td>\n",
       "      <td>Quiet Hill Top Building, Parking, GREAT VIEW</td>\n",
       "      <td>$2795</td>\n",
       "      <td>/ 1br - 800ft² -</td>\n",
       "      <td>4043320679</td>\n",
       "      <td>-122.434317</td>\n",
       "      <td>Sep  3 2013</td>\n",
       "      <td>/sfc/apa/4043320679.html</td>\n",
       "      <td>37.753690</td>\n",
       "      <td>/ 1br - 800ft² -</td>\n",
       "      <td>http://sfbay.craigslist.org/sfc/apa/index900.html</td>\n",
       "    </tr>\n",
       "    <tr>\n",
       "      <th>983</th>\n",
       "      <td>(SOMA / south beach)</td>\n",
       "      <td>Gorgeous Bay Bridge View with Amazing Interior...</td>\n",
       "      <td>$3616</td>\n",
       "      <td>/ 1br - 858ft² -</td>\n",
       "      <td>4043647984</td>\n",
       "      <td>-122.391336</td>\n",
       "      <td>Sep  3 2013</td>\n",
       "      <td>/sfc/apa/4043647984.html</td>\n",
       "      <td>37.787580</td>\n",
       "      <td>/ 1br - 858ft² -</td>\n",
       "      <td>http://sfbay.craigslist.org/sfc/apa/index800.html</td>\n",
       "    </tr>\n",
       "    <tr>\n",
       "      <th>984</th>\n",
       "      <td>(inner sunset / UCSF)</td>\n",
       "      <td>nice 1 bdr 1 bath on 16th ave &amp; Irving</td>\n",
       "      <td>$1995</td>\n",
       "      <td>/ 1br - 750ft² -</td>\n",
       "      <td>4043642151</td>\n",
       "      <td>-122.473698</td>\n",
       "      <td>Sep  3 2013</td>\n",
       "      <td>/sfc/apa/4043642151.html</td>\n",
       "      <td>37.762200</td>\n",
       "      <td>/ 1br - 750ft² -</td>\n",
       "      <td>http://sfbay.craigslist.org/sfc/apa/index800.html</td>\n",
       "    </tr>\n",
       "    <tr>\n",
       "      <th>985</th>\n",
       "      <td>(richmond / seacliff)</td>\n",
       "      <td>Top Floor 1BR with Hardwood Floors and Walk-in...</td>\n",
       "      <td>$2095</td>\n",
       "      <td>/ 1br -</td>\n",
       "      <td>3997873729</td>\n",
       "      <td>NaN</td>\n",
       "      <td>Sep  3 2013</td>\n",
       "      <td>/sfc/apa/3997873729.html</td>\n",
       "      <td>NaN</td>\n",
       "      <td>/ 1br -</td>\n",
       "      <td>http://sfbay.craigslist.org/sfc/apa/index800.html</td>\n",
       "    </tr>\n",
       "    <tr>\n",
       "      <th>986</th>\n",
       "      <td>(richmond / seacliff)</td>\n",
       "      <td>Secluded 1BR Bungalow w/ updated kitchen//Avai...</td>\n",
       "      <td>$1950</td>\n",
       "      <td>/ 1br -</td>\n",
       "      <td>3987367704</td>\n",
       "      <td>-122.487106</td>\n",
       "      <td>Sep  3 2013</td>\n",
       "      <td>/sfc/apa/3987367704.html</td>\n",
       "      <td>37.783139</td>\n",
       "      <td>/ 1br -</td>\n",
       "      <td>http://sfbay.craigslist.org/sfc/apa/index800.html</td>\n",
       "    </tr>\n",
       "    <tr>\n",
       "      <th>987</th>\n",
       "      <td>(SOMA / south beach)</td>\n",
       "      <td>Great views from the 11th floor. awsome floor ...</td>\n",
       "      <td>$3290</td>\n",
       "      <td>/ 1br -</td>\n",
       "      <td>4043527152</td>\n",
       "      <td>-122.393746</td>\n",
       "      <td>Sep  3 2013</td>\n",
       "      <td>/sfc/apa/4043527152.html</td>\n",
       "      <td>37.776448</td>\n",
       "      <td>/ 1br -</td>\n",
       "      <td>http://sfbay.craigslist.org/sfc/apa/index800.html</td>\n",
       "    </tr>\n",
       "    <tr>\n",
       "      <th>988</th>\n",
       "      <td>(SOMA / south beach)</td>\n",
       "      <td>South Beach MarinaApartment - best views, don'...</td>\n",
       "      <td>$4425</td>\n",
       "      <td>/ 2br - 954ft² -</td>\n",
       "      <td>4013354753</td>\n",
       "      <td>-122.389777</td>\n",
       "      <td>Sep  3 2013</td>\n",
       "      <td>/sfc/apa/4013354753.html</td>\n",
       "      <td>37.781400</td>\n",
       "      <td>/ 2br - 954ft² -</td>\n",
       "      <td>http://sfbay.craigslist.org/sfc/apa/index800.html</td>\n",
       "    </tr>\n",
       "    <tr>\n",
       "      <th>989</th>\n",
       "      <td>(alamo square / nopa)</td>\n",
       "      <td>Large, quiet Edwardian 1BR//Available Now//One...</td>\n",
       "      <td>$2250</td>\n",
       "      <td>/ 1br -</td>\n",
       "      <td>4043616322</td>\n",
       "      <td>-122.431147</td>\n",
       "      <td>Sep  3 2013</td>\n",
       "      <td>/sfc/apa/4043616322.html</td>\n",
       "      <td>37.775633</td>\n",
       "      <td>/ 1br -</td>\n",
       "      <td>http://sfbay.craigslist.org/sfc/apa/index800.html</td>\n",
       "    </tr>\n",
       "    <tr>\n",
       "      <th>990</th>\n",
       "      <td>(russian hill)</td>\n",
       "      <td>Great 1 bedroom with Golden Gate Bridge and Ci...</td>\n",
       "      <td>$3800</td>\n",
       "      <td>/ 1br -</td>\n",
       "      <td>4001426634</td>\n",
       "      <td>-122.413423</td>\n",
       "      <td>Sep  3 2013</td>\n",
       "      <td>/sfc/apa/4001426634.html</td>\n",
       "      <td>37.799239</td>\n",
       "      <td>/ 1br -</td>\n",
       "      <td>http://sfbay.craigslist.org/sfc/apa/index900.html</td>\n",
       "    </tr>\n",
       "    <tr>\n",
       "      <th>991</th>\n",
       "      <td>(ingleside / SFSU / CCSF)</td>\n",
       "      <td>2br flat nr CCSF/SFSU</td>\n",
       "      <td>$2790</td>\n",
       "      <td>/ 2br -</td>\n",
       "      <td>4028884954</td>\n",
       "      <td>-122.454107</td>\n",
       "      <td>Sep  3 2013</td>\n",
       "      <td>/sfc/apa/4028884954.html</td>\n",
       "      <td>37.721851</td>\n",
       "      <td>/ 2br -</td>\n",
       "      <td>http://sfbay.craigslist.org/sfc/apa/index900.html</td>\n",
       "    </tr>\n",
       "    <tr>\n",
       "      <th>992</th>\n",
       "      <td>(financial district)</td>\n",
       "      <td>Millennium Tower with parking and views</td>\n",
       "      <td>$6700</td>\n",
       "      <td>/ 2br - 1268ft² -</td>\n",
       "      <td>4012246039</td>\n",
       "      <td>-122.395813</td>\n",
       "      <td>Sep  3 2013</td>\n",
       "      <td>/sfc/apa/4012246039.html</td>\n",
       "      <td>37.791153</td>\n",
       "      <td>/ 2br - 1268ft² -</td>\n",
       "      <td>http://sfbay.craigslist.org/sfc/apa/index900.html</td>\n",
       "    </tr>\n",
       "    <tr>\n",
       "      <th>993</th>\n",
       "      <td>(bayview)</td>\n",
       "      <td>Spacious 3 bedroom move in today   $2850 (flex...</td>\n",
       "      <td>$2850</td>\n",
       "      <td>/ 3br -</td>\n",
       "      <td>4043301473</td>\n",
       "      <td>-122.386984</td>\n",
       "      <td>Sep  3 2013</td>\n",
       "      <td>/sfc/apa/4043301473.html</td>\n",
       "      <td>37.728919</td>\n",
       "      <td>/ 3br -</td>\n",
       "      <td>http://sfbay.craigslist.org/sfc/apa/index900.html</td>\n",
       "    </tr>\n",
       "    <tr>\n",
       "      <th>994</th>\n",
       "      <td>(nob hill)</td>\n",
       "      <td>Quiet Nob Hill Delight</td>\n",
       "      <td>$2800</td>\n",
       "      <td>/ 1br -</td>\n",
       "      <td>4026873759</td>\n",
       "      <td>-122.419402</td>\n",
       "      <td>Sep  3 2013</td>\n",
       "      <td>/sfc/apa/4026873759.html</td>\n",
       "      <td>37.792593</td>\n",
       "      <td>/ 1br -</td>\n",
       "      <td>http://sfbay.craigslist.org/sfc/apa/index900.html</td>\n",
       "    </tr>\n",
       "    <tr>\n",
       "      <th>995</th>\n",
       "      <td>(russian hill)</td>\n",
       "      <td>Russian Hill Beautiful Sunny Remodeled Open Ho...</td>\n",
       "      <td>$2850</td>\n",
       "      <td>/ 1br -</td>\n",
       "      <td>4031559983</td>\n",
       "      <td>-122.414681</td>\n",
       "      <td>Sep  3 2013</td>\n",
       "      <td>/sfc/apa/4031559983.html</td>\n",
       "      <td>37.802621</td>\n",
       "      <td>/ 1br -</td>\n",
       "      <td>http://sfbay.craigslist.org/sfc/apa/index900.html</td>\n",
       "    </tr>\n",
       "    <tr>\n",
       "      <th>996</th>\n",
       "      <td>(bernal heights)</td>\n",
       "      <td>Bi-level 3BR+ Home! Laundry + Pking!!!</td>\n",
       "      <td>$4295</td>\n",
       "      <td>/ 3br -</td>\n",
       "      <td>3991643423</td>\n",
       "      <td>-122.422357</td>\n",
       "      <td>Sep  3 2013</td>\n",
       "      <td>/sfc/apa/3991643423.html</td>\n",
       "      <td>37.733800</td>\n",
       "      <td>/ 3br -</td>\n",
       "      <td>http://sfbay.craigslist.org/sfc/apa/index900.html</td>\n",
       "    </tr>\n",
       "    <tr>\n",
       "      <th>997</th>\n",
       "      <td>(haight ashbury)</td>\n",
       "      <td>Top Floor 1BR w/ Hardwood Floors and Walk-in C...</td>\n",
       "      <td>$2600</td>\n",
       "      <td>/ 1br -</td>\n",
       "      <td>4001874436</td>\n",
       "      <td>NaN</td>\n",
       "      <td>Sep  3 2013</td>\n",
       "      <td>/sfc/apa/4001874436.html</td>\n",
       "      <td>NaN</td>\n",
       "      <td>/ 1br -</td>\n",
       "      <td>http://sfbay.craigslist.org/sfc/apa/index900.html</td>\n",
       "    </tr>\n",
       "    <tr>\n",
       "      <th>998</th>\n",
       "      <td>(marina / cow hollow)</td>\n",
       "      <td>Top Floor Spacious Studio w/ Hardwood Floors &amp;...</td>\n",
       "      <td>$2400</td>\n",
       "      <td></td>\n",
       "      <td>3982441423</td>\n",
       "      <td>NaN</td>\n",
       "      <td>Sep  3 2013</td>\n",
       "      <td>/sfc/apa/3982441423.html</td>\n",
       "      <td>NaN</td>\n",
       "      <td></td>\n",
       "      <td>http://sfbay.craigslist.org/sfc/apa/index900.html</td>\n",
       "    </tr>\n",
       "    <tr>\n",
       "      <th>999</th>\n",
       "      <td>(pacific heights)</td>\n",
       "      <td>Top Floor, Hrdwd, City View, Roof Deck, W/D in...</td>\n",
       "      <td>$4995</td>\n",
       "      <td>/ 3br -</td>\n",
       "      <td>4011593200</td>\n",
       "      <td>NaN</td>\n",
       "      <td>Sep  3 2013</td>\n",
       "      <td>/sfc/apa/4011593200.html</td>\n",
       "      <td>NaN</td>\n",
       "      <td>/ 3br -</td>\n",
       "      <td>http://sfbay.craigslist.org/sfc/apa/index900.html</td>\n",
       "    </tr>\n",
       "  </tbody>\n",
       "</table>\n",
       "<p>1000 rows × 11 columns</p>\n",
       "</div>"
      ],
      "text/plain": [
       "                        neighborhood  \\\n",
       "0               (SOMA / south beach)   \n",
       "1               (SOMA / south beach)   \n",
       "2              (inner sunset / UCSF)   \n",
       "3               (financial district)   \n",
       "4                   (lower nob hill)   \n",
       "5                (sunset / parkside)   \n",
       "6               (SOMA / south beach)   \n",
       "7                     (russian hill)   \n",
       "8                                NaN   \n",
       "9                  (pacific heights)   \n",
       "10              (SOMA / south beach)   \n",
       "11             (marina / cow hollow)   \n",
       "12              (SOMA / south beach)   \n",
       "13               (sunset / parkside)   \n",
       "14     (downtown / civic / van ness)   \n",
       "15     (downtown / civic / van ness)   \n",
       "16              (SOMA / south beach)   \n",
       "17              (SOMA / south beach)   \n",
       "18        (twin peaks / diamond hts)   \n",
       "19           (castro / upper market)   \n",
       "20              (financial district)   \n",
       "21             (richmond / seacliff)   \n",
       "22                 (pacific heights)   \n",
       "23              (SOMA / south beach)   \n",
       "24           (castro / upper market)   \n",
       "25           (castro / upper market)   \n",
       "26                       (glen park)   \n",
       "27        (twin peaks / diamond hts)   \n",
       "28              (SOMA / south beach)   \n",
       "29             (marina / cow hollow)   \n",
       "..                               ...   \n",
       "970                   (potrero hill)   \n",
       "971            (alamo square / nopa)   \n",
       "972                   (potrero hill)   \n",
       "973             (SOMA / south beach)   \n",
       "974      (cole valley / ashbury hts)   \n",
       "975        (ingleside / SFSU / CCSF)   \n",
       "976            (alamo square / nopa)   \n",
       "977            (richmond / seacliff)   \n",
       "978              (sunset / parkside)   \n",
       "979   (north beach / telegraph hill)   \n",
       "980            (alamo square / nopa)   \n",
       "981            (marina / cow hollow)   \n",
       "982                     (noe valley)   \n",
       "983             (SOMA / south beach)   \n",
       "984            (inner sunset / UCSF)   \n",
       "985            (richmond / seacliff)   \n",
       "986            (richmond / seacliff)   \n",
       "987             (SOMA / south beach)   \n",
       "988             (SOMA / south beach)   \n",
       "989            (alamo square / nopa)   \n",
       "990                   (russian hill)   \n",
       "991        (ingleside / SFSU / CCSF)   \n",
       "992             (financial district)   \n",
       "993                        (bayview)   \n",
       "994                       (nob hill)   \n",
       "995                   (russian hill)   \n",
       "996                 (bernal heights)   \n",
       "997                 (haight ashbury)   \n",
       "998            (marina / cow hollow)   \n",
       "999                (pacific heights)   \n",
       "\n",
       "                                                 title   price  \\\n",
       "0                     1bed + Den, 1bath at Mission Bay   $2895   \n",
       "1                                 Love where you live!   $3354   \n",
       "2           We Welcome Your Furry Friends! Call Today!   $2865   \n",
       "3    Golden Gateway Commons | 2BR + office townhous...   $5500   \n",
       "4           Experience Luxury Living in San Fransisco!   $3892   \n",
       "5                               $1250 - 1 bdrm, 1 bath   $1250   \n",
       "6                     Made For The Die-hard Giants Fan   $3249   \n",
       "7                              Open Concept 1bed 1bath   $2690   \n",
       "8    Contemporary, charming 2bds/1ba with private d...   $2850   \n",
       "9    2bd/2.5ba, 2 car tandem parking @ 1998 Broadwa...   $6500   \n",
       "10   Stunning Modern GARDEN Loft! Upgrades, Views &...   $4100   \n",
       "11          $4700. Top Flat, remodeled, newer building   $4700   \n",
       "12                   2/Bed  Room /2Bath Room Apartment   $4500   \n",
       "13                Central Sunset Top unit Flat 1Br 1Ba   $2200   \n",
       "14   Nice Jr 1 Bedroom: bright/spacious/hardwoods/p...   $2095   \n",
       "15   Nice STUDIO- bright/spacious/hardwoods/great l...   $1600   \n",
       "16   Furnished B&T loft w/ office+patio *10-12mo le...   $5500   \n",
       "17                        Channel Your Inner Explorer    $3274   \n",
       "18   Remodeled Clarendon Heights Home with VIEWS; G...   $8200   \n",
       "19   Luxury Home in Clarendon Heights with VIEWS; P...   $8200   \n",
       "20   Modern 1 BD/ 1 BA condo in a historic building...   $2995   \n",
       "21   Bright and Spacious Top Floor Studio, Hardwood...   $1695   \n",
       "22   Remodeled Two Bedroom With New Carpet & Parkin...   $3000   \n",
       "23         Live/Work Loft + HUGE 400 Sqft Patio *PICS*   $3900   \n",
       "24   NEWLY REDECORATED WITH GARDEN VIEWS - GREAT LO...   $2400   \n",
       "25   Gorgeous furnished townhouse with private elev...  $10000   \n",
       "26                Exquisite Furnished home.  ~ J.Wavro   $9750   \n",
       "27   Large Miraloma Park 4bd/3ba single family home...   $4950   \n",
       "28       Full floor flat - 1 bedroom 1 bath  ~ J.Wavro   $4200   \n",
       "29   Top floor remodeled studio. Available October ...   $2150   \n",
       "..                                                 ...     ...   \n",
       "970                          Potrero Hill 2 bed 2 bath   $3995   \n",
       "971         Wanted: Room/Studio near Alamo Square Park   $1500   \n",
       "972  Unique House w/ Roof Decks & Amazing Views **V...   $5995   \n",
       "973  COME RENT!!!  NEW Studios w IN UNIT washer dryer!   $2426   \n",
       "974  Spectacular 4 bedroom house with amazing view ...   $6495   \n",
       "975                   2BR/2BA Dynamic Townhouse in SF    $2900   \n",
       "976     3rd Floor Apt with two 2 master bedroom suites   $4800   \n",
       "977  Upscale Studio - Heated Floors, New Kitchen & ...   $1675   \n",
       "978  Spacious Studio with Parking at Lakewood Apart...   $1739   \n",
       "979       Modern North Beach 2BR/2BA including parking   $4600   \n",
       "980  NOPA location-Bright and Sunny-Garden-Rent inc...   $2595   \n",
       "981                TOP Floor Flat - Views!  2 Bedrooms   $5600   \n",
       "982       Quiet Hill Top Building, Parking, GREAT VIEW   $2795   \n",
       "983  Gorgeous Bay Bridge View with Amazing Interior...   $3616   \n",
       "984             nice 1 bdr 1 bath on 16th ave & Irving   $1995   \n",
       "985  Top Floor 1BR with Hardwood Floors and Walk-in...   $2095   \n",
       "986  Secluded 1BR Bungalow w/ updated kitchen//Avai...   $1950   \n",
       "987  Great views from the 11th floor. awsome floor ...   $3290   \n",
       "988  South Beach MarinaApartment - best views, don'...   $4425   \n",
       "989  Large, quiet Edwardian 1BR//Available Now//One...   $2250   \n",
       "990  Great 1 bedroom with Golden Gate Bridge and Ci...   $3800   \n",
       "991                              2br flat nr CCSF/SFSU   $2790   \n",
       "992            Millennium Tower with parking and views   $6700   \n",
       "993  Spacious 3 bedroom move in today   $2850 (flex...   $2850   \n",
       "994                             Quiet Nob Hill Delight   $2800   \n",
       "995  Russian Hill Beautiful Sunny Remodeled Open Ho...   $2850   \n",
       "996             Bi-level 3BR+ Home! Laundry + Pking!!!   $4295   \n",
       "997  Top Floor 1BR w/ Hardwood Floors and Walk-in C...   $2600   \n",
       "998  Top Floor Spacious Studio w/ Hardwood Floors &...   $2400   \n",
       "999  Top Floor, Hrdwd, City View, Roof Deck, W/D in...   $4995   \n",
       "\n",
       "                     bedrooms         pid   longitude         date  \\\n",
       "0        / 1br - 950ft² -      4046628359 -122.399663  Sep  4 2013   \n",
       "1        / 1br - 710ft² -      4046761563         NaN  Sep  4 2013   \n",
       "2        / 1br - 644ft² -      4046661504 -122.470727  Sep  4 2013   \n",
       "3       / 2br - 1450ft² -      4036170429         NaN  Sep  4 2013   \n",
       "4                 / 2br -      4046732678         NaN  Sep  4 2013   \n",
       "5                 / 1br -      4046731229         NaN  Sep  4 2013   \n",
       "6              / 549ft² -      4046730047 -122.389798  Sep  4 2013   \n",
       "7        / 1br - 781ft² -      4046570245 -122.420787  Sep  4 2013   \n",
       "8                 / 2br -      4006732632 -122.457100  Sep  4 2013   \n",
       "9       / 2br - 1400ft² -      4046018830 -122.429850  Sep  4 2013   \n",
       "10                / 1br -      4045981009 -122.402387  Sep  4 2013   \n",
       "11      / 2br - 1300ft² -      4036079016 -122.435772  Sep  4 2013   \n",
       "12       / 2br - 941ft² -      4045848497 -122.401796  Sep  4 2013   \n",
       "13                / 1br -      4045983183 -122.486122  Sep  4 2013   \n",
       "14       / 1br - 500ft² -      3999189643 -122.412680  Sep  4 2013   \n",
       "15             / 400ft² -      4026681979 -122.414636  Sep  4 2013   \n",
       "16                / 1br -      4045960170         NaN  Sep  4 2013   \n",
       "17       / 1br - 758ft² -      4046428851 -122.389905  Sep  4 2013   \n",
       "18                / 3br -      4046427054 -122.449987  Sep  4 2013   \n",
       "19                / 3br -      4046420052 -122.450395  Sep  4 2013   \n",
       "20                / 1br -      4026544139         NaN  Sep  4 2013   \n",
       "21                             4036933089         NaN  Sep  4 2013   \n",
       "22                / 2br -      4046390878 -122.438056  Sep  4 2013   \n",
       "23       / 1br - 950ft² -      4031288668 -122.395744  Sep  4 2013   \n",
       "24                / 1br -      4036566554 -122.435188  Sep  3 2013   \n",
       "25                / 3br -      4044142664 -122.428202  Sep  3 2013   \n",
       "26                / 4br -      4044135676 -122.428977  Sep  3 2013   \n",
       "27                / 4br -      4044132086 -122.454932  Sep  3 2013   \n",
       "28                / 1br -      4044127658 -122.395478  Sep  3 2013   \n",
       "29                             4044120912 -122.429855  Sep  3 2013   \n",
       "..                        ...         ...         ...          ...   \n",
       "970     / 2br - 1200ft² -      4039439586 -122.402297  Sep  3 2013   \n",
       "971                            4031457434         NaN  Sep  3 2013   \n",
       "972               / 2br -      3985067949 -122.393365  Sep  3 2013   \n",
       "973            / 476ft² -      4043617578         NaN  Sep  3 2013   \n",
       "974               / 4br -      4043655481 -122.444412  Sep  3 2013   \n",
       "975     / 2br - 1001ft² -      4027146721         NaN  Sep  3 2013   \n",
       "976      / 2br - 900ft² -      4043584327 -122.438740  Sep  3 2013   \n",
       "977            / 450ft² -      4021211090 -122.490606  Sep  3 2013   \n",
       "978            / 510ft² -      4019481190 -122.493398  Sep  3 2013   \n",
       "979     / 2br - 1100ft² -      4023934570 -122.412254  Sep  3 2013   \n",
       "980               / 1br -      4043341830 -122.440314  Sep  3 2013   \n",
       "981     / 2br - 1450ft² -      4021628786 -122.442468  Sep  3 2013   \n",
       "982      / 1br - 800ft² -      4043320679 -122.434317  Sep  3 2013   \n",
       "983      / 1br - 858ft² -      4043647984 -122.391336  Sep  3 2013   \n",
       "984      / 1br - 750ft² -      4043642151 -122.473698  Sep  3 2013   \n",
       "985               / 1br -      3997873729         NaN  Sep  3 2013   \n",
       "986               / 1br -      3987367704 -122.487106  Sep  3 2013   \n",
       "987               / 1br -      4043527152 -122.393746  Sep  3 2013   \n",
       "988      / 2br - 954ft² -      4013354753 -122.389777  Sep  3 2013   \n",
       "989               / 1br -      4043616322 -122.431147  Sep  3 2013   \n",
       "990               / 1br -      4001426634 -122.413423  Sep  3 2013   \n",
       "991               / 2br -      4028884954 -122.454107  Sep  3 2013   \n",
       "992     / 2br - 1268ft² -      4012246039 -122.395813  Sep  3 2013   \n",
       "993               / 3br -      4043301473 -122.386984  Sep  3 2013   \n",
       "994               / 1br -      4026873759 -122.419402  Sep  3 2013   \n",
       "995               / 1br -      4031559983 -122.414681  Sep  3 2013   \n",
       "996               / 3br -      3991643423 -122.422357  Sep  3 2013   \n",
       "997               / 1br -      4001874436         NaN  Sep  3 2013   \n",
       "998                            3982441423         NaN  Sep  3 2013   \n",
       "999               / 3br -      4011593200         NaN  Sep  3 2013   \n",
       "\n",
       "                         link   latitude                      sqft  \\\n",
       "0    /sfc/apa/4046628359.html  37.774623      / 1br - 950ft² -       \n",
       "1    /sfc/apa/4046761563.html        NaN      / 1br - 710ft² -       \n",
       "2    /sfc/apa/4046661504.html  37.765739      / 1br - 644ft² -       \n",
       "3    /sfc/apa/4036170429.html        NaN     / 2br - 1450ft² -       \n",
       "4    /sfc/apa/4046732678.html        NaN               / 2br -       \n",
       "5    /sfc/apa/4046731229.html        NaN               / 1br -       \n",
       "6    /sfc/apa/4046730047.html  37.774192            / 549ft² -       \n",
       "7    /sfc/apa/4046570245.html  37.796034      / 1br - 781ft² -       \n",
       "8    /sfc/apa/4006732632.html  37.735400               / 2br -       \n",
       "9    /sfc/apa/4046018830.html  37.794973     / 2br - 1400ft² -       \n",
       "10   /sfc/apa/4045981009.html  37.781055               / 1br -       \n",
       "11   /sfc/apa/4036079016.html  37.798487     / 2br - 1300ft² -       \n",
       "12   /sfc/apa/4045848497.html  37.781521      / 2br - 941ft² -       \n",
       "13   /sfc/apa/4045983183.html  37.759468               / 1br -       \n",
       "14   /sfc/apa/3999189643.html  37.786792      / 1br - 500ft² -       \n",
       "15   /sfc/apa/4026681979.html  37.785678            / 400ft² -       \n",
       "16   /sfc/apa/4045960170.html        NaN               / 1br -       \n",
       "17   /sfc/apa/4046428851.html  37.774243      / 1br - 758ft² -       \n",
       "18   /sfc/apa/4046427054.html  37.758892               / 3br -       \n",
       "19   /sfc/apa/4046420052.html  37.758858               / 3br -       \n",
       "20   /sfc/apa/4026544139.html        NaN               / 1br -       \n",
       "21   /sfc/apa/4036933089.html        NaN                             \n",
       "22   /sfc/apa/4046390878.html  37.789326               / 2br -       \n",
       "23   /sfc/apa/4031288668.html  37.777698      / 1br - 950ft² -       \n",
       "24   /sfc/apa/4036566554.html  37.762671               / 1br -       \n",
       "25   /sfc/apa/4044142664.html  37.759692               / 3br -       \n",
       "26   /sfc/apa/4044135676.html  37.736388               / 4br -       \n",
       "27   /sfc/apa/4044132086.html  37.741777               / 4br -       \n",
       "28   /sfc/apa/4044127658.html  37.788092               / 1br -       \n",
       "29   /sfc/apa/4044120912.html  37.802583                             \n",
       "..                        ...        ...                       ...   \n",
       "970  /sfc/apa/4039439586.html  37.759621     / 2br - 1200ft² -       \n",
       "971  /sfc/apa/4031457434.html        NaN                             \n",
       "972  /sfc/apa/3985067949.html  37.760202               / 2br -       \n",
       "973  /sfc/apa/4043617578.html        NaN            / 476ft² -       \n",
       "974  /sfc/apa/4043655481.html  37.763987               / 4br -       \n",
       "975  /sfc/apa/4027146721.html        NaN     / 2br - 1001ft² -       \n",
       "976  /sfc/apa/4043584327.html  37.779660      / 2br - 900ft² -       \n",
       "977  /sfc/apa/4021211090.html  37.772954            / 450ft² -       \n",
       "978  /sfc/apa/4019481190.html  37.714652            / 510ft² -       \n",
       "979  /sfc/apa/4023934570.html  37.803918     / 2br - 1100ft² -       \n",
       "980  /sfc/apa/4043341830.html  37.776584               / 1br -       \n",
       "981  /sfc/apa/4021628786.html  37.798112     / 2br - 1450ft² -       \n",
       "982  /sfc/apa/4043320679.html  37.753690      / 1br - 800ft² -       \n",
       "983  /sfc/apa/4043647984.html  37.787580      / 1br - 858ft² -       \n",
       "984  /sfc/apa/4043642151.html  37.762200      / 1br - 750ft² -       \n",
       "985  /sfc/apa/3997873729.html        NaN               / 1br -       \n",
       "986  /sfc/apa/3987367704.html  37.783139               / 1br -       \n",
       "987  /sfc/apa/4043527152.html  37.776448               / 1br -       \n",
       "988  /sfc/apa/4013354753.html  37.781400      / 2br - 954ft² -       \n",
       "989  /sfc/apa/4043616322.html  37.775633               / 1br -       \n",
       "990  /sfc/apa/4001426634.html  37.799239               / 1br -       \n",
       "991  /sfc/apa/4028884954.html  37.721851               / 2br -       \n",
       "992  /sfc/apa/4012246039.html  37.791153     / 2br - 1268ft² -       \n",
       "993  /sfc/apa/4043301473.html  37.728919               / 3br -       \n",
       "994  /sfc/apa/4026873759.html  37.792593               / 1br -       \n",
       "995  /sfc/apa/4031559983.html  37.802621               / 1br -       \n",
       "996  /sfc/apa/3991643423.html  37.733800               / 3br -       \n",
       "997  /sfc/apa/4001874436.html        NaN               / 1br -       \n",
       "998  /sfc/apa/3982441423.html        NaN                             \n",
       "999  /sfc/apa/4011593200.html        NaN               / 3br -       \n",
       "\n",
       "                                            sourcepage  \n",
       "0                 http://sfbay.craigslist.org/sfc/apa/  \n",
       "1                 http://sfbay.craigslist.org/sfc/apa/  \n",
       "2                 http://sfbay.craigslist.org/sfc/apa/  \n",
       "3                 http://sfbay.craigslist.org/sfc/apa/  \n",
       "4                 http://sfbay.craigslist.org/sfc/apa/  \n",
       "5                 http://sfbay.craigslist.org/sfc/apa/  \n",
       "6                 http://sfbay.craigslist.org/sfc/apa/  \n",
       "7                 http://sfbay.craigslist.org/sfc/apa/  \n",
       "8                 http://sfbay.craigslist.org/sfc/apa/  \n",
       "9    http://sfbay.craigslist.org/sfc/apa/index200.html  \n",
       "10   http://sfbay.craigslist.org/sfc/apa/index200.html  \n",
       "11   http://sfbay.craigslist.org/sfc/apa/index200.html  \n",
       "12   http://sfbay.craigslist.org/sfc/apa/index200.html  \n",
       "13   http://sfbay.craigslist.org/sfc/apa/index200.html  \n",
       "14   http://sfbay.craigslist.org/sfc/apa/index200.html  \n",
       "15   http://sfbay.craigslist.org/sfc/apa/index200.html  \n",
       "16   http://sfbay.craigslist.org/sfc/apa/index200.html  \n",
       "17   http://sfbay.craigslist.org/sfc/apa/index100.html  \n",
       "18   http://sfbay.craigslist.org/sfc/apa/index100.html  \n",
       "19   http://sfbay.craigslist.org/sfc/apa/index100.html  \n",
       "20   http://sfbay.craigslist.org/sfc/apa/index100.html  \n",
       "21   http://sfbay.craigslist.org/sfc/apa/index100.html  \n",
       "22   http://sfbay.craigslist.org/sfc/apa/index100.html  \n",
       "23   http://sfbay.craigslist.org/sfc/apa/index100.html  \n",
       "24   http://sfbay.craigslist.org/sfc/apa/index700.html  \n",
       "25   http://sfbay.craigslist.org/sfc/apa/index700.html  \n",
       "26   http://sfbay.craigslist.org/sfc/apa/index700.html  \n",
       "27   http://sfbay.craigslist.org/sfc/apa/index700.html  \n",
       "28   http://sfbay.craigslist.org/sfc/apa/index700.html  \n",
       "29   http://sfbay.craigslist.org/sfc/apa/index700.html  \n",
       "..                                                 ...  \n",
       "970  http://sfbay.craigslist.org/sfc/apa/index800.html  \n",
       "971  http://sfbay.craigslist.org/sfc/apa/index800.html  \n",
       "972  http://sfbay.craigslist.org/sfc/apa/index800.html  \n",
       "973  http://sfbay.craigslist.org/sfc/apa/index800.html  \n",
       "974  http://sfbay.craigslist.org/sfc/apa/index800.html  \n",
       "975  http://sfbay.craigslist.org/sfc/apa/index800.html  \n",
       "976  http://sfbay.craigslist.org/sfc/apa/index800.html  \n",
       "977  http://sfbay.craigslist.org/sfc/apa/index900.html  \n",
       "978  http://sfbay.craigslist.org/sfc/apa/index900.html  \n",
       "979  http://sfbay.craigslist.org/sfc/apa/index900.html  \n",
       "980  http://sfbay.craigslist.org/sfc/apa/index900.html  \n",
       "981  http://sfbay.craigslist.org/sfc/apa/index900.html  \n",
       "982  http://sfbay.craigslist.org/sfc/apa/index900.html  \n",
       "983  http://sfbay.craigslist.org/sfc/apa/index800.html  \n",
       "984  http://sfbay.craigslist.org/sfc/apa/index800.html  \n",
       "985  http://sfbay.craigslist.org/sfc/apa/index800.html  \n",
       "986  http://sfbay.craigslist.org/sfc/apa/index800.html  \n",
       "987  http://sfbay.craigslist.org/sfc/apa/index800.html  \n",
       "988  http://sfbay.craigslist.org/sfc/apa/index800.html  \n",
       "989  http://sfbay.craigslist.org/sfc/apa/index800.html  \n",
       "990  http://sfbay.craigslist.org/sfc/apa/index900.html  \n",
       "991  http://sfbay.craigslist.org/sfc/apa/index900.html  \n",
       "992  http://sfbay.craigslist.org/sfc/apa/index900.html  \n",
       "993  http://sfbay.craigslist.org/sfc/apa/index900.html  \n",
       "994  http://sfbay.craigslist.org/sfc/apa/index900.html  \n",
       "995  http://sfbay.craigslist.org/sfc/apa/index900.html  \n",
       "996  http://sfbay.craigslist.org/sfc/apa/index900.html  \n",
       "997  http://sfbay.craigslist.org/sfc/apa/index900.html  \n",
       "998  http://sfbay.craigslist.org/sfc/apa/index900.html  \n",
       "999  http://sfbay.craigslist.org/sfc/apa/index900.html  \n",
       "\n",
       "[1000 rows x 11 columns]"
      ]
     },
     "execution_count": 64,
     "metadata": {},
     "output_type": "execute_result"
    }
   ],
   "source": [
    "df"
   ]
  },
  {
   "cell_type": "code",
   "execution_count": 66,
   "metadata": {
    "collapsed": false
   },
   "outputs": [
    {
     "name": "stdout",
     "output_type": "stream",
     "text": [
      "                pid   longitude    latitude\n",
      "count  1.000000e+03  779.000000  779.000000\n",
      "mean   4.035561e+09 -122.428012   37.773634\n",
      "std    1.592006e+07    0.032757    0.031936\n",
      "min    3.980999e+09 -122.761230   37.500000\n",
      "25%    4.031480e+09         NaN         NaN\n",
      "50%    4.044050e+09         NaN         NaN\n",
      "75%    4.044962e+09         NaN         NaN\n",
      "max    4.046762e+09 -122.250000   37.806444\n"
     ]
    },
    {
     "name": "stderr",
     "output_type": "stream",
     "text": [
      "/Users/waddell/anaconda/envs/py3/lib/python3.5/site-packages/numpy/lib/function_base.py:3834: RuntimeWarning: Invalid value encountered in percentile\n",
      "  RuntimeWarning)\n"
     ]
    }
   ],
   "source": [
    "print(df.describe())"
   ]
  },
  {
   "cell_type": "markdown",
   "metadata": {},
   "source": [
    "Some pandas methods are immediately useful to examine the DataFrame.  But we can also see that only the two fields assigned a numeric datatype are used in methods like describe.  So some of our cleaning work and data translation we did last session needs to be reused here before converting the data to a DataFrame, since DataFrame does not provide much functionality to do string manipulations as we needed.\n",
    "\n",
    "The rest of today's session will be used to begin interactively adapting the previous code to use the pandas DataFrame to clean up the data and make it usable.\n",
    "\n",
    "1. Clean neigbhorhood\n",
    "2. Generate price as numeric field\n",
    "3. Generate beds as numeric field\n",
    "4. Generate size (sqft) as numeric field"
   ]
  },
  {
   "cell_type": "markdown",
   "metadata": {},
   "source": [
    "It should be clear that what happened here was that we used a vectorized string function to operate on all rows at one time, stripping off the leading blanks and parentheses, and the trailing parentheses.\n",
    "\n",
    "How to now strip off the $ from price, and convert it to integer, remembering that we have one or more missing values...?\n",
    "\n",
    "First let's clean off the parentheses from around the neighborhood field."
   ]
  },
  {
   "cell_type": "code",
   "execution_count": 68,
   "metadata": {
    "collapsed": false
   },
   "outputs": [
    {
     "name": "stdout",
     "output_type": "stream",
     "text": [
      "0      SOMA  south beach\n",
      "1      SOMA  south beach\n",
      "2     inner sunset  UCSF\n",
      "3     financial district\n",
      "4         lower nob hill\n",
      "5       sunset  parkside\n",
      "6      SOMA  south beach\n",
      "7           russian hill\n",
      "8                    NaN\n",
      "9        pacific heights\n",
      "Name: hood, dtype: object\n"
     ]
    }
   ],
   "source": [
    "df['hood'] = df['neighborhood'].str.replace('[()/]','')\n",
    "\n",
    "print(df['hood'][:10])"
   ]
  },
  {
   "cell_type": "code",
   "execution_count": 69,
   "metadata": {
    "collapsed": false
   },
   "outputs": [
    {
     "name": "stdout",
     "output_type": "stream",
     "text": [
      "0    2895.0\n",
      "1    3354.0\n",
      "2    2865.0\n",
      "3    5500.0\n",
      "4    3892.0\n",
      "5    1250.0\n",
      "6    3249.0\n",
      "7    2690.0\n",
      "8    2850.0\n",
      "9    6500.0\n",
      "Name: rent, dtype: float64\n"
     ]
    }
   ],
   "source": [
    "df['rent'] = df['price'].str.replace('$','').astype('float64')\n",
    "print(df['rent'][:10])"
   ]
  },
  {
   "cell_type": "code",
   "execution_count": 76,
   "metadata": {
    "collapsed": false
   },
   "outputs": [],
   "source": [
    "df['month'] = df['date'].str.split().str[0]\n",
    "df['day'] = df['date'].str.split().str[1].astype('int32')\n",
    "df['year'] = df['date'].str.split().str[2].astype('int32')"
   ]
  },
  {
   "cell_type": "code",
   "execution_count": 77,
   "metadata": {
    "collapsed": false
   },
   "outputs": [
    {
     "name": "stderr",
     "output_type": "stream",
     "text": [
      "/Users/waddell/anaconda/envs/py3/lib/python3.5/site-packages/numpy/lib/function_base.py:3834: RuntimeWarning: Invalid value encountered in percentile\n",
      "  RuntimeWarning)\n"
     ]
    },
    {
     "data": {
      "text/html": [
       "<div>\n",
       "<table border=\"1\" class=\"dataframe\">\n",
       "  <thead>\n",
       "    <tr style=\"text-align: right;\">\n",
       "      <th></th>\n",
       "      <th>pid</th>\n",
       "      <th>longitude</th>\n",
       "      <th>latitude</th>\n",
       "      <th>rent</th>\n",
       "      <th>day</th>\n",
       "      <th>year</th>\n",
       "    </tr>\n",
       "  </thead>\n",
       "  <tbody>\n",
       "    <tr>\n",
       "      <th>count</th>\n",
       "      <td>1.000000e+03</td>\n",
       "      <td>779.000000</td>\n",
       "      <td>779.000000</td>\n",
       "      <td>997.000000</td>\n",
       "      <td>1000.000000</td>\n",
       "      <td>1000.0</td>\n",
       "    </tr>\n",
       "    <tr>\n",
       "      <th>mean</th>\n",
       "      <td>4.035561e+09</td>\n",
       "      <td>-122.428012</td>\n",
       "      <td>37.773634</td>\n",
       "      <td>4196.676028</td>\n",
       "      <td>3.380000</td>\n",
       "      <td>2013.0</td>\n",
       "    </tr>\n",
       "    <tr>\n",
       "      <th>std</th>\n",
       "      <td>1.592006e+07</td>\n",
       "      <td>0.032757</td>\n",
       "      <td>0.031936</td>\n",
       "      <td>2830.259243</td>\n",
       "      <td>0.485627</td>\n",
       "      <td>0.0</td>\n",
       "    </tr>\n",
       "    <tr>\n",
       "      <th>min</th>\n",
       "      <td>3.980999e+09</td>\n",
       "      <td>-122.761230</td>\n",
       "      <td>37.500000</td>\n",
       "      <td>195.000000</td>\n",
       "      <td>3.000000</td>\n",
       "      <td>2013.0</td>\n",
       "    </tr>\n",
       "    <tr>\n",
       "      <th>25%</th>\n",
       "      <td>4.031480e+09</td>\n",
       "      <td>NaN</td>\n",
       "      <td>NaN</td>\n",
       "      <td>NaN</td>\n",
       "      <td>3.000000</td>\n",
       "      <td>2013.0</td>\n",
       "    </tr>\n",
       "    <tr>\n",
       "      <th>50%</th>\n",
       "      <td>4.044050e+09</td>\n",
       "      <td>NaN</td>\n",
       "      <td>NaN</td>\n",
       "      <td>NaN</td>\n",
       "      <td>3.000000</td>\n",
       "      <td>2013.0</td>\n",
       "    </tr>\n",
       "    <tr>\n",
       "      <th>75%</th>\n",
       "      <td>4.044962e+09</td>\n",
       "      <td>NaN</td>\n",
       "      <td>NaN</td>\n",
       "      <td>NaN</td>\n",
       "      <td>4.000000</td>\n",
       "      <td>2013.0</td>\n",
       "    </tr>\n",
       "    <tr>\n",
       "      <th>max</th>\n",
       "      <td>4.046762e+09</td>\n",
       "      <td>-122.250000</td>\n",
       "      <td>37.806444</td>\n",
       "      <td>45000.000000</td>\n",
       "      <td>4.000000</td>\n",
       "      <td>2013.0</td>\n",
       "    </tr>\n",
       "  </tbody>\n",
       "</table>\n",
       "</div>"
      ],
      "text/plain": [
       "                pid   longitude    latitude          rent          day    year\n",
       "count  1.000000e+03  779.000000  779.000000    997.000000  1000.000000  1000.0\n",
       "mean   4.035561e+09 -122.428012   37.773634   4196.676028     3.380000  2013.0\n",
       "std    1.592006e+07    0.032757    0.031936   2830.259243     0.485627     0.0\n",
       "min    3.980999e+09 -122.761230   37.500000    195.000000     3.000000  2013.0\n",
       "25%    4.031480e+09         NaN         NaN           NaN     3.000000  2013.0\n",
       "50%    4.044050e+09         NaN         NaN           NaN     3.000000  2013.0\n",
       "75%    4.044962e+09         NaN         NaN           NaN     4.000000  2013.0\n",
       "max    4.046762e+09 -122.250000   37.806444  45000.000000     4.000000  2013.0"
      ]
     },
     "execution_count": 77,
     "metadata": {},
     "output_type": "execute_result"
    }
   ],
   "source": [
    "df.describe()"
   ]
  },
  {
   "cell_type": "code",
   "execution_count": 78,
   "metadata": {
    "collapsed": false
   },
   "outputs": [
    {
     "data": {
      "text/plain": [
       "neighborhood\n",
       " (512 Van Ness Avenue, Steps to Hayes Valley)     2200.000000\n",
       " (512 Van Ness steps to Hayes Valley)             2700.000000\n",
       " (Alta Loma & Eastmoor Ave.)                      3000.000000\n",
       " (Candlestick Point)                              2595.000000\n",
       " (Candlestick)                                    3702.333333\n",
       " (Chinatown)                                      1800.000000\n",
       " (Daly City)                                      3200.000000\n",
       " (Glen Park/West Portal)                          3400.000000\n",
       " (Marina/Cow Hollow)                              5900.000000\n",
       " (Mission District)                               3100.000000\n",
       " (Near Harding Park & Lake Merced)                3600.000000\n",
       " (Outer Richmond)                                 2750.000000\n",
       " (Russian Hill)                                  22000.000000\n",
       " (SOMA / south beach)                             4371.741379\n",
       " (San Francisco, CA 94123)                        8000.000000\n",
       " (Sausalito)                                      4500.000000\n",
       " (Twin Peaks/ Upper Market)                       2995.000000\n",
       " (UNION SQUARE)                                   1495.000000\n",
       " (USF / panhandle)                                5926.727273\n",
       " (alamo square / nopa)                            3414.705882\n",
       " (bayview)                                        2694.300000\n",
       " (bernal heights)                                 4198.636364\n",
       " (castro / upper market)                          4343.529412\n",
       " (cole valley / ashbury hts)                      5244.642857\n",
       " (downtown / civic / van ness)                    2482.512195\n",
       " (excelsior / outer mission)                      2465.500000\n",
       " (financial district)                             6129.130435\n",
       " (glen park)                                      4970.000000\n",
       " (haight ashbury)                                 2797.000000\n",
       " (hayes valley)                                   3090.000000\n",
       " (ingleside / SFSU / CCSF)                        3322.545455\n",
       " (inner richmond)                                 2755.000000\n",
       " (inner sunset / UCSF)                            2854.633333\n",
       " (laurel hts / presidio)                          6116.095238\n",
       " (lower haight)                                   2697.500000\n",
       " (lower nob hill)                                 2323.032258\n",
       " (lower pac hts)                                  3682.225806\n",
       " (marina / cow hollow)                            5758.594203\n",
       " (mission district)                               3205.424242\n",
       " (nob hill)                                       3847.938776\n",
       " (noe valley)                                     4348.914286\n",
       " (north beach / telegraph hill)                   4454.812500\n",
       " (pacific heights)                                5479.578947\n",
       " (portola district)                               2596.333333\n",
       " (potrero hill)                                   3744.562500\n",
       " (richmond / seacliff)                            4550.951220\n",
       " (russian hill)                                   5021.926829\n",
       " (sunset / parkside)                              2821.500000\n",
       " (tenderloin)                                     1922.500000\n",
       " (twin peaks / diamond hts)                       3813.750000\n",
       " (visitacion valley)                              2150.000000\n",
       " (west portal / forest hill)                      6474.375000\n",
       " (western addition)                               2756.000000\n",
       "Name: rent, dtype: float64"
      ]
     },
     "execution_count": 78,
     "metadata": {},
     "output_type": "execute_result"
    }
   ],
   "source": [
    "df.groupby('neighborhood')['rent'].mean()"
   ]
  },
  {
   "cell_type": "code",
   "execution_count": 58,
   "metadata": {
    "collapsed": false
   },
   "outputs": [],
   "source": []
  }
 ],
 "metadata": {
  "anaconda-cloud": {},
  "kernelspec": {
   "display_name": "Python [default]",
   "language": "python",
   "name": "python3"
  },
  "language_info": {
   "codemirror_mode": {
    "name": "ipython",
    "version": 3
   },
   "file_extension": ".py",
   "mimetype": "text/x-python",
   "name": "python",
   "nbconvert_exporter": "python",
   "pygments_lexer": "ipython3",
   "version": "3.5.2"
  }
 },
 "nbformat": 4,
 "nbformat_minor": 0
}
