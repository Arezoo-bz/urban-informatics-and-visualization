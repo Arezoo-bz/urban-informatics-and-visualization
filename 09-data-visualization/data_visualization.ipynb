{
 "cells": [
  {
   "cell_type": "markdown",
   "metadata": {},
   "source": [
    "# Data Visualization in Python\n",
    "\n",
    "There are many data visualization libraries to make charts and graphs using data in Python.  The oldest and probably the most powerful of these is Matplotlib.  It has many options to control the creation of charts, but it is also one of the most complex libraries to use to make charts.  We will spend much of this session on learning how to use Matplotlib, and then switch to exploring tutorials with a new Python library, Altair.\n",
    "\n",
    "To do the Altair tutorials, you'll need to install the library first.\n",
    "At the command prompt, install it with this command:\n",
    "conda install altair --channel conda-forge\n",
    "\n",
    "We will come back to this later in the class session.\n",
    "\n",
    "Objectives for today's session:\n",
    "\n",
    "* Learn how to use Matplotlib to make basic charts:\n",
    "    * Line charts\n",
    "    * Histograms\n",
    "    * Scatterplots\n",
    "* Learn how to add titles, and labels for X and Y axes\n",
    "* Learn how to control the styling of the charts\n",
    "* Learn how to create a composite figure with subplots\n",
    "* Learn how to export figures to png to use elsewhere\n",
    "\n",
    "* Introduce Altair charting library\n",
    "\n",
    "In addition, we will explore Census data and Craigslist rentals to visualize them.\n"
   ]
  },
  {
   "cell_type": "markdown",
   "metadata": {},
   "source": [
    "## Visualizing Census Data\n",
    "\n",
    "Here we load 2010 Census Block data to set up some initial analysis and data visualization. Below are the tables pulled from Summary File 1 (SF1) for Census Blocks in the San Francisco Bay Area."
   ]
  },
  {
   "cell_type": "raw",
   "metadata": {},
   "source": [
    "P1. POPULATION [1]\n",
    "Total: P0010001\n",
    "\n",
    "P3. RACE [8]\n",
    "Universe: Total population\n",
    "Total: P0030001\n",
    "White alone P0030002\n",
    "Black or African American alone P0030003\n",
    "American Indian and Alaska Native alone P0030004\n",
    "Asian alone P0030005\n",
    "Native Hawaiian and Other Pacific Islander alone P0030006\n",
    "Some Other Race alone P0030007\n",
    "Two or More Races P0030008\n",
    "\n",
    "P4. HISPANIC OR LATINO ORIGIN [3]\n",
    "Universe: Total population\n",
    "Total: P0040001\n",
    "Not Hispanic or Latino P0040002\n",
    "Hispanic or Latino P0040003\n",
    "\n",
    "H1. HOUSING UNITS [1]\n",
    "Universe: Housing units\n",
    "Total H00010001\n",
    "\n",
    "H3. OCCUPANCY STATUS [3]\n",
    "Universe: Housing units\n",
    "Total: H0030001\n",
    "Occupied H0030002\n",
    "Vacant H0030003\n",
    "\n",
    "H4. TENURE [4]\n",
    "Universe: Occupied housing units\n",
    "Total: H0040001\n",
    "Owned with a mortgage or a loan H0040002\n",
    "Owned free and clear H0040003\n",
    "Renter-occupied H0040004\n",
    "\n",
    "H5. VACANCY STATUS [8]\n",
    "Universe: Vacant housing units\n",
    "Total: H0050001\n",
    "For rent H0050002\n",
    "Rented, not occupied H0050003\n",
    "For sale only H0050004\n",
    "Sold, not occupied H0050005\n",
    "For seasonal, recreational, or occasional use H0050006\n",
    "For migrant workers H0050007\n",
    "Other vacant H0050008\n"
   ]
  },
  {
   "cell_type": "code",
   "execution_count": 7,
   "metadata": {
    "collapsed": false
   },
   "outputs": [
    {
     "name": "stdout",
     "output_type": "stream",
     "text": [
      "   logrecno        blockfips state county   tract  blkgrp block  arealand  \\\n",
      "0        25  060014271001000    06    001  427100       1  1000         0   \n",
      "1        26  060014271001001    06    001  427100       1  1001     79696   \n",
      "2        27  060014271001002    06    001  427100       1  1002       739   \n",
      "3        28  060014271001003    06    001  427100       1  1003     19546   \n",
      "4        29  060014271001004    06    001  427100       1  1004     14364   \n",
      "\n",
      "   P0010001  P0020001    ...     H0040003  H0040004  H0050001  H0050002  \\\n",
      "0         0         0    ...            0         0         0         0   \n",
      "1       113       113    ...            1         4         0         0   \n",
      "2         0         0    ...            0         0         0         0   \n",
      "3        29        29    ...            0         7         3         0   \n",
      "4        26        26    ...            0         6         0         0   \n",
      "\n",
      "   H0050003  H0050004  H0050005  H0050006  H0050007  H0050008  \n",
      "0         0         0         0         0         0         0  \n",
      "1         0         0         0         0         0         0  \n",
      "2         0         0         0         0         0         0  \n",
      "3         0         1         0         0         0         2  \n",
      "4         0         0         0         0         0         0  \n",
      "\n",
      "[5 rows x 42 columns]\n",
      "(109228, 42)\n"
     ]
    }
   ],
   "source": [
    "import pandas as pd\n",
    "\n",
    "sf1store = pd.HDFStore('data/bay_sf1_small.h5')\n",
    "sf1 = sf1store['sf1_extract']\n",
    "print(sf1[:5])\n",
    "print(sf1.shape)"
   ]
  },
  {
   "cell_type": "markdown",
   "metadata": {},
   "source": [
    "Let's calculate some basic information about each census block in the Bay Area."
   ]
  },
  {
   "cell_type": "code",
   "execution_count": 8,
   "metadata": {
    "collapsed": false
   },
   "outputs": [
    {
     "name": "stdout",
     "output_type": "stream",
     "text": [
      "   logrecno        blockfips state county   tract  blkgrp block  arealand  \\\n",
      "1        26  060014271001001    06    001  427100       1  1001     79696   \n",
      "3        28  060014271001003    06    001  427100       1  1003     19546   \n",
      "4        29  060014271001004    06    001  427100       1  1004     14364   \n",
      "6        31  060014271001006    06    001  427100       1  1006      1281   \n",
      "7        32  060014271001007    06    001  427100       1  1007     19020   \n",
      "\n",
      "   P0010001  P0020001     ...       H0050006  H0050007  H0050008    pct_rent  \\\n",
      "1       113       113     ...              0         0         0   80.000000   \n",
      "3        29        29     ...              0         0         2   70.000000   \n",
      "4        26        26     ...              0         0         0   75.000000   \n",
      "6         2         2     ...              0         0         0  100.000000   \n",
      "7        30        30     ...              0         0         0   33.333333   \n",
      "\n",
      "   pct_black  pct_asian  pct_white    pct_hisp  pct_vacant     pop_sqmi  \n",
      "1  13.274336   5.309735  78.761062    1.769912    0.000000  3672.312839  \n",
      "3  13.793103  27.586207  37.931034   24.137931   23.076923  3842.712166  \n",
      "4   0.000000  38.461538  34.615385    0.000000    0.000000  4688.087441  \n",
      "6   0.000000  50.000000   0.000000  100.000000    0.000000  4043.697112  \n",
      "7   0.000000  43.333333  50.000000    0.000000   10.000000  4085.154574  \n",
      "\n",
      "[5 rows x 49 columns]\n",
      "(68797, 49)\n"
     ]
    }
   ],
   "source": [
    "sf1['pct_rent'] = sf1['H0040004'] / sf1['H0040001'] * 100\n",
    "sf1['pct_black'] = sf1['P0030003'] / sf1['P0030001'] * 100\n",
    "sf1['pct_asian'] = sf1['P0030005'] / sf1['P0030001'] * 100\n",
    "sf1['pct_white'] = sf1['P0030002'] / sf1['P0030001'] * 100\n",
    "sf1['pct_hisp'] = sf1['P0040003'] / sf1['P0040001'] * 100\n",
    "sf1['pct_vacant'] = sf1['H0050001'] / sf1['H00010001'] * 100\n",
    "sf1['pop_sqmi'] = (sf1['P0010001'] / (sf1['arealand'] / 2589988))\n",
    "sf1 = sf1[sf1['P0030001']>0]\n",
    "print(sf1.head())\n",
    "print(sf1.shape)"
   ]
  },
  {
   "cell_type": "code",
   "execution_count": 9,
   "metadata": {
    "collapsed": false
   },
   "outputs": [
    {
     "data": {
      "text/html": [
       "<div>\n",
       "<table border=\"1\" class=\"dataframe\">\n",
       "  <thead>\n",
       "    <tr style=\"text-align: right;\">\n",
       "      <th></th>\n",
       "      <th>logrecno</th>\n",
       "      <th>blkgrp</th>\n",
       "      <th>arealand</th>\n",
       "      <th>P0010001</th>\n",
       "      <th>P0020001</th>\n",
       "      <th>P0020002</th>\n",
       "      <th>P0020003</th>\n",
       "      <th>P0020004</th>\n",
       "      <th>P0020005</th>\n",
       "      <th>P0020006</th>\n",
       "      <th>...</th>\n",
       "      <th>H0050006</th>\n",
       "      <th>H0050007</th>\n",
       "      <th>H0050008</th>\n",
       "      <th>pct_rent</th>\n",
       "      <th>pct_black</th>\n",
       "      <th>pct_asian</th>\n",
       "      <th>pct_white</th>\n",
       "      <th>pct_hisp</th>\n",
       "      <th>pct_vacant</th>\n",
       "      <th>pop_sqmi</th>\n",
       "    </tr>\n",
       "  </thead>\n",
       "  <tbody>\n",
       "    <tr>\n",
       "      <th>count</th>\n",
       "      <td>68797.000000</td>\n",
       "      <td>68797.000000</td>\n",
       "      <td>6.879700e+04</td>\n",
       "      <td>68797.000000</td>\n",
       "      <td>68797.000000</td>\n",
       "      <td>68797.0</td>\n",
       "      <td>68797.0</td>\n",
       "      <td>68797.0</td>\n",
       "      <td>68797.0</td>\n",
       "      <td>68797.000000</td>\n",
       "      <td>...</td>\n",
       "      <td>68797.000000</td>\n",
       "      <td>68797.000000</td>\n",
       "      <td>68797.000000</td>\n",
       "      <td>68200.000000</td>\n",
       "      <td>68797.000000</td>\n",
       "      <td>68797.000000</td>\n",
       "      <td>68797.000000</td>\n",
       "      <td>68797.000000</td>\n",
       "      <td>68209.000000</td>\n",
       "      <td>6.879700e+04</td>\n",
       "    </tr>\n",
       "    <tr>\n",
       "      <th>mean</th>\n",
       "      <td>404141.990552</td>\n",
       "      <td>2.138146</td>\n",
       "      <td>1.842772e+05</td>\n",
       "      <td>103.939692</td>\n",
       "      <td>103.939692</td>\n",
       "      <td>0.0</td>\n",
       "      <td>0.0</td>\n",
       "      <td>0.0</td>\n",
       "      <td>0.0</td>\n",
       "      <td>103.939692</td>\n",
       "      <td>...</td>\n",
       "      <td>0.416617</td>\n",
       "      <td>0.002675</td>\n",
       "      <td>0.612309</td>\n",
       "      <td>33.686597</td>\n",
       "      <td>6.113801</td>\n",
       "      <td>18.683807</td>\n",
       "      <td>59.628902</td>\n",
       "      <td>20.663419</td>\n",
       "      <td>5.896477</td>\n",
       "      <td>1.115862e+04</td>\n",
       "    </tr>\n",
       "    <tr>\n",
       "      <th>std</th>\n",
       "      <td>299752.023748</td>\n",
       "      <td>1.136372</td>\n",
       "      <td>1.707375e+06</td>\n",
       "      <td>142.419653</td>\n",
       "      <td>142.419653</td>\n",
       "      <td>0.0</td>\n",
       "      <td>0.0</td>\n",
       "      <td>0.0</td>\n",
       "      <td>0.0</td>\n",
       "      <td>142.419653</td>\n",
       "      <td>...</td>\n",
       "      <td>2.879630</td>\n",
       "      <td>0.096414</td>\n",
       "      <td>2.022353</td>\n",
       "      <td>30.819961</td>\n",
       "      <td>13.202340</td>\n",
       "      <td>22.181204</td>\n",
       "      <td>28.189146</td>\n",
       "      <td>22.434874</td>\n",
       "      <td>9.319408</td>\n",
       "      <td>2.073782e+04</td>\n",
       "    </tr>\n",
       "    <tr>\n",
       "      <th>min</th>\n",
       "      <td>26.000000</td>\n",
       "      <td>1.000000</td>\n",
       "      <td>7.600000e+01</td>\n",
       "      <td>1.000000</td>\n",
       "      <td>1.000000</td>\n",
       "      <td>0.0</td>\n",
       "      <td>0.0</td>\n",
       "      <td>0.0</td>\n",
       "      <td>0.0</td>\n",
       "      <td>1.000000</td>\n",
       "      <td>...</td>\n",
       "      <td>0.000000</td>\n",
       "      <td>0.000000</td>\n",
       "      <td>0.000000</td>\n",
       "      <td>0.000000</td>\n",
       "      <td>0.000000</td>\n",
       "      <td>0.000000</td>\n",
       "      <td>0.000000</td>\n",
       "      <td>0.000000</td>\n",
       "      <td>0.000000</td>\n",
       "      <td>1.959760e-01</td>\n",
       "    </tr>\n",
       "    <tr>\n",
       "      <th>25%</th>\n",
       "      <td>46514.000000</td>\n",
       "      <td>1.000000</td>\n",
       "      <td>1.214600e+04</td>\n",
       "      <td>31.000000</td>\n",
       "      <td>31.000000</td>\n",
       "      <td>0.0</td>\n",
       "      <td>0.0</td>\n",
       "      <td>0.0</td>\n",
       "      <td>0.0</td>\n",
       "      <td>31.000000</td>\n",
       "      <td>...</td>\n",
       "      <td>0.000000</td>\n",
       "      <td>0.000000</td>\n",
       "      <td>0.000000</td>\n",
       "      <td>10.000000</td>\n",
       "      <td>0.000000</td>\n",
       "      <td>1.030928</td>\n",
       "      <td>37.606838</td>\n",
       "      <td>4.072398</td>\n",
       "      <td>0.000000</td>\n",
       "      <td>4.061415e+03</td>\n",
       "    </tr>\n",
       "    <tr>\n",
       "      <th>50%</th>\n",
       "      <td>592917.000000</td>\n",
       "      <td>2.000000</td>\n",
       "      <td>2.031000e+04</td>\n",
       "      <td>66.000000</td>\n",
       "      <td>66.000000</td>\n",
       "      <td>0.0</td>\n",
       "      <td>0.0</td>\n",
       "      <td>0.0</td>\n",
       "      <td>0.0</td>\n",
       "      <td>66.000000</td>\n",
       "      <td>...</td>\n",
       "      <td>0.000000</td>\n",
       "      <td>0.000000</td>\n",
       "      <td>0.000000</td>\n",
       "      <td>22.950820</td>\n",
       "      <td>0.000000</td>\n",
       "      <td>10.465116</td>\n",
       "      <td>63.076923</td>\n",
       "      <td>12.871287</td>\n",
       "      <td>3.263403</td>\n",
       "      <td>8.157075e+03</td>\n",
       "    </tr>\n",
       "    <tr>\n",
       "      <th>75%</th>\n",
       "      <td>658809.000000</td>\n",
       "      <td>3.000000</td>\n",
       "      <td>4.325300e+04</td>\n",
       "      <td>125.000000</td>\n",
       "      <td>125.000000</td>\n",
       "      <td>0.0</td>\n",
       "      <td>0.0</td>\n",
       "      <td>0.0</td>\n",
       "      <td>0.0</td>\n",
       "      <td>125.000000</td>\n",
       "      <td>...</td>\n",
       "      <td>0.000000</td>\n",
       "      <td>0.000000</td>\n",
       "      <td>1.000000</td>\n",
       "      <td>50.943396</td>\n",
       "      <td>5.714286</td>\n",
       "      <td>27.659574</td>\n",
       "      <td>83.333333</td>\n",
       "      <td>29.870130</td>\n",
       "      <td>7.692308</td>\n",
       "      <td>1.323492e+04</td>\n",
       "    </tr>\n",
       "    <tr>\n",
       "      <th>max</th>\n",
       "      <td>721989.000000</td>\n",
       "      <td>7.000000</td>\n",
       "      <td>2.774832e+08</td>\n",
       "      <td>5115.000000</td>\n",
       "      <td>5115.000000</td>\n",
       "      <td>0.0</td>\n",
       "      <td>0.0</td>\n",
       "      <td>0.0</td>\n",
       "      <td>0.0</td>\n",
       "      <td>5115.000000</td>\n",
       "      <td>...</td>\n",
       "      <td>246.000000</td>\n",
       "      <td>17.000000</td>\n",
       "      <td>205.000000</td>\n",
       "      <td>100.000000</td>\n",
       "      <td>100.000000</td>\n",
       "      <td>100.000000</td>\n",
       "      <td>100.000000</td>\n",
       "      <td>100.000000</td>\n",
       "      <td>100.000000</td>\n",
       "      <td>3.172735e+06</td>\n",
       "    </tr>\n",
       "  </tbody>\n",
       "</table>\n",
       "<p>8 rows × 44 columns</p>\n",
       "</div>"
      ],
      "text/plain": [
       "            logrecno        blkgrp      arealand      P0010001      P0020001  \\\n",
       "count   68797.000000  68797.000000  6.879700e+04  68797.000000  68797.000000   \n",
       "mean   404141.990552      2.138146  1.842772e+05    103.939692    103.939692   \n",
       "std    299752.023748      1.136372  1.707375e+06    142.419653    142.419653   \n",
       "min        26.000000      1.000000  7.600000e+01      1.000000      1.000000   \n",
       "25%     46514.000000      1.000000  1.214600e+04     31.000000     31.000000   \n",
       "50%    592917.000000      2.000000  2.031000e+04     66.000000     66.000000   \n",
       "75%    658809.000000      3.000000  4.325300e+04    125.000000    125.000000   \n",
       "max    721989.000000      7.000000  2.774832e+08   5115.000000   5115.000000   \n",
       "\n",
       "       P0020002  P0020003  P0020004  P0020005      P0020006      ...       \\\n",
       "count   68797.0   68797.0   68797.0   68797.0  68797.000000      ...        \n",
       "mean        0.0       0.0       0.0       0.0    103.939692      ...        \n",
       "std         0.0       0.0       0.0       0.0    142.419653      ...        \n",
       "min         0.0       0.0       0.0       0.0      1.000000      ...        \n",
       "25%         0.0       0.0       0.0       0.0     31.000000      ...        \n",
       "50%         0.0       0.0       0.0       0.0     66.000000      ...        \n",
       "75%         0.0       0.0       0.0       0.0    125.000000      ...        \n",
       "max         0.0       0.0       0.0       0.0   5115.000000      ...        \n",
       "\n",
       "           H0050006      H0050007      H0050008      pct_rent     pct_black  \\\n",
       "count  68797.000000  68797.000000  68797.000000  68200.000000  68797.000000   \n",
       "mean       0.416617      0.002675      0.612309     33.686597      6.113801   \n",
       "std        2.879630      0.096414      2.022353     30.819961     13.202340   \n",
       "min        0.000000      0.000000      0.000000      0.000000      0.000000   \n",
       "25%        0.000000      0.000000      0.000000     10.000000      0.000000   \n",
       "50%        0.000000      0.000000      0.000000     22.950820      0.000000   \n",
       "75%        0.000000      0.000000      1.000000     50.943396      5.714286   \n",
       "max      246.000000     17.000000    205.000000    100.000000    100.000000   \n",
       "\n",
       "          pct_asian     pct_white      pct_hisp    pct_vacant      pop_sqmi  \n",
       "count  68797.000000  68797.000000  68797.000000  68209.000000  6.879700e+04  \n",
       "mean      18.683807     59.628902     20.663419      5.896477  1.115862e+04  \n",
       "std       22.181204     28.189146     22.434874      9.319408  2.073782e+04  \n",
       "min        0.000000      0.000000      0.000000      0.000000  1.959760e-01  \n",
       "25%        1.030928     37.606838      4.072398      0.000000  4.061415e+03  \n",
       "50%       10.465116     63.076923     12.871287      3.263403  8.157075e+03  \n",
       "75%       27.659574     83.333333     29.870130      7.692308  1.323492e+04  \n",
       "max      100.000000    100.000000    100.000000    100.000000  3.172735e+06  \n",
       "\n",
       "[8 rows x 44 columns]"
      ]
     },
     "execution_count": 9,
     "metadata": {},
     "output_type": "execute_result"
    }
   ],
   "source": [
    "sf1.describe()"
   ]
  },
  {
   "cell_type": "code",
   "execution_count": 10,
   "metadata": {
    "collapsed": true
   },
   "outputs": [],
   "source": [
    "import matplotlib.pyplot as plt, numpy as np\n",
    "%matplotlib inline\n",
    "import pandas as pd\n",
    "#from altair import Chart, X, Y, Axis, SortField\n"
   ]
  },
  {
   "cell_type": "markdown",
   "metadata": {},
   "source": [
    "## Basic Graphs With Matplotlib\n",
    "\n",
    "Matplotlib is the oldest and most widely used of the charting libraries for Python, and integrates seamlessly into IPython notebooks.  Making simple charts of all kinds is very straightforward.  Matplotlib also has a tremendous number of options that enable a user to carefully control the appearance of charts.  This power is one of Matplotlib's best and worst features, at the same time.  Using those options is complicated.\n",
    "\n",
    "Here we will stick to basic plots that Matplotlib makes easy, and then switch to a newer charting library that handles both simple and more complex charts well.\n",
    "\n",
    "The first example is a chart showing that you can use Numpy methods like sort to create a revealing line graph showing in this case how few census blocks have a relatively large numbers of people in them."
   ]
  },
  {
   "cell_type": "code",
   "execution_count": 11,
   "metadata": {
    "collapsed": false
   },
   "outputs": [
    {
     "data": {
      "image/png": "[encoded data removed]",
      "text/plain": [
       "<matplotlib.figure.Figure at 0x10d0d4470>"
      ]
     },
     "metadata": {},
     "output_type": "display_data"
    }
   ],
   "source": [
    "plt.plot(np.sort(sf1['P0010001']))\n",
    "plt.show()"
   ]
  },
  {
   "cell_type": "markdown",
   "metadata": {},
   "source": [
    "Next we look at a cumulative sum of population across blocks.  The order they are added is based on the order they have in the DataFrame, so this is somewhat arbitrary."
   ]
  },
  {
   "cell_type": "code",
   "execution_count": 12,
   "metadata": {
    "collapsed": false
   },
   "outputs": [
    {
     "data": {
      "image/png": "[encoded data removed]",
      "text/plain": [
       "<matplotlib.figure.Figure at 0x11ff8cba8>"
      ]
     },
     "metadata": {},
     "output_type": "display_data"
    }
   ],
   "source": [
    "plt.plot(np.cumsum(sf1['P0010001']))\n",
    "plt.show()"
   ]
  },
  {
   "cell_type": "markdown",
   "metadata": {},
   "source": [
    "Combining the sort and cumulative sum methods makes this look more interesting."
   ]
  },
  {
   "cell_type": "code",
   "execution_count": 13,
   "metadata": {
    "collapsed": false
   },
   "outputs": [
    {
     "data": {
      "image/png": "[encoded data removed]",
      "text/plain": [
       "<matplotlib.figure.Figure at 0x1200d0160>"
      ]
     },
     "metadata": {},
     "output_type": "display_data"
    }
   ],
   "source": [
    "plt.plot(np.cumsum(np.sort(sf1['P0010001'])))\n",
    "plt.show()"
   ]
  },
  {
   "cell_type": "markdown",
   "metadata": {},
   "source": [
    "As we have seen before, simple histograms are also easy to produce.  Here is the same population data displayed as a histogram. You can control things like the number of bins, or the color, easily."
   ]
  },
  {
   "cell_type": "code",
   "execution_count": 14,
   "metadata": {
    "collapsed": false
   },
   "outputs": [
    {
     "data": {
      "image/png": "[encoded data removed]",
      "text/plain": [
       "<matplotlib.figure.Figure at 0x1241b1198>"
      ]
     },
     "metadata": {},
     "output_type": "display_data"
    }
   ],
   "source": [
    "plt.hist(sf1['P0010001'], bins=25, color='red')\n",
    "plt.show()"
   ]
  },
  {
   "cell_type": "markdown",
   "metadata": {},
   "source": [
    "The distribution of population seems to be very skewed, with most blocks having relatively small population counts.  To zoom in to those and get a better sense of the distribution we might slice the blocks to isolate those below the long tail of the distribution.  Let's plot the distribution again after truncating the top one percent.  Increasing the number of bins provides greater detail as well.  We can see that 99% of the blocks have less than 700 people, and that there are still a significant number of blocks with only a few people in them."
   ]
  },
  {
   "cell_type": "code",
   "execution_count": 15,
   "metadata": {
    "collapsed": false
   },
   "outputs": [
    {
     "name": "stdout",
     "output_type": "stream",
     "text": [
      "687.0399999999936\n"
     ]
    },
    {
     "data": {
      "image/png": "[encoded data removed]",
      "text/plain": [
       "<matplotlib.figure.Figure at 0x12637f668>"
      ]
     },
     "metadata": {},
     "output_type": "display_data"
    }
   ],
   "source": [
    "print(sf1['P0010001'].quantile(.99))\n",
    "small_pop = sf1[sf1['P0010001'] < sf1['P0010001'].quantile(.99)]\n",
    "plt.hist(small_pop['P0010001'], bins=100, color='green')\n",
    "plt.show()"
   ]
  },
  {
   "cell_type": "markdown",
   "metadata": {},
   "source": [
    "### Exploring Racial and Ethnic Concentration in the Bay Area\n",
    "\n",
    "Let's use the 2010 population by race and ethnicity to explore the spatial concentration of people of different races and ethnicities in the Bay Area.  First, compute a regional percentage to use as a frame of reference for rhe block-level profiles. "
   ]
  },
  {
   "cell_type": "code",
   "execution_count": 16,
   "metadata": {
    "collapsed": false
   },
   "outputs": [
    {
     "name": "stdout",
     "output_type": "stream",
     "text": [
      "Regional Pct White: 52.5%\n",
      "Regional Pct Black: 6.7%\n",
      "Regional Pct Asian: 23.3%\n",
      "Regional Pct Hispanic: 23.5%\n",
      "Note that these add up to more than 100% since Hispanic is not broken out by race in this calculation\n"
     ]
    }
   ],
   "source": [
    "print('Regional Pct White: '+\"{0:.1f}%\".format(sf1['P0030002'].sum()/sf1['P0030001'].sum()*100))\n",
    "print('Regional Pct Black: '+\"{0:.1f}%\".format(sf1['P0030003'].sum()/sf1['P0030001'].sum()*100))\n",
    "print('Regional Pct Asian: '+\"{0:.1f}%\".format(sf1['P0030005'].sum()/sf1['P0030001'].sum()*100))\n",
    "print('Regional Pct Hispanic: '+\"{0:.1f}%\".format(sf1['P0040003'].sum()/sf1['P0040001'].sum()*100))\n",
    "print('Note that these add up to more than 100% since Hispanic is not broken out by race in this calculation')"
   ]
  },
  {
   "cell_type": "markdown",
   "metadata": {},
   "source": [
    "Now create a statistical profile and generate histograms of the distribution of each of these population groups.  What kinds of descriptive conclusions could you draw about how they differ from each other?"
   ]
  },
  {
   "cell_type": "code",
   "execution_count": 17,
   "metadata": {
    "collapsed": false
   },
   "outputs": [
    {
     "name": "stdout",
     "output_type": "stream",
     "text": [
      "count    68797.000000\n",
      "mean        18.683807\n",
      "std         22.181204\n",
      "min          0.000000\n",
      "25%          1.030928\n",
      "50%         10.465116\n",
      "75%         27.659574\n",
      "max        100.000000\n",
      "Name: pct_asian, dtype: float64\n"
     ]
    },
    {
     "data": {
      "image/png": "[encoded data removed]",
      "text/plain": [
       "<matplotlib.figure.Figure at 0x124174278>"
      ]
     },
     "metadata": {},
     "output_type": "display_data"
    }
   ],
   "source": [
    "print(sf1['pct_asian'].describe())\n",
    "plt.hist(sf1['pct_asian'], bins=50)\n",
    "plt.show()"
   ]
  },
  {
   "cell_type": "code",
   "execution_count": 18,
   "metadata": {
    "collapsed": false
   },
   "outputs": [
    {
     "name": "stdout",
     "output_type": "stream",
     "text": [
      "count    68797.000000\n",
      "mean        20.663419\n",
      "std         22.434874\n",
      "min          0.000000\n",
      "25%          4.072398\n",
      "50%         12.871287\n",
      "75%         29.870130\n",
      "max        100.000000\n",
      "Name: pct_hisp, dtype: float64\n"
     ]
    },
    {
     "data": {
      "image/png": "[encoded data removed]",
      "text/plain": [
       "<matplotlib.figure.Figure at 0x12638aef0>"
      ]
     },
     "metadata": {},
     "output_type": "display_data"
    }
   ],
   "source": [
    "print(sf1['pct_hisp'].describe())\n",
    "plt.hist(sf1['pct_hisp'], bins=50)\n",
    "plt.show()"
   ]
  },
  {
   "cell_type": "code",
   "execution_count": 19,
   "metadata": {
    "collapsed": false
   },
   "outputs": [
    {
     "name": "stdout",
     "output_type": "stream",
     "text": [
      "count    68797.000000\n",
      "mean         6.113801\n",
      "std         13.202340\n",
      "min          0.000000\n",
      "25%          0.000000\n",
      "50%          0.000000\n",
      "75%          5.714286\n",
      "max        100.000000\n",
      "Name: pct_black, dtype: float64\n"
     ]
    },
    {
     "data": {
      "image/png": "[encoded data removed]",
      "text/plain": [
       "<matplotlib.figure.Figure at 0x1241dd390>"
      ]
     },
     "metadata": {},
     "output_type": "display_data"
    }
   ],
   "source": [
    "print(sf1['pct_black'].describe())\n",
    "plt.hist(sf1['pct_black'], bins=50)\n",
    "plt.show()"
   ]
  },
  {
   "cell_type": "code",
   "execution_count": 20,
   "metadata": {
    "collapsed": false
   },
   "outputs": [
    {
     "name": "stdout",
     "output_type": "stream",
     "text": [
      "count    68797.000000\n",
      "mean        59.628902\n",
      "std         28.189146\n",
      "min          0.000000\n",
      "25%         37.606838\n",
      "50%         63.076923\n",
      "75%         83.333333\n",
      "max        100.000000\n",
      "Name: pct_white, dtype: float64\n"
     ]
    },
    {
     "data": {
      "image/png": "[encoded data removed]",
      "text/plain": [
       "<matplotlib.figure.Figure at 0x126ceaef0>"
      ]
     },
     "metadata": {},
     "output_type": "display_data"
    }
   ],
   "source": [
    "print(sf1['pct_white'].describe())\n",
    "plt.hist(sf1['pct_white'], bins=50)\n",
    "plt.show()"
   ]
  },
  {
   "cell_type": "markdown",
   "metadata": {},
   "source": [
    "To make figures easier to compare side-by-side, Matplotlib enables creating a composite figure using subplots."
   ]
  },
  {
   "cell_type": "code",
   "execution_count": 21,
   "metadata": {
    "collapsed": false
   },
   "outputs": [
    {
     "data": {
      "image/png": "[encoded data removed]",
      "text/plain": [
       "<matplotlib.figure.Figure at 0x126ba44e0>"
      ]
     },
     "metadata": {},
     "output_type": "display_data"
    }
   ],
   "source": [
    "plt.figure(1)\n",
    "plt.subplot(221)\n",
    "plt.hist(sf1['pct_asian'], bins=50)\n",
    "\n",
    "plt.subplot(222)\n",
    "plt.hist(sf1['pct_black'], bins=50)\n",
    "\n",
    "plt.subplot(223)\n",
    "plt.hist(sf1['pct_hisp'], bins=50)\n",
    "\n",
    "plt.subplot(224)\n",
    "plt.hist(sf1['pct_white'], bins=50)\n",
    "\n",
    "plt.show()"
   ]
  },
  {
   "cell_type": "markdown",
   "metadata": {},
   "source": [
    "The figures by default are a bit too small, and now it would really help to add some titles and legends to make this easier to read."
   ]
  },
  {
   "cell_type": "code",
   "execution_count": 22,
   "metadata": {
    "collapsed": false
   },
   "outputs": [
    {
     "data": {
      "image/png": "[encoded data removed]",
      "text/plain": [
       "<matplotlib.figure.Figure at 0x126436d30>"
      ]
     },
     "metadata": {},
     "output_type": "display_data"
    }
   ],
   "source": [
    "plt.figure(1, figsize=(10,8), )\n",
    "plt.suptitle(\"2010 Racial and Ethnic Distribution by Census Block, San Francisco Bay Area\", fontsize=16)\n",
    "\n",
    "ax = plt.subplot(221)\n",
    "ax.set_title(\"Asian\")\n",
    "ax.set_xlabel('Percent of Population in Census Block')\n",
    "ax.set_ylabel('Number of Census Blocks')\n",
    "ax.hist(sf1['pct_asian'], bins=50)\n",
    "\n",
    "ax = plt.subplot(222)\n",
    "ax.set_title(\"Black\")\n",
    "ax.set_xlabel('Percent of Population in Census Block')\n",
    "ax.set_ylabel('Number of Census Blocks')\n",
    "ax.hist(sf1['pct_black'], bins=50)\n",
    "\n",
    "ax = plt.subplot(223)\n",
    "ax.set_title(\"Hispanic\")\n",
    "ax.set_xlabel('Percent of Population in Census Block')\n",
    "ax.set_ylabel('Number of Census Blocks')\n",
    "ax.hist(sf1['pct_hisp'], bins=50)\n",
    "\n",
    "ax = plt.subplot(224)\n",
    "ax.set_title(\"White\")\n",
    "ax.set_xlabel('Percent of Population in Census Block')\n",
    "ax.set_ylabel('Number of Census Blocks')\n",
    "ax.hist(sf1['pct_white'], bins=50)\n",
    "\n",
    "plt.subplots_adjust(wspace=.5, hspace=.5)\n",
    "plt.show()"
   ]
  },
  {
   "cell_type": "markdown",
   "metadata": {},
   "source": [
    "But notice that the y axis scales are different for each subplot?  That makes direct comparisons potentially distorted by the difference in the scales.  Below we add consistent scales for the y axis on each subplot."
   ]
  },
  {
   "cell_type": "code",
   "execution_count": 23,
   "metadata": {
    "collapsed": false
   },
   "outputs": [
    {
     "data": {
      "image/png": "[encoded data removed]",
      "text/plain": [
       "<matplotlib.figure.Figure at 0x11ea53828>"
      ]
     },
     "metadata": {},
     "output_type": "display_data"
    }
   ],
   "source": [
    "plt.figure(1, figsize=(10,8), )\n",
    "plt.suptitle(\"2010 Racial and Ethnic Distribution by Census Block, San Francisco Bay Area\", fontsize=16)\n",
    "\n",
    "ax = plt.subplot(221)\n",
    "ax.set_title(\"Asian\")\n",
    "ax.set_xlabel('Percent of Population in Census Block')\n",
    "ax.set_ylabel('Number of Census Blocks')\n",
    "ax.set_ylim(0,45000)\n",
    "ax.hist(sf1['pct_asian'], bins=50)\n",
    "\n",
    "ax = plt.subplot(222)\n",
    "ax.set_title(\"Black\")\n",
    "ax.set_xlabel('Percent of Population in Census Block')\n",
    "ax.set_ylabel('Number of Census Blocks')\n",
    "ax.set_ylim(0,45000)\n",
    "ax.hist(sf1['pct_black'], bins=50)\n",
    "\n",
    "ax = plt.subplot(223)\n",
    "ax.set_title(\"Hispanic\")\n",
    "ax.set_xlabel('Percent of Population in Census Block')\n",
    "ax.set_ylabel('Number of Census Blocks')\n",
    "ax.set_ylim(0,45000)\n",
    "ax.hist(sf1['pct_hisp'], bins=50)\n",
    "\n",
    "ax = plt.subplot(224)\n",
    "ax.set_title(\"White\")\n",
    "ax.set_xlabel('Percent of Population in Census Block')\n",
    "ax.set_ylabel('Number of Census Blocks')\n",
    "ax.set_ylim(0,45000)\n",
    "ax.hist(sf1['pct_white'], bins=50)\n",
    "\n",
    "plt.subplots_adjust(wspace=.5, hspace=.5)\n",
    "plt.show()"
   ]
  },
  {
   "cell_type": "markdown",
   "metadata": {},
   "source": [
    "Finally, a bit more tweaking of the plots, changing the color and edgecolor of the bars, and decreasing the alpha (opacity) of the bars.  And here we save the figure to a png file at a specified dpi."
   ]
  },
  {
   "cell_type": "code",
   "execution_count": 24,
   "metadata": {
    "collapsed": false
   },
   "outputs": [
    {
     "data": {
      "image/png": "[encoded data removed]",
      "text/plain": [
       "<matplotlib.figure.Figure at 0x126b829b0>"
      ]
     },
     "metadata": {},
     "output_type": "display_data"
    }
   ],
   "source": [
    "plt.figure(1, figsize=(10,8), )\n",
    "plt.suptitle(\"2010 Racial and Ethnic Distribution by Census Block, San Francisco Bay Area\", fontsize=16)\n",
    "\n",
    "ax = plt.subplot(221)\n",
    "ax.set_title(\"Asian\")\n",
    "ax.set_xlabel('Percent of Population in Census Block')\n",
    "ax.set_ylabel('Number of Census Blocks')\n",
    "ax.set_ylim(0,45000)\n",
    "ax.hist(sf1['pct_asian'], bins=50, alpha=.6, color='r', edgecolor='r')\n",
    "\n",
    "ax = plt.subplot(222)\n",
    "ax.set_title(\"Black\")\n",
    "ax.set_xlabel('Percent of Population in Census Block')\n",
    "ax.set_ylabel('Number of Census Blocks')\n",
    "ax.set_ylim(0,45000)\n",
    "ax.hist(sf1['pct_black'], bins=50, alpha=.6, color='b', edgecolor='b')\n",
    "\n",
    "ax = plt.subplot(223)\n",
    "ax.set_title(\"Hispanic\")\n",
    "ax.set_xlabel('Percent of Population in Census Block')\n",
    "ax.set_ylabel('Number of Census Blocks')\n",
    "ax.set_ylim(0,45000)\n",
    "ax.hist(sf1['pct_hisp'], bins=50, alpha=.6, color='g', edgecolor='g')\n",
    "\n",
    "ax = plt.subplot(224)\n",
    "ax.set_title(\"White\")\n",
    "ax.set_xlabel('Percent of Population in Census Block')\n",
    "ax.set_ylabel('Number of Census Blocks')\n",
    "ax.set_ylim(0,45000)\n",
    "ax.hist(sf1['pct_white'], bins=50, alpha=.6, color='k', edgecolor='k')\n",
    "\n",
    "plt.subplots_adjust(wspace=.5, hspace=.5)\n",
    "plt.savefig(\"2010_racial_distributuon_bay_area.png\",dpi=150)\n",
    "plt.show()\n"
   ]
  },
  {
   "cell_type": "markdown",
   "metadata": {},
   "source": [
    "## Visualizing Craigslist Data\n",
    "\n",
    "Next we read Craigslist rental listings for the San Francisco Bay Area - over 70,000 listings scraped during 2014,  cleaned, and reverse geocoded to attach a Census Block ID that we can use to merge with census data."
   ]
  },
  {
   "cell_type": "code",
   "execution_count": 25,
   "metadata": {
    "collapsed": false
   },
   "outputs": [
    {
     "ename": "FileNotFoundError",
     "evalue": "File b'sfbay_geocoded.csv' does not exist",
     "output_type": "error",
     "traceback": [
      "\u001b[0;31m---------------------------------------------------------------------------\u001b[0m",
      "\u001b[0;31mFileNotFoundError\u001b[0m                         Traceback (most recent call last)",
      "\u001b[0;32m<ipython-input-25-1a8949aa3040>\u001b[0m in \u001b[0;36m<module>\u001b[0;34m()\u001b[0m\n\u001b[0;32m----> 1\u001b[0;31m \u001b[0mrentals\u001b[0m \u001b[0;34m=\u001b[0m \u001b[0mpd\u001b[0m\u001b[0;34m.\u001b[0m\u001b[0mread_csv\u001b[0m\u001b[0;34m(\u001b[0m\u001b[0;34m'sfbay_geocoded.csv'\u001b[0m\u001b[0;34m,\u001b[0m \u001b[0mdtype\u001b[0m\u001b[0;34m=\u001b[0m\u001b[0;34m{\u001b[0m\u001b[0;34m'fips_block'\u001b[0m\u001b[0;34m:\u001b[0m \u001b[0mstr\u001b[0m\u001b[0;34m}\u001b[0m\u001b[0;34m)\u001b[0m\u001b[0;34m\u001b[0m\u001b[0m\n\u001b[0m\u001b[1;32m      2\u001b[0m \u001b[0mrentals\u001b[0m \u001b[0;34m=\u001b[0m \u001b[0mrentals\u001b[0m\u001b[0;34m.\u001b[0m\u001b[0miloc\u001b[0m\u001b[0;34m[\u001b[0m\u001b[0;34m:\u001b[0m\u001b[0;34m,\u001b[0m\u001b[0;36m2\u001b[0m\u001b[0;34m:\u001b[0m\u001b[0;34m]\u001b[0m\u001b[0;34m\u001b[0m\u001b[0m\n\u001b[1;32m      3\u001b[0m \u001b[0mprint\u001b[0m\u001b[0;34m(\u001b[0m\u001b[0mrentals\u001b[0m\u001b[0;34m.\u001b[0m\u001b[0mhead\u001b[0m\u001b[0;34m(\u001b[0m\u001b[0;34m)\u001b[0m\u001b[0;34m)\u001b[0m\u001b[0;34m\u001b[0m\u001b[0m\n\u001b[1;32m      4\u001b[0m \u001b[0mprint\u001b[0m\u001b[0;34m(\u001b[0m\u001b[0mrentals\u001b[0m\u001b[0;34m.\u001b[0m\u001b[0mshape\u001b[0m\u001b[0;34m)\u001b[0m\u001b[0;34m\u001b[0m\u001b[0m\n\u001b[1;32m      5\u001b[0m \u001b[0mprint\u001b[0m\u001b[0;34m(\u001b[0m\u001b[0mrentals\u001b[0m\u001b[0;34m[\u001b[0m\u001b[0;34m'rent'\u001b[0m\u001b[0;34m]\u001b[0m\u001b[0;34m.\u001b[0m\u001b[0mdescribe\u001b[0m\u001b[0;34m(\u001b[0m\u001b[0;34m)\u001b[0m\u001b[0;34m)\u001b[0m\u001b[0;34m\u001b[0m\u001b[0m\n",
      "\u001b[0;32m/Users/Paul/anaconda/lib/python3.6/site-packages/pandas/io/parsers.py\u001b[0m in \u001b[0;36mparser_f\u001b[0;34m(filepath_or_buffer, sep, delimiter, header, names, index_col, usecols, squeeze, prefix, mangle_dupe_cols, dtype, engine, converters, true_values, false_values, skipinitialspace, skiprows, nrows, na_values, keep_default_na, na_filter, verbose, skip_blank_lines, parse_dates, infer_datetime_format, keep_date_col, date_parser, dayfirst, iterator, chunksize, compression, thousands, decimal, lineterminator, quotechar, quoting, escapechar, comment, encoding, dialect, tupleize_cols, error_bad_lines, warn_bad_lines, skipfooter, skip_footer, doublequote, delim_whitespace, as_recarray, compact_ints, use_unsigned, low_memory, buffer_lines, memory_map, float_precision)\u001b[0m\n\u001b[1;32m    644\u001b[0m                     skip_blank_lines=skip_blank_lines)\n\u001b[1;32m    645\u001b[0m \u001b[0;34m\u001b[0m\u001b[0m\n\u001b[0;32m--> 646\u001b[0;31m         \u001b[0;32mreturn\u001b[0m \u001b[0m_read\u001b[0m\u001b[0;34m(\u001b[0m\u001b[0mfilepath_or_buffer\u001b[0m\u001b[0;34m,\u001b[0m \u001b[0mkwds\u001b[0m\u001b[0;34m)\u001b[0m\u001b[0;34m\u001b[0m\u001b[0m\n\u001b[0m\u001b[1;32m    647\u001b[0m \u001b[0;34m\u001b[0m\u001b[0m\n\u001b[1;32m    648\u001b[0m     \u001b[0mparser_f\u001b[0m\u001b[0;34m.\u001b[0m\u001b[0m__name__\u001b[0m \u001b[0;34m=\u001b[0m \u001b[0mname\u001b[0m\u001b[0;34m\u001b[0m\u001b[0m\n",
      "\u001b[0;32m/Users/Paul/anaconda/lib/python3.6/site-packages/pandas/io/parsers.py\u001b[0m in \u001b[0;36m_read\u001b[0;34m(filepath_or_buffer, kwds)\u001b[0m\n\u001b[1;32m    387\u001b[0m \u001b[0;34m\u001b[0m\u001b[0m\n\u001b[1;32m    388\u001b[0m     \u001b[0;31m# Create the parser.\u001b[0m\u001b[0;34m\u001b[0m\u001b[0;34m\u001b[0m\u001b[0m\n\u001b[0;32m--> 389\u001b[0;31m     \u001b[0mparser\u001b[0m \u001b[0;34m=\u001b[0m \u001b[0mTextFileReader\u001b[0m\u001b[0;34m(\u001b[0m\u001b[0mfilepath_or_buffer\u001b[0m\u001b[0;34m,\u001b[0m \u001b[0;34m**\u001b[0m\u001b[0mkwds\u001b[0m\u001b[0;34m)\u001b[0m\u001b[0;34m\u001b[0m\u001b[0m\n\u001b[0m\u001b[1;32m    390\u001b[0m \u001b[0;34m\u001b[0m\u001b[0m\n\u001b[1;32m    391\u001b[0m     \u001b[0;32mif\u001b[0m \u001b[0;34m(\u001b[0m\u001b[0mnrows\u001b[0m \u001b[0;32mis\u001b[0m \u001b[0;32mnot\u001b[0m \u001b[0;32mNone\u001b[0m\u001b[0;34m)\u001b[0m \u001b[0;32mand\u001b[0m \u001b[0;34m(\u001b[0m\u001b[0mchunksize\u001b[0m \u001b[0;32mis\u001b[0m \u001b[0;32mnot\u001b[0m \u001b[0;32mNone\u001b[0m\u001b[0;34m)\u001b[0m\u001b[0;34m:\u001b[0m\u001b[0;34m\u001b[0m\u001b[0m\n",
      "\u001b[0;32m/Users/Paul/anaconda/lib/python3.6/site-packages/pandas/io/parsers.py\u001b[0m in \u001b[0;36m__init__\u001b[0;34m(self, f, engine, **kwds)\u001b[0m\n\u001b[1;32m    728\u001b[0m             \u001b[0mself\u001b[0m\u001b[0;34m.\u001b[0m\u001b[0moptions\u001b[0m\u001b[0;34m[\u001b[0m\u001b[0;34m'has_index_names'\u001b[0m\u001b[0;34m]\u001b[0m \u001b[0;34m=\u001b[0m \u001b[0mkwds\u001b[0m\u001b[0;34m[\u001b[0m\u001b[0;34m'has_index_names'\u001b[0m\u001b[0;34m]\u001b[0m\u001b[0;34m\u001b[0m\u001b[0m\n\u001b[1;32m    729\u001b[0m \u001b[0;34m\u001b[0m\u001b[0m\n\u001b[0;32m--> 730\u001b[0;31m         \u001b[0mself\u001b[0m\u001b[0;34m.\u001b[0m\u001b[0m_make_engine\u001b[0m\u001b[0;34m(\u001b[0m\u001b[0mself\u001b[0m\u001b[0;34m.\u001b[0m\u001b[0mengine\u001b[0m\u001b[0;34m)\u001b[0m\u001b[0;34m\u001b[0m\u001b[0m\n\u001b[0m\u001b[1;32m    731\u001b[0m \u001b[0;34m\u001b[0m\u001b[0m\n\u001b[1;32m    732\u001b[0m     \u001b[0;32mdef\u001b[0m \u001b[0mclose\u001b[0m\u001b[0;34m(\u001b[0m\u001b[0mself\u001b[0m\u001b[0;34m)\u001b[0m\u001b[0;34m:\u001b[0m\u001b[0;34m\u001b[0m\u001b[0m\n",
      "\u001b[0;32m/Users/Paul/anaconda/lib/python3.6/site-packages/pandas/io/parsers.py\u001b[0m in \u001b[0;36m_make_engine\u001b[0;34m(self, engine)\u001b[0m\n\u001b[1;32m    921\u001b[0m     \u001b[0;32mdef\u001b[0m \u001b[0m_make_engine\u001b[0m\u001b[0;34m(\u001b[0m\u001b[0mself\u001b[0m\u001b[0;34m,\u001b[0m \u001b[0mengine\u001b[0m\u001b[0;34m=\u001b[0m\u001b[0;34m'c'\u001b[0m\u001b[0;34m)\u001b[0m\u001b[0;34m:\u001b[0m\u001b[0;34m\u001b[0m\u001b[0m\n\u001b[1;32m    922\u001b[0m         \u001b[0;32mif\u001b[0m \u001b[0mengine\u001b[0m \u001b[0;34m==\u001b[0m \u001b[0;34m'c'\u001b[0m\u001b[0;34m:\u001b[0m\u001b[0;34m\u001b[0m\u001b[0m\n\u001b[0;32m--> 923\u001b[0;31m             \u001b[0mself\u001b[0m\u001b[0;34m.\u001b[0m\u001b[0m_engine\u001b[0m \u001b[0;34m=\u001b[0m \u001b[0mCParserWrapper\u001b[0m\u001b[0;34m(\u001b[0m\u001b[0mself\u001b[0m\u001b[0;34m.\u001b[0m\u001b[0mf\u001b[0m\u001b[0;34m,\u001b[0m \u001b[0;34m**\u001b[0m\u001b[0mself\u001b[0m\u001b[0;34m.\u001b[0m\u001b[0moptions\u001b[0m\u001b[0;34m)\u001b[0m\u001b[0;34m\u001b[0m\u001b[0m\n\u001b[0m\u001b[1;32m    924\u001b[0m         \u001b[0;32melse\u001b[0m\u001b[0;34m:\u001b[0m\u001b[0;34m\u001b[0m\u001b[0m\n\u001b[1;32m    925\u001b[0m             \u001b[0;32mif\u001b[0m \u001b[0mengine\u001b[0m \u001b[0;34m==\u001b[0m \u001b[0;34m'python'\u001b[0m\u001b[0;34m:\u001b[0m\u001b[0;34m\u001b[0m\u001b[0m\n",
      "\u001b[0;32m/Users/Paul/anaconda/lib/python3.6/site-packages/pandas/io/parsers.py\u001b[0m in \u001b[0;36m__init__\u001b[0;34m(self, src, **kwds)\u001b[0m\n\u001b[1;32m   1388\u001b[0m         \u001b[0mkwds\u001b[0m\u001b[0;34m[\u001b[0m\u001b[0;34m'allow_leading_cols'\u001b[0m\u001b[0;34m]\u001b[0m \u001b[0;34m=\u001b[0m \u001b[0mself\u001b[0m\u001b[0;34m.\u001b[0m\u001b[0mindex_col\u001b[0m \u001b[0;32mis\u001b[0m \u001b[0;32mnot\u001b[0m \u001b[0;32mFalse\u001b[0m\u001b[0;34m\u001b[0m\u001b[0m\n\u001b[1;32m   1389\u001b[0m \u001b[0;34m\u001b[0m\u001b[0m\n\u001b[0;32m-> 1390\u001b[0;31m         \u001b[0mself\u001b[0m\u001b[0;34m.\u001b[0m\u001b[0m_reader\u001b[0m \u001b[0;34m=\u001b[0m \u001b[0m_parser\u001b[0m\u001b[0;34m.\u001b[0m\u001b[0mTextReader\u001b[0m\u001b[0;34m(\u001b[0m\u001b[0msrc\u001b[0m\u001b[0;34m,\u001b[0m \u001b[0;34m**\u001b[0m\u001b[0mkwds\u001b[0m\u001b[0;34m)\u001b[0m\u001b[0;34m\u001b[0m\u001b[0m\n\u001b[0m\u001b[1;32m   1391\u001b[0m \u001b[0;34m\u001b[0m\u001b[0m\n\u001b[1;32m   1392\u001b[0m         \u001b[0;31m# XXX\u001b[0m\u001b[0;34m\u001b[0m\u001b[0;34m\u001b[0m\u001b[0m\n",
      "\u001b[0;32mpandas/parser.pyx\u001b[0m in \u001b[0;36mpandas.parser.TextReader.__cinit__ (pandas/parser.c:4184)\u001b[0;34m()\u001b[0m\n",
      "\u001b[0;32mpandas/parser.pyx\u001b[0m in \u001b[0;36mpandas.parser.TextReader._setup_parser_source (pandas/parser.c:8449)\u001b[0;34m()\u001b[0m\n",
      "\u001b[0;31mFileNotFoundError\u001b[0m: File b'sfbay_geocoded.csv' does not exist"
     ]
    }
   ],
   "source": [
    "rentals = pd.read_csv('sfbay_geocoded.csv', dtype={'fips_block': str})\n",
    "rentals = rentals.iloc[:,2:]\n",
    "print(rentals.head())\n",
    "print(rentals.shape)\n",
    "print(rentals['rent'].describe())\n",
    "print(rentals['sqft'].describe())"
   ]
  },
  {
   "cell_type": "markdown",
   "metadata": {},
   "source": [
    "Start by creating a default histogram of rents."
   ]
  },
  {
   "cell_type": "code",
   "execution_count": null,
   "metadata": {
    "collapsed": false
   },
   "outputs": [],
   "source": [
    "plt.hist(rentals['rent'])\n",
    "plt.show()"
   ]
  },
  {
   "cell_type": "markdown",
   "metadata": {},
   "source": [
    "Now make it look nicer, adding titles, axis labels, and setting the color and alpha."
   ]
  },
  {
   "cell_type": "code",
   "execution_count": null,
   "metadata": {
    "collapsed": false
   },
   "outputs": [],
   "source": [
    "plt.figure(1, figsize=(8,6), )\n",
    "plt.suptitle('2014 Bay Area Rents from Craigslist Listings', fontsize=14)\n",
    "plt.xlabel('Monthly Rent')\n",
    "plt.ylabel('Number of Listings')\n",
    "ax = plt.hist(rentals['rent'], bins=25, alpha=.6, color='g')\n",
    "plt.show()"
   ]
  },
  {
   "cell_type": "markdown",
   "metadata": {},
   "source": [
    "Now lets look at generating a scatter plot between two variables -- sqft and rent."
   ]
  },
  {
   "cell_type": "code",
   "execution_count": null,
   "metadata": {
    "collapsed": false
   },
   "outputs": [],
   "source": [
    "plt.scatter(rentals['sqft'], rentals['rent'])"
   ]
  },
  {
   "cell_type": "markdown",
   "metadata": {},
   "source": [
    "And a somewhat nicer version:"
   ]
  },
  {
   "cell_type": "code",
   "execution_count": null,
   "metadata": {
    "collapsed": false
   },
   "outputs": [],
   "source": [
    "plt.figure(1, figsize=(8,6), )\n",
    "plt.suptitle('2014 Bay Area Rents from Craigslist Listings', fontsize=14)\n",
    "plt.xlabel('Square Feet')\n",
    "plt.ylabel('Rent')\n",
    "plt.xlim(0,5000)\n",
    "plt.ylim(0,10000)\n",
    "ax = plt.scatter(rentals['sqft'], rentals['rent'], color='g', alpha=.5, edgecolor='g', s=.2)\n",
    "plt.show()"
   ]
  },
  {
   "cell_type": "markdown",
   "metadata": {},
   "source": [
    "And here we look at a scatter plot of rents against number of bedrooms."
   ]
  },
  {
   "cell_type": "code",
   "execution_count": null,
   "metadata": {
    "collapsed": false
   },
   "outputs": [],
   "source": [
    "plt.figure(1, figsize=(8,6), )\n",
    "plt.suptitle('2014 Bay Area Rents from Craigslist Listings', fontsize=14)\n",
    "plt.xlabel('Bedrooms')\n",
    "plt.ylabel('Rent')\n",
    "ax = plt.scatter(rentals['bedrooms'], rentals['rent'], color='w', edgecolor='r', alpha=.6, s=50)\n",
    "plt.show()"
   ]
  },
  {
   "cell_type": "markdown",
   "metadata": {},
   "source": [
    "## Exploring the Altair Python Visualization Library\n",
    "\n",
    "For the remainder of today's session, experiment with visualizing the two datasets above (or load your own data) to become more comfortable making data charts in Python.\n",
    "\n",
    "I also suggest that you explore the tutorials for the new Altair library. If you didn't install it earlier, do it before running the cell below, which loads a series of tutorials into this notebook."
   ]
  },
  {
   "cell_type": "code",
   "execution_count": null,
   "metadata": {
    "collapsed": false
   },
   "outputs": [],
   "source": [
    "from altair import *\n",
    "tutorial(overwrite=True)"
   ]
  },
  {
   "cell_type": "code",
   "execution_count": null,
   "metadata": {
    "collapsed": true
   },
   "outputs": [],
   "source": []
  }
 ],
 "metadata": {
  "kernelspec": {
   "display_name": "Python [default]",
   "language": "python",
   "name": "python3"
  },
  "language_info": {
   "codemirror_mode": {
    "name": "ipython",
    "version": 3
   },
   "file_extension": ".py",
   "mimetype": "text/x-python",
   "name": "python",
   "nbconvert_exporter": "python",
   "pygments_lexer": "ipython3",
   "version": "3.6.0"
  }
 },
 "nbformat": 4,
 "nbformat_minor": 0
}
